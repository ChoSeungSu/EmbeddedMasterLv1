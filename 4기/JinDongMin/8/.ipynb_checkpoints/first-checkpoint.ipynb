{
 "cells": [
  {
   "cell_type": "code",
   "execution_count": 1,
   "id": "2ca40e54",
   "metadata": {},
   "outputs": [
    {
     "name": "stdout",
     "output_type": "stream",
     "text": [
      "Hello Python\n"
     ]
    }
   ],
   "source": [
    "print(\"Hello Python\")"
   ]
  },
  {
   "cell_type": "code",
   "execution_count": 2,
   "id": "3ef05b84",
   "metadata": {},
   "outputs": [
    {
     "name": "stdout",
     "output_type": "stream",
     "text": [
      "1 10\n"
     ]
    }
   ],
   "source": [
    "num = 1\n",
    "Num = 10\n",
    "print(num, Num)"
   ]
  },
  {
   "cell_type": "code",
   "execution_count": 3,
   "id": "1c238f9e",
   "metadata": {},
   "outputs": [
    {
     "name": "stdout",
     "output_type": "stream",
     "text": [
      "test 3 7.7\n"
     ]
    }
   ],
   "source": [
    "string_value = \"test\"\n",
    "num = 3\n",
    "float_num = 7.7\n",
    "\n",
    "print(string_value, num, float_num)"
   ]
  },
  {
   "cell_type": "code",
   "execution_count": 4,
   "id": "717da342",
   "metadata": {},
   "outputs": [
    {
     "name": "stdout",
     "output_type": "stream",
     "text": [
      "<class 'str'>\n",
      "<class 'int'>\n",
      "<class 'float'>\n"
     ]
    }
   ],
   "source": [
    "print(type(string_value))\n",
    "print(type(num))\n",
    "print(type(float_num))"
   ]
  },
  {
   "cell_type": "code",
   "execution_count": 8,
   "id": "fa1fde8d",
   "metadata": {
    "scrolled": false
   },
   "outputs": [
    {
     "name": "stdout",
     "output_type": "stream",
     "text": [
      "(7+9j)\n",
      "<class 'complex'>\n",
      "9.0\n",
      "7.0\n",
      "(7-9j)\n"
     ]
    }
   ],
   "source": [
    "z1 = 3 + 4j\n",
    "z2 = 4 + 5j\n",
    "z = z1 + z2\n",
    "\n",
    "print(z)\n",
    "print(type(z))\n",
    "\n",
    "# 복소수의 허수부\n",
    "print(z.imag)\n",
    "\n",
    "# 복소수의 실수부\n",
    "print(z.real)\n",
    "\n",
    "# 켤레 복소수\n",
    "print(z.conjugate())"
   ]
  },
  {
   "cell_type": "code",
   "execution_count": 9,
   "id": "606bacdd",
   "metadata": {},
   "outputs": [
    {
     "name": "stdout",
     "output_type": "stream",
     "text": [
      "1.2e+30\n",
      "1.57e-20\n",
      "1024\n",
      "<class 'float'>\n",
      "<class 'float'>\n",
      "<class 'int'>\n"
     ]
    }
   ],
   "source": [
    "big = 1.2e30\n",
    "small = 1.57e-20\n",
    "test = 2 ** 10\n",
    "\n",
    "print(big)\n",
    "print(small)\n",
    "print(test)\n",
    "\n",
    "print(type(big))\n",
    "print(type(small))\n",
    "print(type(test))"
   ]
  },
  {
   "cell_type": "code",
   "execution_count": 13,
   "id": "97868f6e",
   "metadata": {},
   "outputs": [
    {
     "name": "stdout",
     "output_type": "stream",
     "text": [
      "주석 처리\n"
     ]
    }
   ],
   "source": [
    "# 파이썬 주석\n",
    "print('주석 처리')\n",
    "\n",
    "# 파이썬은 큰따옴표와 작은따옴표 구분을 하지 않음"
   ]
  },
  {
   "cell_type": "code",
   "execution_count": 16,
   "id": "75fb369a",
   "metadata": {},
   "outputs": [
    {
     "name": "stdout",
     "output_type": "stream",
     "text": [
      "0\n",
      "333\n",
      "0.42857142857142855\n"
     ]
    }
   ],
   "source": [
    "# // 연산자는 배열의 크기를 계산할 때 사용\n",
    "num1 = 3 // 7\n",
    "num2 = 3333 // 10\n",
    "num3 = 3 / 7\n",
    "\n",
    "print(num1)\n",
    "print(num2)\n",
    "print(num3)"
   ]
  },
  {
   "cell_type": "code",
   "execution_count": 18,
   "id": "7a70649e",
   "metadata": {},
   "outputs": [
    {
     "name": "stdout",
     "output_type": "stream",
     "text": [
      "\n",
      "    이렇게도\n",
      "        뿌릴 수가\n",
      "            있습니다.\n",
      "\n"
     ]
    }
   ],
   "source": [
    "# format 스트링, DB 연산을 할 때 많이 사용한다고 한다.\n",
    "format_string = \"\"\"\n",
    "    이렇게도\n",
    "        뿌릴 수가\n",
    "            있습니다.\n",
    "\"\"\"\n",
    "\n",
    "print(format_string)"
   ]
  },
  {
   "cell_type": "code",
   "execution_count": 19,
   "id": "d6463999",
   "metadata": {},
   "outputs": [
    {
     "name": "stdout",
     "output_type": "stream",
     "text": [
      "C Python\n"
     ]
    }
   ],
   "source": [
    "testStr = \"C\" + \" Python\"\n",
    "print(testStr)"
   ]
  },
  {
   "cell_type": "code",
   "execution_count": 21,
   "id": "993a1d84",
   "metadata": {},
   "outputs": [
    {
     "name": "stdout",
     "output_type": "stream",
     "text": [
      "pointer\n",
      "p\n",
      "n\n"
     ]
    }
   ],
   "source": [
    "str1 = \"pointer\"\n",
    "\n",
    "print(str1)\n",
    "print(str1[0])\n",
    "print(str1[3])"
   ]
  },
  {
   "cell_type": "code",
   "execution_count": 25,
   "id": "fb1de413",
   "metadata": {},
   "outputs": [
    {
     "name": "stdout",
     "output_type": "stream",
     "text": [
      "p\n",
      "oin\n"
     ]
    }
   ],
   "source": [
    "# 0 ~ 1 까지가 아닌 0 부터 1 이전까지\n",
    "print(str1[0:1])\n",
    "print(str1[1:4])"
   ]
  },
  {
   "cell_type": "code",
   "execution_count": 27,
   "id": "0d74f894",
   "metadata": {},
   "outputs": [
    {
     "name": "stdout",
     "output_type": "stream",
     "text": [
      "po\n"
     ]
    }
   ],
   "source": [
    "# 0 생략\n",
    "print(str1[:2])"
   ]
  },
  {
   "cell_type": "code",
   "execution_count": 28,
   "id": "1b4be3f7",
   "metadata": {},
   "outputs": [
    {
     "name": "stdout",
     "output_type": "stream",
     "text": [
      "er\n"
     ]
    }
   ],
   "source": [
    "print(str1[-2:])"
   ]
  },
  {
   "cell_type": "code",
   "execution_count": null,
   "id": "142df45c",
   "metadata": {},
   "outputs": [],
   "source": []
  }
 ],
 "metadata": {
  "kernelspec": {
   "display_name": "Python 3 (ipykernel)",
   "language": "python",
   "name": "python3"
  },
  "language_info": {
   "codemirror_mode": {
    "name": "ipython",
    "version": 3
   },
   "file_extension": ".py",
   "mimetype": "text/x-python",
   "name": "python",
   "nbconvert_exporter": "python",
   "pygments_lexer": "ipython3",
   "version": "3.9.13"
  }
 },
 "nbformat": 4,
 "nbformat_minor": 5
}
