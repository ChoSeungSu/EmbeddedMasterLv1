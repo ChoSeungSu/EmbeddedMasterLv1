{
 "cells": [
  {
   "cell_type": "code",
   "execution_count": 1,
   "id": "89e54629",
   "metadata": {},
   "outputs": [
    {
     "name": "stdout",
     "output_type": "stream",
     "text": [
      "val is bigger than 5\n"
     ]
    }
   ],
   "source": [
    "val = 10\n",
    "\n",
    "if val > 5:\n",
    "    print('val is bigger than 5')"
   ]
  },
  {
   "cell_type": "code",
   "execution_count": 2,
   "id": "284eae6e",
   "metadata": {},
   "outputs": [
    {
     "name": "stdout",
     "output_type": "stream",
     "text": [
      "banana\n"
     ]
    }
   ],
   "source": [
    "money = 10\n",
    "\n",
    "# 파이썬은 중괄호 대신 콜론을 찍어서 구별함\n",
    "if money > 100:\n",
    "    item = 'apple'\n",
    "else:\n",
    "    item = 'banana'\n",
    "\n",
    "print(item)"
   ]
  },
  {
   "cell_type": "code",
   "execution_count": 3,
   "id": "8b0ab8f1",
   "metadata": {},
   "outputs": [
    {
     "name": "stdout",
     "output_type": "stream",
     "text": [
      "점수 입력: 79\n",
      "Grade is C\n"
     ]
    }
   ],
   "source": [
    "score = int(input('점수 입력: '))\n",
    "\n",
    "if 90 <= score <= 100:\n",
    "    grade = 'A'\n",
    "elif 80<= score < 90:\n",
    "    grade = 'B'\n",
    "elif 70 <= score < 80:\n",
    "    grade = 'C'\n",
    "elif 60 <= score < 70:\n",
    "    grade = 'D'\n",
    "else:\n",
    "    grade = 'F'\n",
    "\n",
    "print('Grade is ' + grade)"
   ]
  },
  {
   "cell_type": "code",
   "execution_count": 4,
   "id": "e5626836",
   "metadata": {},
   "outputs": [
    {
     "name": "stdout",
     "output_type": "stream",
     "text": [
      "5\n",
      "4\n",
      "3\n",
      "2\n",
      "1\n"
     ]
    }
   ],
   "source": [
    "val = 5\n",
    "\n",
    "# 들여쓰기에 따라 제어문의 동작이 달라짐\n",
    "while val > 0:\n",
    "    print(val)\n",
    "    val -= 1"
   ]
  },
  {
   "cell_type": "code",
   "execution_count": 5,
   "id": "f3519260",
   "metadata": {},
   "outputs": [
    {
     "name": "stdout",
     "output_type": "stream",
     "text": [
      "Apple <class 'str'>\n",
      "100 <class 'int'>\n",
      "15.33 <class 'float'>\n"
     ]
    }
   ],
   "source": [
    "lists = ['Apple', 100, 15.33]\n",
    "\n",
    "for i in lists:\n",
    "    print(i, type(i))"
   ]
  },
  {
   "cell_type": "code",
   "execution_count": 6,
   "id": "3cbeb6af",
   "metadata": {},
   "outputs": [
    {
     "name": "stdout",
     "output_type": "stream",
     "text": [
      "Apple 100\n",
      "Orange 20.37\n",
      "333 String\n"
     ]
    }
   ],
   "source": [
    "# key, value (키, 밸류)\n",
    "d = {'Apple': 100, 'Orange': 20.37, 333: 'String'}\n",
    "\n",
    "for k, v in d.items():\n",
    "    print(k, v)"
   ]
  },
  {
   "cell_type": "code",
   "execution_count": 7,
   "id": "d3f1df39",
   "metadata": {},
   "outputs": [
    {
     "name": "stdout",
     "output_type": "stream",
     "text": [
      "[0, 1, 2, 3, 4, 5, 6, 7, 8, 9]\n"
     ]
    }
   ],
   "source": [
    "# range(10)은 0 ~ 9\n",
    "print(list(range(10)))"
   ]
  },
  {
   "cell_type": "code",
   "execution_count": 8,
   "id": "95a09922",
   "metadata": {},
   "outputs": [
    {
     "name": "stdout",
     "output_type": "stream",
     "text": [
      "[5, 6, 7, 8, 9]\n"
     ]
    }
   ],
   "source": [
    "# 5 이상 ~ 10 미만\n",
    "print(list(range(5, 10)))"
   ]
  },
  {
   "cell_type": "code",
   "execution_count": 9,
   "id": "28925000",
   "metadata": {},
   "outputs": [
    {
     "name": "stdout",
     "output_type": "stream",
     "text": [
      "[10, 9, 8, 7, 6, 5, 4, 3, 2, 1]\n"
     ]
    }
   ],
   "source": [
    "# 어찌 되었든 시작은 맨 앞, 끝은 가운데, 내려가는 범위는 마지막\n",
    "print(list(range(10, 0, -1)))"
   ]
  },
  {
   "cell_type": "code",
   "execution_count": 10,
   "id": "11fdbd45",
   "metadata": {},
   "outputs": [
    {
     "name": "stdout",
     "output_type": "stream",
     "text": [
      "[10, 12, 14, 16, 18]\n"
     ]
    }
   ],
   "source": [
    "print(list(range(10, 20, 2)))"
   ]
  },
  {
   "cell_type": "code",
   "execution_count": 11,
   "id": "318e5b20",
   "metadata": {},
   "outputs": [
    {
     "name": "stdout",
     "output_type": "stream",
     "text": [
      "idx: 0, val: Apple\n",
      "idx: 1, val: Orange\n",
      "idx: 2, val: Grape\n"
     ]
    }
   ],
   "source": [
    "# 대괄호는 리스트를 의미함\n",
    "strList = ['Apple', 'Orange', 'Grape']\n",
    "\n",
    "for i in range(len(strList)):\n",
    "    print('idx: {0}, val: {1}'.format(i, strList[i]))"
   ]
  },
  {
   "cell_type": "code",
   "execution_count": 12,
   "id": "84d0c6b9",
   "metadata": {},
   "outputs": [
    {
     "name": "stdout",
     "output_type": "stream",
     "text": [
      "[1, 4, 9, 16, 25]\n"
     ]
    }
   ],
   "source": [
    "numList = [1, 2, 3, 4, 5]\n",
    "print([i ** 2 for i in numList])"
   ]
  },
  {
   "cell_type": "code",
   "execution_count": 13,
   "id": "6c155d82",
   "metadata": {},
   "outputs": [
    {
     "name": "stdout",
     "output_type": "stream",
     "text": [
      "[5, 6, 5]\n"
     ]
    }
   ],
   "source": [
    "print([len(i) for i in strList])"
   ]
  },
  {
   "cell_type": "code",
   "execution_count": 14,
   "id": "5a665d65",
   "metadata": {},
   "outputs": [
    {
     "name": "stdout",
     "output_type": "stream",
     "text": [
      "['APPLE', 'BANANA', 'ORANGE']\n"
     ]
    }
   ],
   "source": [
    "d = {100: 'apple', 200: 'banana', 300: 'orange'}\n",
    "\n",
    "print([v.upper() for v in d.values()])"
   ]
  },
  {
   "cell_type": "code",
   "execution_count": 15,
   "id": "02bf1ec9",
   "metadata": {},
   "outputs": [
    {
     "name": "stdout",
     "output_type": "stream",
     "text": [
      "['Orange']\n"
     ]
    }
   ],
   "source": [
    "print([i for i in strList if len(i) > 5])"
   ]
  }
 ],
 "metadata": {
  "kernelspec": {
   "display_name": "Python 3 (ipykernel)",
   "language": "python",
   "name": "python3"
  },
  "language_info": {
   "codemirror_mode": {
    "name": "ipython",
    "version": 3
   },
   "file_extension": ".py",
   "mimetype": "text/x-python",
   "name": "python",
   "nbconvert_exporter": "python",
   "pygments_lexer": "ipython3",
   "version": "3.9.13"
  }
 },
 "nbformat": 4,
 "nbformat_minor": 5
}
