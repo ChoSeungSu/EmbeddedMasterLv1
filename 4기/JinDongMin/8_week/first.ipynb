{
 "cells": [
  {
   "cell_type": "code",
   "execution_count": 1,
   "id": "1c4d0158",
   "metadata": {},
   "outputs": [
    {
     "name": "stdout",
     "output_type": "stream",
     "text": [
      "Hello Python\n"
     ]
    }
   ],
   "source": [
    "print(\"Hello Python\")"
   ]
  },
  {
   "cell_type": "code",
   "execution_count": 2,
   "id": "909f7d14",
   "metadata": {},
   "outputs": [
    {
     "name": "stdout",
     "output_type": "stream",
     "text": [
      "1 10\n"
     ]
    }
   ],
   "source": [
    "num = 1\n",
    "Num = 10\n",
    "print(num, Num)"
   ]
  },
  {
   "cell_type": "code",
   "execution_count": 3,
   "id": "b4b5be04",
   "metadata": {},
   "outputs": [
    {
     "name": "stdout",
     "output_type": "stream",
     "text": [
      "test 3 7.7\n"
     ]
    }
   ],
   "source": [
    "string_value = \"test\"\n",
    "num = 3\n",
    "float_num = 7.7\n",
    "\n",
    "print(string_value, num, float_num)"
   ]
  },
  {
   "cell_type": "code",
   "execution_count": 4,
   "id": "14cb76ab",
   "metadata": {},
   "outputs": [
    {
     "name": "stdout",
     "output_type": "stream",
     "text": [
      "<class 'str'>\n",
      "<class 'int'>\n",
      "<class 'float'>\n"
     ]
    }
   ],
   "source": [
    "print(type(string_value))\n",
    "print(type(num))\n",
    "print(type(float_num))"
   ]
  },
  {
   "cell_type": "code",
   "execution_count": 5,
   "id": "2b65bb61",
   "metadata": {
    "scrolled": false
   },
   "outputs": [
    {
     "name": "stdout",
     "output_type": "stream",
     "text": [
      "(7+9j)\n",
      "<class 'complex'>\n",
      "9.0\n",
      "7.0\n",
      "(7-9j)\n"
     ]
    }
   ],
   "source": [
    "z1 = 3 + 4j\n",
    "z2 = 4 + 5j\n",
    "z = z1 + z2\n",
    "\n",
    "print(z)\n",
    "print(type(z))\n",
    "\n",
    "# 복소수의 허수부\n",
    "print(z.imag)\n",
    "\n",
    "# 복소수의 실수부\n",
    "print(z.real)\n",
    "\n",
    "# 켤레 복소수\n",
    "print(z.conjugate())"
   ]
  },
  {
   "cell_type": "code",
   "execution_count": 6,
   "id": "03eda2e3",
   "metadata": {},
   "outputs": [
    {
     "name": "stdout",
     "output_type": "stream",
     "text": [
      "1.2e+30\n",
      "1.57e-20\n",
      "1024\n",
      "<class 'float'>\n",
      "<class 'float'>\n",
      "<class 'int'>\n"
     ]
    }
   ],
   "source": [
    "big = 1.2e30\n",
    "small = 1.57e-20\n",
    "test = 2 ** 10\n",
    "\n",
    "print(big)\n",
    "print(small)\n",
    "print(test)\n",
    "\n",
    "print(type(big))\n",
    "print(type(small))\n",
    "print(type(test))"
   ]
  },
  {
   "cell_type": "code",
   "execution_count": 7,
   "id": "838a0bd5",
   "metadata": {},
   "outputs": [
    {
     "name": "stdout",
     "output_type": "stream",
     "text": [
      "주석 처리\n"
     ]
    }
   ],
   "source": [
    "# 파이썬 주석\n",
    "print('주석 처리')\n",
    "\n",
    "# 파이썬은 큰따옴표와 작은따옴표 구분을 하지 않음"
   ]
  },
  {
   "cell_type": "code",
   "execution_count": 8,
   "id": "9d3e367d",
   "metadata": {},
   "outputs": [
    {
     "name": "stdout",
     "output_type": "stream",
     "text": [
      "0\n",
      "333\n",
      "0.42857142857142855\n"
     ]
    }
   ],
   "source": [
    "# // 연산자는 배열의 크기를 계산할 때 사용\n",
    "num1 = 3 // 7\n",
    "num2 = 3333 // 10\n",
    "num3 = 3 / 7\n",
    "\n",
    "print(num1)\n",
    "print(num2)\n",
    "print(num3)"
   ]
  },
  {
   "cell_type": "code",
   "execution_count": 9,
   "id": "cf09dda1",
   "metadata": {},
   "outputs": [
    {
     "name": "stdout",
     "output_type": "stream",
     "text": [
      "\n",
      "    이렇게도\n",
      "        뿌릴 수가\n",
      "            있습니다.\n",
      "\n"
     ]
    }
   ],
   "source": [
    "# format 스트링, DB 연산을 할 때 많이 사용한다고 한다.\n",
    "format_string = \"\"\"\n",
    "    이렇게도\n",
    "        뿌릴 수가\n",
    "            있습니다.\n",
    "\"\"\"\n",
    "\n",
    "print(format_string)"
   ]
  },
  {
   "cell_type": "code",
   "execution_count": 10,
   "id": "5a880304",
   "metadata": {},
   "outputs": [
    {
     "name": "stdout",
     "output_type": "stream",
     "text": [
      "C Python\n"
     ]
    }
   ],
   "source": [
    "testStr = \"C\" + \" Python\"\n",
    "print(testStr)"
   ]
  },
  {
   "cell_type": "code",
   "execution_count": 11,
   "id": "a8875db7",
   "metadata": {},
   "outputs": [
    {
     "name": "stdout",
     "output_type": "stream",
     "text": [
      "pointer\n",
      "p\n",
      "n\n"
     ]
    }
   ],
   "source": [
    "str1 = \"pointer\"\n",
    "\n",
    "print(str1)\n",
    "print(str1[0])\n",
    "print(str1[3])"
   ]
  },
  {
   "cell_type": "code",
   "execution_count": 12,
   "id": "b98fbf6a",
   "metadata": {},
   "outputs": [
    {
     "name": "stdout",
     "output_type": "stream",
     "text": [
      "p\n",
      "oin\n"
     ]
    }
   ],
   "source": [
    "# 0 ~ 1 까지가 아닌 0 부터 1 이전까지\n",
    "print(str1[0:1])\n",
    "print(str1[1:4])"
   ]
  },
  {
   "cell_type": "code",
   "execution_count": 13,
   "id": "edec6e00",
   "metadata": {},
   "outputs": [
    {
     "name": "stdout",
     "output_type": "stream",
     "text": [
      "po\n"
     ]
    }
   ],
   "source": [
    "# 0 생략\n",
    "print(str1[:2])"
   ]
  },
  {
   "cell_type": "code",
   "execution_count": 14,
   "id": "29ee243f",
   "metadata": {},
   "outputs": [
    {
     "name": "stdout",
     "output_type": "stream",
     "text": [
      "er\n"
     ]
    }
   ],
   "source": [
    "print(str1[-2:])"
   ]
  },
  {
   "cell_type": "code",
   "execution_count": 15,
   "id": "cacf2596",
   "metadata": {},
   "outputs": [
    {
     "name": "stdout",
     "output_type": "stream",
     "text": [
      "pointer\n"
     ]
    }
   ],
   "source": [
    "# 전체 복사 (new)\n",
    "print(str1[:])"
   ]
  },
  {
   "cell_type": "code",
   "execution_count": 16,
   "id": "79963b94",
   "metadata": {},
   "outputs": [
    {
     "name": "stdout",
     "output_type": "stream",
     "text": [
      "pitr\n"
     ]
    }
   ],
   "source": [
    "print(str1[::2])"
   ]
  },
  {
   "cell_type": "code",
   "execution_count": 17,
   "id": "0e272acf",
   "metadata": {},
   "outputs": [
    {
     "name": "stdout",
     "output_type": "stream",
     "text": [
      "['red', 'green', 'blue']\n",
      "<class 'list'>\n"
     ]
    }
   ],
   "source": [
    "colors = ['red', 'green', 'blue']\n",
    "\n",
    "print(colors)\n",
    "print(type(colors))"
   ]
  },
  {
   "cell_type": "code",
   "execution_count": 18,
   "id": "161c1857",
   "metadata": {},
   "outputs": [
    {
     "name": "stdout",
     "output_type": "stream",
     "text": [
      "['red', 'green', 'blue', 'gold']\n"
     ]
    }
   ],
   "source": [
    "colors.append('gold')\n",
    "\n",
    "print(colors)"
   ]
  },
  {
   "cell_type": "code",
   "execution_count": 19,
   "id": "3d65e478",
   "metadata": {
    "scrolled": true
   },
   "outputs": [
    {
     "name": "stdout",
     "output_type": "stream",
     "text": [
      "['red', 'black', 'green', 'blue', 'gold']\n"
     ]
    }
   ],
   "source": [
    "colors.insert(1, 'black')\n",
    "\n",
    "print(colors)"
   ]
  },
  {
   "cell_type": "code",
   "execution_count": 20,
   "id": "20d39865",
   "metadata": {
    "scrolled": true
   },
   "outputs": [
    {
     "name": "stdout",
     "output_type": "stream",
     "text": [
      "['red', 'black', 'green', 'blue', 'gold', 'white', 'grey']\n"
     ]
    }
   ],
   "source": [
    "colors.extend(['white', 'grey'])\n",
    "\n",
    "print(colors)"
   ]
  },
  {
   "cell_type": "code",
   "execution_count": 21,
   "id": "10d24166",
   "metadata": {
    "scrolled": true
   },
   "outputs": [
    {
     "name": "stdout",
     "output_type": "stream",
     "text": [
      "['red', 'black', 'green', 'blue', 'gold', 'white', 'grey', 'purple', 'red']\n"
     ]
    }
   ],
   "source": [
    "# ㅇㅎ 이런 것도 되는구나\n",
    "colors += ['purple']\n",
    "colors += ['red']\n",
    "\n",
    "print(colors)"
   ]
  },
  {
   "cell_type": "code",
   "execution_count": 22,
   "id": "d1fe7878",
   "metadata": {
    "scrolled": false
   },
   "outputs": [
    {
     "name": "stdout",
     "output_type": "stream",
     "text": [
      "7\n"
     ]
    }
   ],
   "source": [
    "print(colors.index('purple'))"
   ]
  },
  {
   "cell_type": "code",
   "execution_count": 23,
   "id": "de88e316",
   "metadata": {},
   "outputs": [],
   "source": [
    "# 한 번 더 추가\n",
    "colors += ['purple']\n",
    "colors += ['red']"
   ]
  },
  {
   "cell_type": "code",
   "execution_count": 24,
   "id": "31267f6a",
   "metadata": {
    "scrolled": false
   },
   "outputs": [
    {
     "name": "stdout",
     "output_type": "stream",
     "text": [
      "9\n"
     ]
    }
   ],
   "source": [
    "# 8번 인덱스부터 찾아\n",
    "print(colors.index('purple', 8))"
   ]
  },
  {
   "cell_type": "code",
   "execution_count": 25,
   "id": "43d5c0c2",
   "metadata": {},
   "outputs": [
    {
     "name": "stdout",
     "output_type": "stream",
     "text": [
      "3\n"
     ]
    }
   ],
   "source": [
    "print(colors.count('red'))"
   ]
  },
  {
   "cell_type": "code",
   "execution_count": 26,
   "id": "3c4052c1",
   "metadata": {},
   "outputs": [
    {
     "name": "stdout",
     "output_type": "stream",
     "text": [
      "red\n",
      "purple\n",
      "red\n",
      "['red', 'black', 'green', 'blue', 'gold', 'white', 'grey', 'purple']\n"
     ]
    }
   ],
   "source": [
    "# pop이라는 용어는 스택에서 사용\n",
    "print(colors.pop())\n",
    "print(colors.pop())\n",
    "print(colors.pop())\n",
    "\n",
    "print(colors)"
   ]
  },
  {
   "cell_type": "code",
   "execution_count": 27,
   "id": "1c551a3c",
   "metadata": {},
   "outputs": [
    {
     "name": "stdout",
     "output_type": "stream",
     "text": [
      "None\n",
      "['red', 'black', 'green', 'gold', 'white', 'grey', 'purple']\n"
     ]
    }
   ],
   "source": [
    "# remove는 리턴값이 없으므로 None이 출력됨\n",
    "print(colors.remove('blue'))\n",
    "\n",
    "print(colors)"
   ]
  },
  {
   "cell_type": "code",
   "execution_count": 28,
   "id": "5aa43430",
   "metadata": {},
   "outputs": [
    {
     "name": "stdout",
     "output_type": "stream",
     "text": [
      "7\n"
     ]
    }
   ],
   "source": [
    "print(len(colors))"
   ]
  },
  {
   "cell_type": "code",
   "execution_count": 30,
   "id": "b603c4d2",
   "metadata": {},
   "outputs": [
    {
     "name": "stdout",
     "output_type": "stream",
     "text": [
      "['black', 'gold', 'green', 'grey', 'purple', 'red', 'white']\n"
     ]
    }
   ],
   "source": [
    "colors.sort()\n",
    "\n",
    "print(colors)"
   ]
  },
  {
   "cell_type": "code",
   "execution_count": null,
   "id": "bb4686b9",
   "metadata": {},
   "outputs": [],
   "source": []
  }
 ],
 "metadata": {
  "kernelspec": {
   "display_name": "Python 3 (ipykernel)",
   "language": "python",
   "name": "python3"
  },
  "language_info": {
   "codemirror_mode": {
    "name": "ipython",
    "version": 3
   },
   "file_extension": ".py",
   "mimetype": "text/x-python",
   "name": "python",
   "nbconvert_exporter": "python",
   "pygments_lexer": "ipython3",
   "version": "3.9.13"
  }
 },
 "nbformat": 4,
 "nbformat_minor": 5
}
