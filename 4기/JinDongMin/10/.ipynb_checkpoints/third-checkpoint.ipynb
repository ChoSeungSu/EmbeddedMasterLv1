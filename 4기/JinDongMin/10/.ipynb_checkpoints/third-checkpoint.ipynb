{
 "cells": [
  {
   "cell_type": "code",
   "execution_count": 1,
   "id": "a3444b3e",
   "metadata": {},
   "outputs": [
    {
     "name": "stdout",
     "output_type": "stream",
     "text": [
      "1\n",
      "10\n",
      "7\n"
     ]
    }
   ],
   "source": [
    "glob = 1\n",
    "\n",
    "#exchange\n",
    "def xchgScope(x):\n",
    "    # 파이썬에서 전역변수를 사용하는 방법\n",
    "    # global 키워드를 통해 위에 있는 glob을 현재 스코프로 변경\n",
    "    # 은근히 써먹을 일이 많음\n",
    "    global glob\n",
    "    glob = 7\n",
    "    return glob + x\n",
    "\n",
    "print(glob)\n",
    "print(xchgScope(3))\n",
    "print(glob)"
   ]
  },
  {
   "cell_type": "code",
   "execution_count": 2,
   "id": "7925e593",
   "metadata": {},
   "outputs": [
    {
     "name": "stdout",
     "output_type": "stream",
     "text": [
      "9\n"
     ]
    }
   ],
   "source": [
    "# 함수를 만들기에는 애매하고 그렇기엔 사용해야하고 그럴 땐 람다를 사용\n",
    "print((lambda x: x * x)(3))"
   ]
  },
  {
   "cell_type": "code",
   "execution_count": 3,
   "id": "78d61b45",
   "metadata": {},
   "outputs": [
    {
     "name": "stdout",
     "output_type": "stream",
     "text": [
      "15\n"
     ]
    }
   ],
   "source": [
    "print((lambda x, y: x * y)(3, 5))"
   ]
  },
  {
   "cell_type": "code",
   "execution_count": 4,
   "id": "fbf0685e",
   "metadata": {},
   "outputs": [
    {
     "name": "stdout",
     "output_type": "stream",
     "text": [
      "내 이름은 Default\n",
      "내 이름은 홍길동\n",
      "내 이름은 홍길동\n"
     ]
    }
   ],
   "source": [
    "class Person:\n",
    "    name = 'Default'\n",
    "    \n",
    "    # 파이썬의 메서드에는 반드시 self를 첫 번째 매개변수로 배치해야 함\n",
    "    def personPrint(self):\n",
    "        print('내 이름은 {0}'.format(self.name))\n",
    "\n",
    "# init 즉 메모리 할당 작업을 담당 <- 다른 용어로 생성자라 부름\n",
    "# 생성자는 클래스 이름과 동일합니다.\n",
    "\n",
    "# malloc과 동일하므로 p1에는 객체의 포인터가 들어있다.\n",
    "p1 = Person()\n",
    "p1.personPrint()\n",
    "\n",
    "p1.name = '홍길동'\n",
    "p1.personPrint()\n",
    "Person.personPrint(p1)"
   ]
  }
 ],
 "metadata": {
  "kernelspec": {
   "display_name": "Python 3 (ipykernel)",
   "language": "python",
   "name": "python3"
  },
  "language_info": {
   "codemirror_mode": {
    "name": "ipython",
    "version": 3
   },
   "file_extension": ".py",
   "mimetype": "text/x-python",
   "name": "python",
   "nbconvert_exporter": "python",
   "pygments_lexer": "ipython3",
   "version": "3.9.13"
  }
 },
 "nbformat": 4,
 "nbformat_minor": 5
}
