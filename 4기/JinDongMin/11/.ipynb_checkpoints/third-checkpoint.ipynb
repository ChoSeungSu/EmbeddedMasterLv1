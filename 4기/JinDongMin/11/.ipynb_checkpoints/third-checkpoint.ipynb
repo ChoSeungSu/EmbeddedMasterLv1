{
 "cells": [
  {
   "cell_type": "code",
   "execution_count": 1,
   "id": "dfbac00a",
   "metadata": {},
   "outputs": [
    {
     "name": "stdout",
     "output_type": "stream",
     "text": [
      "3\n",
      "7\n",
      "33\n"
     ]
    }
   ],
   "source": [
    "class Test:\n",
    "    test1 = 3\n",
    "    _test2 = 7\n",
    "    __test3 = 33\n",
    "    \n",
    "    def testPrint(self):\n",
    "        print(self.__test3)\n",
    "\n",
    "test = Test()\n",
    "\n",
    "print(test.test1)\n",
    "print(test._test2)\n",
    "\n",
    "# 정말 private 하는가\n",
    "# print(test.__test3)\n",
    "\n",
    "test.testPrint()\n",
    "\n",
    "# protected는 외부에서 접근이 가능한 것인가? (C++ 클래스를 공부한 지 반년이 넘어서 거의 다 까먹어버렸다)\n",
    "# test._test2 = 5\n",
    "# print(test._test2)"
   ]
  },
  {
   "cell_type": "code",
   "execution_count": 2,
   "id": "5b46bf10",
   "metadata": {},
   "outputs": [
    {
     "name": "stdout",
     "output_type": "stream",
     "text": [
      "생성자 호출!\n",
      "이름은 고고싱, 나이는 77\n",
      "{'name': '고고싱', 'age': 77}\n"
     ]
    }
   ],
   "source": [
    "class Person:\n",
    "    def __init__(self, name, age):\n",
    "        # 실제로 함수가 호출되는지 확인하기 위해 print 함수를 사용함\n",
    "        print('생성자 호출!')\n",
    "        self.name = name\n",
    "        self.age = age\n",
    "    \n",
    "    def print(self):\n",
    "        print('이름은 {0}, 나이는 {1}'.format(self.name, self.age))\n",
    "\n",
    "p = Person('고고싱', 77)\n",
    "p.print()\n",
    "\n",
    "print(p.__dict__)\n",
    "\n",
    "# print를 만드는 것보다 dict를 사용하는게 편할수도 있다."
   ]
  },
  {
   "cell_type": "code",
   "execution_count": 3,
   "id": "0702940f",
   "metadata": {},
   "outputs": [
    {
     "name": "stdout",
     "output_type": "stream",
     "text": [
      "생성자 호출!\n",
      "{'name': '고고싱', 'age': 77, 'major': '물리학'}\n"
     ]
    }
   ],
   "source": [
    "class Student(Person):\n",
    "    def __init__(self, name, age, major):\n",
    "        super(Student, self).__init__(name, age)\n",
    "        self.major = major\n",
    "    \n",
    "    def printStudent(self):\n",
    "        print('Student - name: {0}, age : {1}, major : {2}'.format(self.name, self.age, self.major))\n",
    "\n",
    "s = Student('고고싱', 77, '물리학')\n",
    "\n",
    "print(s.__dict__)"
   ]
  }
 ],
 "metadata": {
  "kernelspec": {
   "display_name": "Python 3 (ipykernel)",
   "language": "python",
   "name": "python3"
  },
  "language_info": {
   "codemirror_mode": {
    "name": "ipython",
    "version": 3
   },
   "file_extension": ".py",
   "mimetype": "text/x-python",
   "name": "python",
   "nbconvert_exporter": "python",
   "pygments_lexer": "ipython3",
   "version": "3.9.13"
  }
 },
 "nbformat": 4,
 "nbformat_minor": 5
}
