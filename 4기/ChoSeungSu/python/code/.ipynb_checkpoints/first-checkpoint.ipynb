{
 "cells": [
  {
   "cell_type": "code",
   "execution_count": 3,
   "id": "cce103d4",
   "metadata": {},
   "outputs": [
    {
     "name": "stdout",
     "output_type": "stream",
     "text": [
      "Hello python\n"
     ]
    }
   ],
   "source": [
    "print('Hello python')"
   ]
  },
  {
   "cell_type": "markdown",
   "id": "548273be",
   "metadata": {},
   "source": [
    "## 파이썬은 자동으로 변수 자료형 지정 "
   ]
  },
  {
   "cell_type": "code",
   "execution_count": 4,
   "id": "dc3969ed",
   "metadata": {},
   "outputs": [
    {
     "name": "stdout",
     "output_type": "stream",
     "text": [
      "<class 'str'>\n",
      "<class 'int'>\n",
      "<class 'float'>\n"
     ]
    }
   ],
   "source": [
    "string_value = 'test'\n",
    "num = 3\n",
    "float_num = 7.7\n",
    "\n",
    "print(type(string_value))\n",
    "print(type(num))\n",
    "print(type(float_num))"
   ]
  },
  {
   "cell_type": "markdown",
   "id": "0f39cac8",
   "metadata": {},
   "source": [
    "### 복소수를 나타내는 자료형 complex"
   ]
  },
  {
   "cell_type": "code",
   "execution_count": 6,
   "id": "4c7ee141",
   "metadata": {},
   "outputs": [
    {
     "name": "stdout",
     "output_type": "stream",
     "text": [
      "(7+9j)\n",
      "<class 'complex'>\n",
      "9.0\n",
      "7.0\n",
      "(7-9j)\n"
     ]
    }
   ],
   "source": [
    "z1 = 3+ 4j\n",
    "z2 = 4 + 5j\n",
    "z = z1 + z2\n",
    "\n",
    "print(z)\n",
    "print(type(z))\n",
    "print(z.imag) ## 복소수의 허수부\n",
    "print(z.real) ## 복소수의 실수부\n",
    "print(z.conjugate()) ## 켤레복소수 "
   ]
  },
  {
   "cell_type": "code",
   "execution_count": 7,
   "id": "65cea867",
   "metadata": {},
   "outputs": [
    {
     "name": "stdout",
     "output_type": "stream",
     "text": [
      "1.2e+30\n",
      "1.57e-20\n",
      "1024\n",
      "<class 'float'>\n",
      "<class 'float'>\n",
      "<class 'int'>\n"
     ]
    }
   ],
   "source": [
    "big = 1.2e30 ## e 10의 30승을 의미한다\n",
    "small = 1.57e-20\n",
    "test = 2 ** 10 ## **은 10승을 의미한다 \n",
    "\n",
    "print(big)\n",
    "print(small)\n",
    "print(test)\n",
    "\n",
    "print(type(big))\n",
    "print(type(small))\n",
    "print(type(test))"
   ]
  },
  {
   "cell_type": "code",
   "execution_count": 9,
   "id": "8d9d19ad",
   "metadata": {},
   "outputs": [
    {
     "name": "stdout",
     "output_type": "stream",
     "text": [
      "0\n",
      "333.3\n",
      "0.42857142857142855\n"
     ]
    }
   ],
   "source": [
    "num = 3 // 7 ## 몫만 나옴 몫의 소수점을 날릴때 해당 연산을 많이 사용한다\n",
    "num2 = 3333 // 10 ## \n",
    "num3 = 3 / 7 ## 전체 몫이 나옴\n",
    "print(num)\n",
    "print(num2)\n",
    "print(num3)"
   ]
  },
  {
   "cell_type": "code",
   "execution_count": 11,
   "id": "f31c6d78",
   "metadata": {},
   "outputs": [
    {
     "name": "stdout",
     "output_type": "stream",
     "text": [
      "\n",
      "    이렇게도\n",
      "            뿌릴수가 \n",
      "                    있습니다.\n",
      "\n"
     ]
    }
   ],
   "source": [
    "format_string = '''\n",
    "    이렇게도\n",
    "            뿌릴수가 \n",
    "                    있습니다.\n",
    "'''\n",
    "\n",
    "## c언어에서는 \" ~~~\" \\ + \n",
    "##           \" ~~~\" \\ +\n",
    "## 이렇게 표현해줘야 하는데 \n",
    "## 파이썬은 ''' 을 통해 ''' 가독성을 높일 수 있다.\n",
    "print(format_string)"
   ]
  },
  {
   "cell_type": "code",
   "execution_count": 14,
   "id": "a6348ba7",
   "metadata": {},
   "outputs": [
    {
     "name": "stdout",
     "output_type": "stream",
     "text": [
      "C Python\n"
     ]
    }
   ],
   "source": [
    "testStr = \"C\" + ' Python'\n",
    "\n",
    "## 문자열 붙이기가 매우 편함 \n",
    "\n",
    "print(testStr)"
   ]
  },
  {
   "cell_type": "code",
   "execution_count": 16,
   "id": "05cab2a5",
   "metadata": {},
   "outputs": [
    {
     "name": "stdout",
     "output_type": "stream",
     "text": [
      "pointer\n",
      "p\n"
     ]
    }
   ],
   "source": [
    "str1 = 'pointer'\n",
    "\n",
    "print(str1)\n",
    "print(str1[0])\n",
    "\n",
    "# 문자열은 배열 \n",
    "## 포인터 개념을 문자열 첫번째 항목을 확인함으로 알 수 있다. "
   ]
  },
  {
   "cell_type": "markdown",
   "id": "2d5bf1bd",
   "metadata": {},
   "source": [
    "### 파이썬의 장점 ? 매우 직관적 "
   ]
  },
  {
   "cell_type": "code",
   "execution_count": 20,
   "id": "bf31bd1b",
   "metadata": {},
   "outputs": [
    {
     "name": "stdout",
     "output_type": "stream",
     "text": [
      "p\n",
      "oin\n"
     ]
    }
   ],
   "source": [
    "print(str1[0:1]) ## 0부터 1 이전까지 \n",
    "print(str1[1:4]) ## 1부터 4 이전까지 \n",
    "\n",
    "\n",
    "# c언어에서 구현한다면\n",
    "# strncpy(new_Arr, &str1[1], 3); "
   ]
  },
  {
   "cell_type": "code",
   "execution_count": 23,
   "id": "d2113395",
   "metadata": {},
   "outputs": [
    {
     "name": "stdout",
     "output_type": "stream",
     "text": [
      "point\n",
      "er\n"
     ]
    }
   ],
   "source": [
    "print(str1[:-2])\n",
    "print(str1[-2:])\n",
    "\n",
    "## -2는 문자열의 뒷부분 위치를 나타낸다. "
   ]
  },
  {
   "cell_type": "code",
   "execution_count": 24,
   "id": "fe7193dc",
   "metadata": {},
   "outputs": [
    {
     "name": "stdout",
     "output_type": "stream",
     "text": [
      "pointer\n"
     ]
    }
   ],
   "source": [
    "print(str1[:])\n",
    "## 전체를 복사하기는 하는데 새로운 객체가 생성됨 \n",
    "## 원본을 회손하지 말아야 할때 이 방법을 참고"
   ]
  },
  {
   "cell_type": "code",
   "execution_count": 25,
   "id": "1d4cb08b",
   "metadata": {},
   "outputs": [
    {
     "name": "stdout",
     "output_type": "stream",
     "text": [
      "pitr\n"
     ]
    }
   ],
   "source": [
    "print(str1[::2])\n",
    "## 2칸씩 뛰어서 새로운 객체를 만들어라 "
   ]
  },
  {
   "cell_type": "code",
   "execution_count": 29,
   "id": "30c84d41",
   "metadata": {},
   "outputs": [
    {
     "name": "stdout",
     "output_type": "stream",
     "text": [
      "<class 'list'>\n"
     ]
    }
   ],
   "source": [
    "colors = ['red', 'green', 'blue']\n",
    "print(type(colors))\n",
    "\n",
    "## c언어에서 리스트 개념을\n",
    "## 구조체 포인터를 통해 계속 붙이는 개념으로 생각할 수 있겠다..."
   ]
  },
  {
   "cell_type": "markdown",
   "id": "7c559516",
   "metadata": {},
   "source": [
    "## 리스트 개념"
   ]
  },
  {
   "cell_type": "code",
   "execution_count": 30,
   "id": "33e5fdf6",
   "metadata": {},
   "outputs": [
    {
     "name": "stdout",
     "output_type": "stream",
     "text": [
      "['red', 'green', 'blue', 'gold']\n"
     ]
    }
   ],
   "source": [
    "colors.append('gold')\n",
    "print(colors)"
   ]
  },
  {
   "cell_type": "code",
   "execution_count": 32,
   "id": "b4359032",
   "metadata": {},
   "outputs": [
    {
     "name": "stdout",
     "output_type": "stream",
     "text": [
      "['red', 'black', 'black', 'green', 'blue', 'gold']\n"
     ]
    }
   ],
   "source": [
    "colors.insert(1,'black')\n",
    "print(colors)\n",
    "\n",
    "##리스트를 쓰는 이유 \n",
    "## 배열과 동적할당의 개념 \n",
    "## 파이썬의 리스트는 배열과 동적할당의 개념을 편하게 접근하고 사용할 수 있도록 함 \n",
    "## 자료구조의 개념까지(que , stack) 언어 차원에서 편리하게 제공함 "
   ]
  },
  {
   "cell_type": "code",
   "execution_count": null,
   "id": "6e5cf411",
   "metadata": {},
   "outputs": [],
   "source": [
    "colors.extend(['white', 'gray'])\n",
    "## 요소를 리스트에 추가함\n",
    "## 리스트는 파이썬 언어 차원에서 제공하는 배열, 동적할당이다. "
   ]
  },
  {
   "cell_type": "markdown",
   "id": "07558c03",
   "metadata": {},
   "source": [
    "# 메모리 자료구조 \n",
    "## 레지스터 \n",
    "## 캐시 \n",
    "## 램 \n",
    "## 메모리 "
   ]
  },
  {
   "cell_type": "code",
   "execution_count": 33,
   "id": "6c76a75b",
   "metadata": {},
   "outputs": [
    {
     "name": "stdout",
     "output_type": "stream",
     "text": [
      "0\n"
     ]
    }
   ],
   "source": [
    "print(colors.index('red')) \n",
    "## 리스트의 인덱스 함수 \n",
    "## 리스트의 해당 요소에 위치를 알 수 있다."
   ]
  },
  {
   "cell_type": "code",
   "execution_count": 37,
   "id": "279491d7",
   "metadata": {},
   "outputs": [
    {
     "name": "stdout",
     "output_type": "stream",
     "text": [
      "2\n"
     ]
    }
   ],
   "source": [
    "(print(colors.index('black', 2)))\n",
    "## 해당 위치포함부터 해당 요소를 요소 위치를 확인함"
   ]
  },
  {
   "cell_type": "code",
   "execution_count": 38,
   "id": "53135d19",
   "metadata": {},
   "outputs": [
    {
     "name": "stdout",
     "output_type": "stream",
     "text": [
      "2\n"
     ]
    }
   ],
   "source": [
    "print(colors.count('black'))\n",
    "## 해당 요소의 개수를 확인함 \n",
    "## 이것도 포인터 개념으로 접근함"
   ]
  },
  {
   "cell_type": "code",
   "execution_count": 39,
   "id": "fd1b7c7e",
   "metadata": {},
   "outputs": [
    {
     "name": "stdout",
     "output_type": "stream",
     "text": [
      "gold\n"
     ]
    }
   ],
   "source": [
    "print(colors.pop())\n",
    "## 리스트의 가장 뒤쪽 요소를 추출 \n",
    "## 스택 구조의 pop 명령어와 결국 같은 기능 "
   ]
  },
  {
   "cell_type": "code",
   "execution_count": 40,
   "id": "88b26f93",
   "metadata": {},
   "outputs": [
    {
     "name": "stdout",
     "output_type": "stream",
     "text": [
      "5\n"
     ]
    }
   ],
   "source": [
    "print(len(colors))"
   ]
  },
  {
   "cell_type": "code",
   "execution_count": 41,
   "id": "415ac1a9",
   "metadata": {},
   "outputs": [
    {
     "name": "stdout",
     "output_type": "stream",
     "text": [
      "['black', 'black', 'blue', 'green', 'red']\n"
     ]
    }
   ],
   "source": [
    "colors.sort()\n",
    "## 리스트의 순서를 정렬함 \n",
    "## 문자 순으로 정렬 \n",
    "print(colors)"
   ]
  },
  {
   "cell_type": "code",
   "execution_count": null,
   "id": "6da05d8e",
   "metadata": {},
   "outputs": [],
   "source": []
  }
 ],
 "metadata": {
  "kernelspec": {
   "display_name": "Python 3 (ipykernel)",
   "language": "python",
   "name": "python3"
  },
  "language_info": {
   "codemirror_mode": {
    "name": "ipython",
    "version": 3
   },
   "file_extension": ".py",
   "mimetype": "text/x-python",
   "name": "python",
   "nbconvert_exporter": "python",
   "pygments_lexer": "ipython3",
   "version": "3.9.13"
  }
 },
 "nbformat": 4,
 "nbformat_minor": 5
}
