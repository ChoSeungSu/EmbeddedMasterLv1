{
 "cells": [
  {
   "cell_type": "code",
   "execution_count": 3,
   "id": "79a1e506",
   "metadata": {},
   "outputs": [
    {
     "name": "stdout",
     "output_type": "stream",
     "text": [
      "점수 입력: 45\n",
      "grade is F\n"
     ]
    }
   ],
   "source": [
    "score = int(input(\"점수 입력: \"))\n",
    "\n",
    "if 90<= score <= 100:\n",
    "    grade = 'A'\n",
    "elif 90<= score <= 90:\n",
    "    grade = 'B'\n",
    "elif 90<= score <= 80:\n",
    "    grade = 'C'\n",
    "elif 90<= score <= 70:\n",
    "    grade = 'D'\n",
    "else:\n",
    "    grade = 'F'\n",
    "\n",
    "print('grade is ' + grade)"
   ]
  },
  {
   "cell_type": "code",
   "execution_count": 5,
   "id": "237021e8",
   "metadata": {},
   "outputs": [
    {
     "name": "stdout",
     "output_type": "stream",
     "text": [
      "apple <class 'str'>\n",
      "100 <class 'int'>\n",
      "15.33 <class 'float'>\n"
     ]
    }
   ],
   "source": [
    "lists = ['apple' ,100, 15.33]\n",
    "for i in lists:\n",
    "    print(i, type(i))"
   ]
  },
  {
   "cell_type": "code",
   "execution_count": 8,
   "id": "e884cd63",
   "metadata": {},
   "outputs": [
    {
     "name": "stdout",
     "output_type": "stream",
     "text": [
      "apple 100\n",
      "orange 20.38\n",
      "grape string\n"
     ]
    }
   ],
   "source": [
    "d = {\"apple\" : 100, \"orange\" : 20.38 , \"grape\" : \"string\"}\n",
    "for k, v in d.items():\n",
    "    print(k,v)"
   ]
  },
  {
   "cell_type": "markdown",
   "id": "a4c4f760",
   "metadata": {},
   "source": [
    "* key 와 value값 \n",
    "\n",
    "* items 옵션은 key와 value를 같이 보여줌 "
   ]
  },
  {
   "cell_type": "code",
   "execution_count": 1,
   "id": "dffe4fbe",
   "metadata": {},
   "outputs": [
    {
     "name": "stdout",
     "output_type": "stream",
     "text": [
      "[0, 1, 2, 3, 4, 5, 6, 7, 8, 9]\n"
     ]
    }
   ],
   "source": [
    "print(list(range(10)))\n",
    "# 0 ~ 9 까지"
   ]
  },
  {
   "cell_type": "code",
   "execution_count": 2,
   "id": "97120a17",
   "metadata": {},
   "outputs": [
    {
     "name": "stdout",
     "output_type": "stream",
     "text": [
      "[5, 6, 7, 8, 9]\n"
     ]
    }
   ],
   "source": [
    "print(list(range(5,10)))\n",
    "# 5 ~ 9 까지 "
   ]
  },
  {
   "cell_type": "code",
   "execution_count": 3,
   "id": "1c100a8b",
   "metadata": {},
   "outputs": [
    {
     "name": "stdout",
     "output_type": "stream",
     "text": [
      "[0, 2, 4, 6, 8]\n"
     ]
    }
   ],
   "source": [
    "print(list(range(0 , 10 , 2)))\n",
    "## 두번째 오는 인자는 포함 안하는것을 명심할 것 "
   ]
  },
  {
   "cell_type": "code",
   "execution_count": null,
   "id": "57a5baa0",
   "metadata": {},
   "outputs": [],
   "source": [
    "strList = ['apple' , 'orange' , 'grape']\n",
    "for i in range(len(strList):\n",
    "    print('idx: {0} val : {1}'.format())"
   ]
  }
 ],
 "metadata": {
  "kernelspec": {
   "display_name": "Python 3 (ipykernel)",
   "language": "python",
   "name": "python3"
  },
  "language_info": {
   "codemirror_mode": {
    "name": "ipython",
    "version": 3
   },
   "file_extension": ".py",
   "mimetype": "text/x-python",
   "name": "python",
   "nbconvert_exporter": "python",
   "pygments_lexer": "ipython3",
   "version": "3.9.13"
  }
 },
 "nbformat": 4,
 "nbformat_minor": 5
}
