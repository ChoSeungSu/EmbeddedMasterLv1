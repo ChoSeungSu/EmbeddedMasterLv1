{
 "cells": [
  {
   "cell_type": "code",
   "execution_count": 3,
   "id": "b5f1d80a",
   "metadata": {},
   "outputs": [
    {
     "name": "stdout",
     "output_type": "stream",
     "text": [
      "점수 입력: 45\n",
      "grade is F\n"
     ]
    }
   ],
   "source": [
    "score = int(input(\"점수 입력: \"))\n",
    "\n",
    "if 90<= score <= 100:\n",
    "    grade = 'A'\n",
    "elif 90<= score <= 90:\n",
    "    grade = 'B'\n",
    "elif 90<= score <= 80:\n",
    "    grade = 'C'\n",
    "elif 90<= score <= 70:\n",
    "    grade = 'D'\n",
    "else:\n",
    "    grade = 'F'\n",
    "\n",
    "print('grade is ']']' + grade)"
   ]
  },
  {
   "cell_type": "code",
   "execution_count": 5,
   "id": "a1e07e71",
   "metadata": {},
   "outputs": [
    {
     "name": "stdout",
     "output_type": "stream",
     "text": [
      "apple <class 'str'>\n",
      "100 <class 'int'>\n",
      "15.33 <class 'float'>\n"
     ]
    }
   ],
   "source": [
    "lists = ['apple' ,100, 15.33]\n",
    "for i in lists:']\n",
    "    print(i, type(i))"
   ]
  },
  {
   "cell_type": "code",
   "execution_count": 8,
   "id": "2fc0202d",
   "metadata": {},
   "outputs": [
    {
     "name": "stdout",
     "output_type": "stream",
     "text": [
      "apple 100\n",
      "orange 20.38\n",
      "grape string\n"
     ]
    }
   ],
   "source": [
    "d = {\"apple\" : 100, \"orange\" : 20.38 , \"grape\" : \"string\"}\n",
    "for k, v in d.items():\n",
    "    print(k,v)"
   ]
  },
  {
   "cell_type": "markdown",
   "id": "f98f85b8",
   "metadata": {},
   "source": [
    "* key 와 value값 \n",
    "\n",
    "* items 옵션은 key와 value를 같이 보여줌 "
   ]
  },
  {
   "cell_type": "code",
   "execution_count": 1,
   "id": "ca76310b",
   "metadata": {},
   "outputs": [
    {
     "name": "stdout",
     "output_type": "stream",
     "text": [
      "[0, 1, 2, 3, 4, 5, 6, 7, 8, 9]\n"
     ]
    }
   ],
   "source": [
    "print(list(range(10)))\n",
    "# 0 ~ 9 까지"
   ]
  },
  {
   "cell_type": "code",
   "execution_count": 2,
   "id": "9a876836",
   "metadata": {},
   "outputs": [
    {
     "name": "stdout",
     "output_type": "stream",
     "text": [
      "[5, 6, 7, 8, 9]\n"
     ]
    }
   ],
   "source": [
    "print(list(range(5,10)))\n",
    "# 5 ~ 9 까지 "
   ]
  },
  {
   "cell_type": "raw",
   "id": "a54072a5",
   "metadata": {},
   "source": [
    "print(list(range(0 , 10 , 2)))\n",
    "## 두번째 오는 인자는 포함 안하는것을 명심할 것 "
   ]
  },
  {
   "cell_type": "code",
   "execution_count": 6,
   "id": "7d743b08",
   "metadata": {},
   "outputs": [
    {
     "name": "stdout",
     "output_type": "stream",
     "text": [
      "idx: 0,val : apple\n",
      "idx: 1,val : orange\n",
      "idx: 2,val : grape\n"
     ]
    }
   ],
   "source": [
    "strList = ['apple' , 'orange' , 'grape']\n",
    "for i in range(len(strList)):\n",
    "    print('idx: {0},val : {1}'.format(i, strList[i]))"
   ]
  },
  {
   "cell_type": "code",
   "execution_count": 7,
   "id": "1478d594",
   "metadata": {},
   "outputs": [
    {
     "name": "stdout",
     "output_type": "stream",
     "text": [
      "[1, 4, 9, 16, 25]\n"
     ]
    }
   ],
   "source": [
    "numList = [1,2,3,4,5]\n",
    "print([i**2 for i in numList])"
   ]
  },
  {
   "cell_type": "code",
   "execution_count": 9,
   "id": "6ee87c24",
   "metadata": {},
   "outputs": [
    {
     "name": "stdout",
     "output_type": "stream",
     "text": [
      "[5, 6, 5]\n"
     ]
    }
   ],
   "source": [
    "print([len(i) for i in strList])"
   ]
  },
  {
   "cell_type": "code",
   "execution_count": 10,
   "id": "9772b0f9",
   "metadata": {},
   "outputs": [
    {
     "name": "stdout",
     "output_type": "stream",
     "text": [
      "['APPLE', 'BANANA', 'ORANGE']\n"
     ]
    }
   ],
   "source": [
    "d = {100: \"apple\", 200: 'banana' , 300: 'orange'}\n",
    "print([v.upper() for v in d.values()])"
   ]
  },
  {
   "cell_type": "code",
   "execution_count": 11,
   "id": "0b788c6c",
   "metadata": {},
   "outputs": [],
   "source": [
    "## 파이썬의 편한 코드를 c언어 관점에서 구현 "
   ]
  },
  {
   "cell_type": "code",
   "execution_count": 12,
   "id": "61dbdf7a",
   "metadata": {},
   "outputs": [
    {
     "name": "stdout",
     "output_type": "stream",
     "text": [
      "['orange']\n"
     ]
    }
   ],
   "source": [
    "print([i for i in strList if len(i) > 5 ])"
   ]
  },
  {
   "cell_type": "code",
   "execution_count": null,
   "id": "62f1e184",
   "metadata": {},
   "outputs": [],
   "source": []
  }
 ],
 "metadata": {
  "kernelspec": {
   "display_name": "Python 3 (ipykernel)",
   "language": "python",
   "name": "python3"
  },
  "language_info": {
   "codemirror_mode": {
    "name": "ipython",
    "version": 3
   },
   "file_extension": ".py",
   "mimetype": "text/x-python",
   "name": "python",
   "nbconvert_exporter": "python",
   "pygments_lexer": "ipython3",
   "version": "3.9.13"
  }
 },
 "nbformat": 4,
 "nbformat_minor": 5
}
