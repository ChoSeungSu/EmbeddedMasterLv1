{
 "cells": [
  {
   "cell_type": "code",
   "execution_count": 1,
   "metadata": {},
   "outputs": [
    {
     "name": "stdout",
     "output_type": "stream",
     "text": [
      " * Serving Flask app \"__main__\" (lazy loading)\n",
      " * Environment: production\n",
      "   WARNING: This is a development server. Do not use it in a production deployment.\n",
      "   Use a production WSGI server instead.\n",
      " * Debug mode: off\n"
     ]
    },
    {
     "name": "stderr",
     "output_type": "stream",
     "text": [
      " * Running on http://127.0.0.1:5000/ (Press CTRL+C to quit)\n",
      "127.0.0.1 - - [22/Apr/2022 17:27:38] \"\u001b[37mGET / HTTP/1.1\u001b[0m\" 200 -\n",
      "127.0.0.1 - - [22/Apr/2022 17:27:38] \"\u001b[33mGET /favicon.ico HTTP/1.1\u001b[0m\" 404 -\n"
     ]
    }
   ],
   "source": [
    "## 단순히 URL 을 입력하면 Hello World 를 볼 수 있는 가장 간단한 형태의 서버입니다."
   ]
  },
  {
   "cell_type": "code",
   "execution_count": 1,
   "metadata": {
    "scrolled": true
   },
   "outputs": [
    {
     "name": "stdout",
     "output_type": "stream",
     "text": [
      " * Serving Flask app \"__main__\" (lazy loading)\n",
      " * Environment: production\n",
      "   WARNING: This is a development server. Do not use it in a production deployment.\n",
      "   Use a production WSGI server instead.\n",
      " * Debug mode: off\n"
     ]
    },
    {
     "name": "stderr",
     "output_type": "stream",
     "text": [
      " * Running on http://127.0.0.1:5000/ (Press CTRL+C to quit)\n",
      "127.0.0.1 - - [11/Jun/2022 18:22:41] \"\u001b[37mGET / HTTP/1.1\u001b[0m\" 200 -\n",
      "127.0.0.1 - - [11/Jun/2022 18:22:42] \"\u001b[33mGET /favicon.ico HTTP/1.1\u001b[0m\" 404 -\n"
     ]
    }
   ],
   "source": [
    "from flask import Flask\n",
    "app = Flask(__name__)\n",
    "\n",
    "@app.route(\"/\")\n",
    "def hello():\n",
    "    return \"Hello World!\"\n",
    "\n",
    "if __name__ == \"__main__\":\n",
    "    app.run()"
   ]
  },
  {
   "cell_type": "code",
   "execution_count": null,
   "metadata": {},
   "outputs": [],
   "source": []
  },
  {
   "cell_type": "code",
   "execution_count": null,
   "metadata": {},
   "outputs": [],
   "source": [
    "## 특정 URL에 대한 요청을 처리합니다."
   ]
  },
  {
   "cell_type": "code",
   "execution_count": 2,
   "metadata": {},
   "outputs": [
    {
     "name": "stdout",
     "output_type": "stream",
     "text": [
      " * Serving Flask app \"__main__\" (lazy loading)\n",
      " * Environment: production\n",
      "   WARNING: This is a development server. Do not use it in a production deployment.\n",
      "   Use a production WSGI server instead.\n",
      " * Debug mode: off\n"
     ]
    },
    {
     "name": "stderr",
     "output_type": "stream",
     "text": [
      " * Running on http://127.0.0.1:5000/ (Press CTRL+C to quit)\n",
      "127.0.0.1 - - [11/Jun/2022 18:40:18] \"\u001b[37mGET / HTTP/1.1\u001b[0m\" 200 -\n",
      "127.0.0.1 - - [11/Jun/2022 18:40:52] \"\u001b[37mGET /flask HTTP/1.1\u001b[0m\" 200 -\n",
      "127.0.0.1 - - [11/Jun/2022 18:42:01] \"\u001b[32mGET /python HTTP/1.1\u001b[0m\" 308 -\n",
      "127.0.0.1 - - [11/Jun/2022 18:42:01] \"\u001b[37mGET /python/ HTTP/1.1\u001b[0m\" 200 -\n"
     ]
    }
   ],
   "source": [
    "from flask import Flask\n",
    "app = Flask(__name__)\n",
    "\n",
    "@app.route('/flask')\n",
    "def hello_flask():\n",
    "    return 'Hello Flask'\n",
    "\n",
    "@app.route('/python/')\n",
    "def hello_python():\n",
    "    return 'Hello Python'\n",
    "\n",
    "@app.route('/')\n",
    "def flask_home():\n",
    "    return '가즈아'\n",
    "\n",
    "if __name__ == '__main__':\n",
    "    app.run()"
   ]
  },
  {
   "cell_type": "code",
   "execution_count": null,
   "metadata": {},
   "outputs": [],
   "source": []
  },
  {
   "cell_type": "code",
   "execution_count": null,
   "metadata": {},
   "outputs": [],
   "source": [
    "## 가변 인자 처리하기"
   ]
  },
  {
   "cell_type": "code",
   "execution_count": 3,
   "metadata": {},
   "outputs": [
    {
     "name": "stdout",
     "output_type": "stream",
     "text": [
      " * Serving Flask app \"__main__\" (lazy loading)\n",
      " * Environment: production\n",
      "   WARNING: This is a development server. Do not use it in a production deployment.\n",
      "   Use a production WSGI server instead.\n",
      " * Debug mode: off\n"
     ]
    },
    {
     "name": "stderr",
     "output_type": "stream",
     "text": [
      " * Running on http://127.0.0.1:5000/ (Press CTRL+C to quit)\n",
      "127.0.0.1 - - [11/Jun/2022 18:46:26] \"\u001b[37mGET //hello/test HTTP/1.1\u001b[0m\" 200 -\n",
      "127.0.0.1 - - [11/Jun/2022 18:46:41] \"\u001b[37mGET //hello/eddi HTTP/1.1\u001b[0m\" 200 -\n",
      "127.0.0.1 - - [11/Jun/2022 18:46:52] \"\u001b[37mGET //hello/3 HTTP/1.1\u001b[0m\" 200 -\n"
     ]
    }
   ],
   "source": [
    "from flask import Flask\n",
    "app = Flask(__name__)\n",
    "\n",
    "@app.route('/hello/<name>')\n",
    "def hello_name(name):\n",
    "    return 'Hello %s!' % name\n",
    "\n",
    "if __name__ == '__main__':\n",
    "    app.run()"
   ]
  },
  {
   "cell_type": "code",
   "execution_count": null,
   "metadata": {},
   "outputs": [],
   "source": []
  },
  {
   "cell_type": "code",
   "execution_count": null,
   "metadata": {},
   "outputs": [],
   "source": [
    "## 웹 요청 처리하기"
   ]
  },
  {
   "cell_type": "code",
   "execution_count": 4,
   "metadata": {},
   "outputs": [
    {
     "name": "stdout",
     "output_type": "stream",
     "text": [
      " * Serving Flask app \"__main__\" (lazy loading)\n",
      " * Environment: production\n",
      "   WARNING: This is a development server. Do not use it in a production deployment.\n",
      "   Use a production WSGI server instead.\n",
      " * Debug mode: off\n"
     ]
    },
    {
     "name": "stderr",
     "output_type": "stream",
     "text": [
      " * Running on http://127.0.0.1:5000/ (Press CTRL+C to quit)\n",
      "127.0.0.1 - - [11/Jun/2022 18:53:54] \"\u001b[32mGET /login HTTP/1.1\u001b[0m\" 302 -\n",
      "127.0.0.1 - - [11/Jun/2022 18:53:54] \"\u001b[37mGET /success HTTP/1.1\u001b[0m\" 200 -\n"
     ]
    }
   ],
   "source": [
    "from flask import Flask, redirect, url_for, request\n",
    "app = Flask(__name__)\n",
    "\n",
    "@app.route('/success')\n",
    "def success():\n",
    "    return 'welcome !!!'\n",
    "\n",
    "@app.route('/login',methods = ['POST', 'GET'])\n",
    "def login():\n",
    "    if request.method == 'POST':\n",
    "        return redirect(url_for('success'))\n",
    "    else:\n",
    "        return redirect(url_for('success'))\n",
    "\n",
    "if __name__ == '__main__':\n",
    "    app.run()"
   ]
  },
  {
   "cell_type": "code",
   "execution_count": null,
   "metadata": {},
   "outputs": [],
   "source": []
  },
  {
   "cell_type": "code",
   "execution_count": null,
   "metadata": {},
   "outputs": [],
   "source": [
    "## vue 환경을 구축합니다.\n",
    "## 필요에 따라 vscode 를 설치합니다."
   ]
  },
  {
   "cell_type": "code",
   "execution_count": null,
   "metadata": {},
   "outputs": [],
   "source": [
    "## 준비되어 있는 vue 를 구동시켜봅시다."
   ]
  },
  {
   "cell_type": "code",
   "execution_count": 13,
   "metadata": {},
   "outputs": [],
   "source": [
    "## npm install\n",
    "## 이후 npm run serve"
   ]
  },
  {
   "cell_type": "code",
   "execution_count": 5,
   "metadata": {},
   "outputs": [
    {
     "name": "stdout",
     "output_type": "stream",
     "text": [
      " * Serving Flask app \"__main__\" (lazy loading)\n",
      " * Environment: production\n",
      "   WARNING: This is a development server. Do not use it in a production deployment.\n",
      "   Use a production WSGI server instead.\n",
      " * Debug mode: off\n"
     ]
    },
    {
     "name": "stderr",
     "output_type": "stream",
     "text": [
      " * Running on http://127.0.0.1:5000/ (Press CTRL+C to quit)\n",
      "127.0.0.1 - - [11/Jun/2022 19:08:34] \"\u001b[37mOPTIONS /vueMember/register HTTP/1.1\u001b[0m\" 200 -\n",
      "127.0.0.1 - - [11/Jun/2022 19:08:34] \"\u001b[37mPOST /vueMember/register HTTP/1.1\u001b[0m\" 200 -\n"
     ]
    },
    {
     "name": "stdout",
     "output_type": "stream",
     "text": [
      "params:  {'id': 'hello', 'pw': 'hello'}\n",
      "params[key]:  hello  key:  id\n",
      "params[key]:  hello  key:  pw\n",
      "hello 님 가입이 완료되었습니다!\n"
     ]
    }
   ],
   "source": [
    "from flask import Flask, url_for, request, jsonify\n",
    "from flask_cors import CORS, cross_origin\n",
    "\n",
    "import json\n",
    "\n",
    "app = Flask(__name__)\n",
    "CORS(app)\n",
    "\n",
    "@app.route('/vueMember/register',methods = ['POST'])\n",
    "def register():\n",
    "    # 낮은 버전의 파이썬\n",
    "    params = json.loads(request.get_data(), encoding='utf-8')\n",
    "    # 최신 버전의 파이썬 3.9\n",
    "    #params = json.loads(request.get_data())\n",
    "    print(\"params: \", params)\n",
    "        \n",
    "    if len(params) == 0:\n",
    "        return jsonify(\"No Parameter\")\n",
    "    \n",
    "    for key in params.keys():\n",
    "        print(\"params[key]: \", params[key], \" key: \", key)\n",
    "        \n",
    "    send_string = params.get('id') + \" 님 가입이 완료되었습니다!\"\n",
    "    print(send_string)\n",
    "    \n",
    "    return jsonify(send_string)\n",
    "\n",
    "if __name__ == '__main__':\n",
    "    app.run()"
   ]
  },
  {
   "cell_type": "code",
   "execution_count": null,
   "metadata": {},
   "outputs": [],
   "source": []
  },
  {
   "cell_type": "code",
   "execution_count": null,
   "metadata": {},
   "outputs": [],
   "source": []
  },
  {
   "cell_type": "code",
   "execution_count": null,
   "metadata": {},
   "outputs": [],
   "source": [
    "## 이번에는 DB에 데이터를 넣어보자!!!"
   ]
  },
  {
   "cell_type": "code",
   "execution_count": null,
   "metadata": {},
   "outputs": [],
   "source": [
    "## 먼저 Ubuntu에 MySQL을 설치한다.\n",
    "# 소프트웨어 패키지 업데이트\n",
    "!sudo apt-get update"
   ]
  },
  {
   "cell_type": "code",
   "execution_count": null,
   "metadata": {},
   "outputs": [],
   "source": [
    "# 설치\n",
    "!sudo apt-get install mysql-server"
   ]
  },
  {
   "cell_type": "code",
   "execution_count": null,
   "metadata": {},
   "outputs": [],
   "source": [
    "# 방화벽 해제\n",
    "!sudo ufw allow mysql"
   ]
  },
  {
   "cell_type": "code",
   "execution_count": null,
   "metadata": {},
   "outputs": [],
   "source": [
    "# MySQL 서비스 재시작(스펙이 떨어지는 경우 권장하지 않음)\n",
    "#!sudo systemctl enable mysql"
   ]
  },
  {
   "cell_type": "code",
   "execution_count": null,
   "metadata": {},
   "outputs": [],
   "source": [
    "# 파이썬 패키지 설치\n",
    "!pip install pymysql"
   ]
  },
  {
   "cell_type": "code",
   "execution_count": 6,
   "metadata": {},
   "outputs": [],
   "source": [
    "import pymysql"
   ]
  },
  {
   "cell_type": "code",
   "execution_count": 7,
   "metadata": {},
   "outputs": [],
   "source": [
    "MYSQL_USER_DATA_SAVED_FILE = \"res/mysql/userinfo\""
   ]
  },
  {
   "cell_type": "code",
   "execution_count": 8,
   "metadata": {},
   "outputs": [],
   "source": [
    "# Linux\n",
    "!mkdir -p res/mysql/\n",
    "\n",
    "# Windows\n",
    "#!mkdir res\\mysql"
   ]
  },
  {
   "cell_type": "code",
   "execution_count": 9,
   "metadata": {},
   "outputs": [
    {
     "name": "stdout",
     "output_type": "stream",
     "text": [
      "python_snippets.ipynb  res\r\n"
     ]
    }
   ],
   "source": [
    "!ls"
   ]
  },
  {
   "cell_type": "code",
   "execution_count": null,
   "metadata": {},
   "outputs": [],
   "source": [
    "# mysql 계정을 만들어야함\n",
    "# sudo mysql -u root -p\n",
    "# create schema `pydb` default character set utf8;\n",
    "# create user eddi@localhost identified by 'eddi@123';\n",
    "# grant all privileges on pydb.* to eddi@localhost;\n",
    "# flush privileges;"
   ]
  },
  {
   "cell_type": "code",
   "execution_count": 10,
   "metadata": {},
   "outputs": [],
   "source": [
    "import pickle\n",
    "\n",
    "mysql_user_info = dict({\n",
    "    'user_id': 'eddi',\n",
    "    'password': 'eddi@123'\n",
    "})\n",
    "\n",
    "f = open(MYSQL_USER_DATA_SAVED_FILE, 'wb')\n",
    "pickle.dump(mysql_user_info, f)\n",
    "f.close()\n",
    "\n",
    "del mysql_user_info"
   ]
  },
  {
   "cell_type": "code",
   "execution_count": 12,
   "metadata": {},
   "outputs": [
    {
     "name": "stdout",
     "output_type": "stream",
     "text": [
      "userinfo\r\n"
     ]
    }
   ],
   "source": [
    "!ls res/mysql"
   ]
  },
  {
   "cell_type": "code",
   "execution_count": 14,
   "metadata": {},
   "outputs": [],
   "source": [
    "import pickle\n",
    "\n",
    "f = open(MYSQL_USER_DATA_SAVED_FILE, 'rb')\n",
    "mysql_user_info = pickle.load(f)\n",
    "f.close()"
   ]
  },
  {
   "cell_type": "code",
   "execution_count": null,
   "metadata": {},
   "outputs": [],
   "source": []
  },
  {
   "cell_type": "code",
   "execution_count": null,
   "metadata": {},
   "outputs": [],
   "source": [
    "# 전용 스키마를 생성해야 한다.\n",
    "# create schema `pydb` default character set utf8mb4;\n",
    "# grant all privileges on pydb.* to eddi@localhost;\n",
    "# flush privileges;"
   ]
  },
  {
   "cell_type": "code",
   "execution_count": 16,
   "metadata": {},
   "outputs": [
    {
     "name": "stdout",
     "output_type": "stream",
     "text": [
      "<pymysql.connections.Connection object at 0x7f7fb2c3b650>\n"
     ]
    }
   ],
   "source": [
    "# DB 연결\n",
    "db = pymysql.connect(\n",
    "    # localhost와 같은 아이피 주소임\n",
    "    host = '127.0.0.1',\n",
    "    # MySQL의 포트 번호\n",
    "    port = 3306,\n",
    "    # 아뒤\n",
    "    user = mysql_user_info['user_id'],\n",
    "    # 비번\n",
    "    passwd = mysql_user_info['password'],\n",
    "    # 사용하려는 스키마\n",
    "    db = 'pydb'\n",
    ")\n",
    "\n",
    "print(db)"
   ]
  },
  {
   "cell_type": "code",
   "execution_count": 17,
   "metadata": {},
   "outputs": [
    {
     "name": "stdout",
     "output_type": "stream",
     "text": [
      "<pymysql.cursors.Cursor object at 0x7f7fb2c39c10>\n"
     ]
    }
   ],
   "source": [
    "# 이제 DB에서 select 등을 수행했을때\n",
    "# 나오는 결과를 순회할 수 있도록 지원하는 객체를 가져온다.\n",
    "cursor = db.cursor()\n",
    "\n",
    "print(cursor)"
   ]
  },
  {
   "cell_type": "code",
   "execution_count": 18,
   "metadata": {},
   "outputs": [
    {
     "name": "stdout",
     "output_type": "stream",
     "text": [
      "테이블 생성 성공!\n"
     ]
    }
   ],
   "source": [
    "# MySQL 수동 쿼리를 적용하여 table을 생성해보도록 한다.\n",
    "sql = \"\"\"\n",
    "    create table pydbtest(\n",
    "        id int unsigned not null auto_increment,\n",
    "        name varchar(20) not null,\n",
    "        price int not null,\n",
    "        primary key(id)\n",
    "    )\n",
    "\"\"\"\n",
    "\n",
    "# 실제 SQL Query를 실행하는 코드\n",
    "cursor.execute(sql)\n",
    "\n",
    "# 작업한 내용을 실제 DB에 적용함\n",
    "db.commit()\n",
    "\n",
    "# 작업 완료 이후 DB 연결을 끊는다.\n",
    "db.close()\n",
    "\n",
    "print(\"테이블 생성 성공!\")"
   ]
  },
  {
   "cell_type": "code",
   "execution_count": 19,
   "metadata": {},
   "outputs": [
    {
     "name": "stdout",
     "output_type": "stream",
     "text": [
      "테이블에 값 넣기 성공!\n"
     ]
    }
   ],
   "source": [
    "# insert 처리\n",
    "db = pymysql.connect(\n",
    "    host = '127.0.0.1',\n",
    "    port = 3306,\n",
    "    user = mysql_user_info['user_id'],\n",
    "    passwd = mysql_user_info['password'],\n",
    "    db = 'pydb'\n",
    ")\n",
    "\n",
    "cursor = db.cursor()\n",
    "\n",
    "sql = \"\"\"\n",
    "    insert into pydbtest(name, price) values (%s, %s)\n",
    "\"\"\"\n",
    "\n",
    "# %s에 해당하는 데이터들을 배치한다.\n",
    "cursor.execute(sql, ('Xeon Server', 10000000))\n",
    "cursor.execute(sql, ('FPGA Server', 34000000))\n",
    "cursor.execute(sql, ('GPU Server', 20000000))\n",
    "cursor.execute(sql, ('RTX 3090', 4000000))\n",
    "\n",
    "db.commit()\n",
    "\n",
    "db.close()\n",
    "\n",
    "print(\"테이블에 값 넣기 성공!\")"
   ]
  },
  {
   "cell_type": "code",
   "execution_count": 20,
   "metadata": {},
   "outputs": [
    {
     "name": "stdout",
     "output_type": "stream",
     "text": [
      "((1, 'Xeon Server', 10000000), (2, 'FPGA Server', 34000000), (3, 'GPU Server', 20000000), (4, 'RTX 3090', 4000000))\n",
      "데이터 불러오기 성공!\n"
     ]
    }
   ],
   "source": [
    "# select(값 가져오기)\n",
    "db = pymysql.connect(\n",
    "    host = '127.0.0.1',\n",
    "    port = 3306,\n",
    "    user = mysql_user_info['user_id'],\n",
    "    passwd = mysql_user_info['password'],\n",
    "    db = 'pydb'\n",
    ")\n",
    "\n",
    "cursor = db.cursor()\n",
    "\n",
    "sql = \"\"\"\n",
    "    select * from pydbtest;\n",
    "\"\"\"\n",
    "\n",
    "cursor.execute(sql)\n",
    "\n",
    "# cursor를 통해 가져온 모든 데이터를 rows에 배치한다.\n",
    "rows = cursor.fetchall()\n",
    "print(rows)\n",
    "\n",
    "db.close()\n",
    "\n",
    "print(\"데이터 불러오기 성공!\")"
   ]
  },
  {
   "cell_type": "code",
   "execution_count": 52,
   "metadata": {},
   "outputs": [
    {
     "name": "stdout",
     "output_type": "stream",
     "text": [
      "(1, 'Xeon Server', 10000000)\n",
      "(2, 'FPGA Server', 34000000)\n",
      "(3, 'GPU Server', 20000000)\n",
      "(4, 'RTX 3090', 4000000)\n",
      "데이터 낱개로 불러오기 성공!\n"
     ]
    }
   ],
   "source": [
    "# select(값 가져오기) 낱개로 가져오기\n",
    "db = pymysql.connect(\n",
    "    host = '127.0.0.1',\n",
    "    port = 3306,\n",
    "    user = mysql_user_info['user_id'],\n",
    "    passwd = mysql_user_info['password'],\n",
    "    db = 'pydb'\n",
    ")\n",
    "\n",
    "cursor = db.cursor()\n",
    "\n",
    "sql = \"\"\"\n",
    "    select * from pydbtest;\n",
    "\"\"\"\n",
    "\n",
    "cursor.execute(sql)\n",
    "\n",
    "# cursor를 통해 가져온 모든 데이터를 rows에 배치한다.\n",
    "rows = cursor.fetchall()\n",
    "\n",
    "for row in rows:\n",
    "    print(row)\n",
    "\n",
    "db.close()\n",
    "\n",
    "print(\"데이터 낱개로 불러오기 성공!\")"
   ]
  },
  {
   "cell_type": "code",
   "execution_count": 21,
   "metadata": {},
   "outputs": [
    {
     "name": "stdout",
     "output_type": "stream",
     "text": [
      "id:  1 , name:  Xeon Server , price:  10000000\n",
      "id:  2 , name:  FPGA Server , price:  34000000\n",
      "id:  3 , name:  GPU Server , price:  20000000\n",
      "id:  4 , name:  RTX 3090 , price:  4000000\n",
      "데이터 낱개로 불러와 특정값 추출하기 성공!\n"
     ]
    }
   ],
   "source": [
    "# 낱개 내에서 각각의 데이터를 얻기(딕셔너리 형식이라 키값으로 뽑으면 됨)\n",
    "# select(값 가져오기) 낱개로 가져오기\n",
    "db = pymysql.connect(\n",
    "    host = '127.0.0.1',\n",
    "    port = 3306,\n",
    "    user = mysql_user_info['user_id'],\n",
    "    passwd = mysql_user_info['password'],\n",
    "    db = 'pydb'\n",
    ")\n",
    "\n",
    "cursor = db.cursor(pymysql.cursors.DictCursor)\n",
    "\n",
    "sql = \"\"\"\n",
    "    select * from pydbtest;\n",
    "\"\"\"\n",
    "\n",
    "cursor.execute(sql)\n",
    "\n",
    "# cursor를 통해 가져온 모든 데이터를 rows에 배치한다.\n",
    "rows = cursor.fetchall()\n",
    "\n",
    "for row in rows:\n",
    "    print('id: ', row['id'], ', name: ', row['name'], ', price: ', row['price'])\n",
    "\n",
    "db.close()\n",
    "\n",
    "print(\"데이터 낱개로 불러와 특정값 추출하기 성공!\")"
   ]
  },
  {
   "cell_type": "code",
   "execution_count": 22,
   "metadata": {},
   "outputs": [
    {
     "name": "stdout",
     "output_type": "stream",
     "text": [
      "테이블 삭제 성공!\n"
     ]
    }
   ],
   "source": [
    "# 입력한 데이터값 정리하기(테이블 삭제)\n",
    "db = pymysql.connect(\n",
    "    host = '127.0.0.1',\n",
    "    port = 3306,\n",
    "    user = mysql_user_info['user_id'],\n",
    "    passwd = mysql_user_info['password'],\n",
    "    db = 'pydb'\n",
    ")\n",
    "\n",
    "cursor = db.cursor()\n",
    "\n",
    "sql = \"\"\"\n",
    "    drop table pydbtest;\n",
    "\"\"\"\n",
    "\n",
    "cursor.execute(sql)\n",
    "\n",
    "db.commit()\n",
    "db.close()\n",
    "\n",
    "print(\"테이블 삭제 성공!\")"
   ]
  },
  {
   "cell_type": "code",
   "execution_count": 2,
   "metadata": {},
   "outputs": [],
   "source": [
    "import pickle\n",
    "import pymysql\n",
    "\n",
    "MYSQL_USER_DATA_SAVED_FILE = \"res/mysql/userinfo\"\n",
    "\n",
    "f = open(MYSQL_USER_DATA_SAVED_FILE, 'rb')\n",
    "mysql_user_info = pickle.load(f)\n",
    "f.close()"
   ]
  },
  {
   "cell_type": "code",
   "execution_count": 3,
   "metadata": {},
   "outputs": [
    {
     "name": "stdout",
     "output_type": "stream",
     "text": [
      "float 형식의 테이블 생성 성공!\n"
     ]
    }
   ],
   "source": [
    "# 소수점 데이터 처리하기!\n",
    "db = pymysql.connect(\n",
    "    host = '127.0.0.1',\n",
    "    port = 3306,\n",
    "    user = mysql_user_info['user_id'],\n",
    "    passwd = mysql_user_info['password'],\n",
    "    db = 'pydb'\n",
    ")\n",
    "\n",
    "cursor = db.cursor()\n",
    "\n",
    "sql = \"\"\"\n",
    "    create table power_data(\n",
    "        no integer not null auto_increment primary key,\n",
    "        voltage float not null,\n",
    "        current float not null,\n",
    "        vendor text null,\n",
    "        name text not null,\n",
    "        reg_date timestamp not null default now()\n",
    "    )\n",
    "\"\"\"\n",
    "\n",
    "cursor.execute(sql)\n",
    "db.commit()\n",
    "db.close()\n",
    "\n",
    "print(\"float 형식의 테이블 생성 성공!\")"
   ]
  },
  {
   "cell_type": "code",
   "execution_count": 4,
   "metadata": {},
   "outputs": [],
   "source": [
    "import time\n",
    "import math\n",
    "import calendar\n",
    "import datetime\n",
    "import numpy as np"
   ]
  },
  {
   "cell_type": "code",
   "execution_count": 5,
   "metadata": {},
   "outputs": [
    {
     "name": "stdout",
     "output_type": "stream",
     "text": [
      "[0.000e+00 1.000e-03 2.000e-03 ... 9.997e+00 9.998e+00 9.999e+00]\n"
     ]
    }
   ],
   "source": [
    "sample_time = np.arange(0, 10, 0.001)\n",
    "\n",
    "print(sample_time)"
   ]
  },
  {
   "cell_type": "code",
   "execution_count": 7,
   "metadata": {},
   "outputs": [
    {
     "name": "stdout",
     "output_type": "stream",
     "text": [
      "10000\n"
     ]
    }
   ],
   "source": [
    "print(sample_time.size)"
   ]
  },
  {
   "cell_type": "code",
   "execution_count": 8,
   "metadata": {},
   "outputs": [
    {
     "name": "stdout",
     "output_type": "stream",
     "text": [
      "[-0.65622324  1.88266491  0.38587387 ...  0.53810375 -0.53637159\n",
      " -1.06472653]\n"
     ]
    }
   ],
   "source": [
    "# 가우시안 분포(정규 분포) 형식을 따르는 랜덤을 만듬\n",
    "# 용어 필요 없고 데이터 개수에 따른 랜덤을 적절하게 만들어줌(자연스럽게)\n",
    "noise = np.random.normal(size = len(sample_time))\n",
    "\n",
    "print(noise)"
   ]
  },
  {
   "cell_type": "code",
   "execution_count": 9,
   "metadata": {},
   "outputs": [
    {
     "name": "stdout",
     "output_type": "stream",
     "text": [
      "[2.34377676 4.88262741 3.38572387 ... 3.42086974 2.35051064 1.82619977]\n",
      "[ 1.94185297  4.48522942  2.99290326 ... -0.56832776 -1.63443259\n",
      " -2.15440714]\n"
     ]
    }
   ],
   "source": [
    "# 2 * pi * f = w = 5 ===> f = 5 / (2 * pi)\n",
    "voltage = 3 * np.cos(5 * sample_time) + noise\n",
    "current = 3 * np.sin(3 * sample_time + (math.pi / 3)) + noise\n",
    "\n",
    "print(voltage)\n",
    "print(current)"
   ]
  },
  {
   "cell_type": "code",
   "execution_count": null,
   "metadata": {},
   "outputs": [],
   "source": [
    "!pip install matplotlib"
   ]
  },
  {
   "cell_type": "code",
   "execution_count": 10,
   "metadata": {},
   "outputs": [],
   "source": [
    "import matplotlib.pyplot as plt"
   ]
  },
  {
   "cell_type": "code",
   "execution_count": 11,
   "metadata": {},
   "outputs": [
    {
     "data": {
      "image/png": "[encoded data removed]",
      "text/plain": [
       "<Figure size 432x288 with 1 Axes>"
      ]
     },
     "metadata": {
      "needs_background": "light"
     },
     "output_type": "display_data"
    }
   ],
   "source": [
    "plt.plot(sample_time, voltage)\n",
    "plt.show()"
   ]
  },
  {
   "cell_type": "code",
   "execution_count": 12,
   "metadata": {},
   "outputs": [
    {
     "data": {
      "image/png": "[encoded data removed]",
      "text/plain": [
       "<Figure size 432x288 with 1 Axes>"
      ]
     },
     "metadata": {
      "needs_background": "light"
     },
     "output_type": "display_data"
    }
   ],
   "source": [
    "plt.plot(sample_time, current)\n",
    "plt.show()"
   ]
  },
  {
   "cell_type": "code",
   "execution_count": 13,
   "metadata": {},
   "outputs": [
    {
     "name": "stdout",
     "output_type": "stream",
     "text": [
      "1655544361\n",
      "[1.65554436e+09 1.65554436e+09 1.65554436e+09 ... 1.65555436e+09\n",
      " 1.65555436e+09 1.65555436e+09]\n"
     ]
    }
   ],
   "source": [
    "# 현재 시간값을 컴퓨터가 계산하고 있는 수치로 가져옴\n",
    "ts = calendar.timegm(time.gmtime())\n",
    "\n",
    "print(ts)\n",
    "\n",
    "# sample_time이 이미 1000개짜리 배열이므로\n",
    "# 곱셈을 수행할 경우 알아서 1000개 배열에 1000씩 곱해짐(자동으로)\n",
    "# 샘플 타임이 0.001초(1 / 1000 초)를 대상으로 하고 있음\n",
    "# 전체 샘플 타임의 개수는 10000개(만개)이므로 1 / 1000 초 단위 샘플링을 하면\n",
    "# 10000 / 1000 = 10초간의 데이터를 수집함을 의미함\n",
    "ts = (sample_time * 1000) + ts\n",
    "\n",
    "print(ts)"
   ]
  },
  {
   "cell_type": "code",
   "execution_count": 14,
   "metadata": {},
   "outputs": [],
   "source": [
    "# 실제 db에 넣기 위해 상호간의 데이터 타입을 np.float32로 맞춰줌(이것을 해줘야 DB에 입력 가능함)\n",
    "sample_time = np.array(sample_time, dtype=np.float32)\n",
    "voltage = np.array(voltage, dtype=np.float32)\n",
    "current = np.array(current, dtype=np.float32)"
   ]
  },
  {
   "cell_type": "code",
   "execution_count": 15,
   "metadata": {},
   "outputs": [
    {
     "name": "stdout",
     "output_type": "stream",
     "text": [
      "['2022-06-18 18:26:01', '2022-06-18 18:26:02', '2022-06-18 18:26:03', '2022-06-18 18:26:04', '2022-06-18 18:26:05', '2022-06-18 18:26:06', '2022-06-18 18:26:07', '2022-06-18 18:26:08', '2022-06-18 18:26:09', '2022-06-18 18:26:10', '2022-06-18 18:26:11', '2022-06-18 18:26:12', '2022-06-18 18:26:13', '2022-06-18 18:26:14', '2022-06-18 18:26:15', '2022-06-18 18:26:16', '2022-06-18 18:26:17', '2022-06-18 18:26:18', '2022-06-18 18:26:19', '2022-06-18 18:26:20', '2022-06-18 18:26:21', '2022-06-18 18:26:22', '2022-06-18 18:26:23', '2022-06-18 18:26:24', '2022-06-18 18:26:25', '2022-06-18 18:26:26', '2022-06-18 18:26:27', '2022-06-18 18:26:28', '2022-06-18 18:26:29', '2022-06-18 18:26:30', '2022-06-18 18:26:31', '2022-06-18 18:26:32', '2022-06-18 18:26:33', '2022-06-18 18:26:34', '2022-06-18 18:26:35', '2022-06-18 18:26:36', '2022-06-18 18:26:37', '2022-06-18 18:26:38', '2022-06-18 18:26:39', '2022-06-18 18:26:40', '2022-06-18 18:26:41', '2022-06-18 18:26:42', '2022-06-18 18:26:43', '2022-06-18 18:26:44', '2022-06-18 18:26:45', '2022-06-18 18:26:46', '2022-06-18 18:26:47', '2022-06-18 18:26:48', '2022-06-18 18:26:49', '2022-06-18 18:26:50', '2022-06-18 18:26:51', '2022-06-18 18:26:52', '2022-06-18 18:26:53', '2022-06-18 18:26:54', '2022-06-18 18:26:55', '2022-06-18 18:26:56', '2022-06-18 18:26:57', '2022-06-18 18:26:58', '2022-06-18 18:26:59', '2022-06-18 18:27:00', '2022-06-18 18:27:01', '2022-06-18 18:27:02', '2022-06-18 18:27:03', '2022-06-18 18:27:04', '2022-06-18 18:27:05', '2022-06-18 18:27:06', '2022-06-18 18:27:07', '2022-06-18 18:27:08', '2022-06-18 18:27:09', '2022-06-18 18:27:10', '2022-06-18 18:27:11', '2022-06-18 18:27:12', '2022-06-18 18:27:13', '2022-06-18 18:27:14', '2022-06-18 18:27:15', '2022-06-18 18:27:16', '2022-06-18 18:27:17', '2022-06-18 18:27:18', '2022-06-18 18:27:19', '2022-06-18 18:27:20', '2022-06-18 18:27:21', '2022-06-18 18:27:22', '2022-06-18 18:27:23', '2022-06-18 18:27:24', '2022-06-18 18:27:25', '2022-06-18 18:27:26', '2022-06-18 18:27:27', '2022-06-18 18:27:28', '2022-06-18 18:27:29', '2022-06-18 18:27:30', '2022-06-18 18:27:31', '2022-06-18 18:27:32', '2022-06-18 18:27:33', '2022-06-18 18:27:34', '2022-06-18 18:27:35', '2022-06-18 18:27:36', '2022-06-18 18:27:37', '2022-06-18 18:27:38', '2022-06-18 18:27:39', '2022-06-18 18:27:40', '2022-06-18 18:27:41', '2022-06-18 18:27:42', '2022-06-18 18:27:43', '2022-06-18 18:27:44', '2022-06-18 18:27:45', '2022-06-18 18:27:46', '2022-06-18 18:27:47', '2022-06-18 18:27:48', '2022-06-18 18:27:49', '2022-06-18 18:27:50', '2022-06-18 18:27:51', '2022-06-18 18:27:52', '2022-06-18 18:27:53', '2022-06-18 18:27:54', '2022-06-18 18:27:55', '2022-06-18 18:27:56', '2022-06-18 18:27:57', '2022-06-18 18:27:58', '2022-06-18 18:27:59', '2022-06-18 18:28:00', '2022-06-18 18:28:01', '2022-06-18 18:28:02', '2022-06-18 18:28:03', '2022-06-18 18:28:04', '2022-06-18 18:28:05', '2022-06-18 18:28:06', '2022-06-18 18:28:07', '2022-06-18 18:28:08', '2022-06-18 18:28:09', '2022-06-18 18:28:10', '2022-06-18 18:28:11', '2022-06-18 18:28:12', '2022-06-18 18:28:13', '2022-06-18 18:28:14', '2022-06-18 18:28:15', '2022-06-18 18:28:16', '2022-06-18 18:28:17', '2022-06-18 18:28:18', '2022-06-18 18:28:19', '2022-06-18 18:28:20', '2022-06-18 18:28:21', '2022-06-18 18:28:22', '2022-06-18 18:28:23', '2022-06-18 18:28:24', '2022-06-18 18:28:25', '2022-06-18 18:28:26', '2022-06-18 18:28:27', '2022-06-18 18:28:28', '2022-06-18 18:28:29', '2022-06-18 18:28:30', '2022-06-18 18:28:31', '2022-06-18 18:28:32', '2022-06-18 18:28:33', '2022-06-18 18:28:34', '2022-06-18 18:28:35', '2022-06-18 18:28:36', '2022-06-18 18:28:37', '2022-06-18 18:28:38', '2022-06-18 18:28:39', '2022-06-18 18:28:40', '2022-06-18 18:28:41', '2022-06-18 18:28:42', '2022-06-18 18:28:43', '2022-06-18 18:28:44', '2022-06-18 18:28:45', '2022-06-18 18:28:46', '2022-06-18 18:28:47', '2022-06-18 18:28:48', '2022-06-18 18:28:49', '2022-06-18 18:28:50', '2022-06-18 18:28:51', '2022-06-18 18:28:52', '2022-06-18 18:28:53', '2022-06-18 18:28:54', '2022-06-18 18:28:55', '2022-06-18 18:28:56', '2022-06-18 18:28:57', '2022-06-18 18:28:58', '2022-06-18 18:28:59', '2022-06-18 18:29:00', '2022-06-18 18:29:01', '2022-06-18 18:29:02', '2022-06-18 18:29:03', '2022-06-18 18:29:04', '2022-06-18 18:29:05', '2022-06-18 18:29:06', '2022-06-18 18:29:07', '2022-06-18 18:29:08', '2022-06-18 18:29:09', '2022-06-18 18:29:10', '2022-06-18 18:29:11', '2022-06-18 18:29:12', '2022-06-18 18:29:13', '2022-06-18 18:29:14', '2022-06-18 18:29:15', '2022-06-18 18:29:16', '2022-06-18 18:29:17', '2022-06-18 18:29:18', '2022-06-18 18:29:19', '2022-06-18 18:29:20', '2022-06-18 18:29:21', '2022-06-18 18:29:22', '2022-06-18 18:29:23', '2022-06-18 18:29:24', '2022-06-18 18:29:25', '2022-06-18 18:29:26', '2022-06-18 18:29:27', '2022-06-18 18:29:28', '2022-06-18 18:29:29', '2022-06-18 18:29:30', '2022-06-18 18:29:31', '2022-06-18 18:29:32', '2022-06-18 18:29:33', '2022-06-18 18:29:34', '2022-06-18 18:29:35', '2022-06-18 18:29:36', '2022-06-18 18:29:37', '2022-06-18 18:29:38', '2022-06-18 18:29:39', '2022-06-18 18:29:40', '2022-06-18 18:29:41', '2022-06-18 18:29:42', '2022-06-18 18:29:43', '2022-06-18 18:29:44', '2022-06-18 18:29:45', '2022-06-18 18:29:46', '2022-06-18 18:29:47', '2022-06-18 18:29:48', '2022-06-18 18:29:49', '2022-06-18 18:29:50', '2022-06-18 18:29:51', '2022-06-18 18:29:52', '2022-06-18 18:29:53', '2022-06-18 18:29:54', '2022-06-18 18:29:55', '2022-06-18 18:29:56', '2022-06-18 18:29:57', '2022-06-18 18:29:58', '2022-06-18 18:29:59', '2022-06-18 18:30:00', '2022-06-18 18:30:01', '2022-06-18 18:30:02', '2022-06-18 18:30:03', '2022-06-18 18:30:04', '2022-06-18 18:30:05', '2022-06-18 18:30:06', '2022-06-18 18:30:07', '2022-06-18 18:30:08', '2022-06-18 18:30:09', '2022-06-18 18:30:10', '2022-06-18 18:30:11', '2022-06-18 18:30:12', '2022-06-18 18:30:13', '2022-06-18 18:30:14', '2022-06-18 18:30:15', '2022-06-18 18:30:16', '2022-06-18 18:30:17', '2022-06-18 18:30:18', '2022-06-18 18:30:19', '2022-06-18 18:30:20', '2022-06-18 18:30:21', '2022-06-18 18:30:22', '2022-06-18 18:30:23', '2022-06-18 18:30:24', '2022-06-18 18:30:25', '2022-06-18 18:30:26', '2022-06-18 18:30:27', '2022-06-18 18:30:28', '2022-06-18 18:30:29', '2022-06-18 18:30:30', '2022-06-18 18:30:31', '2022-06-18 18:30:32', '2022-06-18 18:30:33', '2022-06-18 18:30:34', '2022-06-18 18:30:35', '2022-06-18 18:30:36', '2022-06-18 18:30:37', '2022-06-18 18:30:38', '2022-06-18 18:30:39', '2022-06-18 18:30:40', '2022-06-18 18:30:41', '2022-06-18 18:30:42', '2022-06-18 18:30:43', '2022-06-18 18:30:44', '2022-06-18 18:30:45', '2022-06-18 18:30:46', '2022-06-18 18:30:47', '2022-06-18 18:30:48', '2022-06-18 18:30:49', '2022-06-18 18:30:50', '2022-06-18 18:30:51', '2022-06-18 18:30:52', '2022-06-18 18:30:53', '2022-06-18 18:30:54', '2022-06-18 18:30:55', '2022-06-18 18:30:56', '2022-06-18 18:30:57', '2022-06-18 18:30:58', '2022-06-18 18:30:59', '2022-06-18 18:31:00', '2022-06-18 18:31:01', '2022-06-18 18:31:02', '2022-06-18 18:31:03', '2022-06-18 18:31:04', '2022-06-18 18:31:05', '2022-06-18 18:31:06', '2022-06-18 18:31:07', '2022-06-18 18:31:08', '2022-06-18 18:31:09', '2022-06-18 18:31:10', '2022-06-18 18:31:11', '2022-06-18 18:31:12', '2022-06-18 18:31:13', '2022-06-18 18:31:14', '2022-06-18 18:31:15', '2022-06-18 18:31:16', '2022-06-18 18:31:17', '2022-06-18 18:31:18', '2022-06-18 18:31:19', '2022-06-18 18:31:20', '2022-06-18 18:31:21', '2022-06-18 18:31:22', '2022-06-18 18:31:23', '2022-06-18 18:31:24', '2022-06-18 18:31:25', '2022-06-18 18:31:26', '2022-06-18 18:31:27', '2022-06-18 18:31:28', '2022-06-18 18:31:29', '2022-06-18 18:31:30', '2022-06-18 18:31:31', '2022-06-18 18:31:32', '2022-06-18 18:31:33', '2022-06-18 18:31:34', '2022-06-18 18:31:35', '2022-06-18 18:31:36', '2022-06-18 18:31:37', '2022-06-18 18:31:38', '2022-06-18 18:31:39', '2022-06-18 18:31:40', '2022-06-18 18:31:41', '2022-06-18 18:31:42', '2022-06-18 18:31:43', '2022-06-18 18:31:44', '2022-06-18 18:31:45', '2022-06-18 18:31:46', '2022-06-18 18:31:47', '2022-06-18 18:31:48', '2022-06-18 18:31:49', '2022-06-18 18:31:50', '2022-06-18 18:31:51', '2022-06-18 18:31:52', '2022-06-18 18:31:53', '2022-06-18 18:31:54', '2022-06-18 18:31:55', '2022-06-18 18:31:56', '2022-06-18 18:31:57', '2022-06-18 18:31:58', '2022-06-18 18:31:59', '2022-06-18 18:32:00', '2022-06-18 18:32:01', '2022-06-18 18:32:02', '2022-06-18 18:32:03', '2022-06-18 18:32:04', '2022-06-18 18:32:05', '2022-06-18 18:32:06', '2022-06-18 18:32:07', '2022-06-18 18:32:08', '2022-06-18 18:32:09', '2022-06-18 18:32:10', '2022-06-18 18:32:11', '2022-06-18 18:32:12', '2022-06-18 18:32:13', '2022-06-18 18:32:14', '2022-06-18 18:32:15', '2022-06-18 18:32:16', '2022-06-18 18:32:17', '2022-06-18 18:32:18', '2022-06-18 18:32:19', '2022-06-18 18:32:20', '2022-06-18 18:32:21', '2022-06-18 18:32:22', '2022-06-18 18:32:23', '2022-06-18 18:32:24', '2022-06-18 18:32:25', '2022-06-18 18:32:26', '2022-06-18 18:32:27', '2022-06-18 18:32:28', '2022-06-18 18:32:29', '2022-06-18 18:32:30', '2022-06-18 18:32:31', '2022-06-18 18:32:32', '2022-06-18 18:32:33', '2022-06-18 18:32:34', '2022-06-18 18:32:35', '2022-06-18 18:32:36', '2022-06-18 18:32:37', '2022-06-18 18:32:38', '2022-06-18 18:32:39', '2022-06-18 18:32:40', '2022-06-18 18:32:41', '2022-06-18 18:32:42', '2022-06-18 18:32:43', '2022-06-18 18:32:44', '2022-06-18 18:32:45', '2022-06-18 18:32:46', '2022-06-18 18:32:47', '2022-06-18 18:32:48', '2022-06-18 18:32:49', '2022-06-18 18:32:50', '2022-06-18 18:32:51', '2022-06-18 18:32:52', '2022-06-18 18:32:53', '2022-06-18 18:32:54', '2022-06-18 18:32:55', '2022-06-18 18:32:56', '2022-06-18 18:32:57', '2022-06-18 18:32:58', '2022-06-18 18:32:59', '2022-06-18 18:33:00', '2022-06-18 18:33:01', '2022-06-18 18:33:02', '2022-06-18 18:33:03', '2022-06-18 18:33:04', '2022-06-18 18:33:05', '2022-06-18 18:33:06', '2022-06-18 18:33:07', '2022-06-18 18:33:08', '2022-06-18 18:33:09', '2022-06-18 18:33:10', '2022-06-18 18:33:11', '2022-06-18 18:33:12', '2022-06-18 18:33:13', '2022-06-18 18:33:14', '2022-06-18 18:33:15', '2022-06-18 18:33:16', '2022-06-18 18:33:17', '2022-06-18 18:33:18', '2022-06-18 18:33:19', '2022-06-18 18:33:20', '2022-06-18 18:33:21', '2022-06-18 18:33:22', '2022-06-18 18:33:23', '2022-06-18 18:33:24', '2022-06-18 18:33:25', '2022-06-18 18:33:26', '2022-06-18 18:33:27', '2022-06-18 18:33:28', '2022-06-18 18:33:29', '2022-06-18 18:33:30', '2022-06-18 18:33:31', '2022-06-18 18:33:32', '2022-06-18 18:33:33', '2022-06-18 18:33:34', '2022-06-18 18:33:35', '2022-06-18 18:33:36', '2022-06-18 18:33:37', '2022-06-18 18:33:38', '2022-06-18 18:33:39', '2022-06-18 18:33:40', '2022-06-18 18:33:41', '2022-06-18 18:33:42', '2022-06-18 18:33:43', '2022-06-18 18:33:44', '2022-06-18 18:33:45', '2022-06-18 18:33:46', '2022-06-18 18:33:47', '2022-06-18 18:33:48', '2022-06-18 18:33:49', '2022-06-18 18:33:50', '2022-06-18 18:33:51', '2022-06-18 18:33:52', '2022-06-18 18:33:53', '2022-06-18 18:33:54', '2022-06-18 18:33:55', '2022-06-18 18:33:56', '2022-06-18 18:33:57', '2022-06-18 18:33:58', '2022-06-18 18:33:59', '2022-06-18 18:34:00', '2022-06-18 18:34:01', '2022-06-18 18:34:02', '2022-06-18 18:34:03', '2022-06-18 18:34:04', '2022-06-18 18:34:05', '2022-06-18 18:34:06', '2022-06-18 18:34:07', '2022-06-18 18:34:08', '2022-06-18 18:34:09', '2022-06-18 18:34:10', '2022-06-18 18:34:11', '2022-06-18 18:34:12', '2022-06-18 18:34:13', '2022-06-18 18:34:14', '2022-06-18 18:34:15', '2022-06-18 18:34:16', '2022-06-18 18:34:17', '2022-06-18 18:34:18', '2022-06-18 18:34:19', '2022-06-18 18:34:20', '2022-06-18 18:34:21', '2022-06-18 18:34:22', '2022-06-18 18:34:23', '2022-06-18 18:34:24', '2022-06-18 18:34:25', '2022-06-18 18:34:26', '2022-06-18 18:34:27', '2022-06-18 18:34:28', '2022-06-18 18:34:29', '2022-06-18 18:34:30', '2022-06-18 18:34:31', '2022-06-18 18:34:32', '2022-06-18 18:34:33', '2022-06-18 18:34:34', '2022-06-18 18:34:35', '2022-06-18 18:34:36', '2022-06-18 18:34:37', '2022-06-18 18:34:38', '2022-06-18 18:34:39', '2022-06-18 18:34:40', '2022-06-18 18:34:41', '2022-06-18 18:34:42', '2022-06-18 18:34:43', '2022-06-18 18:34:44', '2022-06-18 18:34:45', '2022-06-18 18:34:46', '2022-06-18 18:34:47', '2022-06-18 18:34:48', '2022-06-18 18:34:49', '2022-06-18 18:34:50', '2022-06-18 18:34:51', '2022-06-18 18:34:52', '2022-06-18 18:34:53', '2022-06-18 18:34:54', '2022-06-18 18:34:55', '2022-06-18 18:34:56', '2022-06-18 18:34:57', '2022-06-18 18:34:58', '2022-06-18 18:34:59', '2022-06-18 18:35:00', '2022-06-18 18:35:01', '2022-06-18 18:35:02', '2022-06-18 18:35:03', '2022-06-18 18:35:04', '2022-06-18 18:35:05', '2022-06-18 18:35:06', '2022-06-18 18:35:07', '2022-06-18 18:35:08', '2022-06-18 18:35:09', '2022-06-18 18:35:10', '2022-06-18 18:35:11', '2022-06-18 18:35:12', '2022-06-18 18:35:13', '2022-06-18 18:35:14', '2022-06-18 18:35:15', '2022-06-18 18:35:16', '2022-06-18 18:35:17', '2022-06-18 18:35:18', '2022-06-18 18:35:19', '2022-06-18 18:35:20', '2022-06-18 18:35:21', '2022-06-18 18:35:22', '2022-06-18 18:35:23', '2022-06-18 18:35:24', '2022-06-18 18:35:25', '2022-06-18 18:35:26', '2022-06-18 18:35:27', '2022-06-18 18:35:28', '2022-06-18 18:35:29', '2022-06-18 18:35:30', '2022-06-18 18:35:31', '2022-06-18 18:35:32', '2022-06-18 18:35:33', '2022-06-18 18:35:34', '2022-06-18 18:35:35', '2022-06-18 18:35:36', '2022-06-18 18:35:37', '2022-06-18 18:35:38', '2022-06-18 18:35:39', '2022-06-18 18:35:40', '2022-06-18 18:35:41', '2022-06-18 18:35:42', '2022-06-18 18:35:43', '2022-06-18 18:35:44', '2022-06-18 18:35:45', '2022-06-18 18:35:46', '2022-06-18 18:35:47', '2022-06-18 18:35:48', '2022-06-18 18:35:49', '2022-06-18 18:35:50', '2022-06-18 18:35:51', '2022-06-18 18:35:52', '2022-06-18 18:35:53', '2022-06-18 18:35:54', '2022-06-18 18:35:55', '2022-06-18 18:35:56', '2022-06-18 18:35:57', '2022-06-18 18:35:58', '2022-06-18 18:35:59', '2022-06-18 18:36:00', '2022-06-18 18:36:01', '2022-06-18 18:36:02', '2022-06-18 18:36:03', '2022-06-18 18:36:04', '2022-06-18 18:36:05', '2022-06-18 18:36:06', '2022-06-18 18:36:07', '2022-06-18 18:36:08', '2022-06-18 18:36:09', '2022-06-18 18:36:10', '2022-06-18 18:36:11', '2022-06-18 18:36:12', '2022-06-18 18:36:13', '2022-06-18 18:36:14', '2022-06-18 18:36:15', '2022-06-18 18:36:16', '2022-06-18 18:36:17', '2022-06-18 18:36:18', '2022-06-18 18:36:19', '2022-06-18 18:36:20', '2022-06-18 18:36:21', '2022-06-18 18:36:22', '2022-06-18 18:36:23', '2022-06-18 18:36:24', '2022-06-18 18:36:25', '2022-06-18 18:36:26', '2022-06-18 18:36:27', '2022-06-18 18:36:28', '2022-06-18 18:36:29', '2022-06-18 18:36:30', '2022-06-18 18:36:31', '2022-06-18 18:36:32', '2022-06-18 18:36:33', '2022-06-18 18:36:34', '2022-06-18 18:36:35', '2022-06-18 18:36:36', '2022-06-18 18:36:37', '2022-06-18 18:36:38', '2022-06-18 18:36:39', '2022-06-18 18:36:40', '2022-06-18 18:36:41', '2022-06-18 18:36:42', '2022-06-18 18:36:43', '2022-06-18 18:36:44', '2022-06-18 18:36:45', '2022-06-18 18:36:46', '2022-06-18 18:36:47', '2022-06-18 18:36:48', '2022-06-18 18:36:49', '2022-06-18 18:36:50', '2022-06-18 18:36:51', '2022-06-18 18:36:52', '2022-06-18 18:36:53', '2022-06-18 18:36:54', '2022-06-18 18:36:55', '2022-06-18 18:36:56', '2022-06-18 18:36:57', '2022-06-18 18:36:58', '2022-06-18 18:36:59', '2022-06-18 18:37:00', '2022-06-18 18:37:01', '2022-06-18 18:37:02', '2022-06-18 18:37:03', '2022-06-18 18:37:04', '2022-06-18 18:37:05', '2022-06-18 18:37:06', '2022-06-18 18:37:07', '2022-06-18 18:37:08', '2022-06-18 18:37:09', '2022-06-18 18:37:10', '2022-06-18 18:37:11', '2022-06-18 18:37:12', '2022-06-18 18:37:13', '2022-06-18 18:37:14', '2022-06-18 18:37:15', '2022-06-18 18:37:16', '2022-06-18 18:37:17', '2022-06-18 18:37:18', '2022-06-18 18:37:19', '2022-06-18 18:37:20', '2022-06-18 18:37:21', '2022-06-18 18:37:22', '2022-06-18 18:37:23', '2022-06-18 18:37:24', '2022-06-18 18:37:25', '2022-06-18 18:37:26', '2022-06-18 18:37:27', '2022-06-18 18:37:28', '2022-06-18 18:37:29', '2022-06-18 18:37:30', '2022-06-18 18:37:31', '2022-06-18 18:37:32', '2022-06-18 18:37:33', '2022-06-18 18:37:34', '2022-06-18 18:37:35', '2022-06-18 18:37:36', '2022-06-18 18:37:37', '2022-06-18 18:37:38', '2022-06-18 18:37:39', '2022-06-18 18:37:40', '2022-06-18 18:37:41', '2022-06-18 18:37:42', '2022-06-18 18:37:43', '2022-06-18 18:37:44', '2022-06-18 18:37:45', '2022-06-18 18:37:46', '2022-06-18 18:37:47', '2022-06-18 18:37:48', '2022-06-18 18:37:49', '2022-06-18 18:37:50', '2022-06-18 18:37:51', '2022-06-18 18:37:52', '2022-06-18 18:37:53', '2022-06-18 18:37:54', '2022-06-18 18:37:55', '2022-06-18 18:37:56', '2022-06-18 18:37:57', '2022-06-18 18:37:58', '2022-06-18 18:37:59', '2022-06-18 18:38:00', '2022-06-18 18:38:01', '2022-06-18 18:38:02', '2022-06-18 18:38:03', '2022-06-18 18:38:04', '2022-06-18 18:38:05', '2022-06-18 18:38:06', '2022-06-18 18:38:07', '2022-06-18 18:38:08', '2022-06-18 18:38:09', '2022-06-18 18:38:10', '2022-06-18 18:38:11', '2022-06-18 18:38:12', '2022-06-18 18:38:13', '2022-06-18 18:38:14', '2022-06-18 18:38:15', '2022-06-18 18:38:16', '2022-06-18 18:38:17', '2022-06-18 18:38:18', '2022-06-18 18:38:19', '2022-06-18 18:38:20', '2022-06-18 18:38:21', '2022-06-18 18:38:22', '2022-06-18 18:38:23', '2022-06-18 18:38:24', '2022-06-18 18:38:25', '2022-06-18 18:38:26', '2022-06-18 18:38:27', '2022-06-18 18:38:28', '2022-06-18 18:38:29', '2022-06-18 18:38:30', '2022-06-18 18:38:31', '2022-06-18 18:38:32', '2022-06-18 18:38:33', '2022-06-18 18:38:34', '2022-06-18 18:38:35', '2022-06-18 18:38:36', '2022-06-18 18:38:37', '2022-06-18 18:38:38', '2022-06-18 18:38:39', '2022-06-18 18:38:40', '2022-06-18 18:38:41', '2022-06-18 18:38:42', '2022-06-18 18:38:43', '2022-06-18 18:38:44', '2022-06-18 18:38:45', '2022-06-18 18:38:46', '2022-06-18 18:38:47', '2022-06-18 18:38:48', '2022-06-18 18:38:49', '2022-06-18 18:38:50', '2022-06-18 18:38:51', '2022-06-18 18:38:52', '2022-06-18 18:38:53', '2022-06-18 18:38:54', '2022-06-18 18:38:55', '2022-06-18 18:38:56', '2022-06-18 18:38:57', '2022-06-18 18:38:58', '2022-06-18 18:38:59', '2022-06-18 18:39:00', '2022-06-18 18:39:01', '2022-06-18 18:39:02', '2022-06-18 18:39:03', '2022-06-18 18:39:04', '2022-06-18 18:39:05', '2022-06-18 18:39:06', '2022-06-18 18:39:07', '2022-06-18 18:39:08', '2022-06-18 18:39:09', '2022-06-18 18:39:10', '2022-06-18 18:39:11', '2022-06-18 18:39:12', '2022-06-18 18:39:13', '2022-06-18 18:39:14', '2022-06-18 18:39:15', '2022-06-18 18:39:16', '2022-06-18 18:39:17', '2022-06-18 18:39:18', '2022-06-18 18:39:19', '2022-06-18 18:39:20', '2022-06-18 18:39:21', '2022-06-18 18:39:22', '2022-06-18 18:39:23', '2022-06-18 18:39:24', '2022-06-18 18:39:25', '2022-06-18 18:39:26', '2022-06-18 18:39:27', '2022-06-18 18:39:28', '2022-06-18 18:39:29', '2022-06-18 18:39:30', '2022-06-18 18:39:31', '2022-06-18 18:39:32', '2022-06-18 18:39:33', '2022-06-18 18:39:34', '2022-06-18 18:39:35', '2022-06-18 18:39:36', '2022-06-18 18:39:37', '2022-06-18 18:39:38', '2022-06-18 18:39:39', '2022-06-18 18:39:40', '2022-06-18 18:39:41', '2022-06-18 18:39:42', '2022-06-18 18:39:43', '2022-06-18 18:39:44', '2022-06-18 18:39:45', '2022-06-18 18:39:46', '2022-06-18 18:39:47', '2022-06-18 18:39:48', '2022-06-18 18:39:49', '2022-06-18 18:39:50', '2022-06-18 18:39:51', '2022-06-18 18:39:52', '2022-06-18 18:39:53', '2022-06-18 18:39:54', '2022-06-18 18:39:55', '2022-06-18 18:39:56', '2022-06-18 18:39:57', '2022-06-18 18:39:58', '2022-06-18 18:39:59', '2022-06-18 18:40:00', '2022-06-18 18:40:01', '2022-06-18 18:40:02', '2022-06-18 18:40:03', '2022-06-18 18:40:04', '2022-06-18 18:40:05', '2022-06-18 18:40:06', '2022-06-18 18:40:07', '2022-06-18 18:40:08', '2022-06-18 18:40:09', '2022-06-18 18:40:10', '2022-06-18 18:40:11', '2022-06-18 18:40:12', '2022-06-18 18:40:13', '2022-06-18 18:40:14', '2022-06-18 18:40:15', '2022-06-18 18:40:16', '2022-06-18 18:40:17', '2022-06-18 18:40:18', '2022-06-18 18:40:19', '2022-06-18 18:40:20', '2022-06-18 18:40:21', '2022-06-18 18:40:22', '2022-06-18 18:40:23', '2022-06-18 18:40:24', '2022-06-18 18:40:25', '2022-06-18 18:40:26', '2022-06-18 18:40:27', '2022-06-18 18:40:28', '2022-06-18 18:40:29', '2022-06-18 18:40:30', '2022-06-18 18:40:31', '2022-06-18 18:40:32', '2022-06-18 18:40:33', '2022-06-18 18:40:34', '2022-06-18 18:40:35', '2022-06-18 18:40:36', '2022-06-18 18:40:37', '2022-06-18 18:40:38', '2022-06-18 18:40:39', '2022-06-18 18:40:40', '2022-06-18 18:40:41', '2022-06-18 18:40:42', '2022-06-18 18:40:43', '2022-06-18 18:40:44', '2022-06-18 18:40:45', '2022-06-18 18:40:46', '2022-06-18 18:40:47', '2022-06-18 18:40:48', '2022-06-18 18:40:49', '2022-06-18 18:40:50', '2022-06-18 18:40:51', '2022-06-18 18:40:52', '2022-06-18 18:40:53', '2022-06-18 18:40:54', '2022-06-18 18:40:55', '2022-06-18 18:40:56', '2022-06-18 18:40:57', '2022-06-18 18:40:58', '2022-06-18 18:40:59', '2022-06-18 18:41:00', '2022-06-18 18:41:01', '2022-06-18 18:41:02', '2022-06-18 18:41:03', '2022-06-18 18:41:04', '2022-06-18 18:41:05', '2022-06-18 18:41:06', '2022-06-18 18:41:07', '2022-06-18 18:41:08', '2022-06-18 18:41:09', '2022-06-18 18:41:10', '2022-06-18 18:41:11', '2022-06-18 18:41:12', '2022-06-18 18:41:13', '2022-06-18 18:41:14', '2022-06-18 18:41:15', '2022-06-18 18:41:16', '2022-06-18 18:41:17', '2022-06-18 18:41:18', '2022-06-18 18:41:19', '2022-06-18 18:41:20', '2022-06-18 18:41:21', '2022-06-18 18:41:22', '2022-06-18 18:41:23', '2022-06-18 18:41:24', '2022-06-18 18:41:25', '2022-06-18 18:41:26', '2022-06-18 18:41:27', '2022-06-18 18:41:28', '2022-06-18 18:41:29', '2022-06-18 18:41:30', '2022-06-18 18:41:31', '2022-06-18 18:41:32', '2022-06-18 18:41:33', '2022-06-18 18:41:34', '2022-06-18 18:41:35', '2022-06-18 18:41:36', '2022-06-18 18:41:37', '2022-06-18 18:41:38', '2022-06-18 18:41:39', '2022-06-18 18:41:40', '2022-06-18 18:41:41', '2022-06-18 18:41:42', '2022-06-18 18:41:43', '2022-06-18 18:41:44', '2022-06-18 18:41:45', '2022-06-18 18:41:46', '2022-06-18 18:41:47', '2022-06-18 18:41:48', '2022-06-18 18:41:49', '2022-06-18 18:41:50', '2022-06-18 18:41:51', '2022-06-18 18:41:52', '2022-06-18 18:41:53', '2022-06-18 18:41:54', '2022-06-18 18:41:55', '2022-06-18 18:41:56', '2022-06-18 18:41:57', '2022-06-18 18:41:58', '2022-06-18 18:41:59', '2022-06-18 18:42:00', '2022-06-18 18:42:01', '2022-06-18 18:42:02', '2022-06-18 18:42:03', '2022-06-18 18:42:04', '2022-06-18 18:42:05', '2022-06-18 18:42:06', '2022-06-18 18:42:07', '2022-06-18 18:42:08', '2022-06-18 18:42:09', '2022-06-18 18:42:10', '2022-06-18 18:42:11', '2022-06-18 18:42:12', '2022-06-18 18:42:13', '2022-06-18 18:42:14', '2022-06-18 18:42:15', '2022-06-18 18:42:16', '2022-06-18 18:42:17', '2022-06-18 18:42:18', '2022-06-18 18:42:19', '2022-06-18 18:42:20', '2022-06-18 18:42:21', '2022-06-18 18:42:22', '2022-06-18 18:42:23', '2022-06-18 18:42:24', '2022-06-18 18:42:25', '2022-06-18 18:42:26', '2022-06-18 18:42:27', '2022-06-18 18:42:28', '2022-06-18 18:42:29', '2022-06-18 18:42:30', '2022-06-18 18:42:31', '2022-06-18 18:42:32', '2022-06-18 18:42:33', '2022-06-18 18:42:34', '2022-06-18 18:42:35', '2022-06-18 18:42:36', '2022-06-18 18:42:37', '2022-06-18 18:42:38', '2022-06-18 18:42:39', '2022-06-18 18:42:40', '2022-06-18 18:42:41', '2022-06-18 18:42:42', '2022-06-18 18:42:43', '2022-06-18 18:42:44', '2022-06-18 18:42:45', '2022-06-18 18:42:46', '2022-06-18 18:42:47', '2022-06-18 18:42:48', '2022-06-18 18:42:49', '2022-06-18 18:42:50', '2022-06-18 18:42:51', '2022-06-18 18:42:52', '2022-06-18 18:42:53', '2022-06-18 18:42:54', '2022-06-18 18:42:55', '2022-06-18 18:42:56', '2022-06-18 18:42:57', '2022-06-18 18:42:58', '2022-06-18 18:42:59', '2022-06-18 18:43:00', '2022-06-18 18:43:01', '2022-06-18 18:43:02', '2022-06-18 18:43:03', '2022-06-18 18:43:04', '2022-06-18 18:43:05', '2022-06-18 18:43:06', '2022-06-18 18:43:07', '2022-06-18 18:43:08', '2022-06-18 18:43:09', '2022-06-18 18:43:10', '2022-06-18 18:43:11', '2022-06-18 18:43:12', '2022-06-18 18:43:13', '2022-06-18 18:43:14', '2022-06-18 18:43:15', '2022-06-18 18:43:16', '2022-06-18 18:43:17', '2022-06-18 18:43:18', '2022-06-18 18:43:19', '2022-06-18 18:43:20', '2022-06-18 18:43:21', '2022-06-18 18:43:22', '2022-06-18 18:43:23', '2022-06-18 18:43:24', '2022-06-18 18:43:25', '2022-06-18 18:43:26', '2022-06-18 18:43:27', '2022-06-18 18:43:28', '2022-06-18 18:43:29', '2022-06-18 18:43:30', '2022-06-18 18:43:31', '2022-06-18 18:43:32', '2022-06-18 18:43:33', '2022-06-18 18:43:34', '2022-06-18 18:43:35', '2022-06-18 18:43:36', '2022-06-18 18:43:37', '2022-06-18 18:43:38', '2022-06-18 18:43:39', '2022-06-18 18:43:40', '2022-06-18 18:43:41', '2022-06-18 18:43:42', '2022-06-18 18:43:43', '2022-06-18 18:43:44', '2022-06-18 18:43:45', '2022-06-18 18:43:46', '2022-06-18 18:43:47', '2022-06-18 18:43:48', '2022-06-18 18:43:49', '2022-06-18 18:43:50', '2022-06-18 18:43:51', '2022-06-18 18:43:52', '2022-06-18 18:43:53', '2022-06-18 18:43:54', '2022-06-18 18:43:55', '2022-06-18 18:43:56', '2022-06-18 18:43:57', '2022-06-18 18:43:58', '2022-06-18 18:43:59', '2022-06-18 18:44:00', '2022-06-18 18:44:01', '2022-06-18 18:44:02', '2022-06-18 18:44:03', '2022-06-18 18:44:04', '2022-06-18 18:44:05', '2022-06-18 18:44:06', '2022-06-18 18:44:07', '2022-06-18 18:44:08', '2022-06-18 18:44:09', '2022-06-18 18:44:10', '2022-06-18 18:44:11', '2022-06-18 18:44:12', '2022-06-18 18:44:13', '2022-06-18 18:44:14', '2022-06-18 18:44:15', '2022-06-18 18:44:16', '2022-06-18 18:44:17', '2022-06-18 18:44:18', '2022-06-18 18:44:19', '2022-06-18 18:44:20', '2022-06-18 18:44:21', '2022-06-18 18:44:22', '2022-06-18 18:44:23', '2022-06-18 18:44:24', '2022-06-18 18:44:25', '2022-06-18 18:44:26', '2022-06-18 18:44:27', '2022-06-18 18:44:28', '2022-06-18 18:44:29', '2022-06-18 18:44:30', '2022-06-18 18:44:31', '2022-06-18 18:44:32', '2022-06-18 18:44:33', '2022-06-18 18:44:34', '2022-06-18 18:44:35', '2022-06-18 18:44:36', '2022-06-18 18:44:37', '2022-06-18 18:44:38', '2022-06-18 18:44:39', '2022-06-18 18:44:40', '2022-06-18 18:44:41', '2022-06-18 18:44:42', '2022-06-18 18:44:43', '2022-06-18 18:44:44', '2022-06-18 18:44:45', '2022-06-18 18:44:46', '2022-06-18 18:44:47', '2022-06-18 18:44:48', '2022-06-18 18:44:49', '2022-06-18 18:44:50', '2022-06-18 18:44:51', '2022-06-18 18:44:52', '2022-06-18 18:44:53', '2022-06-18 18:44:54', '2022-06-18 18:44:55', '2022-06-18 18:44:56', '2022-06-18 18:44:57', '2022-06-18 18:44:58', '2022-06-18 18:44:59', '2022-06-18 18:45:00', '2022-06-18 18:45:01', '2022-06-18 18:45:02', '2022-06-18 18:45:03', '2022-06-18 18:45:04', '2022-06-18 18:45:05', '2022-06-18 18:45:06', '2022-06-18 18:45:07', '2022-06-18 18:45:08', '2022-06-18 18:45:09', '2022-06-18 18:45:10', '2022-06-18 18:45:11', '2022-06-18 18:45:12', '2022-06-18 18:45:13', '2022-06-18 18:45:14', '2022-06-18 18:45:15', '2022-06-18 18:45:16', '2022-06-18 18:45:17', '2022-06-18 18:45:18', '2022-06-18 18:45:19', '2022-06-18 18:45:20', '2022-06-18 18:45:21', '2022-06-18 18:45:22', '2022-06-18 18:45:23', '2022-06-18 18:45:24', '2022-06-18 18:45:25', '2022-06-18 18:45:26', '2022-06-18 18:45:27', '2022-06-18 18:45:28', '2022-06-18 18:45:29', '2022-06-18 18:45:30', '2022-06-18 18:45:31', '2022-06-18 18:45:32', '2022-06-18 18:45:33', '2022-06-18 18:45:34', '2022-06-18 18:45:35', '2022-06-18 18:45:36', '2022-06-18 18:45:37', '2022-06-18 18:45:38', '2022-06-18 18:45:39', '2022-06-18 18:45:40', '2022-06-18 18:45:41', '2022-06-18 18:45:42', '2022-06-18 18:45:43', '2022-06-18 18:45:44', '2022-06-18 18:45:45', '2022-06-18 18:45:46', '2022-06-18 18:45:47', '2022-06-18 18:45:48', '2022-06-18 18:45:49', '2022-06-18 18:45:50', '2022-06-18 18:45:51', '2022-06-18 18:45:52', '2022-06-18 18:45:53', '2022-06-18 18:45:54', '2022-06-18 18:45:55', '2022-06-18 18:45:56', '2022-06-18 18:45:57', '2022-06-18 18:45:58', '2022-06-18 18:45:59', '2022-06-18 18:46:00', '2022-06-18 18:46:01', '2022-06-18 18:46:02', '2022-06-18 18:46:03', '2022-06-18 18:46:04', '2022-06-18 18:46:05', '2022-06-18 18:46:06', '2022-06-18 18:46:07', '2022-06-18 18:46:08', '2022-06-18 18:46:09', '2022-06-18 18:46:10', '2022-06-18 18:46:11', '2022-06-18 18:46:12', '2022-06-18 18:46:13', '2022-06-18 18:46:14', '2022-06-18 18:46:15', '2022-06-18 18:46:16', '2022-06-18 18:46:17', '2022-06-18 18:46:18', '2022-06-18 18:46:19', '2022-06-18 18:46:20', '2022-06-18 18:46:21', '2022-06-18 18:46:22', '2022-06-18 18:46:23', '2022-06-18 18:46:24', '2022-06-18 18:46:25', '2022-06-18 18:46:26', '2022-06-18 18:46:27', '2022-06-18 18:46:28', '2022-06-18 18:46:29', '2022-06-18 18:46:30', '2022-06-18 18:46:31', '2022-06-18 18:46:32', '2022-06-18 18:46:33', '2022-06-18 18:46:34', '2022-06-18 18:46:35', '2022-06-18 18:46:36', '2022-06-18 18:46:37', '2022-06-18 18:46:38', '2022-06-18 18:46:39', '2022-06-18 18:46:40', '2022-06-18 18:46:41', '2022-06-18 18:46:42', '2022-06-18 18:46:43', '2022-06-18 18:46:44', '2022-06-18 18:46:45', '2022-06-18 18:46:46', '2022-06-18 18:46:47', '2022-06-18 18:46:48', '2022-06-18 18:46:49', '2022-06-18 18:46:50', '2022-06-18 18:46:51', '2022-06-18 18:46:52', '2022-06-18 18:46:53', '2022-06-18 18:46:54', '2022-06-18 18:46:55', '2022-06-18 18:46:56', '2022-06-18 18:46:57', '2022-06-18 18:46:58', '2022-06-18 18:46:59', '2022-06-18 18:47:00', '2022-06-18 18:47:01', '2022-06-18 18:47:02', '2022-06-18 18:47:03', '2022-06-18 18:47:04', '2022-06-18 18:47:05', '2022-06-18 18:47:06', '2022-06-18 18:47:07', '2022-06-18 18:47:08', '2022-06-18 18:47:09', '2022-06-18 18:47:10', '2022-06-18 18:47:11', '2022-06-18 18:47:12', '2022-06-18 18:47:13', '2022-06-18 18:47:14', '2022-06-18 18:47:15', '2022-06-18 18:47:16', '2022-06-18 18:47:17', '2022-06-18 18:47:18', '2022-06-18 18:47:19', '2022-06-18 18:47:20', '2022-06-18 18:47:21', '2022-06-18 18:47:22', '2022-06-18 18:47:23', '2022-06-18 18:47:24', '2022-06-18 18:47:25', '2022-06-18 18:47:26', '2022-06-18 18:47:27', '2022-06-18 18:47:28', '2022-06-18 18:47:29', '2022-06-18 18:47:30', '2022-06-18 18:47:31', '2022-06-18 18:47:32', '2022-06-18 18:47:33', '2022-06-18 18:47:34', '2022-06-18 18:47:35', '2022-06-18 18:47:36', '2022-06-18 18:47:37', '2022-06-18 18:47:38', '2022-06-18 18:47:39', '2022-06-18 18:47:40', '2022-06-18 18:47:41', '2022-06-18 18:47:42', '2022-06-18 18:47:43', '2022-06-18 18:47:44', '2022-06-18 18:47:45', '2022-06-18 18:47:46', '2022-06-18 18:47:47', '2022-06-18 18:47:48', '2022-06-18 18:47:49', '2022-06-18 18:47:50', '2022-06-18 18:47:51', '2022-06-18 18:47:52', '2022-06-18 18:47:53', '2022-06-18 18:47:54', '2022-06-18 18:47:55', '2022-06-18 18:47:56', '2022-06-18 18:47:57', '2022-06-18 18:47:58', '2022-06-18 18:47:59', '2022-06-18 18:48:00', '2022-06-18 18:48:01', '2022-06-18 18:48:02', '2022-06-18 18:48:03', '2022-06-18 18:48:04', '2022-06-18 18:48:05', '2022-06-18 18:48:06', '2022-06-18 18:48:07', '2022-06-18 18:48:08', '2022-06-18 18:48:09', '2022-06-18 18:48:10', '2022-06-18 18:48:11', '2022-06-18 18:48:12', '2022-06-18 18:48:13', '2022-06-18 18:48:14', '2022-06-18 18:48:15', '2022-06-18 18:48:16', '2022-06-18 18:48:17', '2022-06-18 18:48:18', '2022-06-18 18:48:19', '2022-06-18 18:48:20', '2022-06-18 18:48:21', '2022-06-18 18:48:22', '2022-06-18 18:48:23', '2022-06-18 18:48:24', '2022-06-18 18:48:25', '2022-06-18 18:48:26', '2022-06-18 18:48:27', '2022-06-18 18:48:28', '2022-06-18 18:48:29', '2022-06-18 18:48:30', '2022-06-18 18:48:31', '2022-06-18 18:48:32', '2022-06-18 18:48:33', '2022-06-18 18:48:34', '2022-06-18 18:48:35', '2022-06-18 18:48:36', '2022-06-18 18:48:37', '2022-06-18 18:48:38', '2022-06-18 18:48:39', '2022-06-18 18:48:40', '2022-06-18 18:48:41', '2022-06-18 18:48:42', '2022-06-18 18:48:43', '2022-06-18 18:48:44', '2022-06-18 18:48:45', '2022-06-18 18:48:46', '2022-06-18 18:48:47', '2022-06-18 18:48:48', '2022-06-18 18:48:49', '2022-06-18 18:48:50', '2022-06-18 18:48:51', '2022-06-18 18:48:52', '2022-06-18 18:48:53', '2022-06-18 18:48:54', '2022-06-18 18:48:55', '2022-06-18 18:48:56', '2022-06-18 18:48:57', '2022-06-18 18:48:58', '2022-06-18 18:48:59', '2022-06-18 18:49:00', '2022-06-18 18:49:01', '2022-06-18 18:49:02', '2022-06-18 18:49:03', '2022-06-18 18:49:04', '2022-06-18 18:49:05', '2022-06-18 18:49:06', '2022-06-18 18:49:07', '2022-06-18 18:49:08', '2022-06-18 18:49:09', '2022-06-18 18:49:10', '2022-06-18 18:49:11', '2022-06-18 18:49:12', '2022-06-18 18:49:13', '2022-06-18 18:49:14', '2022-06-18 18:49:15', '2022-06-18 18:49:16', '2022-06-18 18:49:17', '2022-06-18 18:49:18', '2022-06-18 18:49:19', '2022-06-18 18:49:20', '2022-06-18 18:49:21', '2022-06-18 18:49:22', '2022-06-18 18:49:23', '2022-06-18 18:49:24', '2022-06-18 18:49:25', '2022-06-18 18:49:26', '2022-06-18 18:49:27', '2022-06-18 18:49:28', '2022-06-18 18:49:29', '2022-06-18 18:49:30', '2022-06-18 18:49:31', '2022-06-18 18:49:32', '2022-06-18 18:49:33', '2022-06-18 18:49:34', '2022-06-18 18:49:35', '2022-06-18 18:49:36', '2022-06-18 18:49:37', '2022-06-18 18:49:38', '2022-06-18 18:49:39', '2022-06-18 18:49:40', '2022-06-18 18:49:41', '2022-06-18 18:49:42', '2022-06-18 18:49:43', '2022-06-18 18:49:44', '2022-06-18 18:49:45', '2022-06-18 18:49:46', '2022-06-18 18:49:47', '2022-06-18 18:49:48', '2022-06-18 18:49:49', '2022-06-18 18:49:50', '2022-06-18 18:49:51', '2022-06-18 18:49:52', '2022-06-18 18:49:53', '2022-06-18 18:49:54', '2022-06-18 18:49:55', '2022-06-18 18:49:56', '2022-06-18 18:49:57', '2022-06-18 18:49:58', '2022-06-18 18:49:59', '2022-06-18 18:50:00', '2022-06-18 18:50:01', '2022-06-18 18:50:02', '2022-06-18 18:50:03', '2022-06-18 18:50:04', '2022-06-18 18:50:05', '2022-06-18 18:50:06', '2022-06-18 18:50:07', '2022-06-18 18:50:08', '2022-06-18 18:50:09', '2022-06-18 18:50:10', '2022-06-18 18:50:11', '2022-06-18 18:50:12', '2022-06-18 18:50:13', '2022-06-18 18:50:14', '2022-06-18 18:50:15', '2022-06-18 18:50:16', '2022-06-18 18:50:17', '2022-06-18 18:50:18', '2022-06-18 18:50:19', '2022-06-18 18:50:20', '2022-06-18 18:50:21', '2022-06-18 18:50:22', '2022-06-18 18:50:23', '2022-06-18 18:50:24', '2022-06-18 18:50:25', '2022-06-18 18:50:26', '2022-06-18 18:50:27', '2022-06-18 18:50:28', '2022-06-18 18:50:29', '2022-06-18 18:50:30', '2022-06-18 18:50:31', '2022-06-18 18:50:32', '2022-06-18 18:50:33', '2022-06-18 18:50:34', '2022-06-18 18:50:35', '2022-06-18 18:50:36', '2022-06-18 18:50:37', '2022-06-18 18:50:38', '2022-06-18 18:50:39', '2022-06-18 18:50:40', '2022-06-18 18:50:41', '2022-06-18 18:50:42', '2022-06-18 18:50:43', '2022-06-18 18:50:44', '2022-06-18 18:50:45', '2022-06-18 18:50:46', '2022-06-18 18:50:47', '2022-06-18 18:50:48', '2022-06-18 18:50:49', '2022-06-18 18:50:50', '2022-06-18 18:50:51', '2022-06-18 18:50:52', '2022-06-18 18:50:53', '2022-06-18 18:50:54', '2022-06-18 18:50:55', '2022-06-18 18:50:56', '2022-06-18 18:50:57', '2022-06-18 18:50:58', '2022-06-18 18:50:59', '2022-06-18 18:51:00', '2022-06-18 18:51:01', '2022-06-18 18:51:02', '2022-06-18 18:51:03', '2022-06-18 18:51:04', '2022-06-18 18:51:05', '2022-06-18 18:51:06', '2022-06-18 18:51:07', '2022-06-18 18:51:08', '2022-06-18 18:51:09', '2022-06-18 18:51:10', '2022-06-18 18:51:11', '2022-06-18 18:51:12', '2022-06-18 18:51:13', '2022-06-18 18:51:14', '2022-06-18 18:51:15', '2022-06-18 18:51:16', '2022-06-18 18:51:17', '2022-06-18 18:51:18', '2022-06-18 18:51:19', '2022-06-18 18:51:20', '2022-06-18 18:51:21', '2022-06-18 18:51:22', '2022-06-18 18:51:23', '2022-06-18 18:51:24', '2022-06-18 18:51:25', '2022-06-18 18:51:26', '2022-06-18 18:51:27', '2022-06-18 18:51:28', '2022-06-18 18:51:29', '2022-06-18 18:51:30', '2022-06-18 18:51:31', '2022-06-18 18:51:32', '2022-06-18 18:51:33', '2022-06-18 18:51:34', '2022-06-18 18:51:35', '2022-06-18 18:51:36', '2022-06-18 18:51:37', '2022-06-18 18:51:38', '2022-06-18 18:51:39', '2022-06-18 18:51:40', '2022-06-18 18:51:41', '2022-06-18 18:51:42', '2022-06-18 18:51:43', '2022-06-18 18:51:44', '2022-06-18 18:51:45', '2022-06-18 18:51:46', '2022-06-18 18:51:47', '2022-06-18 18:51:48', '2022-06-18 18:51:49', '2022-06-18 18:51:50', '2022-06-18 18:51:51', '2022-06-18 18:51:52', '2022-06-18 18:51:53', '2022-06-18 18:51:54', '2022-06-18 18:51:55', '2022-06-18 18:51:56', '2022-06-18 18:51:57', '2022-06-18 18:51:58', '2022-06-18 18:51:59', '2022-06-18 18:52:00', '2022-06-18 18:52:01', '2022-06-18 18:52:02', '2022-06-18 18:52:03', '2022-06-18 18:52:04', '2022-06-18 18:52:05', '2022-06-18 18:52:06', '2022-06-18 18:52:07', '2022-06-18 18:52:08', '2022-06-18 18:52:09', '2022-06-18 18:52:10', '2022-06-18 18:52:11', '2022-06-18 18:52:12', '2022-06-18 18:52:13', '2022-06-18 18:52:14', '2022-06-18 18:52:15', '2022-06-18 18:52:16', '2022-06-18 18:52:17', '2022-06-18 18:52:18', '2022-06-18 18:52:19', '2022-06-18 18:52:20', '2022-06-18 18:52:21', '2022-06-18 18:52:22', '2022-06-18 18:52:23', '2022-06-18 18:52:24', '2022-06-18 18:52:25', '2022-06-18 18:52:26', '2022-06-18 18:52:27', '2022-06-18 18:52:28', '2022-06-18 18:52:29', '2022-06-18 18:52:30', '2022-06-18 18:52:31', '2022-06-18 18:52:32', '2022-06-18 18:52:33', '2022-06-18 18:52:34', '2022-06-18 18:52:35', '2022-06-18 18:52:36', '2022-06-18 18:52:37', '2022-06-18 18:52:38', '2022-06-18 18:52:39', '2022-06-18 18:52:40', '2022-06-18 18:52:41', '2022-06-18 18:52:42', '2022-06-18 18:52:43', '2022-06-18 18:52:44', '2022-06-18 18:52:45', '2022-06-18 18:52:46', '2022-06-18 18:52:47', '2022-06-18 18:52:48', '2022-06-18 18:52:49', '2022-06-18 18:52:50', '2022-06-18 18:52:51', '2022-06-18 18:52:52', '2022-06-18 18:52:53', '2022-06-18 18:52:54', '2022-06-18 18:52:55', '2022-06-18 18:52:56', '2022-06-18 18:52:57', '2022-06-18 18:52:58', '2022-06-18 18:52:59', '2022-06-18 18:53:00', '2022-06-18 18:53:01', '2022-06-18 18:53:02', '2022-06-18 18:53:03', '2022-06-18 18:53:04', '2022-06-18 18:53:05', '2022-06-18 18:53:06', '2022-06-18 18:53:07', '2022-06-18 18:53:08', '2022-06-18 18:53:09', '2022-06-18 18:53:10', '2022-06-18 18:53:11', '2022-06-18 18:53:12', '2022-06-18 18:53:13', '2022-06-18 18:53:14', '2022-06-18 18:53:15', '2022-06-18 18:53:16', '2022-06-18 18:53:17', '2022-06-18 18:53:18', '2022-06-18 18:53:19', '2022-06-18 18:53:20', '2022-06-18 18:53:21', '2022-06-18 18:53:22', '2022-06-18 18:53:23', '2022-06-18 18:53:24', '2022-06-18 18:53:25', '2022-06-18 18:53:26', '2022-06-18 18:53:27', '2022-06-18 18:53:28', '2022-06-18 18:53:29', '2022-06-18 18:53:30', '2022-06-18 18:53:31', '2022-06-18 18:53:32', '2022-06-18 18:53:33', '2022-06-18 18:53:34', '2022-06-18 18:53:35', '2022-06-18 18:53:36', '2022-06-18 18:53:37', '2022-06-18 18:53:38', '2022-06-18 18:53:39', '2022-06-18 18:53:40', '2022-06-18 18:53:41', '2022-06-18 18:53:42', '2022-06-18 18:53:43', '2022-06-18 18:53:44', '2022-06-18 18:53:45', '2022-06-18 18:53:46', '2022-06-18 18:53:47', '2022-06-18 18:53:48', '2022-06-18 18:53:49', '2022-06-18 18:53:50', '2022-06-18 18:53:51', '2022-06-18 18:53:52', '2022-06-18 18:53:53', '2022-06-18 18:53:54', '2022-06-18 18:53:55', '2022-06-18 18:53:56', '2022-06-18 18:53:57', '2022-06-18 18:53:58', '2022-06-18 18:53:59', '2022-06-18 18:54:00', '2022-06-18 18:54:01', '2022-06-18 18:54:02', '2022-06-18 18:54:03', '2022-06-18 18:54:04', '2022-06-18 18:54:05', '2022-06-18 18:54:06', '2022-06-18 18:54:07', '2022-06-18 18:54:08', '2022-06-18 18:54:09', '2022-06-18 18:54:10', '2022-06-18 18:54:11', '2022-06-18 18:54:12', '2022-06-18 18:54:13', '2022-06-18 18:54:14', '2022-06-18 18:54:15', '2022-06-18 18:54:16', '2022-06-18 18:54:17', '2022-06-18 18:54:18', '2022-06-18 18:54:19', '2022-06-18 18:54:20', '2022-06-18 18:54:21', '2022-06-18 18:54:22', '2022-06-18 18:54:23', '2022-06-18 18:54:24', '2022-06-18 18:54:25', '2022-06-18 18:54:26', '2022-06-18 18:54:27', '2022-06-18 18:54:28', '2022-06-18 18:54:29', '2022-06-18 18:54:30', '2022-06-18 18:54:31', '2022-06-18 18:54:32', '2022-06-18 18:54:33', '2022-06-18 18:54:34', '2022-06-18 18:54:35', '2022-06-18 18:54:36', '2022-06-18 18:54:37', '2022-06-18 18:54:38', '2022-06-18 18:54:39', '2022-06-18 18:54:40', '2022-06-18 18:54:41', '2022-06-18 18:54:42', '2022-06-18 18:54:43', '2022-06-18 18:54:44', '2022-06-18 18:54:45', '2022-06-18 18:54:46', '2022-06-18 18:54:47', '2022-06-18 18:54:48', '2022-06-18 18:54:49', '2022-06-18 18:54:50', '2022-06-18 18:54:51', '2022-06-18 18:54:52', '2022-06-18 18:54:53', '2022-06-18 18:54:54', '2022-06-18 18:54:55', '2022-06-18 18:54:56', '2022-06-18 18:54:57', '2022-06-18 18:54:58', '2022-06-18 18:54:59', '2022-06-18 18:55:00', '2022-06-18 18:55:01', '2022-06-18 18:55:02', '2022-06-18 18:55:03', '2022-06-18 18:55:04', '2022-06-18 18:55:05', '2022-06-18 18:55:06', '2022-06-18 18:55:07', '2022-06-18 18:55:08', '2022-06-18 18:55:09', '2022-06-18 18:55:10', '2022-06-18 18:55:11', '2022-06-18 18:55:12', '2022-06-18 18:55:13', '2022-06-18 18:55:14', '2022-06-18 18:55:15', '2022-06-18 18:55:16', '2022-06-18 18:55:17', '2022-06-18 18:55:18', '2022-06-18 18:55:19', '2022-06-18 18:55:20', '2022-06-18 18:55:21', '2022-06-18 18:55:22', '2022-06-18 18:55:23', '2022-06-18 18:55:24', '2022-06-18 18:55:25', '2022-06-18 18:55:26', '2022-06-18 18:55:27', '2022-06-18 18:55:28', '2022-06-18 18:55:29', '2022-06-18 18:55:30', '2022-06-18 18:55:31', '2022-06-18 18:55:32', '2022-06-18 18:55:33', '2022-06-18 18:55:34', '2022-06-18 18:55:35', '2022-06-18 18:55:36', '2022-06-18 18:55:37', '2022-06-18 18:55:38', '2022-06-18 18:55:39', '2022-06-18 18:55:40', '2022-06-18 18:55:41', '2022-06-18 18:55:42', '2022-06-18 18:55:43', '2022-06-18 18:55:44', '2022-06-18 18:55:45', '2022-06-18 18:55:46', '2022-06-18 18:55:47', '2022-06-18 18:55:48', '2022-06-18 18:55:49', '2022-06-18 18:55:50', '2022-06-18 18:55:51', '2022-06-18 18:55:52', '2022-06-18 18:55:53', '2022-06-18 18:55:54', '2022-06-18 18:55:55', '2022-06-18 18:55:56', '2022-06-18 18:55:57', '2022-06-18 18:55:58', '2022-06-18 18:55:59', '2022-06-18 18:56:00', '2022-06-18 18:56:01', '2022-06-18 18:56:02', '2022-06-18 18:56:03', '2022-06-18 18:56:04', '2022-06-18 18:56:05', '2022-06-18 18:56:06', '2022-06-18 18:56:07', '2022-06-18 18:56:08', '2022-06-18 18:56:09', '2022-06-18 18:56:10', '2022-06-18 18:56:11', '2022-06-18 18:56:12', '2022-06-18 18:56:13', '2022-06-18 18:56:14', '2022-06-18 18:56:15', '2022-06-18 18:56:16', '2022-06-18 18:56:17', '2022-06-18 18:56:18', '2022-06-18 18:56:19', '2022-06-18 18:56:20', '2022-06-18 18:56:21', '2022-06-18 18:56:22', '2022-06-18 18:56:23', '2022-06-18 18:56:24', '2022-06-18 18:56:25', '2022-06-18 18:56:26', '2022-06-18 18:56:27', '2022-06-18 18:56:28', '2022-06-18 18:56:29', '2022-06-18 18:56:30', '2022-06-18 18:56:31', '2022-06-18 18:56:32', '2022-06-18 18:56:33', '2022-06-18 18:56:34', '2022-06-18 18:56:35', '2022-06-18 18:56:36', '2022-06-18 18:56:37', '2022-06-18 18:56:38', '2022-06-18 18:56:39', '2022-06-18 18:56:40', '2022-06-18 18:56:41', '2022-06-18 18:56:42', '2022-06-18 18:56:43', '2022-06-18 18:56:44', '2022-06-18 18:56:45', '2022-06-18 18:56:46', '2022-06-18 18:56:47', '2022-06-18 18:56:48', '2022-06-18 18:56:49', '2022-06-18 18:56:50', '2022-06-18 18:56:51', '2022-06-18 18:56:52', '2022-06-18 18:56:53', '2022-06-18 18:56:54', '2022-06-18 18:56:55', '2022-06-18 18:56:56', '2022-06-18 18:56:57', '2022-06-18 18:56:58', '2022-06-18 18:56:59', '2022-06-18 18:57:00', '2022-06-18 18:57:01', '2022-06-18 18:57:02', '2022-06-18 18:57:03', '2022-06-18 18:57:04', '2022-06-18 18:57:05', '2022-06-18 18:57:06', '2022-06-18 18:57:07', '2022-06-18 18:57:08', '2022-06-18 18:57:09', '2022-06-18 18:57:10', '2022-06-18 18:57:11', '2022-06-18 18:57:12', '2022-06-18 18:57:13', '2022-06-18 18:57:14', '2022-06-18 18:57:15', '2022-06-18 18:57:16', '2022-06-18 18:57:17', '2022-06-18 18:57:18', '2022-06-18 18:57:19', '2022-06-18 18:57:20', '2022-06-18 18:57:21', '2022-06-18 18:57:22', '2022-06-18 18:57:23', '2022-06-18 18:57:24', '2022-06-18 18:57:25', '2022-06-18 18:57:26', '2022-06-18 18:57:27', '2022-06-18 18:57:28', '2022-06-18 18:57:29', '2022-06-18 18:57:30', '2022-06-18 18:57:31', '2022-06-18 18:57:32', '2022-06-18 18:57:33', '2022-06-18 18:57:34', '2022-06-18 18:57:35', '2022-06-18 18:57:36', '2022-06-18 18:57:37', '2022-06-18 18:57:38', '2022-06-18 18:57:39', '2022-06-18 18:57:40', '2022-06-18 18:57:41', '2022-06-18 18:57:42', '2022-06-18 18:57:43', '2022-06-18 18:57:44', '2022-06-18 18:57:45', '2022-06-18 18:57:46', '2022-06-18 18:57:47', '2022-06-18 18:57:48', '2022-06-18 18:57:49', '2022-06-18 18:57:50', '2022-06-18 18:57:51', '2022-06-18 18:57:52', '2022-06-18 18:57:53', '2022-06-18 18:57:54', '2022-06-18 18:57:55', '2022-06-18 18:57:56', '2022-06-18 18:57:57', '2022-06-18 18:57:58', '2022-06-18 18:57:59', '2022-06-18 18:58:00', '2022-06-18 18:58:01', '2022-06-18 18:58:02', '2022-06-18 18:58:03', '2022-06-18 18:58:04', '2022-06-18 18:58:05', '2022-06-18 18:58:06', '2022-06-18 18:58:07', '2022-06-18 18:58:08', '2022-06-18 18:58:09', '2022-06-18 18:58:10', '2022-06-18 18:58:11', '2022-06-18 18:58:12', '2022-06-18 18:58:13', '2022-06-18 18:58:14', '2022-06-18 18:58:15', '2022-06-18 18:58:16', '2022-06-18 18:58:17', '2022-06-18 18:58:18', '2022-06-18 18:58:19', '2022-06-18 18:58:20', '2022-06-18 18:58:21', '2022-06-18 18:58:22', '2022-06-18 18:58:23', '2022-06-18 18:58:24', '2022-06-18 18:58:25', '2022-06-18 18:58:26', '2022-06-18 18:58:27', '2022-06-18 18:58:28', '2022-06-18 18:58:29', '2022-06-18 18:58:30', '2022-06-18 18:58:31', '2022-06-18 18:58:32', '2022-06-18 18:58:33', '2022-06-18 18:58:34', '2022-06-18 18:58:35', '2022-06-18 18:58:36', '2022-06-18 18:58:37', '2022-06-18 18:58:38', '2022-06-18 18:58:39', '2022-06-18 18:58:40', '2022-06-18 18:58:41', '2022-06-18 18:58:42', '2022-06-18 18:58:43', '2022-06-18 18:58:44', '2022-06-18 18:58:45', '2022-06-18 18:58:46', '2022-06-18 18:58:47', '2022-06-18 18:58:48', '2022-06-18 18:58:49', '2022-06-18 18:58:50', '2022-06-18 18:58:51', '2022-06-18 18:58:52', '2022-06-18 18:58:53', '2022-06-18 18:58:54', '2022-06-18 18:58:55', '2022-06-18 18:58:56', '2022-06-18 18:58:57', '2022-06-18 18:58:58', '2022-06-18 18:58:59', '2022-06-18 18:59:00', '2022-06-18 18:59:01', '2022-06-18 18:59:02', '2022-06-18 18:59:03', '2022-06-18 18:59:04', '2022-06-18 18:59:05', '2022-06-18 18:59:06', '2022-06-18 18:59:07', '2022-06-18 18:59:08', '2022-06-18 18:59:09', '2022-06-18 18:59:10', '2022-06-18 18:59:11', '2022-06-18 18:59:12', '2022-06-18 18:59:13', '2022-06-18 18:59:14', '2022-06-18 18:59:15', '2022-06-18 18:59:16', '2022-06-18 18:59:17', '2022-06-18 18:59:18', '2022-06-18 18:59:19', '2022-06-18 18:59:20', '2022-06-18 18:59:21', '2022-06-18 18:59:22', '2022-06-18 18:59:23', '2022-06-18 18:59:24', '2022-06-18 18:59:25', '2022-06-18 18:59:26', '2022-06-18 18:59:27', '2022-06-18 18:59:28', '2022-06-18 18:59:29', '2022-06-18 18:59:30', '2022-06-18 18:59:31', '2022-06-18 18:59:32', '2022-06-18 18:59:33', '2022-06-18 18:59:34', '2022-06-18 18:59:35', '2022-06-18 18:59:36', '2022-06-18 18:59:37', '2022-06-18 18:59:38', '2022-06-18 18:59:39', '2022-06-18 18:59:40', '2022-06-18 18:59:41', '2022-06-18 18:59:42', '2022-06-18 18:59:43', '2022-06-18 18:59:44', '2022-06-18 18:59:45', '2022-06-18 18:59:46', '2022-06-18 18:59:47', '2022-06-18 18:59:48', '2022-06-18 18:59:49', '2022-06-18 18:59:50', '2022-06-18 18:59:51', '2022-06-18 18:59:52', '2022-06-18 18:59:53', '2022-06-18 18:59:54', '2022-06-18 18:59:55', '2022-06-18 18:59:56', '2022-06-18 18:59:57', '2022-06-18 18:59:58', '2022-06-18 18:59:59', '2022-06-18 19:00:00', '2022-06-18 19:00:01', '2022-06-18 19:00:02', '2022-06-18 19:00:03', '2022-06-18 19:00:04', '2022-06-18 19:00:05', '2022-06-18 19:00:06', '2022-06-18 19:00:07', '2022-06-18 19:00:08', '2022-06-18 19:00:09', '2022-06-18 19:00:10', '2022-06-18 19:00:11', '2022-06-18 19:00:12', '2022-06-18 19:00:13', '2022-06-18 19:00:14', '2022-06-18 19:00:15', '2022-06-18 19:00:16', '2022-06-18 19:00:17', '2022-06-18 19:00:18', '2022-06-18 19:00:19', '2022-06-18 19:00:20', '2022-06-18 19:00:21', '2022-06-18 19:00:22', '2022-06-18 19:00:23', '2022-06-18 19:00:24', '2022-06-18 19:00:25', '2022-06-18 19:00:26', '2022-06-18 19:00:27', '2022-06-18 19:00:28', '2022-06-18 19:00:29', '2022-06-18 19:00:30', '2022-06-18 19:00:31', '2022-06-18 19:00:32', '2022-06-18 19:00:33', '2022-06-18 19:00:34', '2022-06-18 19:00:35', '2022-06-18 19:00:36', '2022-06-18 19:00:37', '2022-06-18 19:00:38', '2022-06-18 19:00:39', '2022-06-18 19:00:40', '2022-06-18 19:00:41', '2022-06-18 19:00:42', '2022-06-18 19:00:43', '2022-06-18 19:00:44', '2022-06-18 19:00:45', '2022-06-18 19:00:46', '2022-06-18 19:00:47', '2022-06-18 19:00:48', '2022-06-18 19:00:49', '2022-06-18 19:00:50', '2022-06-18 19:00:51', '2022-06-18 19:00:52', '2022-06-18 19:00:53', '2022-06-18 19:00:54', '2022-06-18 19:00:55', '2022-06-18 19:00:56', '2022-06-18 19:00:57', '2022-06-18 19:00:58', '2022-06-18 19:00:59', '2022-06-18 19:01:00', '2022-06-18 19:01:01', '2022-06-18 19:01:02', '2022-06-18 19:01:03', '2022-06-18 19:01:04', '2022-06-18 19:01:05', '2022-06-18 19:01:06', '2022-06-18 19:01:07', '2022-06-18 19:01:08', '2022-06-18 19:01:09', '2022-06-18 19:01:10', '2022-06-18 19:01:11', '2022-06-18 19:01:12', '2022-06-18 19:01:13', '2022-06-18 19:01:14', '2022-06-18 19:01:15', '2022-06-18 19:01:16', '2022-06-18 19:01:17', '2022-06-18 19:01:18', '2022-06-18 19:01:19', '2022-06-18 19:01:20', '2022-06-18 19:01:21', '2022-06-18 19:01:22', '2022-06-18 19:01:23', '2022-06-18 19:01:24', '2022-06-18 19:01:25', '2022-06-18 19:01:26', '2022-06-18 19:01:27', '2022-06-18 19:01:28', '2022-06-18 19:01:29', '2022-06-18 19:01:30', '2022-06-18 19:01:31', '2022-06-18 19:01:32', '2022-06-18 19:01:33', '2022-06-18 19:01:34', '2022-06-18 19:01:35', '2022-06-18 19:01:36', '2022-06-18 19:01:37', '2022-06-18 19:01:38', '2022-06-18 19:01:39', '2022-06-18 19:01:40', '2022-06-18 19:01:41', '2022-06-18 19:01:42', '2022-06-18 19:01:43', '2022-06-18 19:01:44', '2022-06-18 19:01:45', '2022-06-18 19:01:46', '2022-06-18 19:01:47', '2022-06-18 19:01:48', '2022-06-18 19:01:49', '2022-06-18 19:01:50', '2022-06-18 19:01:51', '2022-06-18 19:01:52', '2022-06-18 19:01:53', '2022-06-18 19:01:54', '2022-06-18 19:01:55', '2022-06-18 19:01:56', '2022-06-18 19:01:57', '2022-06-18 19:01:58', '2022-06-18 19:01:59', '2022-06-18 19:02:00', '2022-06-18 19:02:01', '2022-06-18 19:02:02', '2022-06-18 19:02:03', '2022-06-18 19:02:04', '2022-06-18 19:02:05', '2022-06-18 19:02:06', '2022-06-18 19:02:07', '2022-06-18 19:02:08', '2022-06-18 19:02:09', '2022-06-18 19:02:10', '2022-06-18 19:02:11', '2022-06-18 19:02:12', '2022-06-18 19:02:13', '2022-06-18 19:02:14', '2022-06-18 19:02:15', '2022-06-18 19:02:16', '2022-06-18 19:02:17', '2022-06-18 19:02:18', '2022-06-18 19:02:19', '2022-06-18 19:02:20', '2022-06-18 19:02:21', '2022-06-18 19:02:22', '2022-06-18 19:02:23', '2022-06-18 19:02:24', '2022-06-18 19:02:25', '2022-06-18 19:02:26', '2022-06-18 19:02:27', '2022-06-18 19:02:28', '2022-06-18 19:02:29', '2022-06-18 19:02:30', '2022-06-18 19:02:31', '2022-06-18 19:02:32', '2022-06-18 19:02:33', '2022-06-18 19:02:34', '2022-06-18 19:02:35', '2022-06-18 19:02:36', '2022-06-18 19:02:37', '2022-06-18 19:02:38', '2022-06-18 19:02:39', '2022-06-18 19:02:40', '2022-06-18 19:02:41', '2022-06-18 19:02:42', '2022-06-18 19:02:43', '2022-06-18 19:02:44', '2022-06-18 19:02:45', '2022-06-18 19:02:46', '2022-06-18 19:02:47', '2022-06-18 19:02:48', '2022-06-18 19:02:49', '2022-06-18 19:02:50', '2022-06-18 19:02:51', '2022-06-18 19:02:52', '2022-06-18 19:02:53', '2022-06-18 19:02:54', '2022-06-18 19:02:55', '2022-06-18 19:02:56', '2022-06-18 19:02:57', '2022-06-18 19:02:58', '2022-06-18 19:02:59', '2022-06-18 19:03:00', '2022-06-18 19:03:01', '2022-06-18 19:03:02', '2022-06-18 19:03:03', '2022-06-18 19:03:04', '2022-06-18 19:03:05', '2022-06-18 19:03:06', '2022-06-18 19:03:07', '2022-06-18 19:03:08', '2022-06-18 19:03:09', '2022-06-18 19:03:10', '2022-06-18 19:03:11', '2022-06-18 19:03:12', '2022-06-18 19:03:13', '2022-06-18 19:03:14', '2022-06-18 19:03:15', '2022-06-18 19:03:16', '2022-06-18 19:03:17', '2022-06-18 19:03:18', '2022-06-18 19:03:19', '2022-06-18 19:03:20', '2022-06-18 19:03:21', '2022-06-18 19:03:22', '2022-06-18 19:03:23', '2022-06-18 19:03:24', '2022-06-18 19:03:25', '2022-06-18 19:03:26', '2022-06-18 19:03:27', '2022-06-18 19:03:28', '2022-06-18 19:03:29', '2022-06-18 19:03:30', '2022-06-18 19:03:31', '2022-06-18 19:03:32', '2022-06-18 19:03:33', '2022-06-18 19:03:34', '2022-06-18 19:03:35', '2022-06-18 19:03:36', '2022-06-18 19:03:37', '2022-06-18 19:03:38', '2022-06-18 19:03:39', '2022-06-18 19:03:40', '2022-06-18 19:03:41', '2022-06-18 19:03:42', '2022-06-18 19:03:43', '2022-06-18 19:03:44', '2022-06-18 19:03:45', '2022-06-18 19:03:46', '2022-06-18 19:03:47', '2022-06-18 19:03:48', '2022-06-18 19:03:49', '2022-06-18 19:03:50', '2022-06-18 19:03:51', '2022-06-18 19:03:52', '2022-06-18 19:03:53', '2022-06-18 19:03:54', '2022-06-18 19:03:55', '2022-06-18 19:03:56', '2022-06-18 19:03:57', '2022-06-18 19:03:58', '2022-06-18 19:03:59', '2022-06-18 19:04:00', '2022-06-18 19:04:01', '2022-06-18 19:04:02', '2022-06-18 19:04:03', '2022-06-18 19:04:04', '2022-06-18 19:04:05', '2022-06-18 19:04:06', '2022-06-18 19:04:07', '2022-06-18 19:04:08', '2022-06-18 19:04:09', '2022-06-18 19:04:10', '2022-06-18 19:04:11', '2022-06-18 19:04:12', '2022-06-18 19:04:13', '2022-06-18 19:04:14', '2022-06-18 19:04:15', '2022-06-18 19:04:16', '2022-06-18 19:04:17', '2022-06-18 19:04:18', '2022-06-18 19:04:19', '2022-06-18 19:04:20', '2022-06-18 19:04:21', '2022-06-18 19:04:22', '2022-06-18 19:04:23', '2022-06-18 19:04:24', '2022-06-18 19:04:25', '2022-06-18 19:04:26', '2022-06-18 19:04:27', '2022-06-18 19:04:28', '2022-06-18 19:04:29', '2022-06-18 19:04:30', '2022-06-18 19:04:31', '2022-06-18 19:04:32', '2022-06-18 19:04:33', '2022-06-18 19:04:34', '2022-06-18 19:04:35', '2022-06-18 19:04:36', '2022-06-18 19:04:37', '2022-06-18 19:04:38', '2022-06-18 19:04:39', '2022-06-18 19:04:40', '2022-06-18 19:04:41', '2022-06-18 19:04:42', '2022-06-18 19:04:43', '2022-06-18 19:04:44', '2022-06-18 19:04:45', '2022-06-18 19:04:46', '2022-06-18 19:04:47', '2022-06-18 19:04:48', '2022-06-18 19:04:49', '2022-06-18 19:04:50', '2022-06-18 19:04:51', '2022-06-18 19:04:52', '2022-06-18 19:04:53', '2022-06-18 19:04:54', '2022-06-18 19:04:55', '2022-06-18 19:04:56', '2022-06-18 19:04:57', '2022-06-18 19:04:58', '2022-06-18 19:04:59', '2022-06-18 19:05:00', '2022-06-18 19:05:01', '2022-06-18 19:05:02', '2022-06-18 19:05:03', '2022-06-18 19:05:04', '2022-06-18 19:05:05', '2022-06-18 19:05:06', '2022-06-18 19:05:07', '2022-06-18 19:05:08', '2022-06-18 19:05:09', '2022-06-18 19:05:10', '2022-06-18 19:05:11', '2022-06-18 19:05:12', '2022-06-18 19:05:13', '2022-06-18 19:05:14', '2022-06-18 19:05:15', '2022-06-18 19:05:16', '2022-06-18 19:05:17', '2022-06-18 19:05:18', '2022-06-18 19:05:19', '2022-06-18 19:05:20', '2022-06-18 19:05:21', '2022-06-18 19:05:22', '2022-06-18 19:05:23', '2022-06-18 19:05:24', '2022-06-18 19:05:25', '2022-06-18 19:05:26', '2022-06-18 19:05:27', '2022-06-18 19:05:28', '2022-06-18 19:05:29', '2022-06-18 19:05:30', '2022-06-18 19:05:31', '2022-06-18 19:05:32', '2022-06-18 19:05:33', '2022-06-18 19:05:34', '2022-06-18 19:05:35', '2022-06-18 19:05:36', '2022-06-18 19:05:37', '2022-06-18 19:05:38', '2022-06-18 19:05:39', '2022-06-18 19:05:40', '2022-06-18 19:05:41', '2022-06-18 19:05:42', '2022-06-18 19:05:43', '2022-06-18 19:05:44', '2022-06-18 19:05:45', '2022-06-18 19:05:46', '2022-06-18 19:05:47', '2022-06-18 19:05:48', '2022-06-18 19:05:49', '2022-06-18 19:05:50', '2022-06-18 19:05:51', '2022-06-18 19:05:52', '2022-06-18 19:05:53', '2022-06-18 19:05:54', '2022-06-18 19:05:55', '2022-06-18 19:05:56', '2022-06-18 19:05:57', '2022-06-18 19:05:58', '2022-06-18 19:05:59', '2022-06-18 19:06:00', '2022-06-18 19:06:01', '2022-06-18 19:06:02', '2022-06-18 19:06:03', '2022-06-18 19:06:04', '2022-06-18 19:06:05', '2022-06-18 19:06:06', '2022-06-18 19:06:07', '2022-06-18 19:06:08', '2022-06-18 19:06:09', '2022-06-18 19:06:10', '2022-06-18 19:06:11', '2022-06-18 19:06:12', '2022-06-18 19:06:13', '2022-06-18 19:06:14', '2022-06-18 19:06:15', '2022-06-18 19:06:16', '2022-06-18 19:06:17', '2022-06-18 19:06:18', '2022-06-18 19:06:19', '2022-06-18 19:06:20', '2022-06-18 19:06:21', '2022-06-18 19:06:22', '2022-06-18 19:06:23', '2022-06-18 19:06:24', '2022-06-18 19:06:25', '2022-06-18 19:06:26', '2022-06-18 19:06:27', '2022-06-18 19:06:28', '2022-06-18 19:06:29', '2022-06-18 19:06:30', '2022-06-18 19:06:31', '2022-06-18 19:06:32', '2022-06-18 19:06:33', '2022-06-18 19:06:34', '2022-06-18 19:06:35', '2022-06-18 19:06:36', '2022-06-18 19:06:37', '2022-06-18 19:06:38', '2022-06-18 19:06:39', '2022-06-18 19:06:40', '2022-06-18 19:06:41', '2022-06-18 19:06:42', '2022-06-18 19:06:43', '2022-06-18 19:06:44', '2022-06-18 19:06:45', '2022-06-18 19:06:46', '2022-06-18 19:06:47', '2022-06-18 19:06:48', '2022-06-18 19:06:49', '2022-06-18 19:06:50', '2022-06-18 19:06:51', '2022-06-18 19:06:52', '2022-06-18 19:06:53', '2022-06-18 19:06:54', '2022-06-18 19:06:55', '2022-06-18 19:06:56', '2022-06-18 19:06:57', '2022-06-18 19:06:58', '2022-06-18 19:06:59', '2022-06-18 19:07:00', '2022-06-18 19:07:01', '2022-06-18 19:07:02', '2022-06-18 19:07:03', '2022-06-18 19:07:04', '2022-06-18 19:07:05', '2022-06-18 19:07:06', '2022-06-18 19:07:07', '2022-06-18 19:07:08', '2022-06-18 19:07:09', '2022-06-18 19:07:10', '2022-06-18 19:07:11', '2022-06-18 19:07:12', '2022-06-18 19:07:13', '2022-06-18 19:07:14', '2022-06-18 19:07:15', '2022-06-18 19:07:16', '2022-06-18 19:07:17', '2022-06-18 19:07:18', '2022-06-18 19:07:19', '2022-06-18 19:07:20', '2022-06-18 19:07:21', '2022-06-18 19:07:22', '2022-06-18 19:07:23', '2022-06-18 19:07:24', '2022-06-18 19:07:25', '2022-06-18 19:07:26', '2022-06-18 19:07:27', '2022-06-18 19:07:28', '2022-06-18 19:07:29', '2022-06-18 19:07:30', '2022-06-18 19:07:31', '2022-06-18 19:07:32', '2022-06-18 19:07:33', '2022-06-18 19:07:34', '2022-06-18 19:07:35', '2022-06-18 19:07:36', '2022-06-18 19:07:37', '2022-06-18 19:07:38', '2022-06-18 19:07:39', '2022-06-18 19:07:40', '2022-06-18 19:07:41', '2022-06-18 19:07:42', '2022-06-18 19:07:43', '2022-06-18 19:07:44', '2022-06-18 19:07:45', '2022-06-18 19:07:46', '2022-06-18 19:07:47', '2022-06-18 19:07:48', '2022-06-18 19:07:49', '2022-06-18 19:07:50', '2022-06-18 19:07:51', '2022-06-18 19:07:52', '2022-06-18 19:07:53', '2022-06-18 19:07:54', '2022-06-18 19:07:55', '2022-06-18 19:07:56', '2022-06-18 19:07:57', '2022-06-18 19:07:58', '2022-06-18 19:07:59', '2022-06-18 19:08:00', '2022-06-18 19:08:01', '2022-06-18 19:08:02', '2022-06-18 19:08:03', '2022-06-18 19:08:04', '2022-06-18 19:08:05', '2022-06-18 19:08:06', '2022-06-18 19:08:07', '2022-06-18 19:08:08', '2022-06-18 19:08:09', '2022-06-18 19:08:10', '2022-06-18 19:08:11', '2022-06-18 19:08:12', '2022-06-18 19:08:13', '2022-06-18 19:08:14', '2022-06-18 19:08:15', '2022-06-18 19:08:16', '2022-06-18 19:08:17', '2022-06-18 19:08:18', '2022-06-18 19:08:19', '2022-06-18 19:08:20', '2022-06-18 19:08:21', '2022-06-18 19:08:22', '2022-06-18 19:08:23', '2022-06-18 19:08:24', '2022-06-18 19:08:25', '2022-06-18 19:08:26', '2022-06-18 19:08:27', '2022-06-18 19:08:28', '2022-06-18 19:08:29', '2022-06-18 19:08:30', '2022-06-18 19:08:31', '2022-06-18 19:08:32', '2022-06-18 19:08:33', '2022-06-18 19:08:34', '2022-06-18 19:08:35', '2022-06-18 19:08:36', '2022-06-18 19:08:37', '2022-06-18 19:08:38', '2022-06-18 19:08:39', '2022-06-18 19:08:40', '2022-06-18 19:08:41', '2022-06-18 19:08:42', '2022-06-18 19:08:43', '2022-06-18 19:08:44', '2022-06-18 19:08:45', '2022-06-18 19:08:46', '2022-06-18 19:08:47', '2022-06-18 19:08:48', '2022-06-18 19:08:49', '2022-06-18 19:08:50', '2022-06-18 19:08:51', '2022-06-18 19:08:52', '2022-06-18 19:08:53', '2022-06-18 19:08:54', '2022-06-18 19:08:55', '2022-06-18 19:08:56', '2022-06-18 19:08:57', '2022-06-18 19:08:58', '2022-06-18 19:08:59', '2022-06-18 19:09:00', '2022-06-18 19:09:01', '2022-06-18 19:09:02', '2022-06-18 19:09:03', '2022-06-18 19:09:04', '2022-06-18 19:09:05', '2022-06-18 19:09:06', '2022-06-18 19:09:07', '2022-06-18 19:09:08', '2022-06-18 19:09:09', '2022-06-18 19:09:10', '2022-06-18 19:09:11', '2022-06-18 19:09:12', '2022-06-18 19:09:13', '2022-06-18 19:09:14', '2022-06-18 19:09:15', '2022-06-18 19:09:16', '2022-06-18 19:09:17', '2022-06-18 19:09:18', '2022-06-18 19:09:19', '2022-06-18 19:09:20', '2022-06-18 19:09:21', '2022-06-18 19:09:22', '2022-06-18 19:09:23', '2022-06-18 19:09:24', '2022-06-18 19:09:25', '2022-06-18 19:09:26', '2022-06-18 19:09:27', '2022-06-18 19:09:28', '2022-06-18 19:09:29', '2022-06-18 19:09:30', '2022-06-18 19:09:31', '2022-06-18 19:09:32', '2022-06-18 19:09:33', '2022-06-18 19:09:34', '2022-06-18 19:09:35', '2022-06-18 19:09:36', '2022-06-18 19:09:37', '2022-06-18 19:09:38', '2022-06-18 19:09:39', '2022-06-18 19:09:40', '2022-06-18 19:09:41', '2022-06-18 19:09:42', '2022-06-18 19:09:43', '2022-06-18 19:09:44', '2022-06-18 19:09:45', '2022-06-18 19:09:46', '2022-06-18 19:09:47', '2022-06-18 19:09:48', '2022-06-18 19:09:49', '2022-06-18 19:09:50', '2022-06-18 19:09:51', '2022-06-18 19:09:52', '2022-06-18 19:09:53', '2022-06-18 19:09:54', '2022-06-18 19:09:55', '2022-06-18 19:09:56', '2022-06-18 19:09:57', '2022-06-18 19:09:58', '2022-06-18 19:09:59', '2022-06-18 19:10:00', '2022-06-18 19:10:01', '2022-06-18 19:10:02', '2022-06-18 19:10:03', '2022-06-18 19:10:04', '2022-06-18 19:10:05', '2022-06-18 19:10:06', '2022-06-18 19:10:07', '2022-06-18 19:10:08', '2022-06-18 19:10:09', '2022-06-18 19:10:10', '2022-06-18 19:10:11', '2022-06-18 19:10:12', '2022-06-18 19:10:13', '2022-06-18 19:10:14', '2022-06-18 19:10:15', '2022-06-18 19:10:16', '2022-06-18 19:10:17', '2022-06-18 19:10:18', '2022-06-18 19:10:19', '2022-06-18 19:10:20', '2022-06-18 19:10:21', '2022-06-18 19:10:22', '2022-06-18 19:10:23', '2022-06-18 19:10:24', '2022-06-18 19:10:25', '2022-06-18 19:10:26', '2022-06-18 19:10:27', '2022-06-18 19:10:28', '2022-06-18 19:10:29', '2022-06-18 19:10:30', '2022-06-18 19:10:31', '2022-06-18 19:10:32', '2022-06-18 19:10:33', '2022-06-18 19:10:34', '2022-06-18 19:10:35', '2022-06-18 19:10:36', '2022-06-18 19:10:37', '2022-06-18 19:10:38', '2022-06-18 19:10:39', '2022-06-18 19:10:40', '2022-06-18 19:10:41', '2022-06-18 19:10:42', '2022-06-18 19:10:43', '2022-06-18 19:10:44', '2022-06-18 19:10:45', '2022-06-18 19:10:46', '2022-06-18 19:10:47', '2022-06-18 19:10:48', '2022-06-18 19:10:49', '2022-06-18 19:10:50', '2022-06-18 19:10:51', '2022-06-18 19:10:52', '2022-06-18 19:10:53', '2022-06-18 19:10:54', '2022-06-18 19:10:55', '2022-06-18 19:10:56', '2022-06-18 19:10:57', '2022-06-18 19:10:58', '2022-06-18 19:10:59', '2022-06-18 19:11:00', '2022-06-18 19:11:01', '2022-06-18 19:11:02', '2022-06-18 19:11:03', '2022-06-18 19:11:04', '2022-06-18 19:11:05', '2022-06-18 19:11:06', '2022-06-18 19:11:07', '2022-06-18 19:11:08', '2022-06-18 19:11:09', '2022-06-18 19:11:10', '2022-06-18 19:11:11', '2022-06-18 19:11:12', '2022-06-18 19:11:13', '2022-06-18 19:11:14', '2022-06-18 19:11:15', '2022-06-18 19:11:16', '2022-06-18 19:11:17', '2022-06-18 19:11:18', '2022-06-18 19:11:19', '2022-06-18 19:11:20', '2022-06-18 19:11:21', '2022-06-18 19:11:22', '2022-06-18 19:11:23', '2022-06-18 19:11:24', '2022-06-18 19:11:25', '2022-06-18 19:11:26', '2022-06-18 19:11:27', '2022-06-18 19:11:28', '2022-06-18 19:11:29', '2022-06-18 19:11:30', '2022-06-18 19:11:31', '2022-06-18 19:11:32', '2022-06-18 19:11:33', '2022-06-18 19:11:34', '2022-06-18 19:11:35', '2022-06-18 19:11:36', '2022-06-18 19:11:37', '2022-06-18 19:11:38', '2022-06-18 19:11:39', '2022-06-18 19:11:40', '2022-06-18 19:11:41', '2022-06-18 19:11:42', '2022-06-18 19:11:43', '2022-06-18 19:11:44', '2022-06-18 19:11:45', '2022-06-18 19:11:46', '2022-06-18 19:11:47', '2022-06-18 19:11:48', '2022-06-18 19:11:49', '2022-06-18 19:11:50', '2022-06-18 19:11:51', '2022-06-18 19:11:52', '2022-06-18 19:11:53', '2022-06-18 19:11:54', '2022-06-18 19:11:55', '2022-06-18 19:11:56', '2022-06-18 19:11:57', '2022-06-18 19:11:58', '2022-06-18 19:11:59', '2022-06-18 19:12:00', '2022-06-18 19:12:01', '2022-06-18 19:12:02', '2022-06-18 19:12:03', '2022-06-18 19:12:04', '2022-06-18 19:12:05', '2022-06-18 19:12:06', '2022-06-18 19:12:07', '2022-06-18 19:12:08', '2022-06-18 19:12:09', '2022-06-18 19:12:10', '2022-06-18 19:12:11', '2022-06-18 19:12:12', '2022-06-18 19:12:13', '2022-06-18 19:12:14', '2022-06-18 19:12:15', '2022-06-18 19:12:16', '2022-06-18 19:12:17', '2022-06-18 19:12:18', '2022-06-18 19:12:19', '2022-06-18 19:12:20', '2022-06-18 19:12:21', '2022-06-18 19:12:22', '2022-06-18 19:12:23', '2022-06-18 19:12:24', '2022-06-18 19:12:25', '2022-06-18 19:12:26', '2022-06-18 19:12:27', '2022-06-18 19:12:28', '2022-06-18 19:12:29', '2022-06-18 19:12:30', '2022-06-18 19:12:31', '2022-06-18 19:12:32', '2022-06-18 19:12:33', '2022-06-18 19:12:34', '2022-06-18 19:12:35', '2022-06-18 19:12:36', '2022-06-18 19:12:37', '2022-06-18 19:12:38', '2022-06-18 19:12:39', '2022-06-18 19:12:40', '2022-06-18 19:12:41', '2022-06-18 19:12:42', '2022-06-18 19:12:43', '2022-06-18 19:12:44', '2022-06-18 19:12:45', '2022-06-18 19:12:46', '2022-06-18 19:12:47', '2022-06-18 19:12:48', '2022-06-18 19:12:49', '2022-06-18 19:12:50', '2022-06-18 19:12:51', '2022-06-18 19:12:52', '2022-06-18 19:12:53', '2022-06-18 19:12:54', '2022-06-18 19:12:55', '2022-06-18 19:12:56', '2022-06-18 19:12:57', '2022-06-18 19:12:58', '2022-06-18 19:12:59', '2022-06-18 19:13:00', '2022-06-18 19:13:01', '2022-06-18 19:13:02', '2022-06-18 19:13:03', '2022-06-18 19:13:04', '2022-06-18 19:13:05', '2022-06-18 19:13:06', '2022-06-18 19:13:07', '2022-06-18 19:13:08', '2022-06-18 19:13:09', '2022-06-18 19:13:10', '2022-06-18 19:13:11', '2022-06-18 19:13:12', '2022-06-18 19:13:13', '2022-06-18 19:13:14', '2022-06-18 19:13:15', '2022-06-18 19:13:16', '2022-06-18 19:13:17', '2022-06-18 19:13:18', '2022-06-18 19:13:19', '2022-06-18 19:13:20', '2022-06-18 19:13:21', '2022-06-18 19:13:22', '2022-06-18 19:13:23', '2022-06-18 19:13:24', '2022-06-18 19:13:25', '2022-06-18 19:13:26', '2022-06-18 19:13:27', '2022-06-18 19:13:28', '2022-06-18 19:13:29', '2022-06-18 19:13:30', '2022-06-18 19:13:31', '2022-06-18 19:13:32', '2022-06-18 19:13:33', '2022-06-18 19:13:34', '2022-06-18 19:13:35', '2022-06-18 19:13:36', '2022-06-18 19:13:37', '2022-06-18 19:13:38', '2022-06-18 19:13:39', '2022-06-18 19:13:40', '2022-06-18 19:13:41', '2022-06-18 19:13:42', '2022-06-18 19:13:43', '2022-06-18 19:13:44', '2022-06-18 19:13:45', '2022-06-18 19:13:46', '2022-06-18 19:13:47', '2022-06-18 19:13:48', '2022-06-18 19:13:49', '2022-06-18 19:13:50', '2022-06-18 19:13:51', '2022-06-18 19:13:52', '2022-06-18 19:13:53', '2022-06-18 19:13:54', '2022-06-18 19:13:55', '2022-06-18 19:13:56', '2022-06-18 19:13:57', '2022-06-18 19:13:58', '2022-06-18 19:13:59', '2022-06-18 19:14:00', '2022-06-18 19:14:01', '2022-06-18 19:14:02', '2022-06-18 19:14:03', '2022-06-18 19:14:04', '2022-06-18 19:14:05', '2022-06-18 19:14:06', '2022-06-18 19:14:07', '2022-06-18 19:14:08', '2022-06-18 19:14:09', '2022-06-18 19:14:10', '2022-06-18 19:14:11', '2022-06-18 19:14:12', '2022-06-18 19:14:13', '2022-06-18 19:14:14', '2022-06-18 19:14:15', '2022-06-18 19:14:16', '2022-06-18 19:14:17', '2022-06-18 19:14:18', '2022-06-18 19:14:19', '2022-06-18 19:14:20', '2022-06-18 19:14:21', '2022-06-18 19:14:22', '2022-06-18 19:14:23', '2022-06-18 19:14:24', '2022-06-18 19:14:25', '2022-06-18 19:14:26', '2022-06-18 19:14:27', '2022-06-18 19:14:28', '2022-06-18 19:14:29', '2022-06-18 19:14:30', '2022-06-18 19:14:31', '2022-06-18 19:14:32', '2022-06-18 19:14:33', '2022-06-18 19:14:34', '2022-06-18 19:14:35', '2022-06-18 19:14:36', '2022-06-18 19:14:37', '2022-06-18 19:14:38', '2022-06-18 19:14:39', '2022-06-18 19:14:40', '2022-06-18 19:14:41', '2022-06-18 19:14:42', '2022-06-18 19:14:43', '2022-06-18 19:14:44', '2022-06-18 19:14:45', '2022-06-18 19:14:46', '2022-06-18 19:14:47', '2022-06-18 19:14:48', '2022-06-18 19:14:49', '2022-06-18 19:14:50', '2022-06-18 19:14:51', '2022-06-18 19:14:52', '2022-06-18 19:14:53', '2022-06-18 19:14:54', '2022-06-18 19:14:55', '2022-06-18 19:14:56', '2022-06-18 19:14:57', '2022-06-18 19:14:58', '2022-06-18 19:14:59', '2022-06-18 19:15:00', '2022-06-18 19:15:01', '2022-06-18 19:15:02', '2022-06-18 19:15:03', '2022-06-18 19:15:04', '2022-06-18 19:15:05', '2022-06-18 19:15:06', '2022-06-18 19:15:07', '2022-06-18 19:15:08', '2022-06-18 19:15:09', '2022-06-18 19:15:10', '2022-06-18 19:15:11', '2022-06-18 19:15:12', '2022-06-18 19:15:13', '2022-06-18 19:15:14', '2022-06-18 19:15:15', '2022-06-18 19:15:16', '2022-06-18 19:15:17', '2022-06-18 19:15:18', '2022-06-18 19:15:19', '2022-06-18 19:15:20', '2022-06-18 19:15:21', '2022-06-18 19:15:22', '2022-06-18 19:15:23', '2022-06-18 19:15:24', '2022-06-18 19:15:25', '2022-06-18 19:15:26', '2022-06-18 19:15:27', '2022-06-18 19:15:28', '2022-06-18 19:15:29', '2022-06-18 19:15:30', '2022-06-18 19:15:31', '2022-06-18 19:15:32', '2022-06-18 19:15:33', '2022-06-18 19:15:34', '2022-06-18 19:15:35', '2022-06-18 19:15:36', '2022-06-18 19:15:37', '2022-06-18 19:15:38', '2022-06-18 19:15:39', '2022-06-18 19:15:40', '2022-06-18 19:15:41', '2022-06-18 19:15:42', '2022-06-18 19:15:43', '2022-06-18 19:15:44', '2022-06-18 19:15:45', '2022-06-18 19:15:46', '2022-06-18 19:15:47', '2022-06-18 19:15:48', '2022-06-18 19:15:49', '2022-06-18 19:15:50', '2022-06-18 19:15:51', '2022-06-18 19:15:52', '2022-06-18 19:15:53', '2022-06-18 19:15:54', '2022-06-18 19:15:55', '2022-06-18 19:15:56', '2022-06-18 19:15:57', '2022-06-18 19:15:58', '2022-06-18 19:15:59', '2022-06-18 19:16:00', '2022-06-18 19:16:01', '2022-06-18 19:16:02', '2022-06-18 19:16:03', '2022-06-18 19:16:04', '2022-06-18 19:16:05', '2022-06-18 19:16:06', '2022-06-18 19:16:07', '2022-06-18 19:16:08', '2022-06-18 19:16:09', '2022-06-18 19:16:10', '2022-06-18 19:16:11', '2022-06-18 19:16:12', '2022-06-18 19:16:13', '2022-06-18 19:16:14', '2022-06-18 19:16:15', '2022-06-18 19:16:16', '2022-06-18 19:16:17', '2022-06-18 19:16:18', '2022-06-18 19:16:19', '2022-06-18 19:16:20', '2022-06-18 19:16:21', '2022-06-18 19:16:22', '2022-06-18 19:16:23', '2022-06-18 19:16:24', '2022-06-18 19:16:25', '2022-06-18 19:16:26', '2022-06-18 19:16:27', '2022-06-18 19:16:28', '2022-06-18 19:16:29', '2022-06-18 19:16:30', '2022-06-18 19:16:31', '2022-06-18 19:16:32', '2022-06-18 19:16:33', '2022-06-18 19:16:34', '2022-06-18 19:16:35', '2022-06-18 19:16:36', '2022-06-18 19:16:37', '2022-06-18 19:16:38', '2022-06-18 19:16:39', '2022-06-18 19:16:40', '2022-06-18 19:16:41', '2022-06-18 19:16:42', '2022-06-18 19:16:43', '2022-06-18 19:16:44', '2022-06-18 19:16:45', '2022-06-18 19:16:46', '2022-06-18 19:16:47', '2022-06-18 19:16:48', '2022-06-18 19:16:49', '2022-06-18 19:16:50', '2022-06-18 19:16:51', '2022-06-18 19:16:52', '2022-06-18 19:16:53', '2022-06-18 19:16:54', '2022-06-18 19:16:55', '2022-06-18 19:16:56', '2022-06-18 19:16:57', '2022-06-18 19:16:58', '2022-06-18 19:16:59', '2022-06-18 19:17:00', '2022-06-18 19:17:01', '2022-06-18 19:17:02', '2022-06-18 19:17:03', '2022-06-18 19:17:04', '2022-06-18 19:17:05', '2022-06-18 19:17:06', '2022-06-18 19:17:07', '2022-06-18 19:17:08', '2022-06-18 19:17:09', '2022-06-18 19:17:10', '2022-06-18 19:17:11', '2022-06-18 19:17:12', '2022-06-18 19:17:13', '2022-06-18 19:17:14', '2022-06-18 19:17:15', '2022-06-18 19:17:16', '2022-06-18 19:17:17', '2022-06-18 19:17:18', '2022-06-18 19:17:19', '2022-06-18 19:17:20', '2022-06-18 19:17:21', '2022-06-18 19:17:22', '2022-06-18 19:17:23', '2022-06-18 19:17:24', '2022-06-18 19:17:25', '2022-06-18 19:17:26', '2022-06-18 19:17:27', '2022-06-18 19:17:28', '2022-06-18 19:17:29', '2022-06-18 19:17:30', '2022-06-18 19:17:31', '2022-06-18 19:17:32', '2022-06-18 19:17:33', '2022-06-18 19:17:34', '2022-06-18 19:17:35', '2022-06-18 19:17:36', '2022-06-18 19:17:37', '2022-06-18 19:17:38', '2022-06-18 19:17:39', '2022-06-18 19:17:40', '2022-06-18 19:17:41', '2022-06-18 19:17:42', '2022-06-18 19:17:43', '2022-06-18 19:17:44', '2022-06-18 19:17:45', '2022-06-18 19:17:46', '2022-06-18 19:17:47', '2022-06-18 19:17:48', '2022-06-18 19:17:49', '2022-06-18 19:17:50', '2022-06-18 19:17:51', '2022-06-18 19:17:52', '2022-06-18 19:17:53', '2022-06-18 19:17:54', '2022-06-18 19:17:55', '2022-06-18 19:17:56', '2022-06-18 19:17:57', '2022-06-18 19:17:58', '2022-06-18 19:17:59', '2022-06-18 19:18:00', '2022-06-18 19:18:01', '2022-06-18 19:18:02', '2022-06-18 19:18:03', '2022-06-18 19:18:04', '2022-06-18 19:18:05', '2022-06-18 19:18:06', '2022-06-18 19:18:07', '2022-06-18 19:18:08', '2022-06-18 19:18:09', '2022-06-18 19:18:10', '2022-06-18 19:18:11', '2022-06-18 19:18:12', '2022-06-18 19:18:13', '2022-06-18 19:18:14', '2022-06-18 19:18:15', '2022-06-18 19:18:16', '2022-06-18 19:18:17', '2022-06-18 19:18:18', '2022-06-18 19:18:19', '2022-06-18 19:18:20', '2022-06-18 19:18:21', '2022-06-18 19:18:22', '2022-06-18 19:18:23', '2022-06-18 19:18:24', '2022-06-18 19:18:25', '2022-06-18 19:18:26', '2022-06-18 19:18:27', '2022-06-18 19:18:28', '2022-06-18 19:18:29', '2022-06-18 19:18:30', '2022-06-18 19:18:31', '2022-06-18 19:18:32', '2022-06-18 19:18:33', '2022-06-18 19:18:34', '2022-06-18 19:18:35', '2022-06-18 19:18:36', '2022-06-18 19:18:37', '2022-06-18 19:18:38', '2022-06-18 19:18:39', '2022-06-18 19:18:40', '2022-06-18 19:18:41', '2022-06-18 19:18:42', '2022-06-18 19:18:43', '2022-06-18 19:18:44', '2022-06-18 19:18:45', '2022-06-18 19:18:46', '2022-06-18 19:18:47', '2022-06-18 19:18:48', '2022-06-18 19:18:49', '2022-06-18 19:18:50', '2022-06-18 19:18:51', '2022-06-18 19:18:52', '2022-06-18 19:18:53', '2022-06-18 19:18:54', '2022-06-18 19:18:55', '2022-06-18 19:18:56', '2022-06-18 19:18:57', '2022-06-18 19:18:58', '2022-06-18 19:18:59', '2022-06-18 19:19:00', '2022-06-18 19:19:01', '2022-06-18 19:19:02', '2022-06-18 19:19:03', '2022-06-18 19:19:04', '2022-06-18 19:19:05', '2022-06-18 19:19:06', '2022-06-18 19:19:07', '2022-06-18 19:19:08', '2022-06-18 19:19:09', '2022-06-18 19:19:10', '2022-06-18 19:19:11', '2022-06-18 19:19:12', '2022-06-18 19:19:13', '2022-06-18 19:19:14', '2022-06-18 19:19:15', '2022-06-18 19:19:16', '2022-06-18 19:19:17', '2022-06-18 19:19:18', '2022-06-18 19:19:19', '2022-06-18 19:19:20', '2022-06-18 19:19:21', '2022-06-18 19:19:22', '2022-06-18 19:19:23', '2022-06-18 19:19:24', '2022-06-18 19:19:25', '2022-06-18 19:19:26', '2022-06-18 19:19:27', '2022-06-18 19:19:28', '2022-06-18 19:19:29', '2022-06-18 19:19:30', '2022-06-18 19:19:31', '2022-06-18 19:19:32', '2022-06-18 19:19:33', '2022-06-18 19:19:34', '2022-06-18 19:19:35', '2022-06-18 19:19:36', '2022-06-18 19:19:37', '2022-06-18 19:19:38', '2022-06-18 19:19:39', '2022-06-18 19:19:40', '2022-06-18 19:19:41', '2022-06-18 19:19:42', '2022-06-18 19:19:43', '2022-06-18 19:19:44', '2022-06-18 19:19:45', '2022-06-18 19:19:46', '2022-06-18 19:19:47', '2022-06-18 19:19:48', '2022-06-18 19:19:49', '2022-06-18 19:19:50', '2022-06-18 19:19:51', '2022-06-18 19:19:52', '2022-06-18 19:19:53', '2022-06-18 19:19:54', '2022-06-18 19:19:55', '2022-06-18 19:19:56', '2022-06-18 19:19:57', '2022-06-18 19:19:58', '2022-06-18 19:19:59', '2022-06-18 19:20:00', '2022-06-18 19:20:01', '2022-06-18 19:20:02', '2022-06-18 19:20:03', '2022-06-18 19:20:04', '2022-06-18 19:20:05', '2022-06-18 19:20:06', '2022-06-18 19:20:07', '2022-06-18 19:20:08', '2022-06-18 19:20:09', '2022-06-18 19:20:10', '2022-06-18 19:20:11', '2022-06-18 19:20:12', '2022-06-18 19:20:13', '2022-06-18 19:20:14', '2022-06-18 19:20:15', '2022-06-18 19:20:16', '2022-06-18 19:20:17', '2022-06-18 19:20:18', '2022-06-18 19:20:19', '2022-06-18 19:20:20', '2022-06-18 19:20:21', '2022-06-18 19:20:22', '2022-06-18 19:20:23', '2022-06-18 19:20:24', '2022-06-18 19:20:25', '2022-06-18 19:20:26', '2022-06-18 19:20:27', '2022-06-18 19:20:28', '2022-06-18 19:20:29', '2022-06-18 19:20:30', '2022-06-18 19:20:31', '2022-06-18 19:20:32', '2022-06-18 19:20:33', '2022-06-18 19:20:34', '2022-06-18 19:20:35', '2022-06-18 19:20:36', '2022-06-18 19:20:37', '2022-06-18 19:20:38', '2022-06-18 19:20:39', '2022-06-18 19:20:40', '2022-06-18 19:20:41', '2022-06-18 19:20:42', '2022-06-18 19:20:43', '2022-06-18 19:20:44', '2022-06-18 19:20:45', '2022-06-18 19:20:46', '2022-06-18 19:20:47', '2022-06-18 19:20:48', '2022-06-18 19:20:49', '2022-06-18 19:20:50', '2022-06-18 19:20:51', '2022-06-18 19:20:52', '2022-06-18 19:20:53', '2022-06-18 19:20:54', '2022-06-18 19:20:55', '2022-06-18 19:20:56', '2022-06-18 19:20:57', '2022-06-18 19:20:58', '2022-06-18 19:20:59', '2022-06-18 19:21:00', '2022-06-18 19:21:01', '2022-06-18 19:21:02', '2022-06-18 19:21:03', '2022-06-18 19:21:04', '2022-06-18 19:21:05', '2022-06-18 19:21:06', '2022-06-18 19:21:07', '2022-06-18 19:21:08', '2022-06-18 19:21:09', '2022-06-18 19:21:10', '2022-06-18 19:21:11', '2022-06-18 19:21:12', '2022-06-18 19:21:13', '2022-06-18 19:21:14', '2022-06-18 19:21:15', '2022-06-18 19:21:16', '2022-06-18 19:21:17', '2022-06-18 19:21:18', '2022-06-18 19:21:19', '2022-06-18 19:21:20', '2022-06-18 19:21:21', '2022-06-18 19:21:22', '2022-06-18 19:21:23', '2022-06-18 19:21:24', '2022-06-18 19:21:25', '2022-06-18 19:21:26', '2022-06-18 19:21:27', '2022-06-18 19:21:28', '2022-06-18 19:21:29', '2022-06-18 19:21:30', '2022-06-18 19:21:31', '2022-06-18 19:21:32', '2022-06-18 19:21:33', '2022-06-18 19:21:34', '2022-06-18 19:21:35', '2022-06-18 19:21:36', '2022-06-18 19:21:37', '2022-06-18 19:21:38', '2022-06-18 19:21:39', '2022-06-18 19:21:40', '2022-06-18 19:21:41', '2022-06-18 19:21:42', '2022-06-18 19:21:43', '2022-06-18 19:21:44', '2022-06-18 19:21:45', '2022-06-18 19:21:46', '2022-06-18 19:21:47', '2022-06-18 19:21:48', '2022-06-18 19:21:49', '2022-06-18 19:21:50', '2022-06-18 19:21:51', '2022-06-18 19:21:52', '2022-06-18 19:21:53', '2022-06-18 19:21:54', '2022-06-18 19:21:55', '2022-06-18 19:21:56', '2022-06-18 19:21:57', '2022-06-18 19:21:58', '2022-06-18 19:21:59', '2022-06-18 19:22:00', '2022-06-18 19:22:01', '2022-06-18 19:22:02', '2022-06-18 19:22:03', '2022-06-18 19:22:04', '2022-06-18 19:22:05', '2022-06-18 19:22:06', '2022-06-18 19:22:07', '2022-06-18 19:22:08', '2022-06-18 19:22:09', '2022-06-18 19:22:10', '2022-06-18 19:22:11', '2022-06-18 19:22:12', '2022-06-18 19:22:13', '2022-06-18 19:22:14', '2022-06-18 19:22:15', '2022-06-18 19:22:16', '2022-06-18 19:22:17', '2022-06-18 19:22:18', '2022-06-18 19:22:19', '2022-06-18 19:22:20', '2022-06-18 19:22:21', '2022-06-18 19:22:22', '2022-06-18 19:22:23', '2022-06-18 19:22:24', '2022-06-18 19:22:25', '2022-06-18 19:22:26', '2022-06-18 19:22:27', '2022-06-18 19:22:28', '2022-06-18 19:22:29', '2022-06-18 19:22:30', '2022-06-18 19:22:31', '2022-06-18 19:22:32', '2022-06-18 19:22:33', '2022-06-18 19:22:34', '2022-06-18 19:22:35', '2022-06-18 19:22:36', '2022-06-18 19:22:37', '2022-06-18 19:22:38', '2022-06-18 19:22:39', '2022-06-18 19:22:40', '2022-06-18 19:22:41', '2022-06-18 19:22:42', '2022-06-18 19:22:43', '2022-06-18 19:22:44', '2022-06-18 19:22:45', '2022-06-18 19:22:46', '2022-06-18 19:22:47', '2022-06-18 19:22:48', '2022-06-18 19:22:49', '2022-06-18 19:22:50', '2022-06-18 19:22:51', '2022-06-18 19:22:52', '2022-06-18 19:22:53', '2022-06-18 19:22:54', '2022-06-18 19:22:55', '2022-06-18 19:22:56', '2022-06-18 19:22:57', '2022-06-18 19:22:58', '2022-06-18 19:22:59', '2022-06-18 19:23:00', '2022-06-18 19:23:01', '2022-06-18 19:23:02', '2022-06-18 19:23:03', '2022-06-18 19:23:04', '2022-06-18 19:23:05', '2022-06-18 19:23:06', '2022-06-18 19:23:07', '2022-06-18 19:23:08', '2022-06-18 19:23:09', '2022-06-18 19:23:10', '2022-06-18 19:23:11', '2022-06-18 19:23:12', '2022-06-18 19:23:13', '2022-06-18 19:23:14', '2022-06-18 19:23:15', '2022-06-18 19:23:16', '2022-06-18 19:23:17', '2022-06-18 19:23:18', '2022-06-18 19:23:19', '2022-06-18 19:23:20', '2022-06-18 19:23:21', '2022-06-18 19:23:22', '2022-06-18 19:23:23', '2022-06-18 19:23:24', '2022-06-18 19:23:25', '2022-06-18 19:23:26', '2022-06-18 19:23:27', '2022-06-18 19:23:28', '2022-06-18 19:23:29', '2022-06-18 19:23:30', '2022-06-18 19:23:31', '2022-06-18 19:23:32', '2022-06-18 19:23:33', '2022-06-18 19:23:34', '2022-06-18 19:23:35', '2022-06-18 19:23:36', '2022-06-18 19:23:37', '2022-06-18 19:23:38', '2022-06-18 19:23:39', '2022-06-18 19:23:40', '2022-06-18 19:23:41', '2022-06-18 19:23:42', '2022-06-18 19:23:43', '2022-06-18 19:23:44', '2022-06-18 19:23:45', '2022-06-18 19:23:46', '2022-06-18 19:23:47', '2022-06-18 19:23:48', '2022-06-18 19:23:49', '2022-06-18 19:23:50', '2022-06-18 19:23:51', '2022-06-18 19:23:52', '2022-06-18 19:23:53', '2022-06-18 19:23:54', '2022-06-18 19:23:55', '2022-06-18 19:23:56', '2022-06-18 19:23:57', '2022-06-18 19:23:58', '2022-06-18 19:23:59', '2022-06-18 19:24:00', '2022-06-18 19:24:01', '2022-06-18 19:24:02', '2022-06-18 19:24:03', '2022-06-18 19:24:04', '2022-06-18 19:24:05', '2022-06-18 19:24:06', '2022-06-18 19:24:07', '2022-06-18 19:24:08', '2022-06-18 19:24:09', '2022-06-18 19:24:10', '2022-06-18 19:24:11', '2022-06-18 19:24:12', '2022-06-18 19:24:13', '2022-06-18 19:24:14', '2022-06-18 19:24:15', '2022-06-18 19:24:16', '2022-06-18 19:24:17', '2022-06-18 19:24:18', '2022-06-18 19:24:19', '2022-06-18 19:24:20', '2022-06-18 19:24:21', '2022-06-18 19:24:22', '2022-06-18 19:24:23', '2022-06-18 19:24:24', '2022-06-18 19:24:25', '2022-06-18 19:24:26', '2022-06-18 19:24:27', '2022-06-18 19:24:28', '2022-06-18 19:24:29', '2022-06-18 19:24:30', '2022-06-18 19:24:31', '2022-06-18 19:24:32', '2022-06-18 19:24:33', '2022-06-18 19:24:34', '2022-06-18 19:24:35', '2022-06-18 19:24:36', '2022-06-18 19:24:37', '2022-06-18 19:24:38', '2022-06-18 19:24:39', '2022-06-18 19:24:40', '2022-06-18 19:24:41', '2022-06-18 19:24:42', '2022-06-18 19:24:43', '2022-06-18 19:24:44', '2022-06-18 19:24:45', '2022-06-18 19:24:46', '2022-06-18 19:24:47', '2022-06-18 19:24:48', '2022-06-18 19:24:49', '2022-06-18 19:24:50', '2022-06-18 19:24:51', '2022-06-18 19:24:52', '2022-06-18 19:24:53', '2022-06-18 19:24:54', '2022-06-18 19:24:55', '2022-06-18 19:24:56', '2022-06-18 19:24:57', '2022-06-18 19:24:58', '2022-06-18 19:24:59', '2022-06-18 19:25:00', '2022-06-18 19:25:01', '2022-06-18 19:25:02', '2022-06-18 19:25:03', '2022-06-18 19:25:04', '2022-06-18 19:25:05', '2022-06-18 19:25:06', '2022-06-18 19:25:07', '2022-06-18 19:25:08', '2022-06-18 19:25:09', '2022-06-18 19:25:10', '2022-06-18 19:25:11', '2022-06-18 19:25:12', '2022-06-18 19:25:13', '2022-06-18 19:25:14', '2022-06-18 19:25:15', '2022-06-18 19:25:16', '2022-06-18 19:25:17', '2022-06-18 19:25:18', '2022-06-18 19:25:19', '2022-06-18 19:25:20', '2022-06-18 19:25:21', '2022-06-18 19:25:22', '2022-06-18 19:25:23', '2022-06-18 19:25:24', '2022-06-18 19:25:25', '2022-06-18 19:25:26', '2022-06-18 19:25:27', '2022-06-18 19:25:28', '2022-06-18 19:25:29', '2022-06-18 19:25:30', '2022-06-18 19:25:31', '2022-06-18 19:25:32', '2022-06-18 19:25:33', '2022-06-18 19:25:34', '2022-06-18 19:25:35', '2022-06-18 19:25:36', '2022-06-18 19:25:37', '2022-06-18 19:25:38', '2022-06-18 19:25:39', '2022-06-18 19:25:40', '2022-06-18 19:25:41', '2022-06-18 19:25:42', '2022-06-18 19:25:43', '2022-06-18 19:25:44', '2022-06-18 19:25:45', '2022-06-18 19:25:46', '2022-06-18 19:25:47', '2022-06-18 19:25:48', '2022-06-18 19:25:49', '2022-06-18 19:25:50', '2022-06-18 19:25:51', '2022-06-18 19:25:52', '2022-06-18 19:25:53', '2022-06-18 19:25:54', '2022-06-18 19:25:55', '2022-06-18 19:25:56', '2022-06-18 19:25:57', '2022-06-18 19:25:58', '2022-06-18 19:25:59', '2022-06-18 19:26:00', '2022-06-18 19:26:01', '2022-06-18 19:26:02', '2022-06-18 19:26:03', '2022-06-18 19:26:04', '2022-06-18 19:26:05', '2022-06-18 19:26:06', '2022-06-18 19:26:07', '2022-06-18 19:26:08', '2022-06-18 19:26:09', '2022-06-18 19:26:10', '2022-06-18 19:26:11', '2022-06-18 19:26:12', '2022-06-18 19:26:13', '2022-06-18 19:26:14', '2022-06-18 19:26:15', '2022-06-18 19:26:16', '2022-06-18 19:26:17', '2022-06-18 19:26:18', '2022-06-18 19:26:19', '2022-06-18 19:26:20', '2022-06-18 19:26:21', '2022-06-18 19:26:22', '2022-06-18 19:26:23', '2022-06-18 19:26:24', '2022-06-18 19:26:25', '2022-06-18 19:26:26', '2022-06-18 19:26:27', '2022-06-18 19:26:28', '2022-06-18 19:26:29', '2022-06-18 19:26:30', '2022-06-18 19:26:31', '2022-06-18 19:26:32', '2022-06-18 19:26:33', '2022-06-18 19:26:34', '2022-06-18 19:26:35', '2022-06-18 19:26:36', '2022-06-18 19:26:37', '2022-06-18 19:26:38', '2022-06-18 19:26:39', '2022-06-18 19:26:40', '2022-06-18 19:26:41', '2022-06-18 19:26:42', '2022-06-18 19:26:43', '2022-06-18 19:26:44', '2022-06-18 19:26:45', '2022-06-18 19:26:46', '2022-06-18 19:26:47', '2022-06-18 19:26:48', '2022-06-18 19:26:49', '2022-06-18 19:26:50', '2022-06-18 19:26:51', '2022-06-18 19:26:52', '2022-06-18 19:26:53', '2022-06-18 19:26:54', '2022-06-18 19:26:55', '2022-06-18 19:26:56', '2022-06-18 19:26:57', '2022-06-18 19:26:58', '2022-06-18 19:26:59', '2022-06-18 19:27:00', '2022-06-18 19:27:01', '2022-06-18 19:27:02', '2022-06-18 19:27:03', '2022-06-18 19:27:04', '2022-06-18 19:27:05', '2022-06-18 19:27:06', '2022-06-18 19:27:07', '2022-06-18 19:27:08', '2022-06-18 19:27:09', '2022-06-18 19:27:10', '2022-06-18 19:27:11', '2022-06-18 19:27:12', '2022-06-18 19:27:13', '2022-06-18 19:27:14', '2022-06-18 19:27:15', '2022-06-18 19:27:16', '2022-06-18 19:27:17', '2022-06-18 19:27:18', '2022-06-18 19:27:19', '2022-06-18 19:27:20', '2022-06-18 19:27:21', '2022-06-18 19:27:22', '2022-06-18 19:27:23', '2022-06-18 19:27:24', '2022-06-18 19:27:25', '2022-06-18 19:27:26', '2022-06-18 19:27:27', '2022-06-18 19:27:28', '2022-06-18 19:27:29', '2022-06-18 19:27:30', '2022-06-18 19:27:31', '2022-06-18 19:27:32', '2022-06-18 19:27:33', '2022-06-18 19:27:34', '2022-06-18 19:27:35', '2022-06-18 19:27:36', '2022-06-18 19:27:37', '2022-06-18 19:27:38', '2022-06-18 19:27:39', '2022-06-18 19:27:40', '2022-06-18 19:27:41', '2022-06-18 19:27:42', '2022-06-18 19:27:43', '2022-06-18 19:27:44', '2022-06-18 19:27:45', '2022-06-18 19:27:46', '2022-06-18 19:27:47', '2022-06-18 19:27:48', '2022-06-18 19:27:49', '2022-06-18 19:27:50', '2022-06-18 19:27:51', '2022-06-18 19:27:52', '2022-06-18 19:27:53', '2022-06-18 19:27:54', '2022-06-18 19:27:55', '2022-06-18 19:27:56', '2022-06-18 19:27:57', '2022-06-18 19:27:58', '2022-06-18 19:27:59', '2022-06-18 19:28:00', '2022-06-18 19:28:01', '2022-06-18 19:28:02', '2022-06-18 19:28:03', '2022-06-18 19:28:04', '2022-06-18 19:28:05', '2022-06-18 19:28:06', '2022-06-18 19:28:07', '2022-06-18 19:28:08', '2022-06-18 19:28:09', '2022-06-18 19:28:10', '2022-06-18 19:28:11', '2022-06-18 19:28:12', '2022-06-18 19:28:13', '2022-06-18 19:28:14', '2022-06-18 19:28:15', '2022-06-18 19:28:16', '2022-06-18 19:28:17', '2022-06-18 19:28:18', '2022-06-18 19:28:19', '2022-06-18 19:28:20', '2022-06-18 19:28:21', '2022-06-18 19:28:22', '2022-06-18 19:28:23', '2022-06-18 19:28:24', '2022-06-18 19:28:25', '2022-06-18 19:28:26', '2022-06-18 19:28:27', '2022-06-18 19:28:28', '2022-06-18 19:28:29', '2022-06-18 19:28:30', '2022-06-18 19:28:31', '2022-06-18 19:28:32', '2022-06-18 19:28:33', '2022-06-18 19:28:34', '2022-06-18 19:28:35', '2022-06-18 19:28:36', '2022-06-18 19:28:37', '2022-06-18 19:28:38', '2022-06-18 19:28:39', '2022-06-18 19:28:40', '2022-06-18 19:28:41', '2022-06-18 19:28:42', '2022-06-18 19:28:43', '2022-06-18 19:28:44', '2022-06-18 19:28:45', '2022-06-18 19:28:46', '2022-06-18 19:28:47', '2022-06-18 19:28:48', '2022-06-18 19:28:49', '2022-06-18 19:28:50', '2022-06-18 19:28:51', '2022-06-18 19:28:52', '2022-06-18 19:28:53', '2022-06-18 19:28:54', '2022-06-18 19:28:55', '2022-06-18 19:28:56', '2022-06-18 19:28:57', '2022-06-18 19:28:58', '2022-06-18 19:28:59', '2022-06-18 19:29:00', '2022-06-18 19:29:01', '2022-06-18 19:29:02', '2022-06-18 19:29:03', '2022-06-18 19:29:04', '2022-06-18 19:29:05', '2022-06-18 19:29:06', '2022-06-18 19:29:07', '2022-06-18 19:29:08', '2022-06-18 19:29:09', '2022-06-18 19:29:10', '2022-06-18 19:29:11', '2022-06-18 19:29:12', '2022-06-18 19:29:13', '2022-06-18 19:29:14', '2022-06-18 19:29:15', '2022-06-18 19:29:16', '2022-06-18 19:29:17', '2022-06-18 19:29:18', '2022-06-18 19:29:19', '2022-06-18 19:29:20', '2022-06-18 19:29:21', '2022-06-18 19:29:22', '2022-06-18 19:29:23', '2022-06-18 19:29:24', '2022-06-18 19:29:25', '2022-06-18 19:29:26', '2022-06-18 19:29:27', '2022-06-18 19:29:28', '2022-06-18 19:29:29', '2022-06-18 19:29:30', '2022-06-18 19:29:31', '2022-06-18 19:29:32', '2022-06-18 19:29:33', '2022-06-18 19:29:34', '2022-06-18 19:29:35', '2022-06-18 19:29:36', '2022-06-18 19:29:37', '2022-06-18 19:29:38', '2022-06-18 19:29:39', '2022-06-18 19:29:40', '2022-06-18 19:29:41', '2022-06-18 19:29:42', '2022-06-18 19:29:43', '2022-06-18 19:29:44', '2022-06-18 19:29:45', '2022-06-18 19:29:46', '2022-06-18 19:29:47', '2022-06-18 19:29:48', '2022-06-18 19:29:49', '2022-06-18 19:29:50', '2022-06-18 19:29:51', '2022-06-18 19:29:52', '2022-06-18 19:29:53', '2022-06-18 19:29:54', '2022-06-18 19:29:55', '2022-06-18 19:29:56', '2022-06-18 19:29:57', '2022-06-18 19:29:58', '2022-06-18 19:29:59', '2022-06-18 19:30:00', '2022-06-18 19:30:01', '2022-06-18 19:30:02', '2022-06-18 19:30:03', '2022-06-18 19:30:04', '2022-06-18 19:30:05', '2022-06-18 19:30:06', '2022-06-18 19:30:07', '2022-06-18 19:30:08', '2022-06-18 19:30:09', '2022-06-18 19:30:10', '2022-06-18 19:30:11', '2022-06-18 19:30:12', '2022-06-18 19:30:13', '2022-06-18 19:30:14', '2022-06-18 19:30:15', '2022-06-18 19:30:16', '2022-06-18 19:30:17', '2022-06-18 19:30:18', '2022-06-18 19:30:19', '2022-06-18 19:30:20', '2022-06-18 19:30:21', '2022-06-18 19:30:22', '2022-06-18 19:30:23', '2022-06-18 19:30:24', '2022-06-18 19:30:25', '2022-06-18 19:30:26', '2022-06-18 19:30:27', '2022-06-18 19:30:28', '2022-06-18 19:30:29', '2022-06-18 19:30:30', '2022-06-18 19:30:31', '2022-06-18 19:30:32', '2022-06-18 19:30:33', '2022-06-18 19:30:34', '2022-06-18 19:30:35', '2022-06-18 19:30:36', '2022-06-18 19:30:37', '2022-06-18 19:30:38', '2022-06-18 19:30:39', '2022-06-18 19:30:40', '2022-06-18 19:30:41', '2022-06-18 19:30:42', '2022-06-18 19:30:43', '2022-06-18 19:30:44', '2022-06-18 19:30:45', '2022-06-18 19:30:46', '2022-06-18 19:30:47', '2022-06-18 19:30:48', '2022-06-18 19:30:49', '2022-06-18 19:30:50', '2022-06-18 19:30:51', '2022-06-18 19:30:52', '2022-06-18 19:30:53', '2022-06-18 19:30:54', '2022-06-18 19:30:55', '2022-06-18 19:30:56', '2022-06-18 19:30:57', '2022-06-18 19:30:58', '2022-06-18 19:30:59', '2022-06-18 19:31:00', '2022-06-18 19:31:01', '2022-06-18 19:31:02', '2022-06-18 19:31:03', '2022-06-18 19:31:04', '2022-06-18 19:31:05', '2022-06-18 19:31:06', '2022-06-18 19:31:07', '2022-06-18 19:31:08', '2022-06-18 19:31:09', '2022-06-18 19:31:10', '2022-06-18 19:31:11', '2022-06-18 19:31:12', '2022-06-18 19:31:13', '2022-06-18 19:31:14', '2022-06-18 19:31:15', '2022-06-18 19:31:16', '2022-06-18 19:31:17', '2022-06-18 19:31:18', '2022-06-18 19:31:19', '2022-06-18 19:31:20', '2022-06-18 19:31:21', '2022-06-18 19:31:22', '2022-06-18 19:31:23', '2022-06-18 19:31:24', '2022-06-18 19:31:25', '2022-06-18 19:31:26', '2022-06-18 19:31:27', '2022-06-18 19:31:28', '2022-06-18 19:31:29', '2022-06-18 19:31:30', '2022-06-18 19:31:31', '2022-06-18 19:31:32', '2022-06-18 19:31:33', '2022-06-18 19:31:34', '2022-06-18 19:31:35', '2022-06-18 19:31:36', '2022-06-18 19:31:37', '2022-06-18 19:31:38', '2022-06-18 19:31:39', '2022-06-18 19:31:40', '2022-06-18 19:31:41', '2022-06-18 19:31:42', '2022-06-18 19:31:43', '2022-06-18 19:31:44', '2022-06-18 19:31:45', '2022-06-18 19:31:46', '2022-06-18 19:31:47', '2022-06-18 19:31:48', '2022-06-18 19:31:49', '2022-06-18 19:31:50', '2022-06-18 19:31:51', '2022-06-18 19:31:52', '2022-06-18 19:31:53', '2022-06-18 19:31:54', '2022-06-18 19:31:55', '2022-06-18 19:31:56', '2022-06-18 19:31:57', '2022-06-18 19:31:58', '2022-06-18 19:31:59', '2022-06-18 19:32:00', '2022-06-18 19:32:01', '2022-06-18 19:32:02', '2022-06-18 19:32:03', '2022-06-18 19:32:04', '2022-06-18 19:32:05', '2022-06-18 19:32:06', '2022-06-18 19:32:07', '2022-06-18 19:32:08', '2022-06-18 19:32:09', '2022-06-18 19:32:10', '2022-06-18 19:32:11', '2022-06-18 19:32:12', '2022-06-18 19:32:13', '2022-06-18 19:32:14', '2022-06-18 19:32:15', '2022-06-18 19:32:16', '2022-06-18 19:32:17', '2022-06-18 19:32:18', '2022-06-18 19:32:19', '2022-06-18 19:32:20', '2022-06-18 19:32:21', '2022-06-18 19:32:22', '2022-06-18 19:32:23', '2022-06-18 19:32:24', '2022-06-18 19:32:25', '2022-06-18 19:32:26', '2022-06-18 19:32:27', '2022-06-18 19:32:28', '2022-06-18 19:32:29', '2022-06-18 19:32:30', '2022-06-18 19:32:31', '2022-06-18 19:32:32', '2022-06-18 19:32:33', '2022-06-18 19:32:34', '2022-06-18 19:32:35', '2022-06-18 19:32:36', '2022-06-18 19:32:37', '2022-06-18 19:32:38', '2022-06-18 19:32:39', '2022-06-18 19:32:40', '2022-06-18 19:32:41', '2022-06-18 19:32:42', '2022-06-18 19:32:43', '2022-06-18 19:32:44', '2022-06-18 19:32:45', '2022-06-18 19:32:46', '2022-06-18 19:32:47', '2022-06-18 19:32:48', '2022-06-18 19:32:49', '2022-06-18 19:32:50', '2022-06-18 19:32:51', '2022-06-18 19:32:52', '2022-06-18 19:32:53', '2022-06-18 19:32:54', '2022-06-18 19:32:55', '2022-06-18 19:32:56', '2022-06-18 19:32:57', '2022-06-18 19:32:58', '2022-06-18 19:32:59', '2022-06-18 19:33:00', '2022-06-18 19:33:01', '2022-06-18 19:33:02', '2022-06-18 19:33:03', '2022-06-18 19:33:04', '2022-06-18 19:33:05', '2022-06-18 19:33:06', '2022-06-18 19:33:07', '2022-06-18 19:33:08', '2022-06-18 19:33:09', '2022-06-18 19:33:10', '2022-06-18 19:33:11', '2022-06-18 19:33:12', '2022-06-18 19:33:13', '2022-06-18 19:33:14', '2022-06-18 19:33:15', '2022-06-18 19:33:16', '2022-06-18 19:33:17', '2022-06-18 19:33:18', '2022-06-18 19:33:19', '2022-06-18 19:33:20', '2022-06-18 19:33:21', '2022-06-18 19:33:22', '2022-06-18 19:33:23', '2022-06-18 19:33:24', '2022-06-18 19:33:25', '2022-06-18 19:33:26', '2022-06-18 19:33:27', '2022-06-18 19:33:28', '2022-06-18 19:33:29', '2022-06-18 19:33:30', '2022-06-18 19:33:31', '2022-06-18 19:33:32', '2022-06-18 19:33:33', '2022-06-18 19:33:34', '2022-06-18 19:33:35', '2022-06-18 19:33:36', '2022-06-18 19:33:37', '2022-06-18 19:33:38', '2022-06-18 19:33:39', '2022-06-18 19:33:40', '2022-06-18 19:33:41', '2022-06-18 19:33:42', '2022-06-18 19:33:43', '2022-06-18 19:33:44', '2022-06-18 19:33:45', '2022-06-18 19:33:46', '2022-06-18 19:33:47', '2022-06-18 19:33:48', '2022-06-18 19:33:49', '2022-06-18 19:33:50', '2022-06-18 19:33:51', '2022-06-18 19:33:52', '2022-06-18 19:33:53', '2022-06-18 19:33:54', '2022-06-18 19:33:55', '2022-06-18 19:33:56', '2022-06-18 19:33:57', '2022-06-18 19:33:58', '2022-06-18 19:33:59', '2022-06-18 19:34:00', '2022-06-18 19:34:01', '2022-06-18 19:34:02', '2022-06-18 19:34:03', '2022-06-18 19:34:04', '2022-06-18 19:34:05', '2022-06-18 19:34:06', '2022-06-18 19:34:07', '2022-06-18 19:34:08', '2022-06-18 19:34:09', '2022-06-18 19:34:10', '2022-06-18 19:34:11', '2022-06-18 19:34:12', '2022-06-18 19:34:13', '2022-06-18 19:34:14', '2022-06-18 19:34:15', '2022-06-18 19:34:16', '2022-06-18 19:34:17', '2022-06-18 19:34:18', '2022-06-18 19:34:19', '2022-06-18 19:34:20', '2022-06-18 19:34:21', '2022-06-18 19:34:22', '2022-06-18 19:34:23', '2022-06-18 19:34:24', '2022-06-18 19:34:25', '2022-06-18 19:34:26', '2022-06-18 19:34:27', '2022-06-18 19:34:28', '2022-06-18 19:34:29', '2022-06-18 19:34:30', '2022-06-18 19:34:31', '2022-06-18 19:34:32', '2022-06-18 19:34:33', '2022-06-18 19:34:34', '2022-06-18 19:34:35', '2022-06-18 19:34:36', '2022-06-18 19:34:37', '2022-06-18 19:34:38', '2022-06-18 19:34:39', '2022-06-18 19:34:40', '2022-06-18 19:34:41', '2022-06-18 19:34:42', '2022-06-18 19:34:43', '2022-06-18 19:34:44', '2022-06-18 19:34:45', '2022-06-18 19:34:46', '2022-06-18 19:34:47', '2022-06-18 19:34:48', '2022-06-18 19:34:49', '2022-06-18 19:34:50', '2022-06-18 19:34:51', '2022-06-18 19:34:52', '2022-06-18 19:34:53', '2022-06-18 19:34:54', '2022-06-18 19:34:55', '2022-06-18 19:34:56', '2022-06-18 19:34:57', '2022-06-18 19:34:58', '2022-06-18 19:34:59', '2022-06-18 19:35:00', '2022-06-18 19:35:01', '2022-06-18 19:35:02', '2022-06-18 19:35:03', '2022-06-18 19:35:04', '2022-06-18 19:35:05', '2022-06-18 19:35:06', '2022-06-18 19:35:07', '2022-06-18 19:35:08', '2022-06-18 19:35:09', '2022-06-18 19:35:10', '2022-06-18 19:35:11', '2022-06-18 19:35:12', '2022-06-18 19:35:13', '2022-06-18 19:35:14', '2022-06-18 19:35:15', '2022-06-18 19:35:16', '2022-06-18 19:35:17', '2022-06-18 19:35:18', '2022-06-18 19:35:19', '2022-06-18 19:35:20', '2022-06-18 19:35:21', '2022-06-18 19:35:22', '2022-06-18 19:35:23', '2022-06-18 19:35:24', '2022-06-18 19:35:25', '2022-06-18 19:35:26', '2022-06-18 19:35:27', '2022-06-18 19:35:28', '2022-06-18 19:35:29', '2022-06-18 19:35:30', '2022-06-18 19:35:31', '2022-06-18 19:35:32', '2022-06-18 19:35:33', '2022-06-18 19:35:34', '2022-06-18 19:35:35', '2022-06-18 19:35:36', '2022-06-18 19:35:37', '2022-06-18 19:35:38', '2022-06-18 19:35:39', '2022-06-18 19:35:40', '2022-06-18 19:35:41', '2022-06-18 19:35:42', '2022-06-18 19:35:43', '2022-06-18 19:35:44', '2022-06-18 19:35:45', '2022-06-18 19:35:46', '2022-06-18 19:35:47', '2022-06-18 19:35:48', '2022-06-18 19:35:49', '2022-06-18 19:35:50', '2022-06-18 19:35:51', '2022-06-18 19:35:52', '2022-06-18 19:35:53', '2022-06-18 19:35:54', '2022-06-18 19:35:55', '2022-06-18 19:35:56', '2022-06-18 19:35:57', '2022-06-18 19:35:58', '2022-06-18 19:35:59', '2022-06-18 19:36:00', '2022-06-18 19:36:01', '2022-06-18 19:36:02', '2022-06-18 19:36:03', '2022-06-18 19:36:04', '2022-06-18 19:36:05', '2022-06-18 19:36:06', '2022-06-18 19:36:07', '2022-06-18 19:36:08', '2022-06-18 19:36:09', '2022-06-18 19:36:10', '2022-06-18 19:36:11', '2022-06-18 19:36:12', '2022-06-18 19:36:13', '2022-06-18 19:36:14', '2022-06-18 19:36:15', '2022-06-18 19:36:16', '2022-06-18 19:36:17', '2022-06-18 19:36:18', '2022-06-18 19:36:19', '2022-06-18 19:36:20', '2022-06-18 19:36:21', '2022-06-18 19:36:22', '2022-06-18 19:36:23', '2022-06-18 19:36:24', '2022-06-18 19:36:25', '2022-06-18 19:36:26', '2022-06-18 19:36:27', '2022-06-18 19:36:28', '2022-06-18 19:36:29', '2022-06-18 19:36:30', '2022-06-18 19:36:31', '2022-06-18 19:36:32', '2022-06-18 19:36:33', '2022-06-18 19:36:34', '2022-06-18 19:36:35', '2022-06-18 19:36:36', '2022-06-18 19:36:37', '2022-06-18 19:36:38', '2022-06-18 19:36:39', '2022-06-18 19:36:40', '2022-06-18 19:36:41', '2022-06-18 19:36:42', '2022-06-18 19:36:43', '2022-06-18 19:36:44', '2022-06-18 19:36:45', '2022-06-18 19:36:46', '2022-06-18 19:36:47', '2022-06-18 19:36:48', '2022-06-18 19:36:49', '2022-06-18 19:36:50', '2022-06-18 19:36:51', '2022-06-18 19:36:52', '2022-06-18 19:36:53', '2022-06-18 19:36:54', '2022-06-18 19:36:55', '2022-06-18 19:36:56', '2022-06-18 19:36:57', '2022-06-18 19:36:58', '2022-06-18 19:36:59', '2022-06-18 19:37:00', '2022-06-18 19:37:01', '2022-06-18 19:37:02', '2022-06-18 19:37:03', '2022-06-18 19:37:04', '2022-06-18 19:37:05', '2022-06-18 19:37:06', '2022-06-18 19:37:07', '2022-06-18 19:37:08', '2022-06-18 19:37:09', '2022-06-18 19:37:10', '2022-06-18 19:37:11', '2022-06-18 19:37:12', '2022-06-18 19:37:13', '2022-06-18 19:37:14', '2022-06-18 19:37:15', '2022-06-18 19:37:16', '2022-06-18 19:37:17', '2022-06-18 19:37:18', '2022-06-18 19:37:19', '2022-06-18 19:37:20', '2022-06-18 19:37:21', '2022-06-18 19:37:22', '2022-06-18 19:37:23', '2022-06-18 19:37:24', '2022-06-18 19:37:25', '2022-06-18 19:37:26', '2022-06-18 19:37:27', '2022-06-18 19:37:28', '2022-06-18 19:37:29', '2022-06-18 19:37:30', '2022-06-18 19:37:31', '2022-06-18 19:37:32', '2022-06-18 19:37:33', '2022-06-18 19:37:34', '2022-06-18 19:37:35', '2022-06-18 19:37:36', '2022-06-18 19:37:37', '2022-06-18 19:37:38', '2022-06-18 19:37:39', '2022-06-18 19:37:40', '2022-06-18 19:37:41', '2022-06-18 19:37:42', '2022-06-18 19:37:43', '2022-06-18 19:37:44', '2022-06-18 19:37:45', '2022-06-18 19:37:46', '2022-06-18 19:37:47', '2022-06-18 19:37:48', '2022-06-18 19:37:49', '2022-06-18 19:37:50', '2022-06-18 19:37:51', '2022-06-18 19:37:52', '2022-06-18 19:37:53', '2022-06-18 19:37:54', '2022-06-18 19:37:55', '2022-06-18 19:37:56', '2022-06-18 19:37:57', '2022-06-18 19:37:58', '2022-06-18 19:37:59', '2022-06-18 19:38:00', '2022-06-18 19:38:01', '2022-06-18 19:38:02', '2022-06-18 19:38:03', '2022-06-18 19:38:04', '2022-06-18 19:38:05', '2022-06-18 19:38:06', '2022-06-18 19:38:07', '2022-06-18 19:38:08', '2022-06-18 19:38:09', '2022-06-18 19:38:10', '2022-06-18 19:38:11', '2022-06-18 19:38:12', '2022-06-18 19:38:13', '2022-06-18 19:38:14', '2022-06-18 19:38:15', '2022-06-18 19:38:16', '2022-06-18 19:38:17', '2022-06-18 19:38:18', '2022-06-18 19:38:19', '2022-06-18 19:38:20', '2022-06-18 19:38:21', '2022-06-18 19:38:22', '2022-06-18 19:38:23', '2022-06-18 19:38:24', '2022-06-18 19:38:25', '2022-06-18 19:38:26', '2022-06-18 19:38:27', '2022-06-18 19:38:28', '2022-06-18 19:38:29', '2022-06-18 19:38:30', '2022-06-18 19:38:31', '2022-06-18 19:38:32', '2022-06-18 19:38:33', '2022-06-18 19:38:34', '2022-06-18 19:38:35', '2022-06-18 19:38:36', '2022-06-18 19:38:37', '2022-06-18 19:38:38', '2022-06-18 19:38:39', '2022-06-18 19:38:40', '2022-06-18 19:38:41', '2022-06-18 19:38:42', '2022-06-18 19:38:43', '2022-06-18 19:38:44', '2022-06-18 19:38:45', '2022-06-18 19:38:46', '2022-06-18 19:38:47', '2022-06-18 19:38:48', '2022-06-18 19:38:49', '2022-06-18 19:38:50', '2022-06-18 19:38:51', '2022-06-18 19:38:52', '2022-06-18 19:38:53', '2022-06-18 19:38:54', '2022-06-18 19:38:55', '2022-06-18 19:38:56', '2022-06-18 19:38:57', '2022-06-18 19:38:58', '2022-06-18 19:38:59', '2022-06-18 19:39:00', '2022-06-18 19:39:01', '2022-06-18 19:39:02', '2022-06-18 19:39:03', '2022-06-18 19:39:04', '2022-06-18 19:39:05', '2022-06-18 19:39:06', '2022-06-18 19:39:07', '2022-06-18 19:39:08', '2022-06-18 19:39:09', '2022-06-18 19:39:10', '2022-06-18 19:39:11', '2022-06-18 19:39:12', '2022-06-18 19:39:13', '2022-06-18 19:39:14', '2022-06-18 19:39:15', '2022-06-18 19:39:16', '2022-06-18 19:39:17', '2022-06-18 19:39:18', '2022-06-18 19:39:19', '2022-06-18 19:39:20', '2022-06-18 19:39:21', '2022-06-18 19:39:22', '2022-06-18 19:39:23', '2022-06-18 19:39:24', '2022-06-18 19:39:25', '2022-06-18 19:39:26', '2022-06-18 19:39:27', '2022-06-18 19:39:28', '2022-06-18 19:39:29', '2022-06-18 19:39:30', '2022-06-18 19:39:31', '2022-06-18 19:39:32', '2022-06-18 19:39:33', '2022-06-18 19:39:34', '2022-06-18 19:39:35', '2022-06-18 19:39:36', '2022-06-18 19:39:37', '2022-06-18 19:39:38', '2022-06-18 19:39:39', '2022-06-18 19:39:40', '2022-06-18 19:39:41', '2022-06-18 19:39:42', '2022-06-18 19:39:43', '2022-06-18 19:39:44', '2022-06-18 19:39:45', '2022-06-18 19:39:46', '2022-06-18 19:39:47', '2022-06-18 19:39:48', '2022-06-18 19:39:49', '2022-06-18 19:39:50', '2022-06-18 19:39:51', '2022-06-18 19:39:52', '2022-06-18 19:39:53', '2022-06-18 19:39:54', '2022-06-18 19:39:55', '2022-06-18 19:39:56', '2022-06-18 19:39:57', '2022-06-18 19:39:58', '2022-06-18 19:39:59', '2022-06-18 19:40:00', '2022-06-18 19:40:01', '2022-06-18 19:40:02', '2022-06-18 19:40:03', '2022-06-18 19:40:04', '2022-06-18 19:40:05', '2022-06-18 19:40:06', '2022-06-18 19:40:07', '2022-06-18 19:40:08', '2022-06-18 19:40:09', '2022-06-18 19:40:10', '2022-06-18 19:40:11', '2022-06-18 19:40:12', '2022-06-18 19:40:13', '2022-06-18 19:40:14', '2022-06-18 19:40:15', '2022-06-18 19:40:16', '2022-06-18 19:40:17', '2022-06-18 19:40:18', '2022-06-18 19:40:19', '2022-06-18 19:40:20', '2022-06-18 19:40:21', '2022-06-18 19:40:22', '2022-06-18 19:40:23', '2022-06-18 19:40:24', '2022-06-18 19:40:25', '2022-06-18 19:40:26', '2022-06-18 19:40:27', '2022-06-18 19:40:28', '2022-06-18 19:40:29', '2022-06-18 19:40:30', '2022-06-18 19:40:31', '2022-06-18 19:40:32', '2022-06-18 19:40:33', '2022-06-18 19:40:34', '2022-06-18 19:40:35', '2022-06-18 19:40:36', '2022-06-18 19:40:37', '2022-06-18 19:40:38', '2022-06-18 19:40:39', '2022-06-18 19:40:40', '2022-06-18 19:40:41', '2022-06-18 19:40:42', '2022-06-18 19:40:43', '2022-06-18 19:40:44', '2022-06-18 19:40:45', '2022-06-18 19:40:46', '2022-06-18 19:40:47', '2022-06-18 19:40:48', '2022-06-18 19:40:49', '2022-06-18 19:40:50', '2022-06-18 19:40:51', '2022-06-18 19:40:52', '2022-06-18 19:40:53', '2022-06-18 19:40:54', '2022-06-18 19:40:55', '2022-06-18 19:40:56', '2022-06-18 19:40:57', '2022-06-18 19:40:58', '2022-06-18 19:40:59', '2022-06-18 19:41:00', '2022-06-18 19:41:01', '2022-06-18 19:41:02', '2022-06-18 19:41:03', '2022-06-18 19:41:04', '2022-06-18 19:41:05', '2022-06-18 19:41:06', '2022-06-18 19:41:07', '2022-06-18 19:41:08', '2022-06-18 19:41:09', '2022-06-18 19:41:10', '2022-06-18 19:41:11', '2022-06-18 19:41:12', '2022-06-18 19:41:13', '2022-06-18 19:41:14', '2022-06-18 19:41:15', '2022-06-18 19:41:16', '2022-06-18 19:41:17', '2022-06-18 19:41:18', '2022-06-18 19:41:19', '2022-06-18 19:41:20', '2022-06-18 19:41:21', '2022-06-18 19:41:22', '2022-06-18 19:41:23', '2022-06-18 19:41:24', '2022-06-18 19:41:25', '2022-06-18 19:41:26', '2022-06-18 19:41:27', '2022-06-18 19:41:28', '2022-06-18 19:41:29', '2022-06-18 19:41:30', '2022-06-18 19:41:31', '2022-06-18 19:41:32', '2022-06-18 19:41:33', '2022-06-18 19:41:34', '2022-06-18 19:41:35', '2022-06-18 19:41:36', '2022-06-18 19:41:37', '2022-06-18 19:41:38', '2022-06-18 19:41:39', '2022-06-18 19:41:40', '2022-06-18 19:41:41', '2022-06-18 19:41:42', '2022-06-18 19:41:43', '2022-06-18 19:41:44', '2022-06-18 19:41:45', '2022-06-18 19:41:46', '2022-06-18 19:41:47', '2022-06-18 19:41:48', '2022-06-18 19:41:49', '2022-06-18 19:41:50', '2022-06-18 19:41:51', '2022-06-18 19:41:52', '2022-06-18 19:41:53', '2022-06-18 19:41:54', '2022-06-18 19:41:55', '2022-06-18 19:41:56', '2022-06-18 19:41:57', '2022-06-18 19:41:58', '2022-06-18 19:41:59', '2022-06-18 19:42:00', '2022-06-18 19:42:01', '2022-06-18 19:42:02', '2022-06-18 19:42:03', '2022-06-18 19:42:04', '2022-06-18 19:42:05', '2022-06-18 19:42:06', '2022-06-18 19:42:07', '2022-06-18 19:42:08', '2022-06-18 19:42:09', '2022-06-18 19:42:10', '2022-06-18 19:42:11', '2022-06-18 19:42:12', '2022-06-18 19:42:13', '2022-06-18 19:42:14', '2022-06-18 19:42:15', '2022-06-18 19:42:16', '2022-06-18 19:42:17', '2022-06-18 19:42:18', '2022-06-18 19:42:19', '2022-06-18 19:42:20', '2022-06-18 19:42:21', '2022-06-18 19:42:22', '2022-06-18 19:42:23', '2022-06-18 19:42:24', '2022-06-18 19:42:25', '2022-06-18 19:42:26', '2022-06-18 19:42:27', '2022-06-18 19:42:28', '2022-06-18 19:42:29', '2022-06-18 19:42:30', '2022-06-18 19:42:31', '2022-06-18 19:42:32', '2022-06-18 19:42:33', '2022-06-18 19:42:34', '2022-06-18 19:42:35', '2022-06-18 19:42:36', '2022-06-18 19:42:37', '2022-06-18 19:42:38', '2022-06-18 19:42:39', '2022-06-18 19:42:40', '2022-06-18 19:42:41', '2022-06-18 19:42:42', '2022-06-18 19:42:43', '2022-06-18 19:42:44', '2022-06-18 19:42:45', '2022-06-18 19:42:46', '2022-06-18 19:42:47', '2022-06-18 19:42:48', '2022-06-18 19:42:49', '2022-06-18 19:42:50', '2022-06-18 19:42:51', '2022-06-18 19:42:52', '2022-06-18 19:42:53', '2022-06-18 19:42:54', '2022-06-18 19:42:55', '2022-06-18 19:42:56', '2022-06-18 19:42:57', '2022-06-18 19:42:58', '2022-06-18 19:42:59', '2022-06-18 19:43:00', '2022-06-18 19:43:01', '2022-06-18 19:43:02', '2022-06-18 19:43:03', '2022-06-18 19:43:04', '2022-06-18 19:43:05', '2022-06-18 19:43:06', '2022-06-18 19:43:07', '2022-06-18 19:43:08', '2022-06-18 19:43:09', '2022-06-18 19:43:10', '2022-06-18 19:43:11', '2022-06-18 19:43:12', '2022-06-18 19:43:13', '2022-06-18 19:43:14', '2022-06-18 19:43:15', '2022-06-18 19:43:16', '2022-06-18 19:43:17', '2022-06-18 19:43:18', '2022-06-18 19:43:19', '2022-06-18 19:43:20', '2022-06-18 19:43:21', '2022-06-18 19:43:22', '2022-06-18 19:43:23', '2022-06-18 19:43:24', '2022-06-18 19:43:25', '2022-06-18 19:43:26', '2022-06-18 19:43:27', '2022-06-18 19:43:28', '2022-06-18 19:43:29', '2022-06-18 19:43:30', '2022-06-18 19:43:31', '2022-06-18 19:43:32', '2022-06-18 19:43:33', '2022-06-18 19:43:34', '2022-06-18 19:43:35', '2022-06-18 19:43:36', '2022-06-18 19:43:37', '2022-06-18 19:43:38', '2022-06-18 19:43:39', '2022-06-18 19:43:40', '2022-06-18 19:43:41', '2022-06-18 19:43:42', '2022-06-18 19:43:43', '2022-06-18 19:43:44', '2022-06-18 19:43:45', '2022-06-18 19:43:46', '2022-06-18 19:43:47', '2022-06-18 19:43:48', '2022-06-18 19:43:49', '2022-06-18 19:43:50', '2022-06-18 19:43:51', '2022-06-18 19:43:52', '2022-06-18 19:43:53', '2022-06-18 19:43:54', '2022-06-18 19:43:55', '2022-06-18 19:43:56', '2022-06-18 19:43:57', '2022-06-18 19:43:58', '2022-06-18 19:43:59', '2022-06-18 19:44:00', '2022-06-18 19:44:01', '2022-06-18 19:44:02', '2022-06-18 19:44:03', '2022-06-18 19:44:04', '2022-06-18 19:44:05', '2022-06-18 19:44:06', '2022-06-18 19:44:07', '2022-06-18 19:44:08', '2022-06-18 19:44:09', '2022-06-18 19:44:10', '2022-06-18 19:44:11', '2022-06-18 19:44:12', '2022-06-18 19:44:13', '2022-06-18 19:44:14', '2022-06-18 19:44:15', '2022-06-18 19:44:16', '2022-06-18 19:44:17', '2022-06-18 19:44:18', '2022-06-18 19:44:19', '2022-06-18 19:44:20', '2022-06-18 19:44:21', '2022-06-18 19:44:22', '2022-06-18 19:44:23', '2022-06-18 19:44:24', '2022-06-18 19:44:25', '2022-06-18 19:44:26', '2022-06-18 19:44:27', '2022-06-18 19:44:28', '2022-06-18 19:44:29', '2022-06-18 19:44:30', '2022-06-18 19:44:31', '2022-06-18 19:44:32', '2022-06-18 19:44:33', '2022-06-18 19:44:34', '2022-06-18 19:44:35', '2022-06-18 19:44:36', '2022-06-18 19:44:37', '2022-06-18 19:44:38', '2022-06-18 19:44:39', '2022-06-18 19:44:40', '2022-06-18 19:44:41', '2022-06-18 19:44:42', '2022-06-18 19:44:43', '2022-06-18 19:44:44', '2022-06-18 19:44:45', '2022-06-18 19:44:46', '2022-06-18 19:44:47', '2022-06-18 19:44:48', '2022-06-18 19:44:49', '2022-06-18 19:44:50', '2022-06-18 19:44:51', '2022-06-18 19:44:52', '2022-06-18 19:44:53', '2022-06-18 19:44:54', '2022-06-18 19:44:55', '2022-06-18 19:44:56', '2022-06-18 19:44:57', '2022-06-18 19:44:58', '2022-06-18 19:44:59', '2022-06-18 19:45:00', '2022-06-18 19:45:01', '2022-06-18 19:45:02', '2022-06-18 19:45:03', '2022-06-18 19:45:04', '2022-06-18 19:45:05', '2022-06-18 19:45:06', '2022-06-18 19:45:07', '2022-06-18 19:45:08', '2022-06-18 19:45:09', '2022-06-18 19:45:10', '2022-06-18 19:45:11', '2022-06-18 19:45:12', '2022-06-18 19:45:13', '2022-06-18 19:45:14', '2022-06-18 19:45:15', '2022-06-18 19:45:16', '2022-06-18 19:45:17', '2022-06-18 19:45:18', '2022-06-18 19:45:19', '2022-06-18 19:45:20', '2022-06-18 19:45:21', '2022-06-18 19:45:22', '2022-06-18 19:45:23', '2022-06-18 19:45:24', '2022-06-18 19:45:25', '2022-06-18 19:45:26', '2022-06-18 19:45:27', '2022-06-18 19:45:28', '2022-06-18 19:45:29', '2022-06-18 19:45:30', '2022-06-18 19:45:31', '2022-06-18 19:45:32', '2022-06-18 19:45:33', '2022-06-18 19:45:34', '2022-06-18 19:45:35', '2022-06-18 19:45:36', '2022-06-18 19:45:37', '2022-06-18 19:45:38', '2022-06-18 19:45:39', '2022-06-18 19:45:40', '2022-06-18 19:45:41', '2022-06-18 19:45:42', '2022-06-18 19:45:43', '2022-06-18 19:45:44', '2022-06-18 19:45:45', '2022-06-18 19:45:46', '2022-06-18 19:45:47', '2022-06-18 19:45:48', '2022-06-18 19:45:49', '2022-06-18 19:45:50', '2022-06-18 19:45:51', '2022-06-18 19:45:52', '2022-06-18 19:45:53', '2022-06-18 19:45:54', '2022-06-18 19:45:55', '2022-06-18 19:45:56', '2022-06-18 19:45:57', '2022-06-18 19:45:58', '2022-06-18 19:45:59', '2022-06-18 19:46:00', '2022-06-18 19:46:01', '2022-06-18 19:46:02', '2022-06-18 19:46:03', '2022-06-18 19:46:04', '2022-06-18 19:46:05', '2022-06-18 19:46:06', '2022-06-18 19:46:07', '2022-06-18 19:46:08', '2022-06-18 19:46:09', '2022-06-18 19:46:10', '2022-06-18 19:46:11', '2022-06-18 19:46:12', '2022-06-18 19:46:13', '2022-06-18 19:46:14', '2022-06-18 19:46:15', '2022-06-18 19:46:16', '2022-06-18 19:46:17', '2022-06-18 19:46:18', '2022-06-18 19:46:19', '2022-06-18 19:46:20', '2022-06-18 19:46:21', '2022-06-18 19:46:22', '2022-06-18 19:46:23', '2022-06-18 19:46:24', '2022-06-18 19:46:25', '2022-06-18 19:46:26', '2022-06-18 19:46:27', '2022-06-18 19:46:28', '2022-06-18 19:46:29', '2022-06-18 19:46:30', '2022-06-18 19:46:31', '2022-06-18 19:46:32', '2022-06-18 19:46:33', '2022-06-18 19:46:34', '2022-06-18 19:46:35', '2022-06-18 19:46:36', '2022-06-18 19:46:37', '2022-06-18 19:46:38', '2022-06-18 19:46:39', '2022-06-18 19:46:40', '2022-06-18 19:46:41', '2022-06-18 19:46:42', '2022-06-18 19:46:43', '2022-06-18 19:46:44', '2022-06-18 19:46:45', '2022-06-18 19:46:46', '2022-06-18 19:46:47', '2022-06-18 19:46:48', '2022-06-18 19:46:49', '2022-06-18 19:46:50', '2022-06-18 19:46:51', '2022-06-18 19:46:52', '2022-06-18 19:46:53', '2022-06-18 19:46:54', '2022-06-18 19:46:55', '2022-06-18 19:46:56', '2022-06-18 19:46:57', '2022-06-18 19:46:58', '2022-06-18 19:46:59', '2022-06-18 19:47:00', '2022-06-18 19:47:01', '2022-06-18 19:47:02', '2022-06-18 19:47:03', '2022-06-18 19:47:04', '2022-06-18 19:47:05', '2022-06-18 19:47:06', '2022-06-18 19:47:07', '2022-06-18 19:47:08', '2022-06-18 19:47:09', '2022-06-18 19:47:10', '2022-06-18 19:47:11', '2022-06-18 19:47:12', '2022-06-18 19:47:13', '2022-06-18 19:47:14', '2022-06-18 19:47:15', '2022-06-18 19:47:16', '2022-06-18 19:47:17', '2022-06-18 19:47:18', '2022-06-18 19:47:19', '2022-06-18 19:47:20', '2022-06-18 19:47:21', '2022-06-18 19:47:22', '2022-06-18 19:47:23', '2022-06-18 19:47:24', '2022-06-18 19:47:25', '2022-06-18 19:47:26', '2022-06-18 19:47:27', '2022-06-18 19:47:28', '2022-06-18 19:47:29', '2022-06-18 19:47:30', '2022-06-18 19:47:31', '2022-06-18 19:47:32', '2022-06-18 19:47:33', '2022-06-18 19:47:34', '2022-06-18 19:47:35', '2022-06-18 19:47:36', '2022-06-18 19:47:37', '2022-06-18 19:47:38', '2022-06-18 19:47:39', '2022-06-18 19:47:40', '2022-06-18 19:47:41', '2022-06-18 19:47:42', '2022-06-18 19:47:43', '2022-06-18 19:47:44', '2022-06-18 19:47:45', '2022-06-18 19:47:46', '2022-06-18 19:47:47', '2022-06-18 19:47:48', '2022-06-18 19:47:49', '2022-06-18 19:47:50', '2022-06-18 19:47:51', '2022-06-18 19:47:52', '2022-06-18 19:47:53', '2022-06-18 19:47:54', '2022-06-18 19:47:55', '2022-06-18 19:47:56', '2022-06-18 19:47:57', '2022-06-18 19:47:58', '2022-06-18 19:47:59', '2022-06-18 19:48:00', '2022-06-18 19:48:01', '2022-06-18 19:48:02', '2022-06-18 19:48:03', '2022-06-18 19:48:04', '2022-06-18 19:48:05', '2022-06-18 19:48:06', '2022-06-18 19:48:07', '2022-06-18 19:48:08', '2022-06-18 19:48:09', '2022-06-18 19:48:10', '2022-06-18 19:48:11', '2022-06-18 19:48:12', '2022-06-18 19:48:13', '2022-06-18 19:48:14', '2022-06-18 19:48:15', '2022-06-18 19:48:16', '2022-06-18 19:48:17', '2022-06-18 19:48:18', '2022-06-18 19:48:19', '2022-06-18 19:48:20', '2022-06-18 19:48:21', '2022-06-18 19:48:22', '2022-06-18 19:48:23', '2022-06-18 19:48:24', '2022-06-18 19:48:25', '2022-06-18 19:48:26', '2022-06-18 19:48:27', '2022-06-18 19:48:28', '2022-06-18 19:48:29', '2022-06-18 19:48:30', '2022-06-18 19:48:31', '2022-06-18 19:48:32', '2022-06-18 19:48:33', '2022-06-18 19:48:34', '2022-06-18 19:48:35', '2022-06-18 19:48:36', '2022-06-18 19:48:37', '2022-06-18 19:48:38', '2022-06-18 19:48:39', '2022-06-18 19:48:40', '2022-06-18 19:48:41', '2022-06-18 19:48:42', '2022-06-18 19:48:43', '2022-06-18 19:48:44', '2022-06-18 19:48:45', '2022-06-18 19:48:46', '2022-06-18 19:48:47', '2022-06-18 19:48:48', '2022-06-18 19:48:49', '2022-06-18 19:48:50', '2022-06-18 19:48:51', '2022-06-18 19:48:52', '2022-06-18 19:48:53', '2022-06-18 19:48:54', '2022-06-18 19:48:55', '2022-06-18 19:48:56', '2022-06-18 19:48:57', '2022-06-18 19:48:58', '2022-06-18 19:48:59', '2022-06-18 19:49:00', '2022-06-18 19:49:01', '2022-06-18 19:49:02', '2022-06-18 19:49:03', '2022-06-18 19:49:04', '2022-06-18 19:49:05', '2022-06-18 19:49:06', '2022-06-18 19:49:07', '2022-06-18 19:49:08', '2022-06-18 19:49:09', '2022-06-18 19:49:10', '2022-06-18 19:49:11', '2022-06-18 19:49:12', '2022-06-18 19:49:13', '2022-06-18 19:49:14', '2022-06-18 19:49:15', '2022-06-18 19:49:16', '2022-06-18 19:49:17', '2022-06-18 19:49:18', '2022-06-18 19:49:19', '2022-06-18 19:49:20', '2022-06-18 19:49:21', '2022-06-18 19:49:22', '2022-06-18 19:49:23', '2022-06-18 19:49:24', '2022-06-18 19:49:25', '2022-06-18 19:49:26', '2022-06-18 19:49:27', '2022-06-18 19:49:28', '2022-06-18 19:49:29', '2022-06-18 19:49:30', '2022-06-18 19:49:31', '2022-06-18 19:49:32', '2022-06-18 19:49:33', '2022-06-18 19:49:34', '2022-06-18 19:49:35', '2022-06-18 19:49:36', '2022-06-18 19:49:37', '2022-06-18 19:49:38', '2022-06-18 19:49:39', '2022-06-18 19:49:40', '2022-06-18 19:49:41', '2022-06-18 19:49:42', '2022-06-18 19:49:43', '2022-06-18 19:49:44', '2022-06-18 19:49:45', '2022-06-18 19:49:46', '2022-06-18 19:49:47', '2022-06-18 19:49:48', '2022-06-18 19:49:49', '2022-06-18 19:49:50', '2022-06-18 19:49:51', '2022-06-18 19:49:52', '2022-06-18 19:49:53', '2022-06-18 19:49:54', '2022-06-18 19:49:55', '2022-06-18 19:49:56', '2022-06-18 19:49:57', '2022-06-18 19:49:58', '2022-06-18 19:49:59', '2022-06-18 19:50:00', '2022-06-18 19:50:01', '2022-06-18 19:50:02', '2022-06-18 19:50:03', '2022-06-18 19:50:04', '2022-06-18 19:50:05', '2022-06-18 19:50:06', '2022-06-18 19:50:07', '2022-06-18 19:50:08', '2022-06-18 19:50:09', '2022-06-18 19:50:10', '2022-06-18 19:50:11', '2022-06-18 19:50:12', '2022-06-18 19:50:13', '2022-06-18 19:50:14', '2022-06-18 19:50:15', '2022-06-18 19:50:16', '2022-06-18 19:50:17', '2022-06-18 19:50:18', '2022-06-18 19:50:19', '2022-06-18 19:50:20', '2022-06-18 19:50:21', '2022-06-18 19:50:22', '2022-06-18 19:50:23', '2022-06-18 19:50:24', '2022-06-18 19:50:25', '2022-06-18 19:50:26', '2022-06-18 19:50:27', '2022-06-18 19:50:28', '2022-06-18 19:50:29', '2022-06-18 19:50:30', '2022-06-18 19:50:31', '2022-06-18 19:50:32', '2022-06-18 19:50:33', '2022-06-18 19:50:34', '2022-06-18 19:50:35', '2022-06-18 19:50:36', '2022-06-18 19:50:37', '2022-06-18 19:50:38', '2022-06-18 19:50:39', '2022-06-18 19:50:40', '2022-06-18 19:50:41', '2022-06-18 19:50:42', '2022-06-18 19:50:43', '2022-06-18 19:50:44', '2022-06-18 19:50:45', '2022-06-18 19:50:46', '2022-06-18 19:50:47', '2022-06-18 19:50:48', '2022-06-18 19:50:49', '2022-06-18 19:50:50', '2022-06-18 19:50:51', '2022-06-18 19:50:52', '2022-06-18 19:50:53', '2022-06-18 19:50:54', '2022-06-18 19:50:55', '2022-06-18 19:50:56', '2022-06-18 19:50:57', '2022-06-18 19:50:58', '2022-06-18 19:50:59', '2022-06-18 19:51:00', '2022-06-18 19:51:01', '2022-06-18 19:51:02', '2022-06-18 19:51:03', '2022-06-18 19:51:04', '2022-06-18 19:51:05', '2022-06-18 19:51:06', '2022-06-18 19:51:07', '2022-06-18 19:51:08', '2022-06-18 19:51:09', '2022-06-18 19:51:10', '2022-06-18 19:51:11', '2022-06-18 19:51:12', '2022-06-18 19:51:13', '2022-06-18 19:51:14', '2022-06-18 19:51:15', '2022-06-18 19:51:16', '2022-06-18 19:51:17', '2022-06-18 19:51:18', '2022-06-18 19:51:19', '2022-06-18 19:51:20', '2022-06-18 19:51:21', '2022-06-18 19:51:22', '2022-06-18 19:51:23', '2022-06-18 19:51:24', '2022-06-18 19:51:25', '2022-06-18 19:51:26', '2022-06-18 19:51:27', '2022-06-18 19:51:28', '2022-06-18 19:51:29', '2022-06-18 19:51:30', '2022-06-18 19:51:31', '2022-06-18 19:51:32', '2022-06-18 19:51:33', '2022-06-18 19:51:34', '2022-06-18 19:51:35', '2022-06-18 19:51:36', '2022-06-18 19:51:37', '2022-06-18 19:51:38', '2022-06-18 19:51:39', '2022-06-18 19:51:40', '2022-06-18 19:51:41', '2022-06-18 19:51:42', '2022-06-18 19:51:43', '2022-06-18 19:51:44', '2022-06-18 19:51:45', '2022-06-18 19:51:46', '2022-06-18 19:51:47', '2022-06-18 19:51:48', '2022-06-18 19:51:49', '2022-06-18 19:51:50', '2022-06-18 19:51:51', '2022-06-18 19:51:52', '2022-06-18 19:51:53', '2022-06-18 19:51:54', '2022-06-18 19:51:55', '2022-06-18 19:51:56', '2022-06-18 19:51:57', '2022-06-18 19:51:58', '2022-06-18 19:51:59', '2022-06-18 19:52:00', '2022-06-18 19:52:01', '2022-06-18 19:52:02', '2022-06-18 19:52:03', '2022-06-18 19:52:04', '2022-06-18 19:52:05', '2022-06-18 19:52:06', '2022-06-18 19:52:07', '2022-06-18 19:52:08', '2022-06-18 19:52:09', '2022-06-18 19:52:10', '2022-06-18 19:52:11', '2022-06-18 19:52:12', '2022-06-18 19:52:13', '2022-06-18 19:52:14', '2022-06-18 19:52:15', '2022-06-18 19:52:16', '2022-06-18 19:52:17', '2022-06-18 19:52:18', '2022-06-18 19:52:19', '2022-06-18 19:52:20', '2022-06-18 19:52:21', '2022-06-18 19:52:22', '2022-06-18 19:52:23', '2022-06-18 19:52:24', '2022-06-18 19:52:25', '2022-06-18 19:52:26', '2022-06-18 19:52:27', '2022-06-18 19:52:28', '2022-06-18 19:52:29', '2022-06-18 19:52:30', '2022-06-18 19:52:31', '2022-06-18 19:52:32', '2022-06-18 19:52:33', '2022-06-18 19:52:34', '2022-06-18 19:52:35', '2022-06-18 19:52:36', '2022-06-18 19:52:37', '2022-06-18 19:52:38', '2022-06-18 19:52:39', '2022-06-18 19:52:40', '2022-06-18 19:52:41', '2022-06-18 19:52:42', '2022-06-18 19:52:43', '2022-06-18 19:52:44', '2022-06-18 19:52:45', '2022-06-18 19:52:46', '2022-06-18 19:52:47', '2022-06-18 19:52:48', '2022-06-18 19:52:49', '2022-06-18 19:52:50', '2022-06-18 19:52:51', '2022-06-18 19:52:52', '2022-06-18 19:52:53', '2022-06-18 19:52:54', '2022-06-18 19:52:55', '2022-06-18 19:52:56', '2022-06-18 19:52:57', '2022-06-18 19:52:58', '2022-06-18 19:52:59', '2022-06-18 19:53:00', '2022-06-18 19:53:01', '2022-06-18 19:53:02', '2022-06-18 19:53:03', '2022-06-18 19:53:04', '2022-06-18 19:53:05', '2022-06-18 19:53:06', '2022-06-18 19:53:07', '2022-06-18 19:53:08', '2022-06-18 19:53:09', '2022-06-18 19:53:10', '2022-06-18 19:53:11', '2022-06-18 19:53:12', '2022-06-18 19:53:13', '2022-06-18 19:53:14', '2022-06-18 19:53:15', '2022-06-18 19:53:16', '2022-06-18 19:53:17', '2022-06-18 19:53:18', '2022-06-18 19:53:19', '2022-06-18 19:53:20', '2022-06-18 19:53:21', '2022-06-18 19:53:22', '2022-06-18 19:53:23', '2022-06-18 19:53:24', '2022-06-18 19:53:25', '2022-06-18 19:53:26', '2022-06-18 19:53:27', '2022-06-18 19:53:28', '2022-06-18 19:53:29', '2022-06-18 19:53:30', '2022-06-18 19:53:31', '2022-06-18 19:53:32', '2022-06-18 19:53:33', '2022-06-18 19:53:34', '2022-06-18 19:53:35', '2022-06-18 19:53:36', '2022-06-18 19:53:37', '2022-06-18 19:53:38', '2022-06-18 19:53:39', '2022-06-18 19:53:40', '2022-06-18 19:53:41', '2022-06-18 19:53:42', '2022-06-18 19:53:43', '2022-06-18 19:53:44', '2022-06-18 19:53:45', '2022-06-18 19:53:46', '2022-06-18 19:53:47', '2022-06-18 19:53:48', '2022-06-18 19:53:49', '2022-06-18 19:53:50', '2022-06-18 19:53:51', '2022-06-18 19:53:52', '2022-06-18 19:53:53', '2022-06-18 19:53:54', '2022-06-18 19:53:55', '2022-06-18 19:53:56', '2022-06-18 19:53:57', '2022-06-18 19:53:58', '2022-06-18 19:53:59', '2022-06-18 19:54:00', '2022-06-18 19:54:01', '2022-06-18 19:54:02', '2022-06-18 19:54:03', '2022-06-18 19:54:04', '2022-06-18 19:54:05', '2022-06-18 19:54:06', '2022-06-18 19:54:07', '2022-06-18 19:54:08', '2022-06-18 19:54:09', '2022-06-18 19:54:10', '2022-06-18 19:54:11', '2022-06-18 19:54:12', '2022-06-18 19:54:13', '2022-06-18 19:54:14', '2022-06-18 19:54:15', '2022-06-18 19:54:16', '2022-06-18 19:54:17', '2022-06-18 19:54:18', '2022-06-18 19:54:19', '2022-06-18 19:54:20', '2022-06-18 19:54:21', '2022-06-18 19:54:22', '2022-06-18 19:54:23', '2022-06-18 19:54:24', '2022-06-18 19:54:25', '2022-06-18 19:54:26', '2022-06-18 19:54:27', '2022-06-18 19:54:28', '2022-06-18 19:54:29', '2022-06-18 19:54:30', '2022-06-18 19:54:31', '2022-06-18 19:54:32', '2022-06-18 19:54:33', '2022-06-18 19:54:34', '2022-06-18 19:54:35', '2022-06-18 19:54:36', '2022-06-18 19:54:37', '2022-06-18 19:54:38', '2022-06-18 19:54:39', '2022-06-18 19:54:40', '2022-06-18 19:54:41', '2022-06-18 19:54:42', '2022-06-18 19:54:43', '2022-06-18 19:54:44', '2022-06-18 19:54:45', '2022-06-18 19:54:46', '2022-06-18 19:54:47', '2022-06-18 19:54:48', '2022-06-18 19:54:49', '2022-06-18 19:54:50', '2022-06-18 19:54:51', '2022-06-18 19:54:52', '2022-06-18 19:54:53', '2022-06-18 19:54:54', '2022-06-18 19:54:55', '2022-06-18 19:54:56', '2022-06-18 19:54:57', '2022-06-18 19:54:58', '2022-06-18 19:54:59', '2022-06-18 19:55:00', '2022-06-18 19:55:01', '2022-06-18 19:55:02', '2022-06-18 19:55:03', '2022-06-18 19:55:04', '2022-06-18 19:55:05', '2022-06-18 19:55:06', '2022-06-18 19:55:07', '2022-06-18 19:55:08', '2022-06-18 19:55:09', '2022-06-18 19:55:10', '2022-06-18 19:55:11', '2022-06-18 19:55:12', '2022-06-18 19:55:13', '2022-06-18 19:55:14', '2022-06-18 19:55:15', '2022-06-18 19:55:16', '2022-06-18 19:55:17', '2022-06-18 19:55:18', '2022-06-18 19:55:19', '2022-06-18 19:55:20', '2022-06-18 19:55:21', '2022-06-18 19:55:22', '2022-06-18 19:55:23', '2022-06-18 19:55:24', '2022-06-18 19:55:25', '2022-06-18 19:55:26', '2022-06-18 19:55:27', '2022-06-18 19:55:28', '2022-06-18 19:55:29', '2022-06-18 19:55:30', '2022-06-18 19:55:31', '2022-06-18 19:55:32', '2022-06-18 19:55:33', '2022-06-18 19:55:34', '2022-06-18 19:55:35', '2022-06-18 19:55:36', '2022-06-18 19:55:37', '2022-06-18 19:55:38', '2022-06-18 19:55:39', '2022-06-18 19:55:40', '2022-06-18 19:55:41', '2022-06-18 19:55:42', '2022-06-18 19:55:43', '2022-06-18 19:55:44', '2022-06-18 19:55:45', '2022-06-18 19:55:46', '2022-06-18 19:55:47', '2022-06-18 19:55:48', '2022-06-18 19:55:49', '2022-06-18 19:55:50', '2022-06-18 19:55:51', '2022-06-18 19:55:52', '2022-06-18 19:55:53', '2022-06-18 19:55:54', '2022-06-18 19:55:55', '2022-06-18 19:55:56', '2022-06-18 19:55:57', '2022-06-18 19:55:58', '2022-06-18 19:55:59', '2022-06-18 19:56:00', '2022-06-18 19:56:01', '2022-06-18 19:56:02', '2022-06-18 19:56:03', '2022-06-18 19:56:04', '2022-06-18 19:56:05', '2022-06-18 19:56:06', '2022-06-18 19:56:07', '2022-06-18 19:56:08', '2022-06-18 19:56:09', '2022-06-18 19:56:10', '2022-06-18 19:56:11', '2022-06-18 19:56:12', '2022-06-18 19:56:13', '2022-06-18 19:56:14', '2022-06-18 19:56:15', '2022-06-18 19:56:16', '2022-06-18 19:56:17', '2022-06-18 19:56:18', '2022-06-18 19:56:19', '2022-06-18 19:56:20', '2022-06-18 19:56:21', '2022-06-18 19:56:22', '2022-06-18 19:56:23', '2022-06-18 19:56:24', '2022-06-18 19:56:25', '2022-06-18 19:56:26', '2022-06-18 19:56:27', '2022-06-18 19:56:28', '2022-06-18 19:56:29', '2022-06-18 19:56:30', '2022-06-18 19:56:31', '2022-06-18 19:56:32', '2022-06-18 19:56:33', '2022-06-18 19:56:34', '2022-06-18 19:56:35', '2022-06-18 19:56:36', '2022-06-18 19:56:37', '2022-06-18 19:56:38', '2022-06-18 19:56:39', '2022-06-18 19:56:40', '2022-06-18 19:56:41', '2022-06-18 19:56:42', '2022-06-18 19:56:43', '2022-06-18 19:56:44', '2022-06-18 19:56:45', '2022-06-18 19:56:46', '2022-06-18 19:56:47', '2022-06-18 19:56:48', '2022-06-18 19:56:49', '2022-06-18 19:56:50', '2022-06-18 19:56:51', '2022-06-18 19:56:52', '2022-06-18 19:56:53', '2022-06-18 19:56:54', '2022-06-18 19:56:55', '2022-06-18 19:56:56', '2022-06-18 19:56:57', '2022-06-18 19:56:58', '2022-06-18 19:56:59', '2022-06-18 19:57:00', '2022-06-18 19:57:01', '2022-06-18 19:57:02', '2022-06-18 19:57:03', '2022-06-18 19:57:04', '2022-06-18 19:57:05', '2022-06-18 19:57:06', '2022-06-18 19:57:07', '2022-06-18 19:57:08', '2022-06-18 19:57:09', '2022-06-18 19:57:10', '2022-06-18 19:57:11', '2022-06-18 19:57:12', '2022-06-18 19:57:13', '2022-06-18 19:57:14', '2022-06-18 19:57:15', '2022-06-18 19:57:16', '2022-06-18 19:57:17', '2022-06-18 19:57:18', '2022-06-18 19:57:19', '2022-06-18 19:57:20', '2022-06-18 19:57:21', '2022-06-18 19:57:22', '2022-06-18 19:57:23', '2022-06-18 19:57:24', '2022-06-18 19:57:25', '2022-06-18 19:57:26', '2022-06-18 19:57:27', '2022-06-18 19:57:28', '2022-06-18 19:57:29', '2022-06-18 19:57:30', '2022-06-18 19:57:31', '2022-06-18 19:57:32', '2022-06-18 19:57:33', '2022-06-18 19:57:34', '2022-06-18 19:57:35', '2022-06-18 19:57:36', '2022-06-18 19:57:37', '2022-06-18 19:57:38', '2022-06-18 19:57:39', '2022-06-18 19:57:40', '2022-06-18 19:57:41', '2022-06-18 19:57:42', '2022-06-18 19:57:43', '2022-06-18 19:57:44', '2022-06-18 19:57:45', '2022-06-18 19:57:46', '2022-06-18 19:57:47', '2022-06-18 19:57:48', '2022-06-18 19:57:49', '2022-06-18 19:57:50', '2022-06-18 19:57:51', '2022-06-18 19:57:52', '2022-06-18 19:57:53', '2022-06-18 19:57:54', '2022-06-18 19:57:55', '2022-06-18 19:57:56', '2022-06-18 19:57:57', '2022-06-18 19:57:58', '2022-06-18 19:57:59', '2022-06-18 19:58:00', '2022-06-18 19:58:01', '2022-06-18 19:58:02', '2022-06-18 19:58:03', '2022-06-18 19:58:04', '2022-06-18 19:58:05', '2022-06-18 19:58:06', '2022-06-18 19:58:07', '2022-06-18 19:58:08', '2022-06-18 19:58:09', '2022-06-18 19:58:10', '2022-06-18 19:58:11', '2022-06-18 19:58:12', '2022-06-18 19:58:13', '2022-06-18 19:58:14', '2022-06-18 19:58:15', '2022-06-18 19:58:16', '2022-06-18 19:58:17', '2022-06-18 19:58:18', '2022-06-18 19:58:19', '2022-06-18 19:58:20', '2022-06-18 19:58:21', '2022-06-18 19:58:22', '2022-06-18 19:58:23', '2022-06-18 19:58:24', '2022-06-18 19:58:25', '2022-06-18 19:58:26', '2022-06-18 19:58:27', '2022-06-18 19:58:28', '2022-06-18 19:58:29', '2022-06-18 19:58:30', '2022-06-18 19:58:31', '2022-06-18 19:58:32', '2022-06-18 19:58:33', '2022-06-18 19:58:34', '2022-06-18 19:58:35', '2022-06-18 19:58:36', '2022-06-18 19:58:37', '2022-06-18 19:58:38', '2022-06-18 19:58:39', '2022-06-18 19:58:40', '2022-06-18 19:58:41', '2022-06-18 19:58:42', '2022-06-18 19:58:43', '2022-06-18 19:58:44', '2022-06-18 19:58:45', '2022-06-18 19:58:46', '2022-06-18 19:58:47', '2022-06-18 19:58:48', '2022-06-18 19:58:49', '2022-06-18 19:58:50', '2022-06-18 19:58:51', '2022-06-18 19:58:52', '2022-06-18 19:58:53', '2022-06-18 19:58:54', '2022-06-18 19:58:55', '2022-06-18 19:58:56', '2022-06-18 19:58:57', '2022-06-18 19:58:58', '2022-06-18 19:58:59', '2022-06-18 19:59:00', '2022-06-18 19:59:01', '2022-06-18 19:59:02', '2022-06-18 19:59:03', '2022-06-18 19:59:04', '2022-06-18 19:59:05', '2022-06-18 19:59:06', '2022-06-18 19:59:07', '2022-06-18 19:59:08', '2022-06-18 19:59:09', '2022-06-18 19:59:10', '2022-06-18 19:59:11', '2022-06-18 19:59:12', '2022-06-18 19:59:13', '2022-06-18 19:59:14', '2022-06-18 19:59:15', '2022-06-18 19:59:16', '2022-06-18 19:59:17', '2022-06-18 19:59:18', '2022-06-18 19:59:19', '2022-06-18 19:59:20', '2022-06-18 19:59:21', '2022-06-18 19:59:22', '2022-06-18 19:59:23', '2022-06-18 19:59:24', '2022-06-18 19:59:25', '2022-06-18 19:59:26', '2022-06-18 19:59:27', '2022-06-18 19:59:28', '2022-06-18 19:59:29', '2022-06-18 19:59:30', '2022-06-18 19:59:31', '2022-06-18 19:59:32', '2022-06-18 19:59:33', '2022-06-18 19:59:34', '2022-06-18 19:59:35', '2022-06-18 19:59:36', '2022-06-18 19:59:37', '2022-06-18 19:59:38', '2022-06-18 19:59:39', '2022-06-18 19:59:40', '2022-06-18 19:59:41', '2022-06-18 19:59:42', '2022-06-18 19:59:43', '2022-06-18 19:59:44', '2022-06-18 19:59:45', '2022-06-18 19:59:46', '2022-06-18 19:59:47', '2022-06-18 19:59:48', '2022-06-18 19:59:49', '2022-06-18 19:59:50', '2022-06-18 19:59:51', '2022-06-18 19:59:52', '2022-06-18 19:59:53', '2022-06-18 19:59:54', '2022-06-18 19:59:55', '2022-06-18 19:59:56', '2022-06-18 19:59:57', '2022-06-18 19:59:58', '2022-06-18 19:59:59', '2022-06-18 20:00:00', '2022-06-18 20:00:01', '2022-06-18 20:00:02', '2022-06-18 20:00:03', '2022-06-18 20:00:04', '2022-06-18 20:00:05', '2022-06-18 20:00:06', '2022-06-18 20:00:07', '2022-06-18 20:00:08', '2022-06-18 20:00:09', '2022-06-18 20:00:10', '2022-06-18 20:00:11', '2022-06-18 20:00:12', '2022-06-18 20:00:13', '2022-06-18 20:00:14', '2022-06-18 20:00:15', '2022-06-18 20:00:16', '2022-06-18 20:00:17', '2022-06-18 20:00:18', '2022-06-18 20:00:19', '2022-06-18 20:00:20', '2022-06-18 20:00:21', '2022-06-18 20:00:22', '2022-06-18 20:00:23', '2022-06-18 20:00:24', '2022-06-18 20:00:25', '2022-06-18 20:00:26', '2022-06-18 20:00:27', '2022-06-18 20:00:28', '2022-06-18 20:00:29', '2022-06-18 20:00:30', '2022-06-18 20:00:31', '2022-06-18 20:00:32', '2022-06-18 20:00:33', '2022-06-18 20:00:34', '2022-06-18 20:00:35', '2022-06-18 20:00:36', '2022-06-18 20:00:37', '2022-06-18 20:00:38', '2022-06-18 20:00:39', '2022-06-18 20:00:40', '2022-06-18 20:00:41', '2022-06-18 20:00:42', '2022-06-18 20:00:43', '2022-06-18 20:00:44', '2022-06-18 20:00:45', '2022-06-18 20:00:46', '2022-06-18 20:00:47', '2022-06-18 20:00:48', '2022-06-18 20:00:49', '2022-06-18 20:00:50', '2022-06-18 20:00:51', '2022-06-18 20:00:52', '2022-06-18 20:00:53', '2022-06-18 20:00:54', '2022-06-18 20:00:55', '2022-06-18 20:00:56', '2022-06-18 20:00:57', '2022-06-18 20:00:58', '2022-06-18 20:00:59', '2022-06-18 20:01:00', '2022-06-18 20:01:01', '2022-06-18 20:01:02', '2022-06-18 20:01:03', '2022-06-18 20:01:04', '2022-06-18 20:01:05', '2022-06-18 20:01:06', '2022-06-18 20:01:07', '2022-06-18 20:01:08', '2022-06-18 20:01:09', '2022-06-18 20:01:10', '2022-06-18 20:01:11', '2022-06-18 20:01:12', '2022-06-18 20:01:13', '2022-06-18 20:01:14', '2022-06-18 20:01:15', '2022-06-18 20:01:16', '2022-06-18 20:01:17', '2022-06-18 20:01:18', '2022-06-18 20:01:19', '2022-06-18 20:01:20', '2022-06-18 20:01:21', '2022-06-18 20:01:22', '2022-06-18 20:01:23', '2022-06-18 20:01:24', '2022-06-18 20:01:25', '2022-06-18 20:01:26', '2022-06-18 20:01:27', '2022-06-18 20:01:28', '2022-06-18 20:01:29', '2022-06-18 20:01:30', '2022-06-18 20:01:31', '2022-06-18 20:01:32', '2022-06-18 20:01:33', '2022-06-18 20:01:34', '2022-06-18 20:01:35', '2022-06-18 20:01:36', '2022-06-18 20:01:37', '2022-06-18 20:01:38', '2022-06-18 20:01:39', '2022-06-18 20:01:40', '2022-06-18 20:01:41', '2022-06-18 20:01:42', '2022-06-18 20:01:43', '2022-06-18 20:01:44', '2022-06-18 20:01:45', '2022-06-18 20:01:46', '2022-06-18 20:01:47', '2022-06-18 20:01:48', '2022-06-18 20:01:49', '2022-06-18 20:01:50', '2022-06-18 20:01:51', '2022-06-18 20:01:52', '2022-06-18 20:01:53', '2022-06-18 20:01:54', '2022-06-18 20:01:55', '2022-06-18 20:01:56', '2022-06-18 20:01:57', '2022-06-18 20:01:58', '2022-06-18 20:01:59', '2022-06-18 20:02:00', '2022-06-18 20:02:01', '2022-06-18 20:02:02', '2022-06-18 20:02:03', '2022-06-18 20:02:04', '2022-06-18 20:02:05', '2022-06-18 20:02:06', '2022-06-18 20:02:07', '2022-06-18 20:02:08', '2022-06-18 20:02:09', '2022-06-18 20:02:10', '2022-06-18 20:02:11', '2022-06-18 20:02:12', '2022-06-18 20:02:13', '2022-06-18 20:02:14', '2022-06-18 20:02:15', '2022-06-18 20:02:16', '2022-06-18 20:02:17', '2022-06-18 20:02:18', '2022-06-18 20:02:19', '2022-06-18 20:02:20', '2022-06-18 20:02:21', '2022-06-18 20:02:22', '2022-06-18 20:02:23', '2022-06-18 20:02:24', '2022-06-18 20:02:25', '2022-06-18 20:02:26', '2022-06-18 20:02:27', '2022-06-18 20:02:28', '2022-06-18 20:02:29', '2022-06-18 20:02:30', '2022-06-18 20:02:31', '2022-06-18 20:02:32', '2022-06-18 20:02:33', '2022-06-18 20:02:34', '2022-06-18 20:02:35', '2022-06-18 20:02:36', '2022-06-18 20:02:37', '2022-06-18 20:02:38', '2022-06-18 20:02:39', '2022-06-18 20:02:40', '2022-06-18 20:02:41', '2022-06-18 20:02:42', '2022-06-18 20:02:43', '2022-06-18 20:02:44', '2022-06-18 20:02:45', '2022-06-18 20:02:46', '2022-06-18 20:02:47', '2022-06-18 20:02:48', '2022-06-18 20:02:49', '2022-06-18 20:02:50', '2022-06-18 20:02:51', '2022-06-18 20:02:52', '2022-06-18 20:02:53', '2022-06-18 20:02:54', '2022-06-18 20:02:55', '2022-06-18 20:02:56', '2022-06-18 20:02:57', '2022-06-18 20:02:58', '2022-06-18 20:02:59', '2022-06-18 20:03:00', '2022-06-18 20:03:01', '2022-06-18 20:03:02', '2022-06-18 20:03:03', '2022-06-18 20:03:04', '2022-06-18 20:03:05', '2022-06-18 20:03:06', '2022-06-18 20:03:07', '2022-06-18 20:03:08', '2022-06-18 20:03:09', '2022-06-18 20:03:10', '2022-06-18 20:03:11', '2022-06-18 20:03:12', '2022-06-18 20:03:13', '2022-06-18 20:03:14', '2022-06-18 20:03:15', '2022-06-18 20:03:16', '2022-06-18 20:03:17', '2022-06-18 20:03:18', '2022-06-18 20:03:19', '2022-06-18 20:03:20', '2022-06-18 20:03:21', '2022-06-18 20:03:22', '2022-06-18 20:03:23', '2022-06-18 20:03:24', '2022-06-18 20:03:25', '2022-06-18 20:03:26', '2022-06-18 20:03:27', '2022-06-18 20:03:28', '2022-06-18 20:03:29', '2022-06-18 20:03:30', '2022-06-18 20:03:31', '2022-06-18 20:03:32', '2022-06-18 20:03:33', '2022-06-18 20:03:34', '2022-06-18 20:03:35', '2022-06-18 20:03:36', '2022-06-18 20:03:37', '2022-06-18 20:03:38', '2022-06-18 20:03:39', '2022-06-18 20:03:40', '2022-06-18 20:03:41', '2022-06-18 20:03:42', '2022-06-18 20:03:43', '2022-06-18 20:03:44', '2022-06-18 20:03:45', '2022-06-18 20:03:46', '2022-06-18 20:03:47', '2022-06-18 20:03:48', '2022-06-18 20:03:49', '2022-06-18 20:03:50', '2022-06-18 20:03:51', '2022-06-18 20:03:52', '2022-06-18 20:03:53', '2022-06-18 20:03:54', '2022-06-18 20:03:55', '2022-06-18 20:03:56', '2022-06-18 20:03:57', '2022-06-18 20:03:58', '2022-06-18 20:03:59', '2022-06-18 20:04:00', '2022-06-18 20:04:01', '2022-06-18 20:04:02', '2022-06-18 20:04:03', '2022-06-18 20:04:04', '2022-06-18 20:04:05', '2022-06-18 20:04:06', '2022-06-18 20:04:07', '2022-06-18 20:04:08', '2022-06-18 20:04:09', '2022-06-18 20:04:10', '2022-06-18 20:04:11', '2022-06-18 20:04:12', '2022-06-18 20:04:13', '2022-06-18 20:04:14', '2022-06-18 20:04:15', '2022-06-18 20:04:16', '2022-06-18 20:04:17', '2022-06-18 20:04:18', '2022-06-18 20:04:19', '2022-06-18 20:04:20', '2022-06-18 20:04:21', '2022-06-18 20:04:22', '2022-06-18 20:04:23', '2022-06-18 20:04:24', '2022-06-18 20:04:25', '2022-06-18 20:04:26', '2022-06-18 20:04:27', '2022-06-18 20:04:28', '2022-06-18 20:04:29', '2022-06-18 20:04:30', '2022-06-18 20:04:31', '2022-06-18 20:04:32', '2022-06-18 20:04:33', '2022-06-18 20:04:34', '2022-06-18 20:04:35', '2022-06-18 20:04:36', '2022-06-18 20:04:37', '2022-06-18 20:04:38', '2022-06-18 20:04:39', '2022-06-18 20:04:40', '2022-06-18 20:04:41', '2022-06-18 20:04:42', '2022-06-18 20:04:43', '2022-06-18 20:04:44', '2022-06-18 20:04:45', '2022-06-18 20:04:46', '2022-06-18 20:04:47', '2022-06-18 20:04:48', '2022-06-18 20:04:49', '2022-06-18 20:04:50', '2022-06-18 20:04:51', '2022-06-18 20:04:52', '2022-06-18 20:04:53', '2022-06-18 20:04:54', '2022-06-18 20:04:55', '2022-06-18 20:04:56', '2022-06-18 20:04:57', '2022-06-18 20:04:58', '2022-06-18 20:04:59', '2022-06-18 20:05:00', '2022-06-18 20:05:01', '2022-06-18 20:05:02', '2022-06-18 20:05:03', '2022-06-18 20:05:04', '2022-06-18 20:05:05', '2022-06-18 20:05:06', '2022-06-18 20:05:07', '2022-06-18 20:05:08', '2022-06-18 20:05:09', '2022-06-18 20:05:10', '2022-06-18 20:05:11', '2022-06-18 20:05:12', '2022-06-18 20:05:13', '2022-06-18 20:05:14', '2022-06-18 20:05:15', '2022-06-18 20:05:16', '2022-06-18 20:05:17', '2022-06-18 20:05:18', '2022-06-18 20:05:19', '2022-06-18 20:05:20', '2022-06-18 20:05:21', '2022-06-18 20:05:22', '2022-06-18 20:05:23', '2022-06-18 20:05:24', '2022-06-18 20:05:25', '2022-06-18 20:05:26', '2022-06-18 20:05:27', '2022-06-18 20:05:28', '2022-06-18 20:05:29', '2022-06-18 20:05:30', '2022-06-18 20:05:31', '2022-06-18 20:05:32', '2022-06-18 20:05:33', '2022-06-18 20:05:34', '2022-06-18 20:05:35', '2022-06-18 20:05:36', '2022-06-18 20:05:37', '2022-06-18 20:05:38', '2022-06-18 20:05:39', '2022-06-18 20:05:40', '2022-06-18 20:05:41', '2022-06-18 20:05:42', '2022-06-18 20:05:43', '2022-06-18 20:05:44', '2022-06-18 20:05:45', '2022-06-18 20:05:46', '2022-06-18 20:05:47', '2022-06-18 20:05:48', '2022-06-18 20:05:49', '2022-06-18 20:05:50', '2022-06-18 20:05:51', '2022-06-18 20:05:52', '2022-06-18 20:05:53', '2022-06-18 20:05:54', '2022-06-18 20:05:55', '2022-06-18 20:05:56', '2022-06-18 20:05:57', '2022-06-18 20:05:58', '2022-06-18 20:05:59', '2022-06-18 20:06:00', '2022-06-18 20:06:01', '2022-06-18 20:06:02', '2022-06-18 20:06:03', '2022-06-18 20:06:04', '2022-06-18 20:06:05', '2022-06-18 20:06:06', '2022-06-18 20:06:07', '2022-06-18 20:06:08', '2022-06-18 20:06:09', '2022-06-18 20:06:10', '2022-06-18 20:06:11', '2022-06-18 20:06:12', '2022-06-18 20:06:13', '2022-06-18 20:06:14', '2022-06-18 20:06:15', '2022-06-18 20:06:16', '2022-06-18 20:06:17', '2022-06-18 20:06:18', '2022-06-18 20:06:19', '2022-06-18 20:06:20', '2022-06-18 20:06:21', '2022-06-18 20:06:22', '2022-06-18 20:06:23', '2022-06-18 20:06:24', '2022-06-18 20:06:25', '2022-06-18 20:06:26', '2022-06-18 20:06:27', '2022-06-18 20:06:28', '2022-06-18 20:06:29', '2022-06-18 20:06:30', '2022-06-18 20:06:31', '2022-06-18 20:06:32', '2022-06-18 20:06:33', '2022-06-18 20:06:34', '2022-06-18 20:06:35', '2022-06-18 20:06:36', '2022-06-18 20:06:37', '2022-06-18 20:06:38', '2022-06-18 20:06:39', '2022-06-18 20:06:40', '2022-06-18 20:06:41', '2022-06-18 20:06:42', '2022-06-18 20:06:43', '2022-06-18 20:06:44', '2022-06-18 20:06:45', '2022-06-18 20:06:46', '2022-06-18 20:06:47', '2022-06-18 20:06:48', '2022-06-18 20:06:49', '2022-06-18 20:06:50', '2022-06-18 20:06:51', '2022-06-18 20:06:52', '2022-06-18 20:06:53', '2022-06-18 20:06:54', '2022-06-18 20:06:55', '2022-06-18 20:06:56', '2022-06-18 20:06:57', '2022-06-18 20:06:58', '2022-06-18 20:06:59', '2022-06-18 20:07:00', '2022-06-18 20:07:01', '2022-06-18 20:07:02', '2022-06-18 20:07:03', '2022-06-18 20:07:04', '2022-06-18 20:07:05', '2022-06-18 20:07:06', '2022-06-18 20:07:07', '2022-06-18 20:07:08', '2022-06-18 20:07:09', '2022-06-18 20:07:10', '2022-06-18 20:07:11', '2022-06-18 20:07:12', '2022-06-18 20:07:13', '2022-06-18 20:07:14', '2022-06-18 20:07:15', '2022-06-18 20:07:16', '2022-06-18 20:07:17', '2022-06-18 20:07:18', '2022-06-18 20:07:19', '2022-06-18 20:07:20', '2022-06-18 20:07:21', '2022-06-18 20:07:22', '2022-06-18 20:07:23', '2022-06-18 20:07:24', '2022-06-18 20:07:25', '2022-06-18 20:07:26', '2022-06-18 20:07:27', '2022-06-18 20:07:28', '2022-06-18 20:07:29', '2022-06-18 20:07:30', '2022-06-18 20:07:31', '2022-06-18 20:07:32', '2022-06-18 20:07:33', '2022-06-18 20:07:34', '2022-06-18 20:07:35', '2022-06-18 20:07:36', '2022-06-18 20:07:37', '2022-06-18 20:07:38', '2022-06-18 20:07:39', '2022-06-18 20:07:40', '2022-06-18 20:07:41', '2022-06-18 20:07:42', '2022-06-18 20:07:43', '2022-06-18 20:07:44', '2022-06-18 20:07:45', '2022-06-18 20:07:46', '2022-06-18 20:07:47', '2022-06-18 20:07:48', '2022-06-18 20:07:49', '2022-06-18 20:07:50', '2022-06-18 20:07:51', '2022-06-18 20:07:52', '2022-06-18 20:07:53', '2022-06-18 20:07:54', '2022-06-18 20:07:55', '2022-06-18 20:07:56', '2022-06-18 20:07:57', '2022-06-18 20:07:58', '2022-06-18 20:07:59', '2022-06-18 20:08:00', '2022-06-18 20:08:01', '2022-06-18 20:08:02', '2022-06-18 20:08:03', '2022-06-18 20:08:04', '2022-06-18 20:08:05', '2022-06-18 20:08:06', '2022-06-18 20:08:07', '2022-06-18 20:08:08', '2022-06-18 20:08:09', '2022-06-18 20:08:10', '2022-06-18 20:08:11', '2022-06-18 20:08:12', '2022-06-18 20:08:13', '2022-06-18 20:08:14', '2022-06-18 20:08:15', '2022-06-18 20:08:16', '2022-06-18 20:08:17', '2022-06-18 20:08:18', '2022-06-18 20:08:19', '2022-06-18 20:08:20', '2022-06-18 20:08:21', '2022-06-18 20:08:22', '2022-06-18 20:08:23', '2022-06-18 20:08:24', '2022-06-18 20:08:25', '2022-06-18 20:08:26', '2022-06-18 20:08:27', '2022-06-18 20:08:28', '2022-06-18 20:08:29', '2022-06-18 20:08:30', '2022-06-18 20:08:31', '2022-06-18 20:08:32', '2022-06-18 20:08:33', '2022-06-18 20:08:34', '2022-06-18 20:08:35', '2022-06-18 20:08:36', '2022-06-18 20:08:37', '2022-06-18 20:08:38', '2022-06-18 20:08:39', '2022-06-18 20:08:40', '2022-06-18 20:08:41', '2022-06-18 20:08:42', '2022-06-18 20:08:43', '2022-06-18 20:08:44', '2022-06-18 20:08:45', '2022-06-18 20:08:46', '2022-06-18 20:08:47', '2022-06-18 20:08:48', '2022-06-18 20:08:49', '2022-06-18 20:08:50', '2022-06-18 20:08:51', '2022-06-18 20:08:52', '2022-06-18 20:08:53', '2022-06-18 20:08:54', '2022-06-18 20:08:55', '2022-06-18 20:08:56', '2022-06-18 20:08:57', '2022-06-18 20:08:58', '2022-06-18 20:08:59', '2022-06-18 20:09:00', '2022-06-18 20:09:01', '2022-06-18 20:09:02', '2022-06-18 20:09:03', '2022-06-18 20:09:04', '2022-06-18 20:09:05', '2022-06-18 20:09:06', '2022-06-18 20:09:07', '2022-06-18 20:09:08', '2022-06-18 20:09:09', '2022-06-18 20:09:10', '2022-06-18 20:09:11', '2022-06-18 20:09:12', '2022-06-18 20:09:13', '2022-06-18 20:09:14', '2022-06-18 20:09:15', '2022-06-18 20:09:16', '2022-06-18 20:09:17', '2022-06-18 20:09:18', '2022-06-18 20:09:19', '2022-06-18 20:09:20', '2022-06-18 20:09:21', '2022-06-18 20:09:22', '2022-06-18 20:09:23', '2022-06-18 20:09:24', '2022-06-18 20:09:25', '2022-06-18 20:09:26', '2022-06-18 20:09:27', '2022-06-18 20:09:28', '2022-06-18 20:09:29', '2022-06-18 20:09:30', '2022-06-18 20:09:31', '2022-06-18 20:09:32', '2022-06-18 20:09:33', '2022-06-18 20:09:34', '2022-06-18 20:09:35', '2022-06-18 20:09:36', '2022-06-18 20:09:37', '2022-06-18 20:09:38', '2022-06-18 20:09:39', '2022-06-18 20:09:40', '2022-06-18 20:09:41', '2022-06-18 20:09:42', '2022-06-18 20:09:43', '2022-06-18 20:09:44', '2022-06-18 20:09:45', '2022-06-18 20:09:46', '2022-06-18 20:09:47', '2022-06-18 20:09:48', '2022-06-18 20:09:49', '2022-06-18 20:09:50', '2022-06-18 20:09:51', '2022-06-18 20:09:52', '2022-06-18 20:09:53', '2022-06-18 20:09:54', '2022-06-18 20:09:55', '2022-06-18 20:09:56', '2022-06-18 20:09:57', '2022-06-18 20:09:58', '2022-06-18 20:09:59', '2022-06-18 20:10:00', '2022-06-18 20:10:01', '2022-06-18 20:10:02', '2022-06-18 20:10:03', '2022-06-18 20:10:04', '2022-06-18 20:10:05', '2022-06-18 20:10:06', '2022-06-18 20:10:07', '2022-06-18 20:10:08', '2022-06-18 20:10:09', '2022-06-18 20:10:10', '2022-06-18 20:10:11', '2022-06-18 20:10:12', '2022-06-18 20:10:13', '2022-06-18 20:10:14', '2022-06-18 20:10:15', '2022-06-18 20:10:16', '2022-06-18 20:10:17', '2022-06-18 20:10:18', '2022-06-18 20:10:19', '2022-06-18 20:10:20', '2022-06-18 20:10:21', '2022-06-18 20:10:22', '2022-06-18 20:10:23', '2022-06-18 20:10:24', '2022-06-18 20:10:25', '2022-06-18 20:10:26', '2022-06-18 20:10:27', '2022-06-18 20:10:28', '2022-06-18 20:10:29', '2022-06-18 20:10:30', '2022-06-18 20:10:31', '2022-06-18 20:10:32', '2022-06-18 20:10:33', '2022-06-18 20:10:34', '2022-06-18 20:10:35', '2022-06-18 20:10:36', '2022-06-18 20:10:37', '2022-06-18 20:10:38', '2022-06-18 20:10:39', '2022-06-18 20:10:40', '2022-06-18 20:10:41', '2022-06-18 20:10:42', '2022-06-18 20:10:43', '2022-06-18 20:10:44', '2022-06-18 20:10:45', '2022-06-18 20:10:46', '2022-06-18 20:10:47', '2022-06-18 20:10:48', '2022-06-18 20:10:49', '2022-06-18 20:10:50', '2022-06-18 20:10:51', '2022-06-18 20:10:52', '2022-06-18 20:10:53', '2022-06-18 20:10:54', '2022-06-18 20:10:55', '2022-06-18 20:10:56', '2022-06-18 20:10:57', '2022-06-18 20:10:58', '2022-06-18 20:10:59', '2022-06-18 20:11:00', '2022-06-18 20:11:01', '2022-06-18 20:11:02', '2022-06-18 20:11:03', '2022-06-18 20:11:04', '2022-06-18 20:11:05', '2022-06-18 20:11:06', '2022-06-18 20:11:07', '2022-06-18 20:11:08', '2022-06-18 20:11:09', '2022-06-18 20:11:10', '2022-06-18 20:11:11', '2022-06-18 20:11:12', '2022-06-18 20:11:13', '2022-06-18 20:11:14', '2022-06-18 20:11:15', '2022-06-18 20:11:16', '2022-06-18 20:11:17', '2022-06-18 20:11:18', '2022-06-18 20:11:19', '2022-06-18 20:11:20', '2022-06-18 20:11:21', '2022-06-18 20:11:22', '2022-06-18 20:11:23', '2022-06-18 20:11:24', '2022-06-18 20:11:25', '2022-06-18 20:11:26', '2022-06-18 20:11:27', '2022-06-18 20:11:28', '2022-06-18 20:11:29', '2022-06-18 20:11:30', '2022-06-18 20:11:31', '2022-06-18 20:11:32', '2022-06-18 20:11:33', '2022-06-18 20:11:34', '2022-06-18 20:11:35', '2022-06-18 20:11:36', '2022-06-18 20:11:37', '2022-06-18 20:11:38', '2022-06-18 20:11:39', '2022-06-18 20:11:40', '2022-06-18 20:11:41', '2022-06-18 20:11:42', '2022-06-18 20:11:43', '2022-06-18 20:11:44', '2022-06-18 20:11:45', '2022-06-18 20:11:46', '2022-06-18 20:11:47', '2022-06-18 20:11:48', '2022-06-18 20:11:49', '2022-06-18 20:11:50', '2022-06-18 20:11:51', '2022-06-18 20:11:52', '2022-06-18 20:11:53', '2022-06-18 20:11:54', '2022-06-18 20:11:55', '2022-06-18 20:11:56', '2022-06-18 20:11:57', '2022-06-18 20:11:58', '2022-06-18 20:11:59', '2022-06-18 20:12:00', '2022-06-18 20:12:01', '2022-06-18 20:12:02', '2022-06-18 20:12:03', '2022-06-18 20:12:04', '2022-06-18 20:12:05', '2022-06-18 20:12:06', '2022-06-18 20:12:07', '2022-06-18 20:12:08', '2022-06-18 20:12:09', '2022-06-18 20:12:10', '2022-06-18 20:12:11', '2022-06-18 20:12:12', '2022-06-18 20:12:13', '2022-06-18 20:12:14', '2022-06-18 20:12:15', '2022-06-18 20:12:16', '2022-06-18 20:12:17', '2022-06-18 20:12:18', '2022-06-18 20:12:19', '2022-06-18 20:12:20', '2022-06-18 20:12:21', '2022-06-18 20:12:22', '2022-06-18 20:12:23', '2022-06-18 20:12:24', '2022-06-18 20:12:25', '2022-06-18 20:12:26', '2022-06-18 20:12:27', '2022-06-18 20:12:28', '2022-06-18 20:12:29', '2022-06-18 20:12:30', '2022-06-18 20:12:31', '2022-06-18 20:12:32', '2022-06-18 20:12:33', '2022-06-18 20:12:34', '2022-06-18 20:12:35', '2022-06-18 20:12:36', '2022-06-18 20:12:37', '2022-06-18 20:12:38', '2022-06-18 20:12:39', '2022-06-18 20:12:40', '2022-06-18 20:12:41', '2022-06-18 20:12:42', '2022-06-18 20:12:43', '2022-06-18 20:12:44', '2022-06-18 20:12:45', '2022-06-18 20:12:46', '2022-06-18 20:12:47', '2022-06-18 20:12:48', '2022-06-18 20:12:49', '2022-06-18 20:12:50', '2022-06-18 20:12:51', '2022-06-18 20:12:52', '2022-06-18 20:12:53', '2022-06-18 20:12:54', '2022-06-18 20:12:55', '2022-06-18 20:12:56', '2022-06-18 20:12:57', '2022-06-18 20:12:58', '2022-06-18 20:12:59', '2022-06-18 20:13:00', '2022-06-18 20:13:01', '2022-06-18 20:13:02', '2022-06-18 20:13:03', '2022-06-18 20:13:04', '2022-06-18 20:13:05', '2022-06-18 20:13:06', '2022-06-18 20:13:07', '2022-06-18 20:13:08', '2022-06-18 20:13:09', '2022-06-18 20:13:10', '2022-06-18 20:13:11', '2022-06-18 20:13:12', '2022-06-18 20:13:13', '2022-06-18 20:13:14', '2022-06-18 20:13:15', '2022-06-18 20:13:16', '2022-06-18 20:13:17', '2022-06-18 20:13:18', '2022-06-18 20:13:19', '2022-06-18 20:13:20', '2022-06-18 20:13:21', '2022-06-18 20:13:22', '2022-06-18 20:13:23', '2022-06-18 20:13:24', '2022-06-18 20:13:25', '2022-06-18 20:13:26', '2022-06-18 20:13:27', '2022-06-18 20:13:28', '2022-06-18 20:13:29', '2022-06-18 20:13:30', '2022-06-18 20:13:31', '2022-06-18 20:13:32', '2022-06-18 20:13:33', '2022-06-18 20:13:34', '2022-06-18 20:13:35', '2022-06-18 20:13:36', '2022-06-18 20:13:37', '2022-06-18 20:13:38', '2022-06-18 20:13:39', '2022-06-18 20:13:40', '2022-06-18 20:13:41', '2022-06-18 20:13:42', '2022-06-18 20:13:43', '2022-06-18 20:13:44', '2022-06-18 20:13:45', '2022-06-18 20:13:46', '2022-06-18 20:13:47', '2022-06-18 20:13:48', '2022-06-18 20:13:49', '2022-06-18 20:13:50', '2022-06-18 20:13:51', '2022-06-18 20:13:52', '2022-06-18 20:13:53', '2022-06-18 20:13:54', '2022-06-18 20:13:55', '2022-06-18 20:13:56', '2022-06-18 20:13:57', '2022-06-18 20:13:58', '2022-06-18 20:13:59', '2022-06-18 20:14:00', '2022-06-18 20:14:01', '2022-06-18 20:14:02', '2022-06-18 20:14:03', '2022-06-18 20:14:04', '2022-06-18 20:14:05', '2022-06-18 20:14:06', '2022-06-18 20:14:07', '2022-06-18 20:14:08', '2022-06-18 20:14:09', '2022-06-18 20:14:10', '2022-06-18 20:14:11', '2022-06-18 20:14:12', '2022-06-18 20:14:13', '2022-06-18 20:14:14', '2022-06-18 20:14:15', '2022-06-18 20:14:16', '2022-06-18 20:14:17', '2022-06-18 20:14:18', '2022-06-18 20:14:19', '2022-06-18 20:14:20', '2022-06-18 20:14:21', '2022-06-18 20:14:22', '2022-06-18 20:14:23', '2022-06-18 20:14:24', '2022-06-18 20:14:25', '2022-06-18 20:14:26', '2022-06-18 20:14:27', '2022-06-18 20:14:28', '2022-06-18 20:14:29', '2022-06-18 20:14:30', '2022-06-18 20:14:31', '2022-06-18 20:14:32', '2022-06-18 20:14:33', '2022-06-18 20:14:34', '2022-06-18 20:14:35', '2022-06-18 20:14:36', '2022-06-18 20:14:37', '2022-06-18 20:14:38', '2022-06-18 20:14:39', '2022-06-18 20:14:40', '2022-06-18 20:14:41', '2022-06-18 20:14:42', '2022-06-18 20:14:43', '2022-06-18 20:14:44', '2022-06-18 20:14:45', '2022-06-18 20:14:46', '2022-06-18 20:14:47', '2022-06-18 20:14:48', '2022-06-18 20:14:49', '2022-06-18 20:14:50', '2022-06-18 20:14:51', '2022-06-18 20:14:52', '2022-06-18 20:14:53', '2022-06-18 20:14:54', '2022-06-18 20:14:55', '2022-06-18 20:14:56', '2022-06-18 20:14:57', '2022-06-18 20:14:58', '2022-06-18 20:14:59', '2022-06-18 20:15:00', '2022-06-18 20:15:01', '2022-06-18 20:15:02', '2022-06-18 20:15:03', '2022-06-18 20:15:04', '2022-06-18 20:15:05', '2022-06-18 20:15:06', '2022-06-18 20:15:07', '2022-06-18 20:15:08', '2022-06-18 20:15:09', '2022-06-18 20:15:10', '2022-06-18 20:15:11', '2022-06-18 20:15:12', '2022-06-18 20:15:13', '2022-06-18 20:15:14', '2022-06-18 20:15:15', '2022-06-18 20:15:16', '2022-06-18 20:15:17', '2022-06-18 20:15:18', '2022-06-18 20:15:19', '2022-06-18 20:15:20', '2022-06-18 20:15:21', '2022-06-18 20:15:22', '2022-06-18 20:15:23', '2022-06-18 20:15:24', '2022-06-18 20:15:25', '2022-06-18 20:15:26', '2022-06-18 20:15:27', '2022-06-18 20:15:28', '2022-06-18 20:15:29', '2022-06-18 20:15:30', '2022-06-18 20:15:31', '2022-06-18 20:15:32', '2022-06-18 20:15:33', '2022-06-18 20:15:34', '2022-06-18 20:15:35', '2022-06-18 20:15:36', '2022-06-18 20:15:37', '2022-06-18 20:15:38', '2022-06-18 20:15:39', '2022-06-18 20:15:40', '2022-06-18 20:15:41', '2022-06-18 20:15:42', '2022-06-18 20:15:43', '2022-06-18 20:15:44', '2022-06-18 20:15:45', '2022-06-18 20:15:46', '2022-06-18 20:15:47', '2022-06-18 20:15:48', '2022-06-18 20:15:49', '2022-06-18 20:15:50', '2022-06-18 20:15:51', '2022-06-18 20:15:52', '2022-06-18 20:15:53', '2022-06-18 20:15:54', '2022-06-18 20:15:55', '2022-06-18 20:15:56', '2022-06-18 20:15:57', '2022-06-18 20:15:58', '2022-06-18 20:15:59', '2022-06-18 20:16:00', '2022-06-18 20:16:01', '2022-06-18 20:16:02', '2022-06-18 20:16:03', '2022-06-18 20:16:04', '2022-06-18 20:16:05', '2022-06-18 20:16:06', '2022-06-18 20:16:07', '2022-06-18 20:16:08', '2022-06-18 20:16:09', '2022-06-18 20:16:10', '2022-06-18 20:16:11', '2022-06-18 20:16:12', '2022-06-18 20:16:13', '2022-06-18 20:16:14', '2022-06-18 20:16:15', '2022-06-18 20:16:16', '2022-06-18 20:16:17', '2022-06-18 20:16:18', '2022-06-18 20:16:19', '2022-06-18 20:16:20', '2022-06-18 20:16:21', '2022-06-18 20:16:22', '2022-06-18 20:16:23', '2022-06-18 20:16:24', '2022-06-18 20:16:25', '2022-06-18 20:16:26', '2022-06-18 20:16:27', '2022-06-18 20:16:28', '2022-06-18 20:16:29', '2022-06-18 20:16:30', '2022-06-18 20:16:31', '2022-06-18 20:16:32', '2022-06-18 20:16:33', '2022-06-18 20:16:34', '2022-06-18 20:16:35', '2022-06-18 20:16:36', '2022-06-18 20:16:37', '2022-06-18 20:16:38', '2022-06-18 20:16:39', '2022-06-18 20:16:40', '2022-06-18 20:16:41', '2022-06-18 20:16:42', '2022-06-18 20:16:43', '2022-06-18 20:16:44', '2022-06-18 20:16:45', '2022-06-18 20:16:46', '2022-06-18 20:16:47', '2022-06-18 20:16:48', '2022-06-18 20:16:49', '2022-06-18 20:16:50', '2022-06-18 20:16:51', '2022-06-18 20:16:52', '2022-06-18 20:16:53', '2022-06-18 20:16:54', '2022-06-18 20:16:55', '2022-06-18 20:16:56', '2022-06-18 20:16:57', '2022-06-18 20:16:58', '2022-06-18 20:16:59', '2022-06-18 20:17:00', '2022-06-18 20:17:01', '2022-06-18 20:17:02', '2022-06-18 20:17:03', '2022-06-18 20:17:04', '2022-06-18 20:17:05', '2022-06-18 20:17:06', '2022-06-18 20:17:07', '2022-06-18 20:17:08', '2022-06-18 20:17:09', '2022-06-18 20:17:10', '2022-06-18 20:17:11', '2022-06-18 20:17:12', '2022-06-18 20:17:13', '2022-06-18 20:17:14', '2022-06-18 20:17:15', '2022-06-18 20:17:16', '2022-06-18 20:17:17', '2022-06-18 20:17:18', '2022-06-18 20:17:19', '2022-06-18 20:17:20', '2022-06-18 20:17:21', '2022-06-18 20:17:22', '2022-06-18 20:17:23', '2022-06-18 20:17:24', '2022-06-18 20:17:25', '2022-06-18 20:17:26', '2022-06-18 20:17:27', '2022-06-18 20:17:28', '2022-06-18 20:17:29', '2022-06-18 20:17:30', '2022-06-18 20:17:31', '2022-06-18 20:17:32', '2022-06-18 20:17:33', '2022-06-18 20:17:34', '2022-06-18 20:17:35', '2022-06-18 20:17:36', '2022-06-18 20:17:37', '2022-06-18 20:17:38', '2022-06-18 20:17:39', '2022-06-18 20:17:40', '2022-06-18 20:17:41', '2022-06-18 20:17:42', '2022-06-18 20:17:43', '2022-06-18 20:17:44', '2022-06-18 20:17:45', '2022-06-18 20:17:46', '2022-06-18 20:17:47', '2022-06-18 20:17:48', '2022-06-18 20:17:49', '2022-06-18 20:17:50', '2022-06-18 20:17:51', '2022-06-18 20:17:52', '2022-06-18 20:17:53', '2022-06-18 20:17:54', '2022-06-18 20:17:55', '2022-06-18 20:17:56', '2022-06-18 20:17:57', '2022-06-18 20:17:58', '2022-06-18 20:17:59', '2022-06-18 20:18:00', '2022-06-18 20:18:01', '2022-06-18 20:18:02', '2022-06-18 20:18:03', '2022-06-18 20:18:04', '2022-06-18 20:18:05', '2022-06-18 20:18:06', '2022-06-18 20:18:07', '2022-06-18 20:18:08', '2022-06-18 20:18:09', '2022-06-18 20:18:10', '2022-06-18 20:18:11', '2022-06-18 20:18:12', '2022-06-18 20:18:13', '2022-06-18 20:18:14', '2022-06-18 20:18:15', '2022-06-18 20:18:16', '2022-06-18 20:18:17', '2022-06-18 20:18:18', '2022-06-18 20:18:19', '2022-06-18 20:18:20', '2022-06-18 20:18:21', '2022-06-18 20:18:22', '2022-06-18 20:18:23', '2022-06-18 20:18:24', '2022-06-18 20:18:25', '2022-06-18 20:18:26', '2022-06-18 20:18:27', '2022-06-18 20:18:28', '2022-06-18 20:18:29', '2022-06-18 20:18:30', '2022-06-18 20:18:31', '2022-06-18 20:18:32', '2022-06-18 20:18:33', '2022-06-18 20:18:34', '2022-06-18 20:18:35', '2022-06-18 20:18:36', '2022-06-18 20:18:37', '2022-06-18 20:18:38', '2022-06-18 20:18:39', '2022-06-18 20:18:40', '2022-06-18 20:18:41', '2022-06-18 20:18:42', '2022-06-18 20:18:43', '2022-06-18 20:18:44', '2022-06-18 20:18:45', '2022-06-18 20:18:46', '2022-06-18 20:18:47', '2022-06-18 20:18:48', '2022-06-18 20:18:49', '2022-06-18 20:18:50', '2022-06-18 20:18:51', '2022-06-18 20:18:52', '2022-06-18 20:18:53', '2022-06-18 20:18:54', '2022-06-18 20:18:55', '2022-06-18 20:18:56', '2022-06-18 20:18:57', '2022-06-18 20:18:58', '2022-06-18 20:18:59', '2022-06-18 20:19:00', '2022-06-18 20:19:01', '2022-06-18 20:19:02', '2022-06-18 20:19:03', '2022-06-18 20:19:04', '2022-06-18 20:19:05', '2022-06-18 20:19:06', '2022-06-18 20:19:07', '2022-06-18 20:19:08', '2022-06-18 20:19:09', '2022-06-18 20:19:10', '2022-06-18 20:19:11', '2022-06-18 20:19:12', '2022-06-18 20:19:13', '2022-06-18 20:19:14', '2022-06-18 20:19:15', '2022-06-18 20:19:16', '2022-06-18 20:19:17', '2022-06-18 20:19:18', '2022-06-18 20:19:19', '2022-06-18 20:19:20', '2022-06-18 20:19:21', '2022-06-18 20:19:22', '2022-06-18 20:19:23', '2022-06-18 20:19:24', '2022-06-18 20:19:25', '2022-06-18 20:19:26', '2022-06-18 20:19:27', '2022-06-18 20:19:28', '2022-06-18 20:19:29', '2022-06-18 20:19:30', '2022-06-18 20:19:31', '2022-06-18 20:19:32', '2022-06-18 20:19:33', '2022-06-18 20:19:34', '2022-06-18 20:19:35', '2022-06-18 20:19:36', '2022-06-18 20:19:37', '2022-06-18 20:19:38', '2022-06-18 20:19:39', '2022-06-18 20:19:40', '2022-06-18 20:19:41', '2022-06-18 20:19:42', '2022-06-18 20:19:43', '2022-06-18 20:19:44', '2022-06-18 20:19:45', '2022-06-18 20:19:46', '2022-06-18 20:19:47', '2022-06-18 20:19:48', '2022-06-18 20:19:49', '2022-06-18 20:19:50', '2022-06-18 20:19:51', '2022-06-18 20:19:52', '2022-06-18 20:19:53', '2022-06-18 20:19:54', '2022-06-18 20:19:55', '2022-06-18 20:19:56', '2022-06-18 20:19:57', '2022-06-18 20:19:58', '2022-06-18 20:19:59', '2022-06-18 20:20:00', '2022-06-18 20:20:01', '2022-06-18 20:20:02', '2022-06-18 20:20:03', '2022-06-18 20:20:04', '2022-06-18 20:20:05', '2022-06-18 20:20:06', '2022-06-18 20:20:07', '2022-06-18 20:20:08', '2022-06-18 20:20:09', '2022-06-18 20:20:10', '2022-06-18 20:20:11', '2022-06-18 20:20:12', '2022-06-18 20:20:13', '2022-06-18 20:20:14', '2022-06-18 20:20:15', '2022-06-18 20:20:16', '2022-06-18 20:20:17', '2022-06-18 20:20:18', '2022-06-18 20:20:19', '2022-06-18 20:20:20', '2022-06-18 20:20:21', '2022-06-18 20:20:22', '2022-06-18 20:20:23', '2022-06-18 20:20:24', '2022-06-18 20:20:25', '2022-06-18 20:20:26', '2022-06-18 20:20:27', '2022-06-18 20:20:28', '2022-06-18 20:20:29', '2022-06-18 20:20:30', '2022-06-18 20:20:31', '2022-06-18 20:20:32', '2022-06-18 20:20:33', '2022-06-18 20:20:34', '2022-06-18 20:20:35', '2022-06-18 20:20:36', '2022-06-18 20:20:37', '2022-06-18 20:20:38', '2022-06-18 20:20:39', '2022-06-18 20:20:40', '2022-06-18 20:20:41', '2022-06-18 20:20:42', '2022-06-18 20:20:43', '2022-06-18 20:20:44', '2022-06-18 20:20:45', '2022-06-18 20:20:46', '2022-06-18 20:20:47', '2022-06-18 20:20:48', '2022-06-18 20:20:49', '2022-06-18 20:20:50', '2022-06-18 20:20:51', '2022-06-18 20:20:52', '2022-06-18 20:20:53', '2022-06-18 20:20:54', '2022-06-18 20:20:55', '2022-06-18 20:20:56', '2022-06-18 20:20:57', '2022-06-18 20:20:58', '2022-06-18 20:20:59', '2022-06-18 20:21:00', '2022-06-18 20:21:01', '2022-06-18 20:21:02', '2022-06-18 20:21:03', '2022-06-18 20:21:04', '2022-06-18 20:21:05', '2022-06-18 20:21:06', '2022-06-18 20:21:07', '2022-06-18 20:21:08', '2022-06-18 20:21:09', '2022-06-18 20:21:10', '2022-06-18 20:21:11', '2022-06-18 20:21:12', '2022-06-18 20:21:13', '2022-06-18 20:21:14', '2022-06-18 20:21:15', '2022-06-18 20:21:16', '2022-06-18 20:21:17', '2022-06-18 20:21:18', '2022-06-18 20:21:19', '2022-06-18 20:21:20', '2022-06-18 20:21:21', '2022-06-18 20:21:22', '2022-06-18 20:21:23', '2022-06-18 20:21:24', '2022-06-18 20:21:25', '2022-06-18 20:21:26', '2022-06-18 20:21:27', '2022-06-18 20:21:28', '2022-06-18 20:21:29', '2022-06-18 20:21:30', '2022-06-18 20:21:31', '2022-06-18 20:21:32', '2022-06-18 20:21:33', '2022-06-18 20:21:34', '2022-06-18 20:21:35', '2022-06-18 20:21:36', '2022-06-18 20:21:37', '2022-06-18 20:21:38', '2022-06-18 20:21:39', '2022-06-18 20:21:40', '2022-06-18 20:21:41', '2022-06-18 20:21:42', '2022-06-18 20:21:43', '2022-06-18 20:21:44', '2022-06-18 20:21:45', '2022-06-18 20:21:46', '2022-06-18 20:21:47', '2022-06-18 20:21:48', '2022-06-18 20:21:49', '2022-06-18 20:21:50', '2022-06-18 20:21:51', '2022-06-18 20:21:52', '2022-06-18 20:21:53', '2022-06-18 20:21:54', '2022-06-18 20:21:55', '2022-06-18 20:21:56', '2022-06-18 20:21:57', '2022-06-18 20:21:58', '2022-06-18 20:21:59', '2022-06-18 20:22:00', '2022-06-18 20:22:01', '2022-06-18 20:22:02', '2022-06-18 20:22:03', '2022-06-18 20:22:04', '2022-06-18 20:22:05', '2022-06-18 20:22:06', '2022-06-18 20:22:07', '2022-06-18 20:22:08', '2022-06-18 20:22:09', '2022-06-18 20:22:10', '2022-06-18 20:22:11', '2022-06-18 20:22:12', '2022-06-18 20:22:13', '2022-06-18 20:22:14', '2022-06-18 20:22:15', '2022-06-18 20:22:16', '2022-06-18 20:22:17', '2022-06-18 20:22:18', '2022-06-18 20:22:19', '2022-06-18 20:22:20', '2022-06-18 20:22:21', '2022-06-18 20:22:22', '2022-06-18 20:22:23', '2022-06-18 20:22:24', '2022-06-18 20:22:25', '2022-06-18 20:22:26', '2022-06-18 20:22:27', '2022-06-18 20:22:28', '2022-06-18 20:22:29', '2022-06-18 20:22:30', '2022-06-18 20:22:31', '2022-06-18 20:22:32', '2022-06-18 20:22:33', '2022-06-18 20:22:34', '2022-06-18 20:22:35', '2022-06-18 20:22:36', '2022-06-18 20:22:37', '2022-06-18 20:22:38', '2022-06-18 20:22:39', '2022-06-18 20:22:40', '2022-06-18 20:22:41', '2022-06-18 20:22:42', '2022-06-18 20:22:43', '2022-06-18 20:22:44', '2022-06-18 20:22:45', '2022-06-18 20:22:46', '2022-06-18 20:22:47', '2022-06-18 20:22:48', '2022-06-18 20:22:49', '2022-06-18 20:22:50', '2022-06-18 20:22:51', '2022-06-18 20:22:52', '2022-06-18 20:22:53', '2022-06-18 20:22:54', '2022-06-18 20:22:55', '2022-06-18 20:22:56', '2022-06-18 20:22:57', '2022-06-18 20:22:58', '2022-06-18 20:22:59', '2022-06-18 20:23:00', '2022-06-18 20:23:01', '2022-06-18 20:23:02', '2022-06-18 20:23:03', '2022-06-18 20:23:04', '2022-06-18 20:23:05', '2022-06-18 20:23:06', '2022-06-18 20:23:07', '2022-06-18 20:23:08', '2022-06-18 20:23:09', '2022-06-18 20:23:10', '2022-06-18 20:23:11', '2022-06-18 20:23:12', '2022-06-18 20:23:13', '2022-06-18 20:23:14', '2022-06-18 20:23:15', '2022-06-18 20:23:16', '2022-06-18 20:23:17', '2022-06-18 20:23:18', '2022-06-18 20:23:19', '2022-06-18 20:23:20', '2022-06-18 20:23:21', '2022-06-18 20:23:22', '2022-06-18 20:23:23', '2022-06-18 20:23:24', '2022-06-18 20:23:25', '2022-06-18 20:23:26', '2022-06-18 20:23:27', '2022-06-18 20:23:28', '2022-06-18 20:23:29', '2022-06-18 20:23:30', '2022-06-18 20:23:31', '2022-06-18 20:23:32', '2022-06-18 20:23:33', '2022-06-18 20:23:34', '2022-06-18 20:23:35', '2022-06-18 20:23:36', '2022-06-18 20:23:37', '2022-06-18 20:23:38', '2022-06-18 20:23:39', '2022-06-18 20:23:40', '2022-06-18 20:23:41', '2022-06-18 20:23:42', '2022-06-18 20:23:43', '2022-06-18 20:23:44', '2022-06-18 20:23:45', '2022-06-18 20:23:46', '2022-06-18 20:23:47', '2022-06-18 20:23:48', '2022-06-18 20:23:49', '2022-06-18 20:23:50', '2022-06-18 20:23:51', '2022-06-18 20:23:52', '2022-06-18 20:23:53', '2022-06-18 20:23:54', '2022-06-18 20:23:55', '2022-06-18 20:23:56', '2022-06-18 20:23:57', '2022-06-18 20:23:58', '2022-06-18 20:23:59', '2022-06-18 20:24:00', '2022-06-18 20:24:01', '2022-06-18 20:24:02', '2022-06-18 20:24:03', '2022-06-18 20:24:04', '2022-06-18 20:24:05', '2022-06-18 20:24:06', '2022-06-18 20:24:07', '2022-06-18 20:24:08', '2022-06-18 20:24:09', '2022-06-18 20:24:10', '2022-06-18 20:24:11', '2022-06-18 20:24:12', '2022-06-18 20:24:13', '2022-06-18 20:24:14', '2022-06-18 20:24:15', '2022-06-18 20:24:16', '2022-06-18 20:24:17', '2022-06-18 20:24:18', '2022-06-18 20:24:19', '2022-06-18 20:24:20', '2022-06-18 20:24:21', '2022-06-18 20:24:22', '2022-06-18 20:24:23', '2022-06-18 20:24:24', '2022-06-18 20:24:25', '2022-06-18 20:24:26', '2022-06-18 20:24:27', '2022-06-18 20:24:28', '2022-06-18 20:24:29', '2022-06-18 20:24:30', '2022-06-18 20:24:31', '2022-06-18 20:24:32', '2022-06-18 20:24:33', '2022-06-18 20:24:34', '2022-06-18 20:24:35', '2022-06-18 20:24:36', '2022-06-18 20:24:37', '2022-06-18 20:24:38', '2022-06-18 20:24:39', '2022-06-18 20:24:40', '2022-06-18 20:24:41', '2022-06-18 20:24:42', '2022-06-18 20:24:43', '2022-06-18 20:24:44', '2022-06-18 20:24:45', '2022-06-18 20:24:46', '2022-06-18 20:24:47', '2022-06-18 20:24:48', '2022-06-18 20:24:49', '2022-06-18 20:24:50', '2022-06-18 20:24:51', '2022-06-18 20:24:52', '2022-06-18 20:24:53', '2022-06-18 20:24:54', '2022-06-18 20:24:55', '2022-06-18 20:24:56', '2022-06-18 20:24:57', '2022-06-18 20:24:58', '2022-06-18 20:24:59', '2022-06-18 20:25:00', '2022-06-18 20:25:01', '2022-06-18 20:25:02', '2022-06-18 20:25:03', '2022-06-18 20:25:04', '2022-06-18 20:25:05', '2022-06-18 20:25:06', '2022-06-18 20:25:07', '2022-06-18 20:25:08', '2022-06-18 20:25:09', '2022-06-18 20:25:10', '2022-06-18 20:25:11', '2022-06-18 20:25:12', '2022-06-18 20:25:13', '2022-06-18 20:25:14', '2022-06-18 20:25:15', '2022-06-18 20:25:16', '2022-06-18 20:25:17', '2022-06-18 20:25:18', '2022-06-18 20:25:19', '2022-06-18 20:25:20', '2022-06-18 20:25:21', '2022-06-18 20:25:22', '2022-06-18 20:25:23', '2022-06-18 20:25:24', '2022-06-18 20:25:25', '2022-06-18 20:25:26', '2022-06-18 20:25:27', '2022-06-18 20:25:28', '2022-06-18 20:25:29', '2022-06-18 20:25:30', '2022-06-18 20:25:31', '2022-06-18 20:25:32', '2022-06-18 20:25:33', '2022-06-18 20:25:34', '2022-06-18 20:25:35', '2022-06-18 20:25:36', '2022-06-18 20:25:37', '2022-06-18 20:25:38', '2022-06-18 20:25:39', '2022-06-18 20:25:40', '2022-06-18 20:25:41', '2022-06-18 20:25:42', '2022-06-18 20:25:43', '2022-06-18 20:25:44', '2022-06-18 20:25:45', '2022-06-18 20:25:46', '2022-06-18 20:25:47', '2022-06-18 20:25:48', '2022-06-18 20:25:49', '2022-06-18 20:25:50', '2022-06-18 20:25:51', '2022-06-18 20:25:52', '2022-06-18 20:25:53', '2022-06-18 20:25:54', '2022-06-18 20:25:55', '2022-06-18 20:25:56', '2022-06-18 20:25:57', '2022-06-18 20:25:58', '2022-06-18 20:25:59', '2022-06-18 20:26:00', '2022-06-18 20:26:01', '2022-06-18 20:26:02', '2022-06-18 20:26:03', '2022-06-18 20:26:04', '2022-06-18 20:26:05', '2022-06-18 20:26:06', '2022-06-18 20:26:07', '2022-06-18 20:26:08', '2022-06-18 20:26:09', '2022-06-18 20:26:10', '2022-06-18 20:26:11', '2022-06-18 20:26:12', '2022-06-18 20:26:13', '2022-06-18 20:26:14', '2022-06-18 20:26:15', '2022-06-18 20:26:16', '2022-06-18 20:26:17', '2022-06-18 20:26:18', '2022-06-18 20:26:19', '2022-06-18 20:26:20', '2022-06-18 20:26:21', '2022-06-18 20:26:22', '2022-06-18 20:26:23', '2022-06-18 20:26:24', '2022-06-18 20:26:25', '2022-06-18 20:26:26', '2022-06-18 20:26:27', '2022-06-18 20:26:28', '2022-06-18 20:26:29', '2022-06-18 20:26:30', '2022-06-18 20:26:31', '2022-06-18 20:26:32', '2022-06-18 20:26:33', '2022-06-18 20:26:34', '2022-06-18 20:26:35', '2022-06-18 20:26:36', '2022-06-18 20:26:37', '2022-06-18 20:26:38', '2022-06-18 20:26:39', '2022-06-18 20:26:40', '2022-06-18 20:26:41', '2022-06-18 20:26:42', '2022-06-18 20:26:43', '2022-06-18 20:26:44', '2022-06-18 20:26:45', '2022-06-18 20:26:46', '2022-06-18 20:26:47', '2022-06-18 20:26:48', '2022-06-18 20:26:49', '2022-06-18 20:26:50', '2022-06-18 20:26:51', '2022-06-18 20:26:52', '2022-06-18 20:26:53', '2022-06-18 20:26:54', '2022-06-18 20:26:55', '2022-06-18 20:26:56', '2022-06-18 20:26:57', '2022-06-18 20:26:58', '2022-06-18 20:26:59', '2022-06-18 20:27:00', '2022-06-18 20:27:01', '2022-06-18 20:27:02', '2022-06-18 20:27:03', '2022-06-18 20:27:04', '2022-06-18 20:27:05', '2022-06-18 20:27:06', '2022-06-18 20:27:07', '2022-06-18 20:27:08', '2022-06-18 20:27:09', '2022-06-18 20:27:10', '2022-06-18 20:27:11', '2022-06-18 20:27:12', '2022-06-18 20:27:13', '2022-06-18 20:27:14', '2022-06-18 20:27:15', '2022-06-18 20:27:16', '2022-06-18 20:27:17', '2022-06-18 20:27:18', '2022-06-18 20:27:19', '2022-06-18 20:27:20', '2022-06-18 20:27:21', '2022-06-18 20:27:22', '2022-06-18 20:27:23', '2022-06-18 20:27:24', '2022-06-18 20:27:25', '2022-06-18 20:27:26', '2022-06-18 20:27:27', '2022-06-18 20:27:28', '2022-06-18 20:27:29', '2022-06-18 20:27:30', '2022-06-18 20:27:31', '2022-06-18 20:27:32', '2022-06-18 20:27:33', '2022-06-18 20:27:34', '2022-06-18 20:27:35', '2022-06-18 20:27:36', '2022-06-18 20:27:37', '2022-06-18 20:27:38', '2022-06-18 20:27:39', '2022-06-18 20:27:40', '2022-06-18 20:27:41', '2022-06-18 20:27:42', '2022-06-18 20:27:43', '2022-06-18 20:27:44', '2022-06-18 20:27:45', '2022-06-18 20:27:46', '2022-06-18 20:27:47', '2022-06-18 20:27:48', '2022-06-18 20:27:49', '2022-06-18 20:27:50', '2022-06-18 20:27:51', '2022-06-18 20:27:52', '2022-06-18 20:27:53', '2022-06-18 20:27:54', '2022-06-18 20:27:55', '2022-06-18 20:27:56', '2022-06-18 20:27:57', '2022-06-18 20:27:58', '2022-06-18 20:27:59', '2022-06-18 20:28:00', '2022-06-18 20:28:01', '2022-06-18 20:28:02', '2022-06-18 20:28:03', '2022-06-18 20:28:04', '2022-06-18 20:28:05', '2022-06-18 20:28:06', '2022-06-18 20:28:07', '2022-06-18 20:28:08', '2022-06-18 20:28:09', '2022-06-18 20:28:10', '2022-06-18 20:28:11', '2022-06-18 20:28:12', '2022-06-18 20:28:13', '2022-06-18 20:28:14', '2022-06-18 20:28:15', '2022-06-18 20:28:16', '2022-06-18 20:28:17', '2022-06-18 20:28:18', '2022-06-18 20:28:19', '2022-06-18 20:28:20', '2022-06-18 20:28:21', '2022-06-18 20:28:22', '2022-06-18 20:28:23', '2022-06-18 20:28:24', '2022-06-18 20:28:25', '2022-06-18 20:28:26', '2022-06-18 20:28:27', '2022-06-18 20:28:28', '2022-06-18 20:28:29', '2022-06-18 20:28:30', '2022-06-18 20:28:31', '2022-06-18 20:28:32', '2022-06-18 20:28:33', '2022-06-18 20:28:34', '2022-06-18 20:28:35', '2022-06-18 20:28:36', '2022-06-18 20:28:37', '2022-06-18 20:28:38', '2022-06-18 20:28:39', '2022-06-18 20:28:40', '2022-06-18 20:28:41', '2022-06-18 20:28:42', '2022-06-18 20:28:43', '2022-06-18 20:28:44', '2022-06-18 20:28:45', '2022-06-18 20:28:46', '2022-06-18 20:28:47', '2022-06-18 20:28:48', '2022-06-18 20:28:49', '2022-06-18 20:28:50', '2022-06-18 20:28:51', '2022-06-18 20:28:52', '2022-06-18 20:28:53', '2022-06-18 20:28:54', '2022-06-18 20:28:55', '2022-06-18 20:28:56', '2022-06-18 20:28:57', '2022-06-18 20:28:58', '2022-06-18 20:28:59', '2022-06-18 20:29:00', '2022-06-18 20:29:01', '2022-06-18 20:29:02', '2022-06-18 20:29:03', '2022-06-18 20:29:04', '2022-06-18 20:29:05', '2022-06-18 20:29:06', '2022-06-18 20:29:07', '2022-06-18 20:29:08', '2022-06-18 20:29:09', '2022-06-18 20:29:10', '2022-06-18 20:29:11', '2022-06-18 20:29:12', '2022-06-18 20:29:13', '2022-06-18 20:29:14', '2022-06-18 20:29:15', '2022-06-18 20:29:16', '2022-06-18 20:29:17', '2022-06-18 20:29:18', '2022-06-18 20:29:19', '2022-06-18 20:29:20', '2022-06-18 20:29:21', '2022-06-18 20:29:22', '2022-06-18 20:29:23', '2022-06-18 20:29:24', '2022-06-18 20:29:25', '2022-06-18 20:29:26', '2022-06-18 20:29:27', '2022-06-18 20:29:28', '2022-06-18 20:29:29', '2022-06-18 20:29:30', '2022-06-18 20:29:31', '2022-06-18 20:29:32', '2022-06-18 20:29:33', '2022-06-18 20:29:34', '2022-06-18 20:29:35', '2022-06-18 20:29:36', '2022-06-18 20:29:37', '2022-06-18 20:29:38', '2022-06-18 20:29:39', '2022-06-18 20:29:40', '2022-06-18 20:29:41', '2022-06-18 20:29:42', '2022-06-18 20:29:43', '2022-06-18 20:29:44', '2022-06-18 20:29:45', '2022-06-18 20:29:46', '2022-06-18 20:29:47', '2022-06-18 20:29:48', '2022-06-18 20:29:49', '2022-06-18 20:29:50', '2022-06-18 20:29:51', '2022-06-18 20:29:52', '2022-06-18 20:29:53', '2022-06-18 20:29:54', '2022-06-18 20:29:55', '2022-06-18 20:29:56', '2022-06-18 20:29:57', '2022-06-18 20:29:58', '2022-06-18 20:29:59', '2022-06-18 20:30:00', '2022-06-18 20:30:01', '2022-06-18 20:30:02', '2022-06-18 20:30:03', '2022-06-18 20:30:04', '2022-06-18 20:30:05', '2022-06-18 20:30:06', '2022-06-18 20:30:07', '2022-06-18 20:30:08', '2022-06-18 20:30:09', '2022-06-18 20:30:10', '2022-06-18 20:30:11', '2022-06-18 20:30:12', '2022-06-18 20:30:13', '2022-06-18 20:30:14', '2022-06-18 20:30:15', '2022-06-18 20:30:16', '2022-06-18 20:30:17', '2022-06-18 20:30:18', '2022-06-18 20:30:19', '2022-06-18 20:30:20', '2022-06-18 20:30:21', '2022-06-18 20:30:22', '2022-06-18 20:30:23', '2022-06-18 20:30:24', '2022-06-18 20:30:25', '2022-06-18 20:30:26', '2022-06-18 20:30:27', '2022-06-18 20:30:28', '2022-06-18 20:30:29', '2022-06-18 20:30:30', '2022-06-18 20:30:31', '2022-06-18 20:30:32', '2022-06-18 20:30:33', '2022-06-18 20:30:34', '2022-06-18 20:30:35', '2022-06-18 20:30:36', '2022-06-18 20:30:37', '2022-06-18 20:30:38', '2022-06-18 20:30:39', '2022-06-18 20:30:40', '2022-06-18 20:30:41', '2022-06-18 20:30:42', '2022-06-18 20:30:43', '2022-06-18 20:30:44', '2022-06-18 20:30:45', '2022-06-18 20:30:46', '2022-06-18 20:30:47', '2022-06-18 20:30:48', '2022-06-18 20:30:49', '2022-06-18 20:30:50', '2022-06-18 20:30:51', '2022-06-18 20:30:52', '2022-06-18 20:30:53', '2022-06-18 20:30:54', '2022-06-18 20:30:55', '2022-06-18 20:30:56', '2022-06-18 20:30:57', '2022-06-18 20:30:58', '2022-06-18 20:30:59', '2022-06-18 20:31:00', '2022-06-18 20:31:01', '2022-06-18 20:31:02', '2022-06-18 20:31:03', '2022-06-18 20:31:04', '2022-06-18 20:31:05', '2022-06-18 20:31:06', '2022-06-18 20:31:07', '2022-06-18 20:31:08', '2022-06-18 20:31:09', '2022-06-18 20:31:10', '2022-06-18 20:31:11', '2022-06-18 20:31:12', '2022-06-18 20:31:13', '2022-06-18 20:31:14', '2022-06-18 20:31:15', '2022-06-18 20:31:16', '2022-06-18 20:31:17', '2022-06-18 20:31:18', '2022-06-18 20:31:19', '2022-06-18 20:31:20', '2022-06-18 20:31:21', '2022-06-18 20:31:22', '2022-06-18 20:31:23', '2022-06-18 20:31:24', '2022-06-18 20:31:25', '2022-06-18 20:31:26', '2022-06-18 20:31:27', '2022-06-18 20:31:28', '2022-06-18 20:31:29', '2022-06-18 20:31:30', '2022-06-18 20:31:31', '2022-06-18 20:31:32', '2022-06-18 20:31:33', '2022-06-18 20:31:34', '2022-06-18 20:31:35', '2022-06-18 20:31:36', '2022-06-18 20:31:37', '2022-06-18 20:31:38', '2022-06-18 20:31:39', '2022-06-18 20:31:40', '2022-06-18 20:31:41', '2022-06-18 20:31:42', '2022-06-18 20:31:43', '2022-06-18 20:31:44', '2022-06-18 20:31:45', '2022-06-18 20:31:46', '2022-06-18 20:31:47', '2022-06-18 20:31:48', '2022-06-18 20:31:49', '2022-06-18 20:31:50', '2022-06-18 20:31:51', '2022-06-18 20:31:52', '2022-06-18 20:31:53', '2022-06-18 20:31:54', '2022-06-18 20:31:55', '2022-06-18 20:31:56', '2022-06-18 20:31:57', '2022-06-18 20:31:58', '2022-06-18 20:31:59', '2022-06-18 20:32:00', '2022-06-18 20:32:01', '2022-06-18 20:32:02', '2022-06-18 20:32:03', '2022-06-18 20:32:04', '2022-06-18 20:32:05', '2022-06-18 20:32:06', '2022-06-18 20:32:07', '2022-06-18 20:32:08', '2022-06-18 20:32:09', '2022-06-18 20:32:10', '2022-06-18 20:32:11', '2022-06-18 20:32:12', '2022-06-18 20:32:13', '2022-06-18 20:32:14', '2022-06-18 20:32:15', '2022-06-18 20:32:16', '2022-06-18 20:32:17', '2022-06-18 20:32:18', '2022-06-18 20:32:19', '2022-06-18 20:32:20', '2022-06-18 20:32:21', '2022-06-18 20:32:22', '2022-06-18 20:32:23', '2022-06-18 20:32:24', '2022-06-18 20:32:25', '2022-06-18 20:32:26', '2022-06-18 20:32:27', '2022-06-18 20:32:28', '2022-06-18 20:32:29', '2022-06-18 20:32:30', '2022-06-18 20:32:31', '2022-06-18 20:32:32', '2022-06-18 20:32:33', '2022-06-18 20:32:34', '2022-06-18 20:32:35', '2022-06-18 20:32:36', '2022-06-18 20:32:37', '2022-06-18 20:32:38', '2022-06-18 20:32:39', '2022-06-18 20:32:40', '2022-06-18 20:32:41', '2022-06-18 20:32:42', '2022-06-18 20:32:43', '2022-06-18 20:32:44', '2022-06-18 20:32:45', '2022-06-18 20:32:46', '2022-06-18 20:32:47', '2022-06-18 20:32:48', '2022-06-18 20:32:49', '2022-06-18 20:32:50', '2022-06-18 20:32:51', '2022-06-18 20:32:52', '2022-06-18 20:32:53', '2022-06-18 20:32:54', '2022-06-18 20:32:55', '2022-06-18 20:32:56', '2022-06-18 20:32:57', '2022-06-18 20:32:58', '2022-06-18 20:32:59', '2022-06-18 20:33:00', '2022-06-18 20:33:01', '2022-06-18 20:33:02', '2022-06-18 20:33:03', '2022-06-18 20:33:04', '2022-06-18 20:33:05', '2022-06-18 20:33:06', '2022-06-18 20:33:07', '2022-06-18 20:33:08', '2022-06-18 20:33:09', '2022-06-18 20:33:10', '2022-06-18 20:33:11', '2022-06-18 20:33:12', '2022-06-18 20:33:13', '2022-06-18 20:33:14', '2022-06-18 20:33:15', '2022-06-18 20:33:16', '2022-06-18 20:33:17', '2022-06-18 20:33:18', '2022-06-18 20:33:19', '2022-06-18 20:33:20', '2022-06-18 20:33:21', '2022-06-18 20:33:22', '2022-06-18 20:33:23', '2022-06-18 20:33:24', '2022-06-18 20:33:25', '2022-06-18 20:33:26', '2022-06-18 20:33:27', '2022-06-18 20:33:28', '2022-06-18 20:33:29', '2022-06-18 20:33:30', '2022-06-18 20:33:31', '2022-06-18 20:33:32', '2022-06-18 20:33:33', '2022-06-18 20:33:34', '2022-06-18 20:33:35', '2022-06-18 20:33:36', '2022-06-18 20:33:37', '2022-06-18 20:33:38', '2022-06-18 20:33:39', '2022-06-18 20:33:40', '2022-06-18 20:33:41', '2022-06-18 20:33:42', '2022-06-18 20:33:43', '2022-06-18 20:33:44', '2022-06-18 20:33:45', '2022-06-18 20:33:46', '2022-06-18 20:33:47', '2022-06-18 20:33:48', '2022-06-18 20:33:49', '2022-06-18 20:33:50', '2022-06-18 20:33:51', '2022-06-18 20:33:52', '2022-06-18 20:33:53', '2022-06-18 20:33:54', '2022-06-18 20:33:55', '2022-06-18 20:33:56', '2022-06-18 20:33:57', '2022-06-18 20:33:58', '2022-06-18 20:33:59', '2022-06-18 20:34:00', '2022-06-18 20:34:01', '2022-06-18 20:34:02', '2022-06-18 20:34:03', '2022-06-18 20:34:04', '2022-06-18 20:34:05', '2022-06-18 20:34:06', '2022-06-18 20:34:07', '2022-06-18 20:34:08', '2022-06-18 20:34:09', '2022-06-18 20:34:10', '2022-06-18 20:34:11', '2022-06-18 20:34:12', '2022-06-18 20:34:13', '2022-06-18 20:34:14', '2022-06-18 20:34:15', '2022-06-18 20:34:16', '2022-06-18 20:34:17', '2022-06-18 20:34:18', '2022-06-18 20:34:19', '2022-06-18 20:34:20', '2022-06-18 20:34:21', '2022-06-18 20:34:22', '2022-06-18 20:34:23', '2022-06-18 20:34:24', '2022-06-18 20:34:25', '2022-06-18 20:34:26', '2022-06-18 20:34:27', '2022-06-18 20:34:28', '2022-06-18 20:34:29', '2022-06-18 20:34:30', '2022-06-18 20:34:31', '2022-06-18 20:34:32', '2022-06-18 20:34:33', '2022-06-18 20:34:34', '2022-06-18 20:34:35', '2022-06-18 20:34:36', '2022-06-18 20:34:37', '2022-06-18 20:34:38', '2022-06-18 20:34:39', '2022-06-18 20:34:40', '2022-06-18 20:34:41', '2022-06-18 20:34:42', '2022-06-18 20:34:43', '2022-06-18 20:34:44', '2022-06-18 20:34:45', '2022-06-18 20:34:46', '2022-06-18 20:34:47', '2022-06-18 20:34:48', '2022-06-18 20:34:49', '2022-06-18 20:34:50', '2022-06-18 20:34:51', '2022-06-18 20:34:52', '2022-06-18 20:34:53', '2022-06-18 20:34:54', '2022-06-18 20:34:55', '2022-06-18 20:34:56', '2022-06-18 20:34:57', '2022-06-18 20:34:58', '2022-06-18 20:34:59', '2022-06-18 20:35:00', '2022-06-18 20:35:01', '2022-06-18 20:35:02', '2022-06-18 20:35:03', '2022-06-18 20:35:04', '2022-06-18 20:35:05', '2022-06-18 20:35:06', '2022-06-18 20:35:07', '2022-06-18 20:35:08', '2022-06-18 20:35:09', '2022-06-18 20:35:10', '2022-06-18 20:35:11', '2022-06-18 20:35:12', '2022-06-18 20:35:13', '2022-06-18 20:35:14', '2022-06-18 20:35:15', '2022-06-18 20:35:16', '2022-06-18 20:35:17', '2022-06-18 20:35:18', '2022-06-18 20:35:19', '2022-06-18 20:35:20', '2022-06-18 20:35:21', '2022-06-18 20:35:22', '2022-06-18 20:35:23', '2022-06-18 20:35:24', '2022-06-18 20:35:25', '2022-06-18 20:35:26', '2022-06-18 20:35:27', '2022-06-18 20:35:28', '2022-06-18 20:35:29', '2022-06-18 20:35:30', '2022-06-18 20:35:31', '2022-06-18 20:35:32', '2022-06-18 20:35:33', '2022-06-18 20:35:34', '2022-06-18 20:35:35', '2022-06-18 20:35:36', '2022-06-18 20:35:37', '2022-06-18 20:35:38', '2022-06-18 20:35:39', '2022-06-18 20:35:40', '2022-06-18 20:35:41', '2022-06-18 20:35:42', '2022-06-18 20:35:43', '2022-06-18 20:35:44', '2022-06-18 20:35:45', '2022-06-18 20:35:46', '2022-06-18 20:35:47', '2022-06-18 20:35:48', '2022-06-18 20:35:49', '2022-06-18 20:35:50', '2022-06-18 20:35:51', '2022-06-18 20:35:52', '2022-06-18 20:35:53', '2022-06-18 20:35:54', '2022-06-18 20:35:55', '2022-06-18 20:35:56', '2022-06-18 20:35:57', '2022-06-18 20:35:58', '2022-06-18 20:35:59', '2022-06-18 20:36:00', '2022-06-18 20:36:01', '2022-06-18 20:36:02', '2022-06-18 20:36:03', '2022-06-18 20:36:04', '2022-06-18 20:36:05', '2022-06-18 20:36:06', '2022-06-18 20:36:07', '2022-06-18 20:36:08', '2022-06-18 20:36:09', '2022-06-18 20:36:10', '2022-06-18 20:36:11', '2022-06-18 20:36:12', '2022-06-18 20:36:13', '2022-06-18 20:36:14', '2022-06-18 20:36:15', '2022-06-18 20:36:16', '2022-06-18 20:36:17', '2022-06-18 20:36:18', '2022-06-18 20:36:19', '2022-06-18 20:36:20', '2022-06-18 20:36:21', '2022-06-18 20:36:22', '2022-06-18 20:36:23', '2022-06-18 20:36:24', '2022-06-18 20:36:25', '2022-06-18 20:36:26', '2022-06-18 20:36:27', '2022-06-18 20:36:28', '2022-06-18 20:36:29', '2022-06-18 20:36:30', '2022-06-18 20:36:31', '2022-06-18 20:36:32', '2022-06-18 20:36:33', '2022-06-18 20:36:34', '2022-06-18 20:36:35', '2022-06-18 20:36:36', '2022-06-18 20:36:37', '2022-06-18 20:36:38', '2022-06-18 20:36:39', '2022-06-18 20:36:40', '2022-06-18 20:36:41', '2022-06-18 20:36:42', '2022-06-18 20:36:43', '2022-06-18 20:36:44', '2022-06-18 20:36:45', '2022-06-18 20:36:46', '2022-06-18 20:36:47', '2022-06-18 20:36:48', '2022-06-18 20:36:49', '2022-06-18 20:36:50', '2022-06-18 20:36:51', '2022-06-18 20:36:52', '2022-06-18 20:36:53', '2022-06-18 20:36:54', '2022-06-18 20:36:55', '2022-06-18 20:36:56', '2022-06-18 20:36:57', '2022-06-18 20:36:58', '2022-06-18 20:36:59', '2022-06-18 20:37:00', '2022-06-18 20:37:01', '2022-06-18 20:37:02', '2022-06-18 20:37:03', '2022-06-18 20:37:04', '2022-06-18 20:37:05', '2022-06-18 20:37:06', '2022-06-18 20:37:07', '2022-06-18 20:37:08', '2022-06-18 20:37:09', '2022-06-18 20:37:10', '2022-06-18 20:37:11', '2022-06-18 20:37:12', '2022-06-18 20:37:13', '2022-06-18 20:37:14', '2022-06-18 20:37:15', '2022-06-18 20:37:16', '2022-06-18 20:37:17', '2022-06-18 20:37:18', '2022-06-18 20:37:19', '2022-06-18 20:37:20', '2022-06-18 20:37:21', '2022-06-18 20:37:22', '2022-06-18 20:37:23', '2022-06-18 20:37:24', '2022-06-18 20:37:25', '2022-06-18 20:37:26', '2022-06-18 20:37:27', '2022-06-18 20:37:28', '2022-06-18 20:37:29', '2022-06-18 20:37:30', '2022-06-18 20:37:31', '2022-06-18 20:37:32', '2022-06-18 20:37:33', '2022-06-18 20:37:34', '2022-06-18 20:37:35', '2022-06-18 20:37:36', '2022-06-18 20:37:37', '2022-06-18 20:37:38', '2022-06-18 20:37:39', '2022-06-18 20:37:40', '2022-06-18 20:37:41', '2022-06-18 20:37:42', '2022-06-18 20:37:43', '2022-06-18 20:37:44', '2022-06-18 20:37:45', '2022-06-18 20:37:46', '2022-06-18 20:37:47', '2022-06-18 20:37:48', '2022-06-18 20:37:49', '2022-06-18 20:37:50', '2022-06-18 20:37:51', '2022-06-18 20:37:52', '2022-06-18 20:37:53', '2022-06-18 20:37:54', '2022-06-18 20:37:55', '2022-06-18 20:37:56', '2022-06-18 20:37:57', '2022-06-18 20:37:58', '2022-06-18 20:37:59', '2022-06-18 20:38:00', '2022-06-18 20:38:01', '2022-06-18 20:38:02', '2022-06-18 20:38:03', '2022-06-18 20:38:04', '2022-06-18 20:38:05', '2022-06-18 20:38:06', '2022-06-18 20:38:07', '2022-06-18 20:38:08', '2022-06-18 20:38:09', '2022-06-18 20:38:10', '2022-06-18 20:38:11', '2022-06-18 20:38:12', '2022-06-18 20:38:13', '2022-06-18 20:38:14', '2022-06-18 20:38:15', '2022-06-18 20:38:16', '2022-06-18 20:38:17', '2022-06-18 20:38:18', '2022-06-18 20:38:19', '2022-06-18 20:38:20', '2022-06-18 20:38:21', '2022-06-18 20:38:22', '2022-06-18 20:38:23', '2022-06-18 20:38:24', '2022-06-18 20:38:25', '2022-06-18 20:38:26', '2022-06-18 20:38:27', '2022-06-18 20:38:28', '2022-06-18 20:38:29', '2022-06-18 20:38:30', '2022-06-18 20:38:31', '2022-06-18 20:38:32', '2022-06-18 20:38:33', '2022-06-18 20:38:34', '2022-06-18 20:38:35', '2022-06-18 20:38:36', '2022-06-18 20:38:37', '2022-06-18 20:38:38', '2022-06-18 20:38:39', '2022-06-18 20:38:40', '2022-06-18 20:38:41', '2022-06-18 20:38:42', '2022-06-18 20:38:43', '2022-06-18 20:38:44', '2022-06-18 20:38:45', '2022-06-18 20:38:46', '2022-06-18 20:38:47', '2022-06-18 20:38:48', '2022-06-18 20:38:49', '2022-06-18 20:38:50', '2022-06-18 20:38:51', '2022-06-18 20:38:52', '2022-06-18 20:38:53', '2022-06-18 20:38:54', '2022-06-18 20:38:55', '2022-06-18 20:38:56', '2022-06-18 20:38:57', '2022-06-18 20:38:58', '2022-06-18 20:38:59', '2022-06-18 20:39:00', '2022-06-18 20:39:01', '2022-06-18 20:39:02', '2022-06-18 20:39:03', '2022-06-18 20:39:04', '2022-06-18 20:39:05', '2022-06-18 20:39:06', '2022-06-18 20:39:07', '2022-06-18 20:39:08', '2022-06-18 20:39:09', '2022-06-18 20:39:10', '2022-06-18 20:39:11', '2022-06-18 20:39:12', '2022-06-18 20:39:13', '2022-06-18 20:39:14', '2022-06-18 20:39:15', '2022-06-18 20:39:16', '2022-06-18 20:39:17', '2022-06-18 20:39:18', '2022-06-18 20:39:19', '2022-06-18 20:39:20', '2022-06-18 20:39:21', '2022-06-18 20:39:22', '2022-06-18 20:39:23', '2022-06-18 20:39:24', '2022-06-18 20:39:25', '2022-06-18 20:39:26', '2022-06-18 20:39:27', '2022-06-18 20:39:28', '2022-06-18 20:39:29', '2022-06-18 20:39:30', '2022-06-18 20:39:31', '2022-06-18 20:39:32', '2022-06-18 20:39:33', '2022-06-18 20:39:34', '2022-06-18 20:39:35', '2022-06-18 20:39:36', '2022-06-18 20:39:37', '2022-06-18 20:39:38', '2022-06-18 20:39:39', '2022-06-18 20:39:40', '2022-06-18 20:39:41', '2022-06-18 20:39:42', '2022-06-18 20:39:43', '2022-06-18 20:39:44', '2022-06-18 20:39:45', '2022-06-18 20:39:46', '2022-06-18 20:39:47', '2022-06-18 20:39:48', '2022-06-18 20:39:49', '2022-06-18 20:39:50', '2022-06-18 20:39:51', '2022-06-18 20:39:52', '2022-06-18 20:39:53', '2022-06-18 20:39:54', '2022-06-18 20:39:55', '2022-06-18 20:39:56', '2022-06-18 20:39:57', '2022-06-18 20:39:58', '2022-06-18 20:39:59', '2022-06-18 20:40:00', '2022-06-18 20:40:01', '2022-06-18 20:40:02', '2022-06-18 20:40:03', '2022-06-18 20:40:04', '2022-06-18 20:40:05', '2022-06-18 20:40:06', '2022-06-18 20:40:07', '2022-06-18 20:40:08', '2022-06-18 20:40:09', '2022-06-18 20:40:10', '2022-06-18 20:40:11', '2022-06-18 20:40:12', '2022-06-18 20:40:13', '2022-06-18 20:40:14', '2022-06-18 20:40:15', '2022-06-18 20:40:16', '2022-06-18 20:40:17', '2022-06-18 20:40:18', '2022-06-18 20:40:19', '2022-06-18 20:40:20', '2022-06-18 20:40:21', '2022-06-18 20:40:22', '2022-06-18 20:40:23', '2022-06-18 20:40:24', '2022-06-18 20:40:25', '2022-06-18 20:40:26', '2022-06-18 20:40:27', '2022-06-18 20:40:28', '2022-06-18 20:40:29', '2022-06-18 20:40:30', '2022-06-18 20:40:31', '2022-06-18 20:40:32', '2022-06-18 20:40:33', '2022-06-18 20:40:34', '2022-06-18 20:40:35', '2022-06-18 20:40:36', '2022-06-18 20:40:37', '2022-06-18 20:40:38', '2022-06-18 20:40:39', '2022-06-18 20:40:40', '2022-06-18 20:40:41', '2022-06-18 20:40:42', '2022-06-18 20:40:43', '2022-06-18 20:40:44', '2022-06-18 20:40:45', '2022-06-18 20:40:46', '2022-06-18 20:40:47', '2022-06-18 20:40:48', '2022-06-18 20:40:49', '2022-06-18 20:40:50', '2022-06-18 20:40:51', '2022-06-18 20:40:52', '2022-06-18 20:40:53', '2022-06-18 20:40:54', '2022-06-18 20:40:55', '2022-06-18 20:40:56', '2022-06-18 20:40:57', '2022-06-18 20:40:58', '2022-06-18 20:40:59', '2022-06-18 20:41:00', '2022-06-18 20:41:01', '2022-06-18 20:41:02', '2022-06-18 20:41:03', '2022-06-18 20:41:04', '2022-06-18 20:41:05', '2022-06-18 20:41:06', '2022-06-18 20:41:07', '2022-06-18 20:41:08', '2022-06-18 20:41:09', '2022-06-18 20:41:10', '2022-06-18 20:41:11', '2022-06-18 20:41:12', '2022-06-18 20:41:13', '2022-06-18 20:41:14', '2022-06-18 20:41:15', '2022-06-18 20:41:16', '2022-06-18 20:41:17', '2022-06-18 20:41:18', '2022-06-18 20:41:19', '2022-06-18 20:41:20', '2022-06-18 20:41:21', '2022-06-18 20:41:22', '2022-06-18 20:41:23', '2022-06-18 20:41:24', '2022-06-18 20:41:25', '2022-06-18 20:41:26', '2022-06-18 20:41:27', '2022-06-18 20:41:28', '2022-06-18 20:41:29', '2022-06-18 20:41:30', '2022-06-18 20:41:31', '2022-06-18 20:41:32', '2022-06-18 20:41:33', '2022-06-18 20:41:34', '2022-06-18 20:41:35', '2022-06-18 20:41:36', '2022-06-18 20:41:37', '2022-06-18 20:41:38', '2022-06-18 20:41:39', '2022-06-18 20:41:40', '2022-06-18 20:41:41', '2022-06-18 20:41:42', '2022-06-18 20:41:43', '2022-06-18 20:41:44', '2022-06-18 20:41:45', '2022-06-18 20:41:46', '2022-06-18 20:41:47', '2022-06-18 20:41:48', '2022-06-18 20:41:49', '2022-06-18 20:41:50', '2022-06-18 20:41:51', '2022-06-18 20:41:52', '2022-06-18 20:41:53', '2022-06-18 20:41:54', '2022-06-18 20:41:55', '2022-06-18 20:41:56', '2022-06-18 20:41:57', '2022-06-18 20:41:58', '2022-06-18 20:41:59', '2022-06-18 20:42:00', '2022-06-18 20:42:01', '2022-06-18 20:42:02', '2022-06-18 20:42:03', '2022-06-18 20:42:04', '2022-06-18 20:42:05', '2022-06-18 20:42:06', '2022-06-18 20:42:07', '2022-06-18 20:42:08', '2022-06-18 20:42:09', '2022-06-18 20:42:10', '2022-06-18 20:42:11', '2022-06-18 20:42:12', '2022-06-18 20:42:13', '2022-06-18 20:42:14', '2022-06-18 20:42:15', '2022-06-18 20:42:16', '2022-06-18 20:42:17', '2022-06-18 20:42:18', '2022-06-18 20:42:19', '2022-06-18 20:42:20', '2022-06-18 20:42:21', '2022-06-18 20:42:22', '2022-06-18 20:42:23', '2022-06-18 20:42:24', '2022-06-18 20:42:25', '2022-06-18 20:42:26', '2022-06-18 20:42:27', '2022-06-18 20:42:28', '2022-06-18 20:42:29', '2022-06-18 20:42:30', '2022-06-18 20:42:31', '2022-06-18 20:42:32', '2022-06-18 20:42:33', '2022-06-18 20:42:34', '2022-06-18 20:42:35', '2022-06-18 20:42:36', '2022-06-18 20:42:37', '2022-06-18 20:42:38', '2022-06-18 20:42:39', '2022-06-18 20:42:40', '2022-06-18 20:42:41', '2022-06-18 20:42:42', '2022-06-18 20:42:43', '2022-06-18 20:42:44', '2022-06-18 20:42:45', '2022-06-18 20:42:46', '2022-06-18 20:42:47', '2022-06-18 20:42:48', '2022-06-18 20:42:49', '2022-06-18 20:42:50', '2022-06-18 20:42:51', '2022-06-18 20:42:52', '2022-06-18 20:42:53', '2022-06-18 20:42:54', '2022-06-18 20:42:55', '2022-06-18 20:42:56', '2022-06-18 20:42:57', '2022-06-18 20:42:58', '2022-06-18 20:42:59', '2022-06-18 20:43:00', '2022-06-18 20:43:01', '2022-06-18 20:43:02', '2022-06-18 20:43:03', '2022-06-18 20:43:04', '2022-06-18 20:43:05', '2022-06-18 20:43:06', '2022-06-18 20:43:07', '2022-06-18 20:43:08', '2022-06-18 20:43:09', '2022-06-18 20:43:10', '2022-06-18 20:43:11', '2022-06-18 20:43:12', '2022-06-18 20:43:13', '2022-06-18 20:43:14', '2022-06-18 20:43:15', '2022-06-18 20:43:16', '2022-06-18 20:43:17', '2022-06-18 20:43:18', '2022-06-18 20:43:19', '2022-06-18 20:43:20', '2022-06-18 20:43:21', '2022-06-18 20:43:22', '2022-06-18 20:43:23', '2022-06-18 20:43:24', '2022-06-18 20:43:25', '2022-06-18 20:43:26', '2022-06-18 20:43:27', '2022-06-18 20:43:28', '2022-06-18 20:43:29', '2022-06-18 20:43:30', '2022-06-18 20:43:31', '2022-06-18 20:43:32', '2022-06-18 20:43:33', '2022-06-18 20:43:34', '2022-06-18 20:43:35', '2022-06-18 20:43:36', '2022-06-18 20:43:37', '2022-06-18 20:43:38', '2022-06-18 20:43:39', '2022-06-18 20:43:40', '2022-06-18 20:43:41', '2022-06-18 20:43:42', '2022-06-18 20:43:43', '2022-06-18 20:43:44', '2022-06-18 20:43:45', '2022-06-18 20:43:46', '2022-06-18 20:43:47', '2022-06-18 20:43:48', '2022-06-18 20:43:49', '2022-06-18 20:43:50', '2022-06-18 20:43:51', '2022-06-18 20:43:52', '2022-06-18 20:43:53', '2022-06-18 20:43:54', '2022-06-18 20:43:55', '2022-06-18 20:43:56', '2022-06-18 20:43:57', '2022-06-18 20:43:58', '2022-06-18 20:43:59', '2022-06-18 20:44:00', '2022-06-18 20:44:01', '2022-06-18 20:44:02', '2022-06-18 20:44:03', '2022-06-18 20:44:04', '2022-06-18 20:44:05', '2022-06-18 20:44:06', '2022-06-18 20:44:07', '2022-06-18 20:44:08', '2022-06-18 20:44:09', '2022-06-18 20:44:10', '2022-06-18 20:44:11', '2022-06-18 20:44:12', '2022-06-18 20:44:13', '2022-06-18 20:44:14', '2022-06-18 20:44:15', '2022-06-18 20:44:16', '2022-06-18 20:44:17', '2022-06-18 20:44:18', '2022-06-18 20:44:19', '2022-06-18 20:44:20', '2022-06-18 20:44:21', '2022-06-18 20:44:22', '2022-06-18 20:44:23', '2022-06-18 20:44:24', '2022-06-18 20:44:25', '2022-06-18 20:44:26', '2022-06-18 20:44:27', '2022-06-18 20:44:28', '2022-06-18 20:44:29', '2022-06-18 20:44:30', '2022-06-18 20:44:31', '2022-06-18 20:44:32', '2022-06-18 20:44:33', '2022-06-18 20:44:34', '2022-06-18 20:44:35', '2022-06-18 20:44:36', '2022-06-18 20:44:37', '2022-06-18 20:44:38', '2022-06-18 20:44:39', '2022-06-18 20:44:40', '2022-06-18 20:44:41', '2022-06-18 20:44:42', '2022-06-18 20:44:43', '2022-06-18 20:44:44', '2022-06-18 20:44:45', '2022-06-18 20:44:46', '2022-06-18 20:44:47', '2022-06-18 20:44:48', '2022-06-18 20:44:49', '2022-06-18 20:44:50', '2022-06-18 20:44:51', '2022-06-18 20:44:52', '2022-06-18 20:44:53', '2022-06-18 20:44:54', '2022-06-18 20:44:55', '2022-06-18 20:44:56', '2022-06-18 20:44:57', '2022-06-18 20:44:58', '2022-06-18 20:44:59', '2022-06-18 20:45:00', '2022-06-18 20:45:01', '2022-06-18 20:45:02', '2022-06-18 20:45:03', '2022-06-18 20:45:04', '2022-06-18 20:45:05', '2022-06-18 20:45:06', '2022-06-18 20:45:07', '2022-06-18 20:45:08', '2022-06-18 20:45:09', '2022-06-18 20:45:10', '2022-06-18 20:45:11', '2022-06-18 20:45:12', '2022-06-18 20:45:13', '2022-06-18 20:45:14', '2022-06-18 20:45:15', '2022-06-18 20:45:16', '2022-06-18 20:45:17', '2022-06-18 20:45:18', '2022-06-18 20:45:19', '2022-06-18 20:45:20', '2022-06-18 20:45:21', '2022-06-18 20:45:22', '2022-06-18 20:45:23', '2022-06-18 20:45:24', '2022-06-18 20:45:25', '2022-06-18 20:45:26', '2022-06-18 20:45:27', '2022-06-18 20:45:28', '2022-06-18 20:45:29', '2022-06-18 20:45:30', '2022-06-18 20:45:31', '2022-06-18 20:45:32', '2022-06-18 20:45:33', '2022-06-18 20:45:34', '2022-06-18 20:45:35', '2022-06-18 20:45:36', '2022-06-18 20:45:37', '2022-06-18 20:45:38', '2022-06-18 20:45:39', '2022-06-18 20:45:40', '2022-06-18 20:45:41', '2022-06-18 20:45:42', '2022-06-18 20:45:43', '2022-06-18 20:45:44', '2022-06-18 20:45:45', '2022-06-18 20:45:46', '2022-06-18 20:45:47', '2022-06-18 20:45:48', '2022-06-18 20:45:49', '2022-06-18 20:45:50', '2022-06-18 20:45:51', '2022-06-18 20:45:52', '2022-06-18 20:45:53', '2022-06-18 20:45:54', '2022-06-18 20:45:55', '2022-06-18 20:45:56', '2022-06-18 20:45:57', '2022-06-18 20:45:58', '2022-06-18 20:45:59', '2022-06-18 20:46:00', '2022-06-18 20:46:01', '2022-06-18 20:46:02', '2022-06-18 20:46:03', '2022-06-18 20:46:04', '2022-06-18 20:46:05', '2022-06-18 20:46:06', '2022-06-18 20:46:07', '2022-06-18 20:46:08', '2022-06-18 20:46:09', '2022-06-18 20:46:10', '2022-06-18 20:46:11', '2022-06-18 20:46:12', '2022-06-18 20:46:13', '2022-06-18 20:46:14', '2022-06-18 20:46:15', '2022-06-18 20:46:16', '2022-06-18 20:46:17', '2022-06-18 20:46:18', '2022-06-18 20:46:19', '2022-06-18 20:46:20', '2022-06-18 20:46:21', '2022-06-18 20:46:22', '2022-06-18 20:46:23', '2022-06-18 20:46:24', '2022-06-18 20:46:25', '2022-06-18 20:46:26', '2022-06-18 20:46:27', '2022-06-18 20:46:28', '2022-06-18 20:46:29', '2022-06-18 20:46:30', '2022-06-18 20:46:31', '2022-06-18 20:46:32', '2022-06-18 20:46:33', '2022-06-18 20:46:34', '2022-06-18 20:46:35', '2022-06-18 20:46:36', '2022-06-18 20:46:37', '2022-06-18 20:46:38', '2022-06-18 20:46:39', '2022-06-18 20:46:40', '2022-06-18 20:46:41', '2022-06-18 20:46:42', '2022-06-18 20:46:43', '2022-06-18 20:46:44', '2022-06-18 20:46:45', '2022-06-18 20:46:46', '2022-06-18 20:46:47', '2022-06-18 20:46:48', '2022-06-18 20:46:49', '2022-06-18 20:46:50', '2022-06-18 20:46:51', '2022-06-18 20:46:52', '2022-06-18 20:46:53', '2022-06-18 20:46:54', '2022-06-18 20:46:55', '2022-06-18 20:46:56', '2022-06-18 20:46:57', '2022-06-18 20:46:58', '2022-06-18 20:46:59', '2022-06-18 20:47:00', '2022-06-18 20:47:01', '2022-06-18 20:47:02', '2022-06-18 20:47:03', '2022-06-18 20:47:04', '2022-06-18 20:47:05', '2022-06-18 20:47:06', '2022-06-18 20:47:07', '2022-06-18 20:47:08', '2022-06-18 20:47:09', '2022-06-18 20:47:10', '2022-06-18 20:47:11', '2022-06-18 20:47:12', '2022-06-18 20:47:13', '2022-06-18 20:47:14', '2022-06-18 20:47:15', '2022-06-18 20:47:16', '2022-06-18 20:47:17', '2022-06-18 20:47:18', '2022-06-18 20:47:19', '2022-06-18 20:47:20', '2022-06-18 20:47:21', '2022-06-18 20:47:22', '2022-06-18 20:47:23', '2022-06-18 20:47:24', '2022-06-18 20:47:25', '2022-06-18 20:47:26', '2022-06-18 20:47:27', '2022-06-18 20:47:28', '2022-06-18 20:47:29', '2022-06-18 20:47:30', '2022-06-18 20:47:31', '2022-06-18 20:47:32', '2022-06-18 20:47:33', '2022-06-18 20:47:34', '2022-06-18 20:47:35', '2022-06-18 20:47:36', '2022-06-18 20:47:37', '2022-06-18 20:47:38', '2022-06-18 20:47:39', '2022-06-18 20:47:40', '2022-06-18 20:47:41', '2022-06-18 20:47:42', '2022-06-18 20:47:43', '2022-06-18 20:47:44', '2022-06-18 20:47:45', '2022-06-18 20:47:46', '2022-06-18 20:47:47', '2022-06-18 20:47:48', '2022-06-18 20:47:49', '2022-06-18 20:47:50', '2022-06-18 20:47:51', '2022-06-18 20:47:52', '2022-06-18 20:47:53', '2022-06-18 20:47:54', '2022-06-18 20:47:55', '2022-06-18 20:47:56', '2022-06-18 20:47:57', '2022-06-18 20:47:58', '2022-06-18 20:47:59', '2022-06-18 20:48:00', '2022-06-18 20:48:01', '2022-06-18 20:48:02', '2022-06-18 20:48:03', '2022-06-18 20:48:04', '2022-06-18 20:48:05', '2022-06-18 20:48:06', '2022-06-18 20:48:07', '2022-06-18 20:48:08', '2022-06-18 20:48:09', '2022-06-18 20:48:10', '2022-06-18 20:48:11', '2022-06-18 20:48:12', '2022-06-18 20:48:13', '2022-06-18 20:48:14', '2022-06-18 20:48:15', '2022-06-18 20:48:16', '2022-06-18 20:48:17', '2022-06-18 20:48:18', '2022-06-18 20:48:19', '2022-06-18 20:48:20', '2022-06-18 20:48:21', '2022-06-18 20:48:22', '2022-06-18 20:48:23', '2022-06-18 20:48:24', '2022-06-18 20:48:25', '2022-06-18 20:48:26', '2022-06-18 20:48:27', '2022-06-18 20:48:28', '2022-06-18 20:48:29', '2022-06-18 20:48:30', '2022-06-18 20:48:31', '2022-06-18 20:48:32', '2022-06-18 20:48:33', '2022-06-18 20:48:34', '2022-06-18 20:48:35', '2022-06-18 20:48:36', '2022-06-18 20:48:37', '2022-06-18 20:48:38', '2022-06-18 20:48:39', '2022-06-18 20:48:40', '2022-06-18 20:48:41', '2022-06-18 20:48:42', '2022-06-18 20:48:43', '2022-06-18 20:48:44', '2022-06-18 20:48:45', '2022-06-18 20:48:46', '2022-06-18 20:48:47', '2022-06-18 20:48:48', '2022-06-18 20:48:49', '2022-06-18 20:48:50', '2022-06-18 20:48:51', '2022-06-18 20:48:52', '2022-06-18 20:48:53', '2022-06-18 20:48:54', '2022-06-18 20:48:55', '2022-06-18 20:48:56', '2022-06-18 20:48:57', '2022-06-18 20:48:58', '2022-06-18 20:48:59', '2022-06-18 20:49:00', '2022-06-18 20:49:01', '2022-06-18 20:49:02', '2022-06-18 20:49:03', '2022-06-18 20:49:04', '2022-06-18 20:49:05', '2022-06-18 20:49:06', '2022-06-18 20:49:07', '2022-06-18 20:49:08', '2022-06-18 20:49:09', '2022-06-18 20:49:10', '2022-06-18 20:49:11', '2022-06-18 20:49:12', '2022-06-18 20:49:13', '2022-06-18 20:49:14', '2022-06-18 20:49:15', '2022-06-18 20:49:16', '2022-06-18 20:49:17', '2022-06-18 20:49:18', '2022-06-18 20:49:19', '2022-06-18 20:49:20', '2022-06-18 20:49:21', '2022-06-18 20:49:22', '2022-06-18 20:49:23', '2022-06-18 20:49:24', '2022-06-18 20:49:25', '2022-06-18 20:49:26', '2022-06-18 20:49:27', '2022-06-18 20:49:28', '2022-06-18 20:49:29', '2022-06-18 20:49:30', '2022-06-18 20:49:31', '2022-06-18 20:49:32', '2022-06-18 20:49:33', '2022-06-18 20:49:34', '2022-06-18 20:49:35', '2022-06-18 20:49:36', '2022-06-18 20:49:37', '2022-06-18 20:49:38', '2022-06-18 20:49:39', '2022-06-18 20:49:40', '2022-06-18 20:49:41', '2022-06-18 20:49:42', '2022-06-18 20:49:43', '2022-06-18 20:49:44', '2022-06-18 20:49:45', '2022-06-18 20:49:46', '2022-06-18 20:49:47', '2022-06-18 20:49:48', '2022-06-18 20:49:49', '2022-06-18 20:49:50', '2022-06-18 20:49:51', '2022-06-18 20:49:52', '2022-06-18 20:49:53', '2022-06-18 20:49:54', '2022-06-18 20:49:55', '2022-06-18 20:49:56', '2022-06-18 20:49:57', '2022-06-18 20:49:58', '2022-06-18 20:49:59', '2022-06-18 20:50:00', '2022-06-18 20:50:01', '2022-06-18 20:50:02', '2022-06-18 20:50:03', '2022-06-18 20:50:04', '2022-06-18 20:50:05', '2022-06-18 20:50:06', '2022-06-18 20:50:07', '2022-06-18 20:50:08', '2022-06-18 20:50:09', '2022-06-18 20:50:10', '2022-06-18 20:50:11', '2022-06-18 20:50:12', '2022-06-18 20:50:13', '2022-06-18 20:50:14', '2022-06-18 20:50:15', '2022-06-18 20:50:16', '2022-06-18 20:50:17', '2022-06-18 20:50:18', '2022-06-18 20:50:19', '2022-06-18 20:50:20', '2022-06-18 20:50:21', '2022-06-18 20:50:22', '2022-06-18 20:50:23', '2022-06-18 20:50:24', '2022-06-18 20:50:25', '2022-06-18 20:50:26', '2022-06-18 20:50:27', '2022-06-18 20:50:28', '2022-06-18 20:50:29', '2022-06-18 20:50:30', '2022-06-18 20:50:31', '2022-06-18 20:50:32', '2022-06-18 20:50:33', '2022-06-18 20:50:34', '2022-06-18 20:50:35', '2022-06-18 20:50:36', '2022-06-18 20:50:37', '2022-06-18 20:50:38', '2022-06-18 20:50:39', '2022-06-18 20:50:40', '2022-06-18 20:50:41', '2022-06-18 20:50:42', '2022-06-18 20:50:43', '2022-06-18 20:50:44', '2022-06-18 20:50:45', '2022-06-18 20:50:46', '2022-06-18 20:50:47', '2022-06-18 20:50:48', '2022-06-18 20:50:49', '2022-06-18 20:50:50', '2022-06-18 20:50:51', '2022-06-18 20:50:52', '2022-06-18 20:50:53', '2022-06-18 20:50:54', '2022-06-18 20:50:55', '2022-06-18 20:50:56', '2022-06-18 20:50:57', '2022-06-18 20:50:58', '2022-06-18 20:50:59', '2022-06-18 20:51:00', '2022-06-18 20:51:01', '2022-06-18 20:51:02', '2022-06-18 20:51:03', '2022-06-18 20:51:04', '2022-06-18 20:51:05', '2022-06-18 20:51:06', '2022-06-18 20:51:07', '2022-06-18 20:51:08', '2022-06-18 20:51:09', '2022-06-18 20:51:10', '2022-06-18 20:51:11', '2022-06-18 20:51:12', '2022-06-18 20:51:13', '2022-06-18 20:51:14', '2022-06-18 20:51:15', '2022-06-18 20:51:16', '2022-06-18 20:51:17', '2022-06-18 20:51:18', '2022-06-18 20:51:19', '2022-06-18 20:51:20', '2022-06-18 20:51:21', '2022-06-18 20:51:22', '2022-06-18 20:51:23', '2022-06-18 20:51:24', '2022-06-18 20:51:25', '2022-06-18 20:51:26', '2022-06-18 20:51:27', '2022-06-18 20:51:28', '2022-06-18 20:51:29', '2022-06-18 20:51:30', '2022-06-18 20:51:31', '2022-06-18 20:51:32', '2022-06-18 20:51:33', '2022-06-18 20:51:34', '2022-06-18 20:51:35', '2022-06-18 20:51:36', '2022-06-18 20:51:37', '2022-06-18 20:51:38', '2022-06-18 20:51:39', '2022-06-18 20:51:40', '2022-06-18 20:51:41', '2022-06-18 20:51:42', '2022-06-18 20:51:43', '2022-06-18 20:51:44', '2022-06-18 20:51:45', '2022-06-18 20:51:46', '2022-06-18 20:51:47', '2022-06-18 20:51:48', '2022-06-18 20:51:49', '2022-06-18 20:51:50', '2022-06-18 20:51:51', '2022-06-18 20:51:52', '2022-06-18 20:51:53', '2022-06-18 20:51:54', '2022-06-18 20:51:55', '2022-06-18 20:51:56', '2022-06-18 20:51:57', '2022-06-18 20:51:58', '2022-06-18 20:51:59', '2022-06-18 20:52:00', '2022-06-18 20:52:01', '2022-06-18 20:52:02', '2022-06-18 20:52:03', '2022-06-18 20:52:04', '2022-06-18 20:52:05', '2022-06-18 20:52:06', '2022-06-18 20:52:07', '2022-06-18 20:52:08', '2022-06-18 20:52:09', '2022-06-18 20:52:10', '2022-06-18 20:52:11', '2022-06-18 20:52:12', '2022-06-18 20:52:13', '2022-06-18 20:52:14', '2022-06-18 20:52:15', '2022-06-18 20:52:16', '2022-06-18 20:52:17', '2022-06-18 20:52:18', '2022-06-18 20:52:19', '2022-06-18 20:52:20', '2022-06-18 20:52:21', '2022-06-18 20:52:22', '2022-06-18 20:52:23', '2022-06-18 20:52:24', '2022-06-18 20:52:25', '2022-06-18 20:52:26', '2022-06-18 20:52:27', '2022-06-18 20:52:28', '2022-06-18 20:52:29', '2022-06-18 20:52:30', '2022-06-18 20:52:31', '2022-06-18 20:52:32', '2022-06-18 20:52:33', '2022-06-18 20:52:34', '2022-06-18 20:52:35', '2022-06-18 20:52:36', '2022-06-18 20:52:37', '2022-06-18 20:52:38', '2022-06-18 20:52:39', '2022-06-18 20:52:40', '2022-06-18 20:52:41', '2022-06-18 20:52:42', '2022-06-18 20:52:43', '2022-06-18 20:52:44', '2022-06-18 20:52:45', '2022-06-18 20:52:46', '2022-06-18 20:52:47', '2022-06-18 20:52:48', '2022-06-18 20:52:49', '2022-06-18 20:52:50', '2022-06-18 20:52:51', '2022-06-18 20:52:52', '2022-06-18 20:52:53', '2022-06-18 20:52:54', '2022-06-18 20:52:55', '2022-06-18 20:52:56', '2022-06-18 20:52:57', '2022-06-18 20:52:58', '2022-06-18 20:52:59', '2022-06-18 20:53:00', '2022-06-18 20:53:01', '2022-06-18 20:53:02', '2022-06-18 20:53:03', '2022-06-18 20:53:04', '2022-06-18 20:53:05', '2022-06-18 20:53:06', '2022-06-18 20:53:07', '2022-06-18 20:53:08', '2022-06-18 20:53:09', '2022-06-18 20:53:10', '2022-06-18 20:53:11', '2022-06-18 20:53:12', '2022-06-18 20:53:13', '2022-06-18 20:53:14', '2022-06-18 20:53:15', '2022-06-18 20:53:16', '2022-06-18 20:53:17', '2022-06-18 20:53:18', '2022-06-18 20:53:19', '2022-06-18 20:53:20', '2022-06-18 20:53:21', '2022-06-18 20:53:22', '2022-06-18 20:53:23', '2022-06-18 20:53:24', '2022-06-18 20:53:25', '2022-06-18 20:53:26', '2022-06-18 20:53:27', '2022-06-18 20:53:28', '2022-06-18 20:53:29', '2022-06-18 20:53:30', '2022-06-18 20:53:31', '2022-06-18 20:53:32', '2022-06-18 20:53:33', '2022-06-18 20:53:34', '2022-06-18 20:53:35', '2022-06-18 20:53:36', '2022-06-18 20:53:37', '2022-06-18 20:53:38', '2022-06-18 20:53:39', '2022-06-18 20:53:40', '2022-06-18 20:53:41', '2022-06-18 20:53:42', '2022-06-18 20:53:43', '2022-06-18 20:53:44', '2022-06-18 20:53:45', '2022-06-18 20:53:46', '2022-06-18 20:53:47', '2022-06-18 20:53:48', '2022-06-18 20:53:49', '2022-06-18 20:53:50', '2022-06-18 20:53:51', '2022-06-18 20:53:52', '2022-06-18 20:53:53', '2022-06-18 20:53:54', '2022-06-18 20:53:55', '2022-06-18 20:53:56', '2022-06-18 20:53:57', '2022-06-18 20:53:58', '2022-06-18 20:53:59', '2022-06-18 20:54:00', '2022-06-18 20:54:01', '2022-06-18 20:54:02', '2022-06-18 20:54:03', '2022-06-18 20:54:04', '2022-06-18 20:54:05', '2022-06-18 20:54:06', '2022-06-18 20:54:07', '2022-06-18 20:54:08', '2022-06-18 20:54:09', '2022-06-18 20:54:10', '2022-06-18 20:54:11', '2022-06-18 20:54:12', '2022-06-18 20:54:13', '2022-06-18 20:54:14', '2022-06-18 20:54:15', '2022-06-18 20:54:16', '2022-06-18 20:54:17', '2022-06-18 20:54:18', '2022-06-18 20:54:19', '2022-06-18 20:54:20', '2022-06-18 20:54:21', '2022-06-18 20:54:22', '2022-06-18 20:54:23', '2022-06-18 20:54:24', '2022-06-18 20:54:25', '2022-06-18 20:54:26', '2022-06-18 20:54:27', '2022-06-18 20:54:28', '2022-06-18 20:54:29', '2022-06-18 20:54:30', '2022-06-18 20:54:31', '2022-06-18 20:54:32', '2022-06-18 20:54:33', '2022-06-18 20:54:34', '2022-06-18 20:54:35', '2022-06-18 20:54:36', '2022-06-18 20:54:37', '2022-06-18 20:54:38', '2022-06-18 20:54:39', '2022-06-18 20:54:40', '2022-06-18 20:54:41', '2022-06-18 20:54:42', '2022-06-18 20:54:43', '2022-06-18 20:54:44', '2022-06-18 20:54:45', '2022-06-18 20:54:46', '2022-06-18 20:54:47', '2022-06-18 20:54:48', '2022-06-18 20:54:49', '2022-06-18 20:54:50', '2022-06-18 20:54:51', '2022-06-18 20:54:52', '2022-06-18 20:54:53', '2022-06-18 20:54:54', '2022-06-18 20:54:55', '2022-06-18 20:54:56', '2022-06-18 20:54:57', '2022-06-18 20:54:58', '2022-06-18 20:54:59', '2022-06-18 20:55:00', '2022-06-18 20:55:01', '2022-06-18 20:55:02', '2022-06-18 20:55:03', '2022-06-18 20:55:04', '2022-06-18 20:55:05', '2022-06-18 20:55:06', '2022-06-18 20:55:07', '2022-06-18 20:55:08', '2022-06-18 20:55:09', '2022-06-18 20:55:10', '2022-06-18 20:55:11', '2022-06-18 20:55:12', '2022-06-18 20:55:13', '2022-06-18 20:55:14', '2022-06-18 20:55:15', '2022-06-18 20:55:16', '2022-06-18 20:55:17', '2022-06-18 20:55:18', '2022-06-18 20:55:19', '2022-06-18 20:55:20', '2022-06-18 20:55:21', '2022-06-18 20:55:22', '2022-06-18 20:55:23', '2022-06-18 20:55:24', '2022-06-18 20:55:25', '2022-06-18 20:55:26', '2022-06-18 20:55:27', '2022-06-18 20:55:28', '2022-06-18 20:55:29', '2022-06-18 20:55:30', '2022-06-18 20:55:31', '2022-06-18 20:55:32', '2022-06-18 20:55:33', '2022-06-18 20:55:34', '2022-06-18 20:55:35', '2022-06-18 20:55:36', '2022-06-18 20:55:37', '2022-06-18 20:55:38', '2022-06-18 20:55:39', '2022-06-18 20:55:40', '2022-06-18 20:55:41', '2022-06-18 20:55:42', '2022-06-18 20:55:43', '2022-06-18 20:55:44', '2022-06-18 20:55:45', '2022-06-18 20:55:46', '2022-06-18 20:55:47', '2022-06-18 20:55:48', '2022-06-18 20:55:49', '2022-06-18 20:55:50', '2022-06-18 20:55:51', '2022-06-18 20:55:52', '2022-06-18 20:55:53', '2022-06-18 20:55:54', '2022-06-18 20:55:55', '2022-06-18 20:55:56', '2022-06-18 20:55:57', '2022-06-18 20:55:58', '2022-06-18 20:55:59', '2022-06-18 20:56:00', '2022-06-18 20:56:01', '2022-06-18 20:56:02', '2022-06-18 20:56:03', '2022-06-18 20:56:04', '2022-06-18 20:56:05', '2022-06-18 20:56:06', '2022-06-18 20:56:07', '2022-06-18 20:56:08', '2022-06-18 20:56:09', '2022-06-18 20:56:10', '2022-06-18 20:56:11', '2022-06-18 20:56:12', '2022-06-18 20:56:13', '2022-06-18 20:56:14', '2022-06-18 20:56:15', '2022-06-18 20:56:16', '2022-06-18 20:56:17', '2022-06-18 20:56:18', '2022-06-18 20:56:19', '2022-06-18 20:56:20', '2022-06-18 20:56:21', '2022-06-18 20:56:22', '2022-06-18 20:56:23', '2022-06-18 20:56:24', '2022-06-18 20:56:25', '2022-06-18 20:56:26', '2022-06-18 20:56:27', '2022-06-18 20:56:28', '2022-06-18 20:56:29', '2022-06-18 20:56:30', '2022-06-18 20:56:31', '2022-06-18 20:56:32', '2022-06-18 20:56:33', '2022-06-18 20:56:34', '2022-06-18 20:56:35', '2022-06-18 20:56:36', '2022-06-18 20:56:37', '2022-06-18 20:56:38', '2022-06-18 20:56:39', '2022-06-18 20:56:40', '2022-06-18 20:56:41', '2022-06-18 20:56:42', '2022-06-18 20:56:43', '2022-06-18 20:56:44', '2022-06-18 20:56:45', '2022-06-18 20:56:46', '2022-06-18 20:56:47', '2022-06-18 20:56:48', '2022-06-18 20:56:49', '2022-06-18 20:56:50', '2022-06-18 20:56:51', '2022-06-18 20:56:52', '2022-06-18 20:56:53', '2022-06-18 20:56:54', '2022-06-18 20:56:55', '2022-06-18 20:56:56', '2022-06-18 20:56:57', '2022-06-18 20:56:58', '2022-06-18 20:56:59', '2022-06-18 20:57:00', '2022-06-18 20:57:01', '2022-06-18 20:57:02', '2022-06-18 20:57:03', '2022-06-18 20:57:04', '2022-06-18 20:57:05', '2022-06-18 20:57:06', '2022-06-18 20:57:07', '2022-06-18 20:57:08', '2022-06-18 20:57:09', '2022-06-18 20:57:10', '2022-06-18 20:57:11', '2022-06-18 20:57:12', '2022-06-18 20:57:13', '2022-06-18 20:57:14', '2022-06-18 20:57:15', '2022-06-18 20:57:16', '2022-06-18 20:57:17', '2022-06-18 20:57:18', '2022-06-18 20:57:19', '2022-06-18 20:57:20', '2022-06-18 20:57:21', '2022-06-18 20:57:22', '2022-06-18 20:57:23', '2022-06-18 20:57:24', '2022-06-18 20:57:25', '2022-06-18 20:57:26', '2022-06-18 20:57:27', '2022-06-18 20:57:28', '2022-06-18 20:57:29', '2022-06-18 20:57:30', '2022-06-18 20:57:31', '2022-06-18 20:57:32', '2022-06-18 20:57:33', '2022-06-18 20:57:34', '2022-06-18 20:57:35', '2022-06-18 20:57:36', '2022-06-18 20:57:37', '2022-06-18 20:57:38', '2022-06-18 20:57:39', '2022-06-18 20:57:40', '2022-06-18 20:57:41', '2022-06-18 20:57:42', '2022-06-18 20:57:43', '2022-06-18 20:57:44', '2022-06-18 20:57:45', '2022-06-18 20:57:46', '2022-06-18 20:57:47', '2022-06-18 20:57:48', '2022-06-18 20:57:49', '2022-06-18 20:57:50', '2022-06-18 20:57:51', '2022-06-18 20:57:52', '2022-06-18 20:57:53', '2022-06-18 20:57:54', '2022-06-18 20:57:55', '2022-06-18 20:57:56', '2022-06-18 20:57:57', '2022-06-18 20:57:58', '2022-06-18 20:57:59', '2022-06-18 20:58:00', '2022-06-18 20:58:01', '2022-06-18 20:58:02', '2022-06-18 20:58:03', '2022-06-18 20:58:04', '2022-06-18 20:58:05', '2022-06-18 20:58:06', '2022-06-18 20:58:07', '2022-06-18 20:58:08', '2022-06-18 20:58:09', '2022-06-18 20:58:10', '2022-06-18 20:58:11', '2022-06-18 20:58:12', '2022-06-18 20:58:13', '2022-06-18 20:58:14', '2022-06-18 20:58:15', '2022-06-18 20:58:16', '2022-06-18 20:58:17', '2022-06-18 20:58:18', '2022-06-18 20:58:19', '2022-06-18 20:58:20', '2022-06-18 20:58:21', '2022-06-18 20:58:22', '2022-06-18 20:58:23', '2022-06-18 20:58:24', '2022-06-18 20:58:25', '2022-06-18 20:58:26', '2022-06-18 20:58:27', '2022-06-18 20:58:28', '2022-06-18 20:58:29', '2022-06-18 20:58:30', '2022-06-18 20:58:31', '2022-06-18 20:58:32', '2022-06-18 20:58:33', '2022-06-18 20:58:34', '2022-06-18 20:58:35', '2022-06-18 20:58:36', '2022-06-18 20:58:37', '2022-06-18 20:58:38', '2022-06-18 20:58:39', '2022-06-18 20:58:40', '2022-06-18 20:58:41', '2022-06-18 20:58:42', '2022-06-18 20:58:43', '2022-06-18 20:58:44', '2022-06-18 20:58:45', '2022-06-18 20:58:46', '2022-06-18 20:58:47', '2022-06-18 20:58:48', '2022-06-18 20:58:49', '2022-06-18 20:58:50', '2022-06-18 20:58:51', '2022-06-18 20:58:52', '2022-06-18 20:58:53', '2022-06-18 20:58:54', '2022-06-18 20:58:55', '2022-06-18 20:58:56', '2022-06-18 20:58:57', '2022-06-18 20:58:58', '2022-06-18 20:58:59', '2022-06-18 20:59:00', '2022-06-18 20:59:01', '2022-06-18 20:59:02', '2022-06-18 20:59:03', '2022-06-18 20:59:04', '2022-06-18 20:59:05', '2022-06-18 20:59:06', '2022-06-18 20:59:07', '2022-06-18 20:59:08', '2022-06-18 20:59:09', '2022-06-18 20:59:10', '2022-06-18 20:59:11', '2022-06-18 20:59:12', '2022-06-18 20:59:13', '2022-06-18 20:59:14', '2022-06-18 20:59:15', '2022-06-18 20:59:16', '2022-06-18 20:59:17', '2022-06-18 20:59:18', '2022-06-18 20:59:19', '2022-06-18 20:59:20', '2022-06-18 20:59:21', '2022-06-18 20:59:22', '2022-06-18 20:59:23', '2022-06-18 20:59:24', '2022-06-18 20:59:25', '2022-06-18 20:59:26', '2022-06-18 20:59:27', '2022-06-18 20:59:28', '2022-06-18 20:59:29', '2022-06-18 20:59:30', '2022-06-18 20:59:31', '2022-06-18 20:59:32', '2022-06-18 20:59:33', '2022-06-18 20:59:34', '2022-06-18 20:59:35', '2022-06-18 20:59:36', '2022-06-18 20:59:37', '2022-06-18 20:59:38', '2022-06-18 20:59:39', '2022-06-18 20:59:40', '2022-06-18 20:59:41', '2022-06-18 20:59:42', '2022-06-18 20:59:43', '2022-06-18 20:59:44', '2022-06-18 20:59:45', '2022-06-18 20:59:46', '2022-06-18 20:59:47', '2022-06-18 20:59:48', '2022-06-18 20:59:49', '2022-06-18 20:59:50', '2022-06-18 20:59:51', '2022-06-18 20:59:52', '2022-06-18 20:59:53', '2022-06-18 20:59:54', '2022-06-18 20:59:55', '2022-06-18 20:59:56', '2022-06-18 20:59:57', '2022-06-18 20:59:58', '2022-06-18 20:59:59', '2022-06-18 21:00:00', '2022-06-18 21:00:01', '2022-06-18 21:00:02', '2022-06-18 21:00:03', '2022-06-18 21:00:04', '2022-06-18 21:00:05', '2022-06-18 21:00:06', '2022-06-18 21:00:07', '2022-06-18 21:00:08', '2022-06-18 21:00:09', '2022-06-18 21:00:10', '2022-06-18 21:00:11', '2022-06-18 21:00:12', '2022-06-18 21:00:13', '2022-06-18 21:00:14', '2022-06-18 21:00:15', '2022-06-18 21:00:16', '2022-06-18 21:00:17', '2022-06-18 21:00:18', '2022-06-18 21:00:19', '2022-06-18 21:00:20', '2022-06-18 21:00:21', '2022-06-18 21:00:22', '2022-06-18 21:00:23', '2022-06-18 21:00:24', '2022-06-18 21:00:25', '2022-06-18 21:00:26', '2022-06-18 21:00:27', '2022-06-18 21:00:28', '2022-06-18 21:00:29', '2022-06-18 21:00:30', '2022-06-18 21:00:31', '2022-06-18 21:00:32', '2022-06-18 21:00:33', '2022-06-18 21:00:34', '2022-06-18 21:00:35', '2022-06-18 21:00:36', '2022-06-18 21:00:37', '2022-06-18 21:00:38', '2022-06-18 21:00:39', '2022-06-18 21:00:40', '2022-06-18 21:00:41', '2022-06-18 21:00:42', '2022-06-18 21:00:43', '2022-06-18 21:00:44', '2022-06-18 21:00:45', '2022-06-18 21:00:46', '2022-06-18 21:00:47', '2022-06-18 21:00:48', '2022-06-18 21:00:49', '2022-06-18 21:00:50', '2022-06-18 21:00:51', '2022-06-18 21:00:52', '2022-06-18 21:00:53', '2022-06-18 21:00:54', '2022-06-18 21:00:55', '2022-06-18 21:00:56', '2022-06-18 21:00:57', '2022-06-18 21:00:58', '2022-06-18 21:00:59', '2022-06-18 21:01:00', '2022-06-18 21:01:01', '2022-06-18 21:01:02', '2022-06-18 21:01:03', '2022-06-18 21:01:04', '2022-06-18 21:01:05', '2022-06-18 21:01:06', '2022-06-18 21:01:07', '2022-06-18 21:01:08', '2022-06-18 21:01:09', '2022-06-18 21:01:10', '2022-06-18 21:01:11', '2022-06-18 21:01:12', '2022-06-18 21:01:13', '2022-06-18 21:01:14', '2022-06-18 21:01:15', '2022-06-18 21:01:16', '2022-06-18 21:01:17', '2022-06-18 21:01:18', '2022-06-18 21:01:19', '2022-06-18 21:01:20', '2022-06-18 21:01:21', '2022-06-18 21:01:22', '2022-06-18 21:01:23', '2022-06-18 21:01:24', '2022-06-18 21:01:25', '2022-06-18 21:01:26', '2022-06-18 21:01:27', '2022-06-18 21:01:28', '2022-06-18 21:01:29', '2022-06-18 21:01:30', '2022-06-18 21:01:31', '2022-06-18 21:01:32', '2022-06-18 21:01:33', '2022-06-18 21:01:34', '2022-06-18 21:01:35', '2022-06-18 21:01:36', '2022-06-18 21:01:37', '2022-06-18 21:01:38', '2022-06-18 21:01:39', '2022-06-18 21:01:40', '2022-06-18 21:01:41', '2022-06-18 21:01:42', '2022-06-18 21:01:43', '2022-06-18 21:01:44', '2022-06-18 21:01:45', '2022-06-18 21:01:46', '2022-06-18 21:01:47', '2022-06-18 21:01:48', '2022-06-18 21:01:49', '2022-06-18 21:01:50', '2022-06-18 21:01:51', '2022-06-18 21:01:52', '2022-06-18 21:01:53', '2022-06-18 21:01:54', '2022-06-18 21:01:55', '2022-06-18 21:01:56', '2022-06-18 21:01:57', '2022-06-18 21:01:58', '2022-06-18 21:01:59', '2022-06-18 21:02:00', '2022-06-18 21:02:01', '2022-06-18 21:02:02', '2022-06-18 21:02:03', '2022-06-18 21:02:04', '2022-06-18 21:02:05', '2022-06-18 21:02:06', '2022-06-18 21:02:07', '2022-06-18 21:02:08', '2022-06-18 21:02:09', '2022-06-18 21:02:10', '2022-06-18 21:02:11', '2022-06-18 21:02:12', '2022-06-18 21:02:13', '2022-06-18 21:02:14', '2022-06-18 21:02:15', '2022-06-18 21:02:16', '2022-06-18 21:02:17', '2022-06-18 21:02:18', '2022-06-18 21:02:19', '2022-06-18 21:02:20', '2022-06-18 21:02:21', '2022-06-18 21:02:22', '2022-06-18 21:02:23', '2022-06-18 21:02:24', '2022-06-18 21:02:25', '2022-06-18 21:02:26', '2022-06-18 21:02:27', '2022-06-18 21:02:28', '2022-06-18 21:02:29', '2022-06-18 21:02:30', '2022-06-18 21:02:31', '2022-06-18 21:02:32', '2022-06-18 21:02:33', '2022-06-18 21:02:34', '2022-06-18 21:02:35', '2022-06-18 21:02:36', '2022-06-18 21:02:37', '2022-06-18 21:02:38', '2022-06-18 21:02:39', '2022-06-18 21:02:40', '2022-06-18 21:02:41', '2022-06-18 21:02:42', '2022-06-18 21:02:43', '2022-06-18 21:02:44', '2022-06-18 21:02:45', '2022-06-18 21:02:46', '2022-06-18 21:02:47', '2022-06-18 21:02:48', '2022-06-18 21:02:49', '2022-06-18 21:02:50', '2022-06-18 21:02:51', '2022-06-18 21:02:52', '2022-06-18 21:02:53', '2022-06-18 21:02:54', '2022-06-18 21:02:55', '2022-06-18 21:02:56', '2022-06-18 21:02:57', '2022-06-18 21:02:58', '2022-06-18 21:02:59', '2022-06-18 21:03:00', '2022-06-18 21:03:01', '2022-06-18 21:03:02', '2022-06-18 21:03:03', '2022-06-18 21:03:04', '2022-06-18 21:03:05', '2022-06-18 21:03:06', '2022-06-18 21:03:07', '2022-06-18 21:03:08', '2022-06-18 21:03:09', '2022-06-18 21:03:10', '2022-06-18 21:03:11', '2022-06-18 21:03:12', '2022-06-18 21:03:13', '2022-06-18 21:03:14', '2022-06-18 21:03:15', '2022-06-18 21:03:16', '2022-06-18 21:03:17', '2022-06-18 21:03:18', '2022-06-18 21:03:19', '2022-06-18 21:03:20', '2022-06-18 21:03:21', '2022-06-18 21:03:22', '2022-06-18 21:03:23', '2022-06-18 21:03:24', '2022-06-18 21:03:25', '2022-06-18 21:03:26', '2022-06-18 21:03:27', '2022-06-18 21:03:28', '2022-06-18 21:03:29', '2022-06-18 21:03:30', '2022-06-18 21:03:31', '2022-06-18 21:03:32', '2022-06-18 21:03:33', '2022-06-18 21:03:34', '2022-06-18 21:03:35', '2022-06-18 21:03:36', '2022-06-18 21:03:37', '2022-06-18 21:03:38', '2022-06-18 21:03:39', '2022-06-18 21:03:40', '2022-06-18 21:03:41', '2022-06-18 21:03:42', '2022-06-18 21:03:43', '2022-06-18 21:03:44', '2022-06-18 21:03:45', '2022-06-18 21:03:46', '2022-06-18 21:03:47', '2022-06-18 21:03:48', '2022-06-18 21:03:49', '2022-06-18 21:03:50', '2022-06-18 21:03:51', '2022-06-18 21:03:52', '2022-06-18 21:03:53', '2022-06-18 21:03:54', '2022-06-18 21:03:55', '2022-06-18 21:03:56', '2022-06-18 21:03:57', '2022-06-18 21:03:58', '2022-06-18 21:03:59', '2022-06-18 21:04:00', '2022-06-18 21:04:01', '2022-06-18 21:04:02', '2022-06-18 21:04:03', '2022-06-18 21:04:04', '2022-06-18 21:04:05', '2022-06-18 21:04:06', '2022-06-18 21:04:07', '2022-06-18 21:04:08', '2022-06-18 21:04:09', '2022-06-18 21:04:10', '2022-06-18 21:04:11', '2022-06-18 21:04:12', '2022-06-18 21:04:13', '2022-06-18 21:04:14', '2022-06-18 21:04:15', '2022-06-18 21:04:16', '2022-06-18 21:04:17', '2022-06-18 21:04:18', '2022-06-18 21:04:19', '2022-06-18 21:04:20', '2022-06-18 21:04:21', '2022-06-18 21:04:22', '2022-06-18 21:04:23', '2022-06-18 21:04:24', '2022-06-18 21:04:25', '2022-06-18 21:04:26', '2022-06-18 21:04:27', '2022-06-18 21:04:28', '2022-06-18 21:04:29', '2022-06-18 21:04:30', '2022-06-18 21:04:31', '2022-06-18 21:04:32', '2022-06-18 21:04:33', '2022-06-18 21:04:34', '2022-06-18 21:04:35', '2022-06-18 21:04:36', '2022-06-18 21:04:37', '2022-06-18 21:04:38', '2022-06-18 21:04:39', '2022-06-18 21:04:40', '2022-06-18 21:04:41', '2022-06-18 21:04:42', '2022-06-18 21:04:43', '2022-06-18 21:04:44', '2022-06-18 21:04:45', '2022-06-18 21:04:46', '2022-06-18 21:04:47', '2022-06-18 21:04:48', '2022-06-18 21:04:49', '2022-06-18 21:04:50', '2022-06-18 21:04:51', '2022-06-18 21:04:52', '2022-06-18 21:04:53', '2022-06-18 21:04:54', '2022-06-18 21:04:55', '2022-06-18 21:04:56', '2022-06-18 21:04:57', '2022-06-18 21:04:58', '2022-06-18 21:04:59', '2022-06-18 21:05:00', '2022-06-18 21:05:01', '2022-06-18 21:05:02', '2022-06-18 21:05:03', '2022-06-18 21:05:04', '2022-06-18 21:05:05', '2022-06-18 21:05:06', '2022-06-18 21:05:07', '2022-06-18 21:05:08', '2022-06-18 21:05:09', '2022-06-18 21:05:10', '2022-06-18 21:05:11', '2022-06-18 21:05:12', '2022-06-18 21:05:13', '2022-06-18 21:05:14', '2022-06-18 21:05:15', '2022-06-18 21:05:16', '2022-06-18 21:05:17', '2022-06-18 21:05:18', '2022-06-18 21:05:19', '2022-06-18 21:05:20', '2022-06-18 21:05:21', '2022-06-18 21:05:22', '2022-06-18 21:05:23', '2022-06-18 21:05:24', '2022-06-18 21:05:25', '2022-06-18 21:05:26', '2022-06-18 21:05:27', '2022-06-18 21:05:28', '2022-06-18 21:05:29', '2022-06-18 21:05:30', '2022-06-18 21:05:31', '2022-06-18 21:05:32', '2022-06-18 21:05:33', '2022-06-18 21:05:34', '2022-06-18 21:05:35', '2022-06-18 21:05:36', '2022-06-18 21:05:37', '2022-06-18 21:05:38', '2022-06-18 21:05:39', '2022-06-18 21:05:40', '2022-06-18 21:05:41', '2022-06-18 21:05:42', '2022-06-18 21:05:43', '2022-06-18 21:05:44', '2022-06-18 21:05:45', '2022-06-18 21:05:46', '2022-06-18 21:05:47', '2022-06-18 21:05:48', '2022-06-18 21:05:49', '2022-06-18 21:05:50', '2022-06-18 21:05:51', '2022-06-18 21:05:52', '2022-06-18 21:05:53', '2022-06-18 21:05:54', '2022-06-18 21:05:55', '2022-06-18 21:05:56', '2022-06-18 21:05:57', '2022-06-18 21:05:58', '2022-06-18 21:05:59', '2022-06-18 21:06:00', '2022-06-18 21:06:01', '2022-06-18 21:06:02', '2022-06-18 21:06:03', '2022-06-18 21:06:04', '2022-06-18 21:06:05', '2022-06-18 21:06:06', '2022-06-18 21:06:07', '2022-06-18 21:06:08', '2022-06-18 21:06:09', '2022-06-18 21:06:10', '2022-06-18 21:06:11', '2022-06-18 21:06:12', '2022-06-18 21:06:13', '2022-06-18 21:06:14', '2022-06-18 21:06:15', '2022-06-18 21:06:16', '2022-06-18 21:06:17', '2022-06-18 21:06:18', '2022-06-18 21:06:19', '2022-06-18 21:06:20', '2022-06-18 21:06:21', '2022-06-18 21:06:22', '2022-06-18 21:06:23', '2022-06-18 21:06:24', '2022-06-18 21:06:25', '2022-06-18 21:06:26', '2022-06-18 21:06:27', '2022-06-18 21:06:28', '2022-06-18 21:06:29', '2022-06-18 21:06:30', '2022-06-18 21:06:31', '2022-06-18 21:06:32', '2022-06-18 21:06:33', '2022-06-18 21:06:34', '2022-06-18 21:06:35', '2022-06-18 21:06:36', '2022-06-18 21:06:37', '2022-06-18 21:06:38', '2022-06-18 21:06:39', '2022-06-18 21:06:40', '2022-06-18 21:06:41', '2022-06-18 21:06:42', '2022-06-18 21:06:43', '2022-06-18 21:06:44', '2022-06-18 21:06:45', '2022-06-18 21:06:46', '2022-06-18 21:06:47', '2022-06-18 21:06:48', '2022-06-18 21:06:49', '2022-06-18 21:06:50', '2022-06-18 21:06:51', '2022-06-18 21:06:52', '2022-06-18 21:06:53', '2022-06-18 21:06:54', '2022-06-18 21:06:55', '2022-06-18 21:06:56', '2022-06-18 21:06:57', '2022-06-18 21:06:58', '2022-06-18 21:06:59', '2022-06-18 21:07:00', '2022-06-18 21:07:01', '2022-06-18 21:07:02', '2022-06-18 21:07:03', '2022-06-18 21:07:04', '2022-06-18 21:07:05', '2022-06-18 21:07:06', '2022-06-18 21:07:07', '2022-06-18 21:07:08', '2022-06-18 21:07:09', '2022-06-18 21:07:10', '2022-06-18 21:07:11', '2022-06-18 21:07:12', '2022-06-18 21:07:13', '2022-06-18 21:07:14', '2022-06-18 21:07:15', '2022-06-18 21:07:16', '2022-06-18 21:07:17', '2022-06-18 21:07:18', '2022-06-18 21:07:19', '2022-06-18 21:07:20', '2022-06-18 21:07:21', '2022-06-18 21:07:22', '2022-06-18 21:07:23', '2022-06-18 21:07:24', '2022-06-18 21:07:25', '2022-06-18 21:07:26', '2022-06-18 21:07:27', '2022-06-18 21:07:28', '2022-06-18 21:07:29', '2022-06-18 21:07:30', '2022-06-18 21:07:31', '2022-06-18 21:07:32', '2022-06-18 21:07:33', '2022-06-18 21:07:34', '2022-06-18 21:07:35', '2022-06-18 21:07:36', '2022-06-18 21:07:37', '2022-06-18 21:07:38', '2022-06-18 21:07:39', '2022-06-18 21:07:40', '2022-06-18 21:07:41', '2022-06-18 21:07:42', '2022-06-18 21:07:43', '2022-06-18 21:07:44', '2022-06-18 21:07:45', '2022-06-18 21:07:46', '2022-06-18 21:07:47', '2022-06-18 21:07:48', '2022-06-18 21:07:49', '2022-06-18 21:07:50', '2022-06-18 21:07:51', '2022-06-18 21:07:52', '2022-06-18 21:07:53', '2022-06-18 21:07:54', '2022-06-18 21:07:55', '2022-06-18 21:07:56', '2022-06-18 21:07:57', '2022-06-18 21:07:58', '2022-06-18 21:07:59', '2022-06-18 21:08:00', '2022-06-18 21:08:01', '2022-06-18 21:08:02', '2022-06-18 21:08:03', '2022-06-18 21:08:04', '2022-06-18 21:08:05', '2022-06-18 21:08:06', '2022-06-18 21:08:07', '2022-06-18 21:08:08', '2022-06-18 21:08:09', '2022-06-18 21:08:10', '2022-06-18 21:08:11', '2022-06-18 21:08:12', '2022-06-18 21:08:13', '2022-06-18 21:08:14', '2022-06-18 21:08:15', '2022-06-18 21:08:16', '2022-06-18 21:08:17', '2022-06-18 21:08:18', '2022-06-18 21:08:19', '2022-06-18 21:08:20', '2022-06-18 21:08:21', '2022-06-18 21:08:22', '2022-06-18 21:08:23', '2022-06-18 21:08:24', '2022-06-18 21:08:25', '2022-06-18 21:08:26', '2022-06-18 21:08:27', '2022-06-18 21:08:28', '2022-06-18 21:08:29', '2022-06-18 21:08:30', '2022-06-18 21:08:31', '2022-06-18 21:08:32', '2022-06-18 21:08:33', '2022-06-18 21:08:34', '2022-06-18 21:08:35', '2022-06-18 21:08:36', '2022-06-18 21:08:37', '2022-06-18 21:08:38', '2022-06-18 21:08:39', '2022-06-18 21:08:40', '2022-06-18 21:08:41', '2022-06-18 21:08:42', '2022-06-18 21:08:43', '2022-06-18 21:08:44', '2022-06-18 21:08:45', '2022-06-18 21:08:46', '2022-06-18 21:08:47', '2022-06-18 21:08:48', '2022-06-18 21:08:49', '2022-06-18 21:08:50', '2022-06-18 21:08:51', '2022-06-18 21:08:52', '2022-06-18 21:08:53', '2022-06-18 21:08:54', '2022-06-18 21:08:55', '2022-06-18 21:08:56', '2022-06-18 21:08:57', '2022-06-18 21:08:58', '2022-06-18 21:08:59', '2022-06-18 21:09:00', '2022-06-18 21:09:01', '2022-06-18 21:09:02', '2022-06-18 21:09:03', '2022-06-18 21:09:04', '2022-06-18 21:09:05', '2022-06-18 21:09:06', '2022-06-18 21:09:07', '2022-06-18 21:09:08', '2022-06-18 21:09:09', '2022-06-18 21:09:10', '2022-06-18 21:09:11', '2022-06-18 21:09:12', '2022-06-18 21:09:13', '2022-06-18 21:09:14', '2022-06-18 21:09:15', '2022-06-18 21:09:16', '2022-06-18 21:09:17', '2022-06-18 21:09:18', '2022-06-18 21:09:19', '2022-06-18 21:09:20', '2022-06-18 21:09:21', '2022-06-18 21:09:22', '2022-06-18 21:09:23', '2022-06-18 21:09:24', '2022-06-18 21:09:25', '2022-06-18 21:09:26', '2022-06-18 21:09:27', '2022-06-18 21:09:28', '2022-06-18 21:09:29', '2022-06-18 21:09:30', '2022-06-18 21:09:31', '2022-06-18 21:09:32', '2022-06-18 21:09:33', '2022-06-18 21:09:34', '2022-06-18 21:09:35', '2022-06-18 21:09:36', '2022-06-18 21:09:37', '2022-06-18 21:09:38', '2022-06-18 21:09:39', '2022-06-18 21:09:40', '2022-06-18 21:09:41', '2022-06-18 21:09:42', '2022-06-18 21:09:43', '2022-06-18 21:09:44', '2022-06-18 21:09:45', '2022-06-18 21:09:46', '2022-06-18 21:09:47', '2022-06-18 21:09:48', '2022-06-18 21:09:49', '2022-06-18 21:09:50', '2022-06-18 21:09:51', '2022-06-18 21:09:52', '2022-06-18 21:09:53', '2022-06-18 21:09:54', '2022-06-18 21:09:55', '2022-06-18 21:09:56', '2022-06-18 21:09:57', '2022-06-18 21:09:58', '2022-06-18 21:09:59', '2022-06-18 21:10:00', '2022-06-18 21:10:01', '2022-06-18 21:10:02', '2022-06-18 21:10:03', '2022-06-18 21:10:04', '2022-06-18 21:10:05', '2022-06-18 21:10:06', '2022-06-18 21:10:07', '2022-06-18 21:10:08', '2022-06-18 21:10:09', '2022-06-18 21:10:10', '2022-06-18 21:10:11', '2022-06-18 21:10:12', '2022-06-18 21:10:13', '2022-06-18 21:10:14', '2022-06-18 21:10:15', '2022-06-18 21:10:16', '2022-06-18 21:10:17', '2022-06-18 21:10:18', '2022-06-18 21:10:19', '2022-06-18 21:10:20', '2022-06-18 21:10:21', '2022-06-18 21:10:22', '2022-06-18 21:10:23', '2022-06-18 21:10:24', '2022-06-18 21:10:25', '2022-06-18 21:10:26', '2022-06-18 21:10:27', '2022-06-18 21:10:28', '2022-06-18 21:10:29', '2022-06-18 21:10:30', '2022-06-18 21:10:31', '2022-06-18 21:10:32', '2022-06-18 21:10:33', '2022-06-18 21:10:34', '2022-06-18 21:10:35', '2022-06-18 21:10:36', '2022-06-18 21:10:37', '2022-06-18 21:10:38', '2022-06-18 21:10:39', '2022-06-18 21:10:40', '2022-06-18 21:10:41', '2022-06-18 21:10:42', '2022-06-18 21:10:43', '2022-06-18 21:10:44', '2022-06-18 21:10:45', '2022-06-18 21:10:46', '2022-06-18 21:10:47', '2022-06-18 21:10:48', '2022-06-18 21:10:49', '2022-06-18 21:10:50', '2022-06-18 21:10:51', '2022-06-18 21:10:52', '2022-06-18 21:10:53', '2022-06-18 21:10:54', '2022-06-18 21:10:55', '2022-06-18 21:10:56', '2022-06-18 21:10:57', '2022-06-18 21:10:58', '2022-06-18 21:10:59', '2022-06-18 21:11:00', '2022-06-18 21:11:01', '2022-06-18 21:11:02', '2022-06-18 21:11:03', '2022-06-18 21:11:04', '2022-06-18 21:11:05', '2022-06-18 21:11:06', '2022-06-18 21:11:07', '2022-06-18 21:11:08', '2022-06-18 21:11:09', '2022-06-18 21:11:10', '2022-06-18 21:11:11', '2022-06-18 21:11:12', '2022-06-18 21:11:13', '2022-06-18 21:11:14', '2022-06-18 21:11:15', '2022-06-18 21:11:16', '2022-06-18 21:11:17', '2022-06-18 21:11:18', '2022-06-18 21:11:19', '2022-06-18 21:11:20', '2022-06-18 21:11:21', '2022-06-18 21:11:22', '2022-06-18 21:11:23', '2022-06-18 21:11:24', '2022-06-18 21:11:25', '2022-06-18 21:11:26', '2022-06-18 21:11:27', '2022-06-18 21:11:28', '2022-06-18 21:11:29', '2022-06-18 21:11:30', '2022-06-18 21:11:31', '2022-06-18 21:11:32', '2022-06-18 21:11:33', '2022-06-18 21:11:34', '2022-06-18 21:11:35', '2022-06-18 21:11:36', '2022-06-18 21:11:37', '2022-06-18 21:11:38', '2022-06-18 21:11:39', '2022-06-18 21:11:40', '2022-06-18 21:11:41', '2022-06-18 21:11:42', '2022-06-18 21:11:43', '2022-06-18 21:11:44', '2022-06-18 21:11:45', '2022-06-18 21:11:46', '2022-06-18 21:11:47', '2022-06-18 21:11:48', '2022-06-18 21:11:49', '2022-06-18 21:11:50', '2022-06-18 21:11:51', '2022-06-18 21:11:52', '2022-06-18 21:11:53', '2022-06-18 21:11:54', '2022-06-18 21:11:55', '2022-06-18 21:11:56', '2022-06-18 21:11:57', '2022-06-18 21:11:58', '2022-06-18 21:11:59', '2022-06-18 21:12:00', '2022-06-18 21:12:01', '2022-06-18 21:12:02', '2022-06-18 21:12:03', '2022-06-18 21:12:04', '2022-06-18 21:12:05', '2022-06-18 21:12:06', '2022-06-18 21:12:07', '2022-06-18 21:12:08', '2022-06-18 21:12:09', '2022-06-18 21:12:10', '2022-06-18 21:12:11', '2022-06-18 21:12:12', '2022-06-18 21:12:13', '2022-06-18 21:12:14', '2022-06-18 21:12:15', '2022-06-18 21:12:16', '2022-06-18 21:12:17', '2022-06-18 21:12:18', '2022-06-18 21:12:19', '2022-06-18 21:12:20', '2022-06-18 21:12:21', '2022-06-18 21:12:22', '2022-06-18 21:12:23', '2022-06-18 21:12:24', '2022-06-18 21:12:25', '2022-06-18 21:12:26', '2022-06-18 21:12:27', '2022-06-18 21:12:28', '2022-06-18 21:12:29', '2022-06-18 21:12:30', '2022-06-18 21:12:31', '2022-06-18 21:12:32', '2022-06-18 21:12:33', '2022-06-18 21:12:34', '2022-06-18 21:12:35', '2022-06-18 21:12:36', '2022-06-18 21:12:37', '2022-06-18 21:12:38', '2022-06-18 21:12:39', '2022-06-18 21:12:40']\n"
     ]
    }
   ],
   "source": [
    "curr_time = []\n",
    "\n",
    "# datetime.datetime을 통해 시간값을 제어할 수 있으며\n",
    "# datetime.datetime.fromtimestamp(컴퓨터시간).strftime(형식)을 통해\n",
    "# 원하는 형태로 시간을 형 변환할 수 있음\n",
    "for i in range(len(sample_time)):\n",
    "    curr_time.append(\n",
    "        datetime.\n",
    "            datetime.\n",
    "                fromtimestamp(ts[i]).\n",
    "                    strftime('%Y-%m-%d %H:%M:%S')\n",
    "    )\n",
    "    \n",
    "print(curr_time)"
   ]
  },
  {
   "cell_type": "code",
   "execution_count": 16,
   "metadata": {},
   "outputs": [
    {
     "name": "stdout",
     "output_type": "stream",
     "text": [
      "소수점 형식 데이터 및 날자 형식 데이터 입력 완료!\n"
     ]
    }
   ],
   "source": [
    "db = pymysql.connect(\n",
    "    host = '127.0.0.1',\n",
    "    port = 3306,\n",
    "    user = mysql_user_info['user_id'],\n",
    "    passwd = mysql_user_info['password'],\n",
    "    db = 'pydb'\n",
    ")\n",
    "\n",
    "cursor = db.cursor()\n",
    "\n",
    "# 소수점 형식의 데이터와 현재 시간값을 기록하도록 한다.\n",
    "sql = \"\"\"\n",
    "    insert into power_data(\n",
    "        voltage, current, vendor, name, reg_date\n",
    "    ) values(\n",
    "        %s, %s, %s, %s, %s\n",
    "    )\n",
    "\"\"\"\n",
    "\n",
    "# volt, curr이 np.float32\n",
    "# DB에 넣는 과정은 %s(문자열) 형식이므로 반드시 str()로 한 번 감싸줘야함\n",
    "try:\n",
    "    with db.cursor() as cursor:\n",
    "        for i in range(len(sample_time)):\n",
    "            cursor.execute(sql,\n",
    "                (\n",
    "                    str(voltage[i]),\n",
    "                    str(current[i]),\n",
    "                    'EDDI',\n",
    "                    'P32N21BTN77PW',\n",
    "                    curr_time[i]\n",
    "                )\n",
    "            )\n",
    "            \n",
    "        db.commit()\n",
    "finally:\n",
    "    db.close()\n",
    "    \n",
    "print('소수점 형식 데이터 및 날자 형식 데이터 입력 완료!')"
   ]
  },
  {
   "cell_type": "code",
   "execution_count": null,
   "metadata": {},
   "outputs": [],
   "source": []
  },
  {
   "cell_type": "code",
   "execution_count": null,
   "metadata": {},
   "outputs": [],
   "source": [
    "## 회원 가입"
   ]
  },
  {
   "cell_type": "code",
   "execution_count": 70,
   "metadata": {},
   "outputs": [
    {
     "name": "stdout",
     "output_type": "stream",
     "text": [
      "회원 테이블 생성 성공!\n"
     ]
    }
   ],
   "source": [
    "# 회원 테이블 생성\n",
    "db = pymysql.connect(\n",
    "    # localhost와 같은 아이피 주소임\n",
    "    host = '127.0.0.1',\n",
    "    # MySQL의 포트 번호\n",
    "    port = 3306,\n",
    "    # 아뒤\n",
    "    user = mysql_user_info['user_id'],\n",
    "    # 비번\n",
    "    passwd = mysql_user_info['password'],\n",
    "    # 사용하려는 스키마\n",
    "    db = 'pydb'\n",
    ")\n",
    "\n",
    "cursor = db.cursor()\n",
    "\n",
    "sql = \"\"\"\n",
    "    create table member(\n",
    "        no int unsigned not null auto_increment,\n",
    "        id varchar(20) not null,\n",
    "        pw varchar(20) not null,\n",
    "        primary key(no)\n",
    "    )\n",
    "\"\"\"\n",
    "\n",
    "# 실제 SQL Query를 실행하는 코드\n",
    "cursor.execute(sql)\n",
    "\n",
    "# 작업한 내용을 실제 DB에 적용함\n",
    "db.commit()\n",
    "\n",
    "# 작업 완료 이후 DB 연결을 끊는다.\n",
    "db.close()\n",
    "\n",
    "print(\"회원 테이블 생성 성공!\")"
   ]
  },
  {
   "cell_type": "code",
   "execution_count": null,
   "metadata": {},
   "outputs": [
    {
     "name": "stdout",
     "output_type": "stream",
     "text": [
      " * Serving Flask app \"__main__\" (lazy loading)\n",
      " * Environment: production\n",
      "   WARNING: This is a development server. Do not use it in a production deployment.\n",
      "   Use a production WSGI server instead.\n",
      " * Debug mode: off\n"
     ]
    },
    {
     "name": "stderr",
     "output_type": "stream",
     "text": [
      " * Running on http://127.0.0.1:5000/ (Press CTRL+C to quit)\n"
     ]
    }
   ],
   "source": [
    "from flask import Flask, url_for, request, jsonify\n",
    "from flask_cors import CORS, cross_origin\n",
    "\n",
    "import json\n",
    "\n",
    "app = Flask(__name__)\n",
    "CORS(app)\n",
    "\n",
    "session = {}\n",
    "\n",
    "# 검증 필요\n",
    "@app.route('/login', methods = ['POST'])\n",
    "def login():\n",
    "    params = json.loads(request.get_data(), encoding='utf-8')\n",
    "    session['id'] = params.get('id')\n",
    "\n",
    "# 검증 필요\n",
    "@app.route('/logout')\n",
    "def logout():\n",
    "    params = json.loads(request.get_data(), encoding='utf-8')\n",
    "    session.pop(params.get('id'), None)\n",
    "\n",
    "@app.route('/vueMember/register',methods = ['POST'])\n",
    "def register():\n",
    "    params = json.loads(request.get_data(), encoding='utf-8')\n",
    "    print(\"params: \", params)\n",
    "        \n",
    "    if len(params) == 0:\n",
    "        return jsonify(\"No Parameter\")\n",
    "    \n",
    "    # insert 처리\n",
    "    db = pymysql.connect(\n",
    "        host = '127.0.0.1',\n",
    "        port = 3306,\n",
    "        user = mysql_user_info['user_id'],\n",
    "        passwd = mysql_user_info['password'],\n",
    "        db = 'pydb'\n",
    "    )\n",
    "\n",
    "    cursor = db.cursor()\n",
    "\n",
    "    sql = \"\"\"\n",
    "        insert into member(id, pw) values (%s, %s)\n",
    "    \"\"\"\n",
    "\n",
    "    cursor.execute(sql, (params.get('id'), params.get('pw')))\n",
    "\n",
    "    db.commit()\n",
    "    db.close()\n",
    "    print(\"회원 등록 성공!\")\n",
    "    \n",
    "    \n",
    "    \n",
    "    for key in params.keys():\n",
    "        print(\"params[key]: \", params[key], \" key: \", key)\n",
    "        \n",
    "    send_string = params.get('id') + \" 님 가입이 완료되었습니다!\"\n",
    "    print(send_string)\n",
    "    \n",
    "    return jsonify(send_string)\n",
    "\n",
    "if __name__ == '__main__':\n",
    "    app.run()"
   ]
  },
  {
   "cell_type": "code",
   "execution_count": null,
   "metadata": {},
   "outputs": [],
   "source": []
  },
  {
   "cell_type": "code",
   "execution_count": 1,
   "metadata": {},
   "outputs": [
    {
     "name": "stdout",
     "output_type": "stream",
     "text": [
      "Requirement already satisfied: pyserial in /home/oem/anaconda3/lib/python3.7/site-packages (3.5)\r\n"
     ]
    }
   ],
   "source": [
    "!pip install pyserial"
   ]
  },
  {
   "cell_type": "code",
   "execution_count": 17,
   "metadata": {},
   "outputs": [],
   "source": [
    "import sys\n",
    "import time\n",
    "import serial\n",
    "import threading\n",
    "import queue\n",
    "\n",
    "class Protocol(object):\n",
    "    \"\"\"\\\n",
    "    Protocol as used by the ReaderThread. This base class provides empty\n",
    "    implementations of all methods.\n",
    "    \"\"\"\n",
    "\n",
    "    def connection_made(self, transport):\n",
    "        \"\"\"Called when reader thread is started\"\"\"\n",
    "\n",
    "    def data_received(self, data):\n",
    "        \"\"\"Called with snippets received from the serial port\"\"\"\n",
    "\n",
    "    def connection_lost(self, exc):\n",
    "        \"\"\"\\\n",
    "        Called when the serial port is closed or the reader loop terminated\n",
    "        otherwise.\n",
    "        \"\"\"\n",
    "        if isinstance(exc, Exception):\n",
    "            raise exc\n",
    "\n",
    "\n",
    "class ReaderThread(threading.Thread):\n",
    "    \"\"\"\\\n",
    "    Implement a serial port read loop and dispatch to a Protocol instance (like\n",
    "    the asyncio.Protocol) but do it with threads.\n",
    "    Calls to close() will close the serial port but it is also possible to just\n",
    "    stop() this thread and continue the serial port instance otherwise.\n",
    "    \"\"\"\n",
    "\n",
    "    def __init__(self, serial_instance, protocol_factory):\n",
    "        \"\"\"\\\n",
    "        Initialize thread.\n",
    "        Note that the serial_instance' timeout is set to one second!\n",
    "        Other settings are not changed.\n",
    "        \"\"\"\n",
    "        super(ReaderThread, self).__init__()\n",
    "        self.daemon = True\n",
    "        self.serial = serial_instance\n",
    "        self.protocol_factory = protocol_factory\n",
    "        self.alive = True\n",
    "        self._lock = threading.Lock()\n",
    "        self._connection_made = threading.Event()\n",
    "        self.protocol = None\n",
    "\n",
    "    def stop(self):\n",
    "        \"\"\"Stop the reader thread\"\"\"\n",
    "        self.alive = False\n",
    "        if hasattr(self.serial, 'cancel_read'):\n",
    "            self.serial.cancel_read()\n",
    "        self.join(2)\n",
    "\n",
    "    def run(self):\n",
    "        \"\"\"Reader loop\"\"\"\n",
    "        if not hasattr(self.serial, 'cancel_read'):\n",
    "            self.serial.timeout = 1\n",
    "        self.protocol = self.protocol_factory()\n",
    "        try:\n",
    "            self.protocol.connection_made(self)\n",
    "        except Exception as e:\n",
    "            self.alive = False\n",
    "            self.protocol.connection_lost(e)\n",
    "            self._connection_made.set()\n",
    "            return\n",
    "        error = None\n",
    "        self._connection_made.set()\n",
    "        while self.alive and self.serial.is_open:\n",
    "            try:\n",
    "                # read all that is there or wait for one byte (blocking)\n",
    "                data = self.serial.read(self.serial.in_waiting or 1)\n",
    "            except serial.SerialException as e:\n",
    "                # probably some I/O problem such as disconnected USB serial\n",
    "                # adapters -> exit\n",
    "                error = e\n",
    "                break\n",
    "            else:\n",
    "                if data:\n",
    "                    # make a separated try-except for called used code\n",
    "                    try:\n",
    "                        self.protocol.data_received(data)\n",
    "                    except Exception as e:\n",
    "                        error = e\n",
    "                        break\n",
    "        self.alive = False\n",
    "        self.protocol.connection_lost(error)\n",
    "        self.protocol = None\n",
    "\n",
    "    def write(self, data):\n",
    "        \"\"\"Thread safe writing (uses lock)\"\"\"\n",
    "        with self._lock:\n",
    "\n",
    "            print(data)\n",
    "            self.serial.write(data)\n",
    "\n",
    "    def close(self):\n",
    "        \"\"\"Close the serial port and exit reader thread (uses lock)\"\"\"\n",
    "        # use the lock to let other threads finish writing\n",
    "        with self._lock:\n",
    "            # first stop reading, so that closing can be done on idle port\n",
    "            self.stop()\n",
    "            self.serial.close()\n",
    "\n",
    "    def connect(self):\n",
    "        \"\"\"\n",
    "        Wait until connection is set up and return the transport and protocol\n",
    "        instances.\n",
    "        \"\"\"\n",
    "        if self.alive:\n",
    "            self._connection_made.wait()\n",
    "            if not self.alive:\n",
    "                raise RuntimeError('connection_lost already called')\n",
    "            return (self, self.protocol)\n",
    "        else:\n",
    "            raise RuntimeError('already stopped')\n",
    "\n",
    "    # - -  context manager, returns protocol\n",
    "\n",
    "    def __enter__(self):\n",
    "        \"\"\"\\\n",
    "        Enter context handler. May raise RuntimeError in case the connection\n",
    "        could not be created.\n",
    "        \"\"\"\n",
    "        self.start()\n",
    "        self._connection_made.wait()\n",
    "        if not self.alive:\n",
    "            raise RuntimeError('connection_lost already called')\n",
    "        return self.protocol\n",
    "\n",
    "    def __exit__(self, exc_type, exc_val, exc_tb):\n",
    "        \"\"\"Leave context: close port\"\"\"\n",
    "        self.close()"
   ]
  },
  {
   "cell_type": "code",
   "execution_count": 18,
   "metadata": {
    "scrolled": true
   },
   "outputs": [
    {
     "ename": "SerialException",
     "evalue": "[Errno 2] could not open port /dev/ttyACM0: [Errno 2] No such file or directory: '/dev/ttyACM0'",
     "output_type": "error",
     "traceback": [
      "\u001b[0;31m---------------------------------------------------------------------------\u001b[0m",
      "\u001b[0;31mFileNotFoundError\u001b[0m                         Traceback (most recent call last)",
      "\u001b[0;32m~/anaconda3/lib/python3.7/site-packages/serial/serialposix.py\u001b[0m in \u001b[0;36mopen\u001b[0;34m(self)\u001b[0m\n\u001b[1;32m    321\u001b[0m         \u001b[0;32mtry\u001b[0m\u001b[0;34m:\u001b[0m\u001b[0;34m\u001b[0m\u001b[0;34m\u001b[0m\u001b[0m\n\u001b[0;32m--> 322\u001b[0;31m             \u001b[0mself\u001b[0m\u001b[0;34m.\u001b[0m\u001b[0mfd\u001b[0m \u001b[0;34m=\u001b[0m \u001b[0mos\u001b[0m\u001b[0;34m.\u001b[0m\u001b[0mopen\u001b[0m\u001b[0;34m(\u001b[0m\u001b[0mself\u001b[0m\u001b[0;34m.\u001b[0m\u001b[0mportstr\u001b[0m\u001b[0;34m,\u001b[0m \u001b[0mos\u001b[0m\u001b[0;34m.\u001b[0m\u001b[0mO_RDWR\u001b[0m \u001b[0;34m|\u001b[0m \u001b[0mos\u001b[0m\u001b[0;34m.\u001b[0m\u001b[0mO_NOCTTY\u001b[0m \u001b[0;34m|\u001b[0m \u001b[0mos\u001b[0m\u001b[0;34m.\u001b[0m\u001b[0mO_NONBLOCK\u001b[0m\u001b[0;34m)\u001b[0m\u001b[0;34m\u001b[0m\u001b[0;34m\u001b[0m\u001b[0m\n\u001b[0m\u001b[1;32m    323\u001b[0m         \u001b[0;32mexcept\u001b[0m \u001b[0mOSError\u001b[0m \u001b[0;32mas\u001b[0m \u001b[0mmsg\u001b[0m\u001b[0;34m:\u001b[0m\u001b[0;34m\u001b[0m\u001b[0;34m\u001b[0m\u001b[0m\n",
      "\u001b[0;31mFileNotFoundError\u001b[0m: [Errno 2] No such file or directory: '/dev/ttyACM0'",
      "\nDuring handling of the above exception, another exception occurred:\n",
      "\u001b[0;31mSerialException\u001b[0m                           Traceback (most recent call last)",
      "\u001b[0;32m<ipython-input-18-1a7096b24461>\u001b[0m in \u001b[0;36m<module>\u001b[0;34m\u001b[0m\n\u001b[1;32m     36\u001b[0m \u001b[0mPORT\u001b[0m \u001b[0;34m=\u001b[0m \u001b[0;34m'/dev/ttyACM0'\u001b[0m\u001b[0;34m\u001b[0m\u001b[0;34m\u001b[0m\u001b[0m\n\u001b[1;32m     37\u001b[0m \u001b[0;31m# 연결\u001b[0m\u001b[0;34m\u001b[0m\u001b[0;34m\u001b[0m\u001b[0;34m\u001b[0m\u001b[0m\n\u001b[0;32m---> 38\u001b[0;31m \u001b[0mser\u001b[0m \u001b[0;34m=\u001b[0m \u001b[0mserial\u001b[0m\u001b[0;34m.\u001b[0m\u001b[0mserial_for_url\u001b[0m\u001b[0;34m(\u001b[0m\u001b[0mPORT\u001b[0m\u001b[0;34m,\u001b[0m \u001b[0mbaudrate\u001b[0m\u001b[0;34m=\u001b[0m\u001b[0;36m9600\u001b[0m\u001b[0;34m,\u001b[0m \u001b[0mtimeout\u001b[0m\u001b[0;34m=\u001b[0m\u001b[0;36m1\u001b[0m\u001b[0;34m)\u001b[0m\u001b[0;34m\u001b[0m\u001b[0;34m\u001b[0m\u001b[0m\n\u001b[0m\u001b[1;32m     39\u001b[0m \u001b[0;34m\u001b[0m\u001b[0m\n\u001b[1;32m     40\u001b[0m \u001b[0;31m# 쓰레드 시작\u001b[0m\u001b[0;34m\u001b[0m\u001b[0;34m\u001b[0m\u001b[0;34m\u001b[0m\u001b[0m\n",
      "\u001b[0;32m~/anaconda3/lib/python3.7/site-packages/serial/__init__.py\u001b[0m in \u001b[0;36mserial_for_url\u001b[0;34m(url, *args, **kwargs)\u001b[0m\n\u001b[1;32m     88\u001b[0m     \u001b[0minstance\u001b[0m\u001b[0;34m.\u001b[0m\u001b[0mport\u001b[0m \u001b[0;34m=\u001b[0m \u001b[0murl\u001b[0m\u001b[0;34m\u001b[0m\u001b[0;34m\u001b[0m\u001b[0m\n\u001b[1;32m     89\u001b[0m     \u001b[0;32mif\u001b[0m \u001b[0mdo_open\u001b[0m\u001b[0;34m:\u001b[0m\u001b[0;34m\u001b[0m\u001b[0;34m\u001b[0m\u001b[0m\n\u001b[0;32m---> 90\u001b[0;31m         \u001b[0minstance\u001b[0m\u001b[0;34m.\u001b[0m\u001b[0mopen\u001b[0m\u001b[0;34m(\u001b[0m\u001b[0;34m)\u001b[0m\u001b[0;34m\u001b[0m\u001b[0;34m\u001b[0m\u001b[0m\n\u001b[0m\u001b[1;32m     91\u001b[0m     \u001b[0;32mreturn\u001b[0m \u001b[0minstance\u001b[0m\u001b[0;34m\u001b[0m\u001b[0;34m\u001b[0m\u001b[0m\n",
      "\u001b[0;32m~/anaconda3/lib/python3.7/site-packages/serial/serialposix.py\u001b[0m in \u001b[0;36mopen\u001b[0;34m(self)\u001b[0m\n\u001b[1;32m    323\u001b[0m         \u001b[0;32mexcept\u001b[0m \u001b[0mOSError\u001b[0m \u001b[0;32mas\u001b[0m \u001b[0mmsg\u001b[0m\u001b[0;34m:\u001b[0m\u001b[0;34m\u001b[0m\u001b[0;34m\u001b[0m\u001b[0m\n\u001b[1;32m    324\u001b[0m             \u001b[0mself\u001b[0m\u001b[0;34m.\u001b[0m\u001b[0mfd\u001b[0m \u001b[0;34m=\u001b[0m \u001b[0;32mNone\u001b[0m\u001b[0;34m\u001b[0m\u001b[0;34m\u001b[0m\u001b[0m\n\u001b[0;32m--> 325\u001b[0;31m             \u001b[0;32mraise\u001b[0m \u001b[0mSerialException\u001b[0m\u001b[0;34m(\u001b[0m\u001b[0mmsg\u001b[0m\u001b[0;34m.\u001b[0m\u001b[0merrno\u001b[0m\u001b[0;34m,\u001b[0m \u001b[0;34m\"could not open port {}: {}\"\u001b[0m\u001b[0;34m.\u001b[0m\u001b[0mformat\u001b[0m\u001b[0;34m(\u001b[0m\u001b[0mself\u001b[0m\u001b[0;34m.\u001b[0m\u001b[0m_port\u001b[0m\u001b[0;34m,\u001b[0m \u001b[0mmsg\u001b[0m\u001b[0;34m)\u001b[0m\u001b[0;34m)\u001b[0m\u001b[0;34m\u001b[0m\u001b[0;34m\u001b[0m\u001b[0m\n\u001b[0m\u001b[1;32m    326\u001b[0m         \u001b[0;31m#~ fcntl.fcntl(self.fd, fcntl.F_SETFL, 0)  # set blocking\u001b[0m\u001b[0;34m\u001b[0m\u001b[0;34m\u001b[0m\u001b[0;34m\u001b[0m\u001b[0m\n\u001b[1;32m    327\u001b[0m \u001b[0;34m\u001b[0m\u001b[0m\n",
      "\u001b[0;31mSerialException\u001b[0m: [Errno 2] could not open port /dev/ttyACM0: [Errno 2] No such file or directory: '/dev/ttyACM0'"
     ]
    }
   ],
   "source": [
    "# 프로토콜\n",
    "class rawProtocal(Protocol):\n",
    "    msg = ''\n",
    "    \n",
    "    # 연결 시작시 발생\n",
    "    def connection_made(self, transport):\n",
    "        self.transport = transport\n",
    "        self.running = True\n",
    "\n",
    "    # 연결 종료시 발생\n",
    "    def connection_lost(self, exc):\n",
    "        self.transport = None\n",
    "\n",
    "    #데이터가 들어오면 이곳에서 처리함.\n",
    "    def data_received(self, data):\n",
    "        #print(data)\n",
    "        if '\\n' in data.decode('utf-8'):\n",
    "            self.msg += data.decode('utf-8')\n",
    "            print(self.msg)\n",
    "            self.msg = ''\n",
    "        else:\n",
    "            self.msg += data.decode('utf-8')\n",
    "            #print(self.msg)\n",
    "\n",
    "    # 데이터 보낼 때 함수\n",
    "    def write(self,data):\n",
    "        print(data)\n",
    "        self.transport.write(data)\n",
    "        \n",
    "    # 종료 체크\n",
    "    def isDone(self):\n",
    "        return self.running\n",
    "\n",
    "# 포트 설정\n",
    "#PORT = '/dev/ttyUSB0'\n",
    "PORT = '/dev/ttyACM0'\n",
    "# 연결\n",
    "ser = serial.serial_for_url(PORT, baudrate=9600, timeout=1)\n",
    "\n",
    "# 쓰레드 시작\n",
    "with ReaderThread(ser, rawProtocal) as p:\n",
    "    while p.isDone():\n",
    "        time.sleep(1)"
   ]
  },
  {
   "cell_type": "code",
   "execution_count": null,
   "metadata": {},
   "outputs": [],
   "source": []
  }
 ],
 "metadata": {
  "kernelspec": {
   "display_name": "Python 3",
   "language": "python",
   "name": "python3"
  },
  "language_info": {
   "codemirror_mode": {
    "name": "ipython",
    "version": 3
   },
   "file_extension": ".py",
   "mimetype": "text/x-python",
   "name": "python",
   "nbconvert_exporter": "python",
   "pygments_lexer": "ipython3",
   "version": "3.7.6"
  }
 },
 "nbformat": 4,
 "nbformat_minor": 5
}
