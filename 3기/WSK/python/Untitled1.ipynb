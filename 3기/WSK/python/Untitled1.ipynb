{
 "cells": [
  {
   "cell_type": "code",
   "execution_count": 2,
   "id": "67136abf",
   "metadata": {},
   "outputs": [
    {
     "name": "stdout",
     "output_type": "stream",
     "text": [
      "{'name': 'SPH', 'phoneNum': '010-1234-5678'}\n",
      "{'name': 'SJH', 'phoneNum': '010-3333-3333', 'subject': '메카트로닉스', 'studentId': '721221'}\n"
     ]
    }
   ],
   "source": [
    "class Person:\n",
    "    def __init__(self, name, phoneNum):\n",
    "        self.name = name\n",
    "        self.phoneNum = phoneNum\n",
    "        \n",
    "    def printInfo(self):\n",
    "        print(\"Info(name: {0}, phoneNum: {1})\".format(self.name, self.phoneNum))\n",
    "        \n",
    "#상속은 결국 부모 클래스(구조체)의 정보를 자식이 이어서 계승해나가는 것을 의미한다.\n",
    "#C코드에서는 상속할때 상속받은 구조체에서 void 포인터를 만들어 놓는다. 그리고 구조체 init 하는 함수에서 void 포인터를 \n",
    "#상속받을 구조체로 초기화한다.\n",
    "#커널에 객체 지향을 C코드로 구현해놓은 것이 많다.\n",
    "\n",
    "class Student(Person):\n",
    "    def __init__(self, name, phoneNum, subject, studentId):\n",
    "        self.name = name\n",
    "        self.phoneNum = phoneNum\n",
    "        self.subject = subject\n",
    "        self.studentId = studentId\n",
    "        \n",
    "#생성자가 호출되는 상황은 언제?\n",
    "#클래스(구조체) 이름과 함수명이 동일하면 이것은 생성자 호출이다.\n",
    "\n",
    "p = Person(\"SPH\", \"010-1234-5678\")\n",
    "s = Student(\"SJH\", \"010-3333-3333\", \"메카트로닉스\", \"721221\")\n",
    "\n",
    "#__dict__는 해당 객체의 모든 정보를 출력해줌\n",
    "print(p.__dict__)\n",
    "print(s.__dict__)"
   ]
  },
  {
   "cell_type": "code",
   "execution_count": null,
   "id": "8ef1d7a8",
   "metadata": {},
   "outputs": [],
   "source": []
  }
 ],
 "metadata": {
  "kernelspec": {
   "display_name": "Python 3 (ipykernel)",
   "language": "python",
   "name": "python3"
  },
  "language_info": {
   "codemirror_mode": {
    "name": "ipython",
    "version": 3
   },
   "file_extension": ".py",
   "mimetype": "text/x-python",
   "name": "python",
   "nbconvert_exporter": "python",
   "pygments_lexer": "ipython3",
   "version": "3.9.7"
  }
 },
 "nbformat": 4,
 "nbformat_minor": 5
}
