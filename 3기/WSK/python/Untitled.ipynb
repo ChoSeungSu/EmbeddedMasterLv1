{
 "cells": [
  {
   "cell_type": "code",
   "execution_count": 2,
   "id": "a70f18e0",
   "metadata": {
    "scrolled": true
   },
   "outputs": [],
   "source": [
    "from flask import Flask"
   ]
  },
  {
   "cell_type": "code",
   "execution_count": 4,
   "id": "113c3063",
   "metadata": {},
   "outputs": [],
   "source": [
    "from flask import redirect, url_for, request, jsonify"
   ]
  },
  {
   "cell_type": "code",
   "execution_count": 6,
   "id": "044373e9",
   "metadata": {},
   "outputs": [],
   "source": [
    "from flask_cors import CORS, cross_origin"
   ]
  },
  {
   "cell_type": "code",
   "execution_count": 7,
   "id": "2506cad7",
   "metadata": {},
   "outputs": [],
   "source": [
    "import pymysql"
   ]
  },
  {
   "cell_type": "code",
   "execution_count": 10,
   "id": "f85f9fe0",
   "metadata": {},
   "outputs": [],
   "source": [
    "import pickle #계정 유출을 막을 수 있도록 패키징하는 역할"
   ]
  },
  {
   "cell_type": "code",
   "execution_count": 11,
   "id": "4efa145d",
   "metadata": {},
   "outputs": [],
   "source": [
    "import numpy as np"
   ]
  },
  {
   "cell_type": "code",
   "execution_count": null,
   "id": "558eff76",
   "metadata": {},
   "outputs": [],
   "source": []
  }
 ],
 "metadata": {
  "kernelspec": {
   "display_name": "Python 3 (ipykernel)",
   "language": "python",
   "name": "python3"
  },
  "language_info": {
   "codemirror_mode": {
    "name": "ipython",
    "version": 3
   },
   "file_extension": ".py",
   "mimetype": "text/x-python",
   "name": "python",
   "nbconvert_exporter": "python",
   "pygments_lexer": "ipython3",
   "version": "3.9.7"
  }
 },
 "nbformat": 4,
 "nbformat_minor": 5
}
