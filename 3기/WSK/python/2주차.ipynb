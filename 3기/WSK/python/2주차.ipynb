{
 "cells": [
  {
   "cell_type": "code",
   "execution_count": 2,
   "id": "67136abf",
   "metadata": {},
   "outputs": [
    {
     "name": "stdout",
     "output_type": "stream",
     "text": [
      "{'name': 'SPH', 'phoneNum': '010-1234-5678'}\n",
      "{'name': 'SJH', 'phoneNum': '010-3333-3333', 'subject': '메카트로닉스', 'studentId': '721221'}\n"
     ]
    }
   ],
   "source": [
    "class Person:\n",
    "    def __init__(self, name, phoneNum):\n",
    "        self.name = name\n",
    "        self.phoneNum = phoneNum\n",
    "        \n",
    "    def printInfo(self):\n",
    "        print(\"Info(name: {0}, phoneNum: {1})\".format(self.name, self.phoneNum))\n",
    "        \n",
    "#상속은 결국 부모 클래스(구조체)의 정보를 자식이 이어서 계승해나가는 것을 의미한다.\n",
    "class Student(Person):\n",
    "    def __init__(self, name, phoneNum, subject, studentId):\n",
    "        self.name = name\n",
    "        self.phoneNum = phoneNum\n",
    "        self.subject = subject\n",
    "        self.studentId = studentId\n",
    "        \n",
    "#생성자가 호출되는 상황은 언제?\n",
    "#클래스(구조체) 이름과 함수명이 동일하면 이것은 생성자 호출이다.\n",
    "\n",
    "p = Person(\"SPH\", \"010-1234-5678\")\n",
    "s = Student(\"SJH\", \"010-3333-3333\", \"메카트로닉스\", \"721221\")\n",
    "\n",
    "#__dict__는 해당 객체의 모든 정보를 출력해줌\n",
    "print(p.__dict__)\n",
    "print(s.__dict__)"
   ]
  },
  {
   "cell_type": "code",
   "execution_count": 1,
   "id": "8ef1d7a8",
   "metadata": {},
   "outputs": [
    {
     "name": "stdout",
     "output_type": "stream",
     "text": [
      "(7+1j)\n"
     ]
    }
   ],
   "source": [
    "t1 = 3 + 4j\n",
    "t2 = 4 - 3j\n",
    "res = t1 + t2\n",
    "print(res)"
   ]
  },
  {
   "cell_type": "code",
   "execution_count": 2,
   "id": "a2aad27d",
   "metadata": {},
   "outputs": [],
   "source": [
    "#연산자 오버로딩\n",
    "class Opoverload(object):\n",
    "    #생성자\n",
    "    def __init__(self, number):\n",
    "        self.Number = number\n",
    "        \n",
    "    #출력\n",
    "    def __repr__(self):\n",
    "        return str(self.Number)\n",
    "    \n",
    "    # + 연산자에 대한 오버로딩\n",
    "    def __add__(self, other):\n",
    "        print(\"__add__() 호출!\")\n",
    "        return Opoverload(self.Number + other.Number)\n",
    "    \n",
    "    # - 연산자에 대한 오버로딩\n",
    "    def __sub__(self, other):\n",
    "        print(\"__sub__() 호출!\")\n",
    "        return Opoverload(self.Number - other.Number)"
   ]
  },
  {
   "cell_type": "code",
   "execution_count": 4,
   "id": "aa82f8c2",
   "metadata": {},
   "outputs": [
    {
     "name": "stdout",
     "output_type": "stream",
     "text": [
      "카운트 다운 ... 50\n",
      "카운트 다운 ... 49\n",
      "카운트 다운 ... 48\n",
      "카운트 다운 ... 47\n",
      "카운트 다운 ... 46\n",
      "카운트 다운 ... 45\n",
      "카운트 다운 ... 44\n",
      "카운트 다운 ... 43\n",
      "카운트 다운 ... 42\n",
      "카운트 다운 ... 41\n",
      "카운트 다운 ... 40\n",
      "카운트 다운 ... 39\n",
      "카운트 다운 ... 38\n",
      "카운트 다운 ... 37\n",
      "카운트 다운 ... 36\n",
      "카운트 다운 ... 35\n",
      "카운트 다운 ... 34\n",
      "카운트 다운 ... 33\n",
      "카운트 다운 ... 32\n",
      "카운트 다운 ... 31\n",
      "카운트 다운 ... 30\n",
      "카운트 다운 ... 29\n",
      "카운트 다운 ... 28\n",
      "카운트 다운 ... 27\n",
      "카운트 다운 ... 26\n",
      "카운트 다운 ... 25\n",
      "카운트 다운 ... 24\n",
      "카운트 다운 ... 23\n",
      "카운트 다운 ... 22\n",
      "카운트 다운 ... 21\n",
      "카운트 다운 ... 20\n",
      "카운트 다운 ... 19\n",
      "카운트 다운 ... 18\n",
      "카운트 다운 ... 17\n",
      "카운트 다운 ... 16\n",
      "카운트 다운 ... 15\n",
      "카운트 다운 ... 14\n",
      "카운트 다운 ... 13\n",
      "카운트 다운 ... 12\n",
      "카운트 다운 ... 11\n",
      "카운트 다운 ... 10\n",
      "카운트 다운 ... 9\n",
      "카운트 다운 ... 8\n",
      "카운트 다운 ... 7\n",
      "카운트 다운 ... 6\n",
      "카운트 다운 ... 5\n",
      "카운트 다운 ... 4\n",
      "카운트 다운 ... 3\n",
      "카운트 다운 ... 2\n",
      "카운트 다운 ... 1\n"
     ]
    }
   ],
   "source": [
    "#리눅스 프로세스 모델\n",
    "import time\n",
    "import multiprocessing\n",
    "\n",
    "def countDown(x):\n",
    "    while True:\n",
    "        if x == 0:\n",
    "            break\n",
    "            \n",
    "        print(\"카운트 다운 ... %d\" % x)\n",
    "        x -= 1\n",
    "        time.sleep(1)\n",
    "        \n",
    "p = multiprocessing.Process(target = countDown, args = (50, ))\n",
    "p.start()"
   ]
  },
  {
   "cell_type": "code",
   "execution_count": null,
   "id": "f098a05d",
   "metadata": {},
   "outputs": [],
   "source": []
  }
 ],
 "metadata": {
  "kernelspec": {
   "display_name": "Python 3 (ipykernel)",
   "language": "python",
   "name": "python3"
  },
  "language_info": {
   "codemirror_mode": {
    "name": "ipython",
    "version": 3
   },
   "file_extension": ".py",
   "mimetype": "text/x-python",
   "name": "python",
   "nbconvert_exporter": "python",
   "pygments_lexer": "ipython3",
   "version": "3.9.7"
  }
 },
 "nbformat": 4,
 "nbformat_minor": 5
}
