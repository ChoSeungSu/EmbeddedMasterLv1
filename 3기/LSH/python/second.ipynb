{
 "cells": [
  {
   "cell_type": "code",
   "execution_count": 1,
   "metadata": {},
   "outputs": [
    {
     "name": "stdout",
     "output_type": "stream",
     "text": [
      "<function times at 0x7fdb681994d0>\n",
      "100\n"
     ]
    }
   ],
   "source": [
    "# 파이썬에서 주석은 이와 같이 샾을 통해 지정하며\n",
    "# 함수 작성은 def 를 통해서 선언할 수 있다.\n",
    "\n",
    "def times(a, b):\n",
    "    return a * b\n",
    "\n",
    "print(times)\n",
    "print(times(10, 10))\n",
    "\n",
    "# 우리가 함수 포인터 학습했던 내용을 상기해보면 좋음"
   ]
  },
  {
   "cell_type": "code",
   "execution_count": 2,
   "metadata": {},
   "outputs": [
    {
     "name": "stdout",
     "output_type": "stream",
     "text": [
      "{'__name__': '__main__', '__doc__': 'Automatically created module for IPython interactive environment', '__package__': None, '__loader__': None, '__spec__': None, '__builtin__': <module 'builtins' (built-in)>, '__builtins__': <module 'builtins' (built-in)>, '_ih': ['', '# 파이썬에서 주석은 이와 같이 샾을 통해 지정하며\\n# 함수 작성은 def 를 통해서 선언할 수 있다.\\n\\ndef times(a, b):\\n    return a * b\\n\\nprint(times)\\nprint(times(10, 10))', 'print(globals())'], '_oh': {}, '_dh': ['/home/oem/proj/eddi/academy/EmbeddedMasterLv1/3기/LSH/python'], 'In': ['', '# 파이썬에서 주석은 이와 같이 샾을 통해 지정하며\\n# 함수 작성은 def 를 통해서 선언할 수 있다.\\n\\ndef times(a, b):\\n    return a * b\\n\\nprint(times)\\nprint(times(10, 10))', 'print(globals())'], 'Out': {}, 'get_ipython': <bound method InteractiveShell.get_ipython of <ipykernel.zmqshell.ZMQInteractiveShell object at 0x7fdb69a2af50>>, 'exit': <IPython.core.autocall.ZMQExitAutocall object at 0x7fdb681c4b90>, 'quit': <IPython.core.autocall.ZMQExitAutocall object at 0x7fdb681c4b90>, '_': '', '__': '', '___': '', '_i': '# 파이썬에서 주석은 이와 같이 샾을 통해 지정하며\\n# 함수 작성은 def 를 통해서 선언할 수 있다.\\n\\ndef times(a, b):\\n    return a * b\\n\\nprint(times)\\nprint(times(10, 10))', '_ii': '', '_iii': '', '_i1': '# 파이썬에서 주석은 이와 같이 샾을 통해 지정하며\\n# 함수 작성은 def 를 통해서 선언할 수 있다.\\n\\ndef times(a, b):\\n    return a * b\\n\\nprint(times)\\nprint(times(10, 10))', 'times': <function times at 0x7fdb681994d0>, '_i2': 'print(globals())'}\n"
     ]
    }
   ],
   "source": [
    "# 현재 작성되어 있는 함수 객체들을 볼 수 있음\n",
    "print(globals())"
   ]
  },
  {
   "cell_type": "code",
   "execution_count": 3,
   "metadata": {},
   "outputs": [
    {
     "name": "stdout",
     "output_type": "stream",
     "text": [
      "100\n"
     ]
    }
   ],
   "source": [
    "pof = times\n",
    "res = pof(10, 10)\n",
    "print(res)"
   ]
  },
  {
   "cell_type": "code",
   "execution_count": 7,
   "metadata": {},
   "outputs": [
    {
     "name": "stdout",
     "output_type": "stream",
     "text": [
      "preList x =  A\n",
      "preList x =  p\n",
      "postList x =  p\n",
      "preList x =  p\n",
      "postList x =  p\n",
      "preList x =  l\n",
      "preList x =  e\n",
      "postList x =  e\n",
      "['p', 'p', 'e']\n",
      "preList x =  g\n",
      "preList x =  r\n",
      "preList x =  a\n",
      "preList x =  p\n",
      "postList x =  p\n",
      "preList x =  e\n",
      "postList x =  e\n",
      "['p', 'e']\n"
     ]
    }
   ],
   "source": [
    "# 우리가 C 코드에서 함수를 작성한다면 리턴 타입이 반드시 필요했던 반면\n",
    "# python의 경우에는 별도의 리턴 타입이 없어도 작성이 가능하다.\n",
    "def intersect(preList, postList):\n",
    "    retList = []\n",
    "    \n",
    "    # python이 다소 짜증날 수 있는 부분이 있음\n",
    "    # 이 녀석은 별도의 스코핑을 지정하지 않고\n",
    "    # 들여쓰기로 어디에 걸리는지를 표기함\n",
    "    # 그러므로 들여쓰기를 잘못하게 되면 코드 전체가 꼬임\n",
    "    \n",
    "    \n",
    "    for x in preList:\n",
    "        print('preList x = ', x)\n",
    "        if x in postList:\n",
    "            print('postList x = ', x)\n",
    "            # append() 는 괄호에 입력된 요소를 리스트에 저장함\n",
    "            retList.append(x)\n",
    "            \n",
    "    return retList\n",
    "\n",
    "list1 = \"Apple\"\n",
    "list2 = \"grape\"\n",
    "\n",
    "print(intersect(list1, list2))\n",
    "print(intersect(list2, list1))"
   ]
  },
  {
   "cell_type": "code",
   "execution_count": 8,
   "metadata": {},
   "outputs": [
    {
     "name": "stdout",
     "output_type": "stream",
     "text": [
      "preList x =  A\n",
      "postList x =  A\n",
      "preList x =  p\n",
      "preList x =  p\n",
      "preList x =  l\n",
      "preList x =  e\n",
      "['A']\n"
     ]
    }
   ],
   "source": [
    "# 아래와 같이 대괄호에 정보를 설정하면 list 취급을 하므로\n",
    "# 두 개의 리스트를 비교하는 방식으로 구동 가능!\n",
    "print(intersect(list1, ['H', 'A', 'M']))"
   ]
  },
  {
   "cell_type": "code",
   "execution_count": 9,
   "metadata": {},
   "outputs": [
    {
     "name": "stdout",
     "output_type": "stream",
     "text": [
      "preList x =  A\n",
      "postList x =  A\n",
      "preList x =  p\n",
      "preList x =  p\n",
      "preList x =  l\n",
      "preList x =  e\n",
      "['A']\n"
     ]
    }
   ],
   "source": [
    "# 튜플이란 ?\n",
    "# 리스트랑 동일한데 const 키워드가 붙어 있다고 보면됨\n",
    "tuple = ('A', 'I', 'D')\n",
    "print(intersect(list1, tuple))"
   ]
  },
  {
   "cell_type": "code",
   "execution_count": 10,
   "metadata": {},
   "outputs": [
    {
     "name": "stdout",
     "output_type": "stream",
     "text": [
      "(7, 3)\n"
     ]
    }
   ],
   "source": [
    "# 일반적으로 C/C++ 계열에서는 불가능함\n",
    "def swap(x, y):\n",
    "    return y, x\n",
    "\n",
    "# 리턴된 결과가 () 소괄호에 배치된 것을 볼 수 있으며\n",
    "# 이런식으로 함수에서 리턴하는 결과는 특수한 상황을 배제하고 리스트가 아닌 튜플로 리턴됨\n",
    "print(swap(3, 7))"
   ]
  },
  {
   "cell_type": "code",
   "execution_count": 11,
   "metadata": {},
   "outputs": [
    {
     "name": "stdout",
     "output_type": "stream",
     "text": [
      "77\n",
      "33\n"
     ]
    }
   ],
   "source": [
    "a, b = swap(33, 77)\n",
    "print(a)\n",
    "print(b)"
   ]
  },
  {
   "cell_type": "code",
   "execution_count": 12,
   "metadata": {},
   "outputs": [
    {
     "name": "stdout",
     "output_type": "stream",
     "text": [
      "30\n"
     ]
    }
   ],
   "source": [
    "a = 10\n",
    "b = 20\n",
    "\n",
    "def mysum(x, y):\n",
    "    return x + y\n",
    "\n",
    "print(mysum(a, b))"
   ]
  },
  {
   "cell_type": "code",
   "execution_count": 13,
   "metadata": {},
   "outputs": [
    {
     "name": "stdout",
     "output_type": "stream",
     "text": [
      "11\n",
      "10\n"
     ]
    }
   ],
   "source": [
    "x = 10\n",
    "\n",
    "def mysum2(x, y):\n",
    "    x = 1\n",
    "    # x = 1, y = 10\n",
    "    return x + y\n",
    "\n",
    "# mysum2(10, 10)\n",
    "# mysum2(x, y)\n",
    "print(mysum2(x, x))\n",
    "print(x)"
   ]
  },
  {
   "cell_type": "code",
   "execution_count": 14,
   "metadata": {},
   "outputs": [
    {
     "name": "stdout",
     "output_type": "stream",
     "text": [
      "6\n"
     ]
    }
   ],
   "source": [
    "# lambda 선언법\n",
    "# 1. lambda를 적는다.\n",
    "# 2. 이후에 이 연산에 참여할 변수를 적는다.\n",
    "# 3. : (콜론)을 적고\n",
    "# 4. 작성한 변수를 토대로 연산을 작성한다.\n",
    "\n",
    "# 여기서 만약 g(2, 3, 5)같은 처리를 한다면 x, y, z 가 되면 된다.\n",
    "g = lambda x, y : x * y\n",
    "print(g(2, 3))"
   ]
  },
  {
   "cell_type": "code",
   "execution_count": 15,
   "metadata": {},
   "outputs": [
    {
     "name": "stdout",
     "output_type": "stream",
     "text": [
      "35\n"
     ]
    }
   ],
   "source": [
    "print(g(5, 7))"
   ]
  },
  {
   "cell_type": "code",
   "execution_count": 16,
   "metadata": {},
   "outputs": [
    {
     "name": "stdout",
     "output_type": "stream",
     "text": [
      "11\n"
     ]
    }
   ],
   "source": [
    "g = lambda x, y, z : x * y + z\n",
    "print(g(2, 3, 5))"
   ]
  },
  {
   "cell_type": "code",
   "execution_count": 17,
   "metadata": {},
   "outputs": [
    {
     "name": "stdout",
     "output_type": "stream",
     "text": [
      "9\n"
     ]
    }
   ],
   "source": [
    "# 위쪽 코드에서는 람다식을 g라는 변수에 맵핑함\n",
    "# 즉 g변수는 x * y + z 를 계산하는 함수의 주소를 저장한 함수 포인터\n",
    "# 현재 케이스에서는 (lambda x : x * x) 부분이 결국 함수의 주소로\n",
    "# (lambda x : x * x) 자체에 대해 (3) 입력값 3을 넣어서 계산하라는 뜻이 됨\n",
    "print((lambda x : x * x)(3))"
   ]
  },
  {
   "cell_type": "code",
   "execution_count": 18,
   "metadata": {},
   "outputs": [
    {
     "name": "stdout",
     "output_type": "stream",
     "text": [
      "Help on built-in function print in module builtins:\n",
      "\n",
      "print(...)\n",
      "    print(value, ..., sep=' ', end='\\n', file=sys.stdout, flush=False)\n",
      "    \n",
      "    Prints the values to a stream, or to sys.stdout by default.\n",
      "    Optional keyword arguments:\n",
      "    file:  a file-like object (stream); defaults to the current sys.stdout.\n",
      "    sep:   string inserted between values, default a space.\n",
      "    end:   string appended after the last value, default a newline.\n",
      "    flush: whether to forcibly flush the stream.\n",
      "\n"
     ]
    }
   ],
   "source": [
    "# python 에서 어떤 모듈을 사용하려고 하다가 막힌다면\n",
    "# 이와 같은 형태로 사용법을 검색할 수 있다.\n",
    "help(print)"
   ]
  },
  {
   "cell_type": "code",
   "execution_count": 19,
   "metadata": {},
   "outputs": [
    {
     "name": "stdout",
     "output_type": "stream",
     "text": [
      "Help on module math:\n",
      "\n",
      "NAME\n",
      "    math\n",
      "\n",
      "MODULE REFERENCE\n",
      "    https://docs.python.org/3.7/library/math\n",
      "    \n",
      "    The following documentation is automatically generated from the Python\n",
      "    source files.  It may be incomplete, incorrect or include features that\n",
      "    are considered implementation detail and may vary between Python\n",
      "    implementations.  When in doubt, consult the module reference at the\n",
      "    location listed above.\n",
      "\n",
      "DESCRIPTION\n",
      "    This module provides access to the mathematical functions\n",
      "    defined by the C standard.\n",
      "\n",
      "FUNCTIONS\n",
      "    acos(x, /)\n",
      "        Return the arc cosine (measured in radians) of x.\n",
      "    \n",
      "    acosh(x, /)\n",
      "        Return the inverse hyperbolic cosine of x.\n",
      "    \n",
      "    asin(x, /)\n",
      "        Return the arc sine (measured in radians) of x.\n",
      "    \n",
      "    asinh(x, /)\n",
      "        Return the inverse hyperbolic sine of x.\n",
      "    \n",
      "    atan(x, /)\n",
      "        Return the arc tangent (measured in radians) of x.\n",
      "    \n",
      "    atan2(y, x, /)\n",
      "        Return the arc tangent (measured in radians) of y/x.\n",
      "        \n",
      "        Unlike atan(y/x), the signs of both x and y are considered.\n",
      "    \n",
      "    atanh(x, /)\n",
      "        Return the inverse hyperbolic tangent of x.\n",
      "    \n",
      "    ceil(x, /)\n",
      "        Return the ceiling of x as an Integral.\n",
      "        \n",
      "        This is the smallest integer >= x.\n",
      "    \n",
      "    copysign(x, y, /)\n",
      "        Return a float with the magnitude (absolute value) of x but the sign of y.\n",
      "        \n",
      "        On platforms that support signed zeros, copysign(1.0, -0.0)\n",
      "        returns -1.0.\n",
      "    \n",
      "    cos(x, /)\n",
      "        Return the cosine of x (measured in radians).\n",
      "    \n",
      "    cosh(x, /)\n",
      "        Return the hyperbolic cosine of x.\n",
      "    \n",
      "    degrees(x, /)\n",
      "        Convert angle x from radians to degrees.\n",
      "    \n",
      "    erf(x, /)\n",
      "        Error function at x.\n",
      "    \n",
      "    erfc(x, /)\n",
      "        Complementary error function at x.\n",
      "    \n",
      "    exp(x, /)\n",
      "        Return e raised to the power of x.\n",
      "    \n",
      "    expm1(x, /)\n",
      "        Return exp(x)-1.\n",
      "        \n",
      "        This function avoids the loss of precision involved in the direct evaluation of exp(x)-1 for small x.\n",
      "    \n",
      "    fabs(x, /)\n",
      "        Return the absolute value of the float x.\n",
      "    \n",
      "    factorial(x, /)\n",
      "        Find x!.\n",
      "        \n",
      "        Raise a ValueError if x is negative or non-integral.\n",
      "    \n",
      "    floor(x, /)\n",
      "        Return the floor of x as an Integral.\n",
      "        \n",
      "        This is the largest integer <= x.\n",
      "    \n",
      "    fmod(x, y, /)\n",
      "        Return fmod(x, y), according to platform C.\n",
      "        \n",
      "        x % y may differ.\n",
      "    \n",
      "    frexp(x, /)\n",
      "        Return the mantissa and exponent of x, as pair (m, e).\n",
      "        \n",
      "        m is a float and e is an int, such that x = m * 2.**e.\n",
      "        If x is 0, m and e are both 0.  Else 0.5 <= abs(m) < 1.0.\n",
      "    \n",
      "    fsum(seq, /)\n",
      "        Return an accurate floating point sum of values in the iterable seq.\n",
      "        \n",
      "        Assumes IEEE-754 floating point arithmetic.\n",
      "    \n",
      "    gamma(x, /)\n",
      "        Gamma function at x.\n",
      "    \n",
      "    gcd(x, y, /)\n",
      "        greatest common divisor of x and y\n",
      "    \n",
      "    hypot(x, y, /)\n",
      "        Return the Euclidean distance, sqrt(x*x + y*y).\n",
      "    \n",
      "    isclose(a, b, *, rel_tol=1e-09, abs_tol=0.0)\n",
      "        Determine whether two floating point numbers are close in value.\n",
      "        \n",
      "          rel_tol\n",
      "            maximum difference for being considered \"close\", relative to the\n",
      "            magnitude of the input values\n",
      "          abs_tol\n",
      "            maximum difference for being considered \"close\", regardless of the\n",
      "            magnitude of the input values\n",
      "        \n",
      "        Return True if a is close in value to b, and False otherwise.\n",
      "        \n",
      "        For the values to be considered close, the difference between them\n",
      "        must be smaller than at least one of the tolerances.\n",
      "        \n",
      "        -inf, inf and NaN behave similarly to the IEEE 754 Standard.  That\n",
      "        is, NaN is not close to anything, even itself.  inf and -inf are\n",
      "        only close to themselves.\n",
      "    \n",
      "    isfinite(x, /)\n",
      "        Return True if x is neither an infinity nor a NaN, and False otherwise.\n",
      "    \n",
      "    isinf(x, /)\n",
      "        Return True if x is a positive or negative infinity, and False otherwise.\n",
      "    \n",
      "    isnan(x, /)\n",
      "        Return True if x is a NaN (not a number), and False otherwise.\n",
      "    \n",
      "    ldexp(x, i, /)\n",
      "        Return x * (2**i).\n",
      "        \n",
      "        This is essentially the inverse of frexp().\n",
      "    \n",
      "    lgamma(x, /)\n",
      "        Natural logarithm of absolute value of Gamma function at x.\n",
      "    \n",
      "    log(...)\n",
      "        log(x, [base=math.e])\n",
      "        Return the logarithm of x to the given base.\n",
      "        \n",
      "        If the base not specified, returns the natural logarithm (base e) of x.\n",
      "    \n",
      "    log10(x, /)\n",
      "        Return the base 10 logarithm of x.\n",
      "    \n",
      "    log1p(x, /)\n",
      "        Return the natural logarithm of 1+x (base e).\n",
      "        \n",
      "        The result is computed in a way which is accurate for x near zero.\n",
      "    \n",
      "    log2(x, /)\n",
      "        Return the base 2 logarithm of x.\n",
      "    \n",
      "    modf(x, /)\n",
      "        Return the fractional and integer parts of x.\n",
      "        \n",
      "        Both results carry the sign of x and are floats.\n",
      "    \n",
      "    pow(x, y, /)\n",
      "        Return x**y (x to the power of y).\n",
      "    \n",
      "    radians(x, /)\n",
      "        Convert angle x from degrees to radians.\n",
      "    \n",
      "    remainder(x, y, /)\n",
      "        Difference between x and the closest integer multiple of y.\n",
      "        \n",
      "        Return x - n*y where n*y is the closest integer multiple of y.\n",
      "        In the case where x is exactly halfway between two multiples of\n",
      "        y, the nearest even value of n is used. The result is always exact.\n",
      "    \n",
      "    sin(x, /)\n",
      "        Return the sine of x (measured in radians).\n",
      "    \n",
      "    sinh(x, /)\n",
      "        Return the hyperbolic sine of x.\n",
      "    \n",
      "    sqrt(x, /)\n",
      "        Return the square root of x.\n",
      "    \n",
      "    tan(x, /)\n",
      "        Return the tangent of x (measured in radians).\n",
      "    \n",
      "    tanh(x, /)\n",
      "        Return the hyperbolic tangent of x.\n",
      "    \n",
      "    trunc(x, /)\n",
      "        Truncates the Real x to the nearest Integral toward 0.\n",
      "        \n",
      "        Uses the __trunc__ magic method.\n",
      "\n",
      "DATA\n",
      "    e = 2.718281828459045\n",
      "    inf = inf\n",
      "    nan = nan\n",
      "    pi = 3.141592653589793\n",
      "    tau = 6.283185307179586\n",
      "\n",
      "FILE\n",
      "    /home/oem/anaconda3/lib/python3.7/lib-dynload/math.cpython-37m-x86_64-linux-gnu.so\n",
      "\n",
      "\n"
     ]
    }
   ],
   "source": [
    "import math\n",
    "help(math)"
   ]
  },
  {
   "cell_type": "code",
   "execution_count": 20,
   "metadata": {},
   "outputs": [
    {
     "name": "stdout",
     "output_type": "stream",
     "text": [
      "6\n"
     ]
    }
   ],
   "source": [
    "# floor() 바닥 함수로 버리기 동작을 취함\n",
    "print(math.floor(6.7))"
   ]
  },
  {
   "cell_type": "code",
   "execution_count": 21,
   "metadata": {},
   "outputs": [
    {
     "name": "stdout",
     "output_type": "stream",
     "text": [
      "1\n",
      "2\n",
      "3\n"
     ]
    }
   ],
   "source": [
    "for element in [1, 2, 3]:\n",
    "    print(element)"
   ]
  },
  {
   "cell_type": "code",
   "execution_count": 22,
   "metadata": {},
   "outputs": [
    {
     "name": "stdout",
     "output_type": "stream",
     "text": [
      "1\n",
      "2\n",
      "3\n"
     ]
    }
   ],
   "source": [
    "for element in (1, 2, 3):\n",
    "    print(element)"
   ]
  },
  {
   "cell_type": "code",
   "execution_count": 23,
   "metadata": {},
   "outputs": [
    {
     "name": "stdout",
     "output_type": "stream",
     "text": [
      "one\n",
      "two\n"
     ]
    }
   ],
   "source": [
    "for key in { 'one' : 1, 'two' : 2 }:\n",
    "    print(key)"
   ]
  },
  {
   "cell_type": "code",
   "execution_count": 24,
   "metadata": {},
   "outputs": [
    {
     "ename": "ValueError",
     "evalue": "too many values to unpack (expected 2)",
     "output_type": "error",
     "traceback": [
      "\u001b[0;31m---------------------------------------------------------------------------\u001b[0m",
      "\u001b[0;31mValueError\u001b[0m                                Traceback (most recent call last)",
      "\u001b[0;32m<ipython-input-24-9043cc2c1ced>\u001b[0m in \u001b[0;36m<module>\u001b[0;34m\u001b[0m\n\u001b[0;32m----> 1\u001b[0;31m \u001b[0;32mfor\u001b[0m \u001b[0mkey\u001b[0m\u001b[0;34m,\u001b[0m \u001b[0mvalue\u001b[0m \u001b[0;32min\u001b[0m \u001b[0;34m{\u001b[0m \u001b[0;34m'one'\u001b[0m \u001b[0;34m:\u001b[0m \u001b[0;36m1\u001b[0m\u001b[0;34m,\u001b[0m \u001b[0;34m'two'\u001b[0m \u001b[0;34m:\u001b[0m \u001b[0;36m2\u001b[0m \u001b[0;34m}\u001b[0m\u001b[0;34m:\u001b[0m\u001b[0;34m\u001b[0m\u001b[0;34m\u001b[0m\u001b[0m\n\u001b[0m\u001b[1;32m      2\u001b[0m     \u001b[0mprint\u001b[0m\u001b[0;34m(\u001b[0m\u001b[0mvalue\u001b[0m\u001b[0;34m)\u001b[0m\u001b[0;34m\u001b[0m\u001b[0;34m\u001b[0m\u001b[0m\n",
      "\u001b[0;31mValueError\u001b[0m: too many values to unpack (expected 2)"
     ]
    }
   ],
   "source": [
    "# 단순히 키, 밸류 형태라고 해서 아래와 같이\n",
    "# key, value 로 분할해서 처리하는 것은 불가!\n",
    "for key, value in { 'one' : 1, 'two' : 2 }:\n",
    "    print(value)"
   ]
  },
  {
   "cell_type": "code",
   "execution_count": 25,
   "metadata": {},
   "outputs": [
    {
     "name": "stdout",
     "output_type": "stream",
     "text": [
      "1\n",
      "2\n",
      "3\n"
     ]
    }
   ],
   "source": [
    "for char in \"123\":\n",
    "    print(char)"
   ]
  },
  {
   "cell_type": "code",
   "execution_count": 29,
   "metadata": {},
   "outputs": [
    {
     "name": "stdout",
     "output_type": "stream",
     "text": [
      "[1, 2, 3, 4, 5, 6, 7, 8, 9, 10]\n",
      "0\n",
      "1\n",
      "2\n",
      "3\n",
      "4\n",
      "5\n",
      "6\n",
      "7\n",
      "8\n",
      "9\n"
     ]
    }
   ],
   "source": [
    "a = [1, 2, 3, 4, 5, 6, 7, 8, 9, 10]\n",
    "print(a)\n",
    "\n",
    "for j in range(len(a)):\n",
    "    print(j)"
   ]
  },
  {
   "cell_type": "code",
   "execution_count": 30,
   "metadata": {},
   "outputs": [
    {
     "name": "stdout",
     "output_type": "stream",
     "text": [
      "0\n",
      "1\n",
      "2\n",
      "3\n",
      "4\n",
      "5\n",
      "6\n",
      "7\n",
      "8\n",
      "9\n"
     ]
    }
   ],
   "source": [
    "for i in range(10):\n",
    "    print(i)"
   ]
  },
  {
   "cell_type": "code",
   "execution_count": 33,
   "metadata": {},
   "outputs": [
    {
     "name": "stdout",
     "output_type": "stream",
     "text": [
      "0 1\n",
      "1 1\n",
      "2 2\n",
      "3 3\n",
      "4 5\n",
      "5 8\n",
      "6 13\n",
      "7 21\n",
      "8 34\n",
      "9 55\n",
      "10 89\n",
      "11 144\n",
      "12 233\n",
      "13 377\n",
      "14 610\n",
      "15 987\n",
      "16 1597\n",
      "17 2584\n",
      "18 4181\n",
      "19 6765\n",
      "20 10946\n",
      "21 17711\n",
      "22 28657\n",
      "23 46368\n",
      "24 75025\n",
      "25 121393\n",
      "26 196418\n",
      "27 317811\n",
      "28 514229\n",
      "29 832040\n",
      "30 1346269\n",
      "31 2178309\n",
      "32 3524578\n",
      "33 5702887\n",
      "34 9227465\n",
      "35 14930352\n",
      "36 24157817\n",
      "37 39088169\n",
      "38 63245986\n",
      "39 102334155\n"
     ]
    }
   ],
   "source": [
    "# 현재 케이스는 파이썬에서만 구성 가능한 문법\n",
    "def fib():\n",
    "    a, b = 1, 1\n",
    "    while 1:\n",
    "        # yield가 들어가면 상태값 유지 (a 값은 상태를 유지!)\n",
    "        yield a\n",
    "        # a = 1, b = 1, a + b = 2\n",
    "        # a = 1, b = 2, a + b = 3\n",
    "        # a = 2, b = 3, a + b = 5\n",
    "        # .................\n",
    "        a, b = b, a + b\n",
    "\n",
    "# 무한 루프를 돌리고 각 반복마다 결과값에 해당하는 i 값과 ret 값을 화면에 뿌림\n",
    "# i 값이 20 이하까지만 뿌림\n",
    "for i, ret in enumerate(fib()):\n",
    "    if i < 40:\n",
    "        print(i, ret)\n",
    "    else:\n",
    "        break"
   ]
  },
  {
   "cell_type": "code",
   "execution_count": 34,
   "metadata": {},
   "outputs": [
    {
     "name": "stdout",
     "output_type": "stream",
     "text": [
      "6765\n"
     ]
    }
   ],
   "source": [
    "def fib2(n):\n",
    "    if n < 2:\n",
    "        return n\n",
    "    else:\n",
    "        return fib2(n - 1) + fib2(n - 2)\n",
    "    \n",
    "print(fib2(20))"
   ]
  },
  {
   "cell_type": "code",
   "execution_count": 35,
   "metadata": {},
   "outputs": [],
   "source": [
    "# python에서 제어문 활용하기"
   ]
  },
  {
   "cell_type": "code",
   "execution_count": 36,
   "metadata": {},
   "outputs": [
    {
     "name": "stdout",
     "output_type": "stream",
     "text": [
      "val는 5보다 크거나 같다!\n"
     ]
    }
   ],
   "source": [
    "val = 10\n",
    "\n",
    "# 파이썬은 함수도 제어문도 전부 : (콜론) 형태가 붙어 있다.\n",
    "if val > 5:\n",
    "    print(\"val는 5보다 크거나 같다!\")"
   ]
  },
  {
   "cell_type": "code",
   "execution_count": 37,
   "metadata": {},
   "outputs": [
    {
     "name": "stdout",
     "output_type": "stream",
     "text": [
      "banana\n"
     ]
    }
   ],
   "source": [
    "money = 10\n",
    "\n",
    "if money > 100:\n",
    "    item = \"apple\"\n",
    "else:\n",
    "    item = \"banana\"\n",
    "    \n",
    "print(item)"
   ]
  },
  {
   "cell_type": "code",
   "execution_count": 39,
   "metadata": {},
   "outputs": [
    {
     "name": "stdout",
     "output_type": "stream",
     "text": [
      "점수 입력: 77\n",
      "77\n"
     ]
    }
   ],
   "source": [
    "# input('메시지') 의 경우 메시지를 출력하고 입력값을 받습니다.\n",
    "# int()로 감싸서 입력되어야 하는 값이 숫자임을 의미함\n",
    "score = int(input(('점수 입력: ')))\n",
    "print(score)"
   ]
  },
  {
   "cell_type": "code",
   "execution_count": 41,
   "metadata": {},
   "outputs": [
    {
     "name": "stdout",
     "output_type": "stream",
     "text": [
      "점수 입력: 99\n",
      "Grade is A\n"
     ]
    }
   ],
   "source": [
    "score = int(input(('점수 입력: ')))\n",
    "\n",
    "# C 등의 케이스에서는 if (score >= 90) 형태로 작성하던것을\n",
    "# 아래와 같이 양쪽 범주에서 작성할 수 있게 되어\n",
    "# 혼란을 빠르게 회피할 수 있음\n",
    "\n",
    "# 정지 상태값에 해당하는 신호값을 우리가 정할것임 (RF 제어 상기)\n",
    "# 500 ~ 1500 이라 가정하고 후진(500), 정지(1000), 전진(1500)\n",
    "# if (1400 >= accel)\n",
    "# else if (1300 >= accel)\n",
    "# else if (1200 >= accel)\n",
    "# else if (1100 >= accel)\n",
    "# else if (1000 >= accel)\n",
    "# else if (900 >= accel)\n",
    "# else if (800 >= accel)\n",
    "# else if (700 >= accel)\n",
    "# ............\n",
    "\n",
    "if 90 <= score <= 100:\n",
    "    grade = \"A\"\n",
    "elif 80 <= score < 90:\n",
    "    grade = \"B\"\n",
    "elif 70 <= score < 80:\n",
    "    grade = \"C\"\n",
    "elif 60 <= score < 70:\n",
    "    grade = \"D\"\n",
    "else:\n",
    "    grade = \"F\"\n",
    "    \n",
    "print(\"Grade is \" + grade)"
   ]
  },
  {
   "cell_type": "code",
   "execution_count": 42,
   "metadata": {},
   "outputs": [
    {
     "name": "stdout",
     "output_type": "stream",
     "text": [
      "True\n"
     ]
    }
   ],
   "source": [
    "print(bool(True))"
   ]
  },
  {
   "cell_type": "code",
   "execution_count": 43,
   "metadata": {},
   "outputs": [
    {
     "name": "stdout",
     "output_type": "stream",
     "text": [
      "False\n"
     ]
    }
   ],
   "source": [
    "print(bool(False))"
   ]
  },
  {
   "cell_type": "code",
   "execution_count": 44,
   "metadata": {},
   "outputs": [
    {
     "name": "stdout",
     "output_type": "stream",
     "text": [
      "True\n"
     ]
    }
   ],
   "source": [
    "print(bool(13))"
   ]
  },
  {
   "cell_type": "code",
   "execution_count": 45,
   "metadata": {},
   "outputs": [
    {
     "name": "stdout",
     "output_type": "stream",
     "text": [
      "False\n"
     ]
    }
   ],
   "source": [
    "print(bool(0.0))"
   ]
  },
  {
   "cell_type": "code",
   "execution_count": 46,
   "metadata": {},
   "outputs": [
    {
     "name": "stdout",
     "output_type": "stream",
     "text": [
      "True\n"
     ]
    }
   ],
   "source": [
    "print(bool('string'))"
   ]
  },
  {
   "cell_type": "code",
   "execution_count": 47,
   "metadata": {},
   "outputs": [
    {
     "name": "stdout",
     "output_type": "stream",
     "text": [
      "False\n"
     ]
    }
   ],
   "source": [
    "print(bool(''))"
   ]
  },
  {
   "cell_type": "code",
   "execution_count": 48,
   "metadata": {},
   "outputs": [
    {
     "name": "stdout",
     "output_type": "stream",
     "text": [
      "False\n"
     ]
    }
   ],
   "source": [
    "print(bool())"
   ]
  },
  {
   "cell_type": "code",
   "execution_count": 49,
   "metadata": {},
   "outputs": [
    {
     "name": "stdout",
     "output_type": "stream",
     "text": [
      "True\n"
     ]
    }
   ],
   "source": [
    "print(bool([10, 20, 'test', 3.456]))"
   ]
  },
  {
   "cell_type": "code",
   "execution_count": 50,
   "metadata": {},
   "outputs": [
    {
     "name": "stdout",
     "output_type": "stream",
     "text": [
      "False\n"
     ]
    }
   ],
   "source": [
    "print(bool({}))"
   ]
  },
  {
   "cell_type": "code",
   "execution_count": 51,
   "metadata": {},
   "outputs": [
    {
     "name": "stdout",
     "output_type": "stream",
     "text": [
      "False\n"
     ]
    }
   ],
   "source": [
    "# 값이 있으면 참, 없으면 거짓, None은 거짓으로 취급\n",
    "print(bool(None))"
   ]
  },
  {
   "cell_type": "code",
   "execution_count": 52,
   "metadata": {},
   "outputs": [
    {
     "name": "stdout",
     "output_type": "stream",
     "text": [
      "5\n",
      "4\n",
      "3\n",
      "2\n",
      "1\n"
     ]
    }
   ],
   "source": [
    "val = 5\n",
    "\n",
    "while val > 0:\n",
    "    print(val)\n",
    "    val -= 1"
   ]
  },
  {
   "cell_type": "code",
   "execution_count": 53,
   "metadata": {},
   "outputs": [
    {
     "name": "stdout",
     "output_type": "stream",
     "text": [
      "test <class 'str'>\n",
      "100 <class 'int'>\n",
      "15.33 <class 'float'>\n"
     ]
    }
   ],
   "source": [
    "list = ['test', 100, 15.33]\n",
    "# foreach 문이라고 하며 C에는 존재하지 않는 문법이라 당황할 수 있으니 유의 필요!\n",
    "# for x in y 라면 y에서 정보를 순회하면서 한 개씩 x로 가져오는 작업이라고 보면 됨\n",
    "for i in list:\n",
    "    print(i, type(i))"
   ]
  },
  {
   "cell_type": "code",
   "execution_count": 54,
   "metadata": {},
   "outputs": [
    {
     "name": "stdout",
     "output_type": "stream",
     "text": [
      "id test\n",
      "pw password\n"
     ]
    }
   ],
   "source": [
    "d = { \"id\" : 'test', \"pw\" : 'password' }\n",
    "for k, v in d.items():\n",
    "    print(k, v)"
   ]
  },
  {
   "cell_type": "code",
   "execution_count": 55,
   "metadata": {},
   "outputs": [
    {
     "name": "stdout",
     "output_type": "stream",
     "text": [
      "10\n",
      "20\n",
      "30\n"
     ]
    }
   ],
   "source": [
    "l = [10, 20, 30]\n",
    "iterator = iter(l)\n",
    "\n",
    "for i in iterator:\n",
    "    print(i)"
   ]
  },
  {
   "cell_type": "code",
   "execution_count": 56,
   "metadata": {},
   "outputs": [
    {
     "name": "stdout",
     "output_type": "stream",
     "text": [
      "1\n",
      "2\n",
      "3\n",
      "4\n",
      "5\n",
      "6\n",
      "7\n",
      "8\n",
      "9\n",
      "10\n"
     ]
    }
   ],
   "source": [
    "seriesList = [1, 2, 3, 4, 5, 6, 7, 8, 9, 10]\n",
    "for i in seriesList:\n",
    "    print(i)"
   ]
  },
  {
   "cell_type": "code",
   "execution_count": 57,
   "metadata": {},
   "outputs": [
    {
     "name": "stdout",
     "output_type": "stream",
     "text": [
      "0\n",
      "1\n",
      "2\n",
      "3\n",
      "4\n",
      "5\n",
      "6\n",
      "7\n",
      "8\n",
      "9\n"
     ]
    }
   ],
   "source": [
    "# 0 ~ 9\n",
    "seriesList = range(10)\n",
    "for i in seriesList:\n",
    "    print(i)"
   ]
  },
  {
   "cell_type": "code",
   "execution_count": 58,
   "metadata": {},
   "outputs": [
    {
     "name": "stdout",
     "output_type": "stream",
     "text": [
      "1\n",
      "2\n",
      "3\n",
      "4\n",
      "5\n",
      "6\n",
      "7\n",
      "8\n",
      "9\n",
      "10\n"
     ]
    }
   ],
   "source": [
    "# 1 ~ 10\n",
    "for i in range(1, 11):\n",
    "    print(i)"
   ]
  },
  {
   "cell_type": "code",
   "execution_count": 59,
   "metadata": {},
   "outputs": [
    {
     "name": "stdout",
     "output_type": "stream",
     "text": [
      "7\n",
      "8\n",
      "9\n",
      "10\n",
      "11\n",
      "12\n",
      "13\n",
      "14\n",
      "15\n",
      "16\n",
      "17\n",
      "18\n",
      "19\n",
      "20\n",
      "21\n",
      "22\n",
      "23\n",
      "24\n",
      "25\n",
      "26\n",
      "27\n",
      "28\n",
      "29\n",
      "30\n",
      "31\n",
      "32\n",
      "33\n"
     ]
    }
   ],
   "source": [
    "# range(시작값, 끝난값 + 1)\n",
    "# 7 ~ 33\n",
    "for i in range(7, 34):\n",
    "    print(i)"
   ]
  },
  {
   "cell_type": "code",
   "execution_count": 60,
   "metadata": {},
   "outputs": [
    {
     "name": "stdout",
     "output_type": "stream",
     "text": [
      "10\n",
      "9\n",
      "8\n",
      "7\n",
      "6\n",
      "5\n",
      "4\n",
      "3\n",
      "2\n",
      "1\n"
     ]
    }
   ],
   "source": [
    "# range(시작값, 지정한값 이전까지, 증감)\n",
    "for i in range(10, 0, -1):\n",
    "    print(i)"
   ]
  },
  {
   "cell_type": "code",
   "execution_count": 61,
   "metadata": {},
   "outputs": [
    {
     "name": "stdout",
     "output_type": "stream",
     "text": [
      "10\n",
      "12\n",
      "14\n",
      "16\n",
      "18\n",
      "20\n",
      "22\n",
      "24\n",
      "26\n",
      "28\n",
      "30\n",
      "32\n"
     ]
    }
   ],
   "source": [
    "for i in range(10, 33, 2):\n",
    "    print(i)"
   ]
  },
  {
   "cell_type": "code",
   "execution_count": 62,
   "metadata": {},
   "outputs": [
    {
     "name": "stdout",
     "output_type": "stream",
     "text": [
      "값: 1\n",
      "값: 2\n",
      "값: 3\n",
      "값: 4\n",
      "값: 5\n"
     ]
    }
   ],
   "source": [
    "for i in range(1, 11):\n",
    "    if i > 5:\n",
    "        break\n",
    "    print(\"값: {0}\".format(i))"
   ]
  },
  {
   "cell_type": "code",
   "execution_count": 63,
   "metadata": {},
   "outputs": [
    {
     "name": "stdout",
     "output_type": "stream",
     "text": [
      "값: 1\n",
      "값: 3\n",
      "값: 5\n",
      "값: 7\n",
      "값: 9\n"
     ]
    }
   ],
   "source": [
    "for i in range(1, 11):\n",
    "    if i % 2 == 0:\n",
    "        continue\n",
    "    print(\"값: {0}\".format(i))"
   ]
  },
  {
   "cell_type": "code",
   "execution_count": 66,
   "metadata": {},
   "outputs": [
    {
     "name": "stdout",
     "output_type": "stream",
     "text": [
      "값: 1\n",
      "값: 8\n",
      "값: 27\n",
      "값: 64\n",
      "값: 125\n",
      "값: 216\n",
      "값: 343\n",
      "값: 512\n",
      "값: 729\n",
      "값: 1000\n"
     ]
    }
   ],
   "source": [
    "# python 에서 ** 은 n승의 역할을 수행함\n",
    "for i in range(1, 11):\n",
    "    print(\"값: {0}\".format(i ** 3))"
   ]
  },
  {
   "cell_type": "code",
   "execution_count": 67,
   "metadata": {},
   "outputs": [
    {
     "name": "stdout",
     "output_type": "stream",
     "text": [
      "[1, 4, 9, 16, 25, 36, 49, 64, 81, 100]\n"
     ]
    }
   ],
   "source": [
    "print([i ** 2 for i in range(1, 11)])"
   ]
  },
  {
   "cell_type": "code",
   "execution_count": 68,
   "metadata": {},
   "outputs": [
    {
     "name": "stdout",
     "output_type": "stream",
     "text": [
      "['idpassword', 'banana']\n"
     ]
    }
   ],
   "source": [
    "strList = [\"idpassword\", \"apple\", \"banana\", \"grape\"]\n",
    "print([i for i in strList if len(i) > 5])\n",
    "\n",
    "# i for i in strList if len(i) > 5\n",
    "# 먼저 strList 에서 요소를 하나 뽑아옴\n",
    "# 예로 \"idpassword\" 이 뽑혀나왔다면\n",
    "# if len(i) > 5를 만족한다면 i 값을 가지고 나오고\n",
    "# 아니라면 제끼라는 뜻으로 활용됨"
   ]
  },
  {
   "cell_type": "code",
   "execution_count": 70,
   "metadata": {},
   "outputs": [
    {
     "name": "stdout",
     "output_type": "stream",
     "text": [
      "[4.5, -1.5, 12, 6.0, -2.0, 16, 7.5, -2.5, 20]\n"
     ]
    }
   ],
   "source": [
    "# [3, 4, 5]\n",
    "numList1 = range(3, 6)\n",
    "numList2 = [1.5, -0.5, 4]\n",
    "\n",
    "print([x * y for x in numList1 for y in numList2])"
   ]
  },
  {
   "cell_type": "code",
   "execution_count": 71,
   "metadata": {},
   "outputs": [
    {
     "name": "stdout",
     "output_type": "stream",
     "text": [
      "값: 10\n",
      "값: 25\n",
      "값: 30\n"
     ]
    }
   ],
   "source": [
    "numList = [10, 25, 30]\n",
    "# filter(구동함수, 대상)\n",
    "# 구동함수가 None 이므로 있는 그대로 튀어나온 상황\n",
    "filteredList = filter(None, numList)\n",
    "for i in filteredList:\n",
    "    print(\"값: {0}\".format(i))"
   ]
  },
  {
   "cell_type": "code",
   "execution_count": 73,
   "metadata": {},
   "outputs": [
    {
     "name": "stdout",
     "output_type": "stream",
     "text": [
      "값: 25\n",
      "값: 30\n"
     ]
    }
   ],
   "source": [
    "# numList의 항목을 하나씩 뽑아와서\n",
    "# GetBiggerThan20()의 인자로 배치하여 리턴시킴\n",
    "def GetBiggerThan20(i):\n",
    "    return i >= 20\n",
    "\n",
    "for i in filter(GetBiggerThan20, numList):\n",
    "    print(\"값: {0}\".format(i))"
   ]
  },
  {
   "cell_type": "code",
   "execution_count": 74,
   "metadata": {},
   "outputs": [],
   "source": [
    "# 파이썬 클래스 (자바, C++, C# 등등으로 확장이 가능한 개념)"
   ]
  },
  {
   "cell_type": "code",
   "execution_count": 75,
   "metadata": {},
   "outputs": [
    {
     "name": "stdout",
     "output_type": "stream",
     "text": [
      "['GetBiggerThan20', 'In', 'Out', 'PyTestClass', '_', '__', '___', '__builtin__', '__builtins__', '__doc__', '__loader__', '__name__', '__package__', '__spec__', '_dh', '_i', '_i1', '_i10', '_i11', '_i12', '_i13', '_i14', '_i15', '_i16', '_i17', '_i18', '_i19', '_i2', '_i20', '_i21', '_i22', '_i23', '_i24', '_i25', '_i26', '_i27', '_i28', '_i29', '_i3', '_i30', '_i31', '_i32', '_i33', '_i34', '_i35', '_i36', '_i37', '_i38', '_i39', '_i4', '_i40', '_i41', '_i42', '_i43', '_i44', '_i45', '_i46', '_i47', '_i48', '_i49', '_i5', '_i50', '_i51', '_i52', '_i53', '_i54', '_i55', '_i56', '_i57', '_i58', '_i59', '_i6', '_i60', '_i61', '_i62', '_i63', '_i64', '_i65', '_i66', '_i67', '_i68', '_i69', '_i7', '_i70', '_i71', '_i72', '_i73', '_i74', '_i75', '_i8', '_i9', '_ih', '_ii', '_iii', '_oh', 'a', 'b', 'char', 'd', 'element', 'exit', 'fib', 'fib2', 'filteredList', 'g', 'get_ipython', 'grade', 'i', 'intersect', 'item', 'iterator', 'j', 'k', 'key', 'l', 'list', 'list1', 'list2', 'math', 'money', 'mysum', 'mysum2', 'numList', 'numList1', 'numList2', 'pof', 'quit', 'res', 'ret', 'score', 'seriesList', 'strList', 'swap', 'times', 'tuple', 'v', 'val', 'x']\n"
     ]
    }
   ],
   "source": [
    "class PyTestClass:\n",
    "    \"\"\"테스트 클래스입니다\"\"\"\n",
    "    pass\n",
    "\n",
    "# dir()은 현재 사용자가 사용하고 있는 함수 리스트나 변수 리스트 등을 보여줍니다.\n",
    "print(dir())"
   ]
  },
  {
   "cell_type": "code",
   "execution_count": 76,
   "metadata": {},
   "outputs": [
    {
     "name": "stdout",
     "output_type": "stream",
     "text": [
      "<class 'type'>\n"
     ]
    }
   ],
   "source": [
    "print(type(PyTestClass))"
   ]
  },
  {
   "cell_type": "code",
   "execution_count": 77,
   "metadata": {},
   "outputs": [
    {
     "name": "stdout",
     "output_type": "stream",
     "text": [
      "이름은 홍길동\n"
     ]
    }
   ],
   "source": [
    "# 클래스는 실질적으로 C언어의 구조체 역할을 담당함\n",
    "# struct person {\n",
    "#   int age = 0;\n",
    "#   // 포인터는 주소를 저장할 수 있는 변수고\n",
    "#   // 아직 이 녀석이 어떤 값에 대한 할당을 완료한 상태가 아님\n",
    "#   // 그래서 아래와 같은 메모리 값을 저장하기 위해서는 malloc() 등이 필요했음\n",
    "#   char *name;\n",
    "#\n",
    "#   person_method_table *tbl;\n",
    "# }\n",
    "#\n",
    "# typedef struct _person_method_table person_method_table;\n",
    "# struct _person_method_table {\n",
    "#   void (* test) (void);\n",
    "# }\n",
    "#\n",
    "# void test (void) {\n",
    "#   printf(\"hello\");\n",
    "# }\n",
    "\n",
    "# 클래스를 만드는 방법\n",
    "# 1. class 키워드를 적는다.\n",
    "# 2. 클래스(구조체) 이름을 적는다.\n",
    "# 3. 구조체 다루고자 하는 필드명(변수)을 작성함\n",
    "# 4. 해당 필드를 제어할 수 있는 함수를 작성하면 됨\n",
    "\n",
    "class Person:\n",
    "    age = 0\n",
    "    Name = \"홍길동\"\n",
    "    \n",
    "    def Print(self):\n",
    "        print(\"이름은 {0}\".format(self.Name))\n",
    "        \n",
    "# 실제로 class 이름() 으로 호출되는 작업은\n",
    "# 객체지향 언어에서 생성자를 호출한다고 얘기함\n",
    "# 이 생성자 호출은 별게 아니고 malloc()에 해당함\n",
    "p1 = Person()\n",
    "p1.Print()"
   ]
  },
  {
   "cell_type": "code",
   "execution_count": 78,
   "metadata": {},
   "outputs": [
    {
     "name": "stdout",
     "output_type": "stream",
     "text": [
      "이름은 에디로봇아카데미\n"
     ]
    }
   ],
   "source": [
    "class Person:\n",
    "    age = 0\n",
    "    Name = \"홍길동\"\n",
    "    \n",
    "    def Print(self):\n",
    "        print(\"이름은 {0}\".format(self.Name))\n",
    "        \n",
    "p2 = Person()\n",
    "p2.Name = \"에디로봇아카데미\"\n",
    "p2.Print()"
   ]
  },
  {
   "cell_type": "code",
   "execution_count": 79,
   "metadata": {},
   "outputs": [
    {
     "name": "stdout",
     "output_type": "stream",
     "text": [
      "이름은 홍길동\n",
      "이름은 에디로봇아카데미\n"
     ]
    }
   ],
   "source": [
    "p1.Print()\n",
    "p2.Print()\n",
    "\n",
    "# 두 개의 결과가 같지 않다는 것은\n",
    "# p1 메모리와 p2 메모리가 독립적이라는 뜻"
   ]
  },
  {
   "cell_type": "code",
   "execution_count": 81,
   "metadata": {},
   "outputs": [
    {
     "name": "stdout",
     "output_type": "stream",
     "text": [
      "뭐가 나올까 ? 전역 문자열\n"
     ]
    }
   ],
   "source": [
    "str1 = \"전역 문자열\"\n",
    "\n",
    "class NonSelfTest:\n",
    "    str1 = \"\"\n",
    "    \n",
    "    def Set(self, msg):\n",
    "        # 로컬에 접근할 때는 self(자기자신)\n",
    "        self.str1 = msg\n",
    "        \n",
    "    def Print(self):\n",
    "        # 전역은 self가 붙어 있지 않음\n",
    "        print('뭐가 나올까 ?', str1)\n",
    "        \n",
    "test = NonSelfTest()\n",
    "test.Set('로컬 문자열')\n",
    "test.Print()"
   ]
  },
  {
   "cell_type": "code",
   "execution_count": 82,
   "metadata": {},
   "outputs": [
    {
     "name": "stdout",
     "output_type": "stream",
     "text": [
      "뭐가 나올까 ? 전역 문자열\n",
      "뭐가 나올까 ? 로컬 문자열\n"
     ]
    }
   ],
   "source": [
    "str1 = \"전역 문자열\"\n",
    "\n",
    "class NonSelfTest:\n",
    "    str1 = \"\"\n",
    "    \n",
    "    def Set(self, msg):\n",
    "        # 로컬에 접근할 때는 self(자기자신)\n",
    "        self.str1 = msg\n",
    "        \n",
    "    def GlobalPrint(self):\n",
    "        # 전역은 self가 붙어 있지 않음\n",
    "        print('뭐가 나올까 ?', str1)\n",
    "        \n",
    "    def LocalPrint(self):\n",
    "        # 전역은 self가 붙어 있지 않음\n",
    "        print('뭐가 나올까 ?', self.str1)\n",
    "        \n",
    "test = NonSelfTest()\n",
    "test.Set('로컬 문자열')\n",
    "test.GlobalPrint()\n",
    "test.LocalPrint()"
   ]
  },
  {
   "cell_type": "code",
   "execution_count": 91,
   "metadata": {},
   "outputs": [
    {
     "name": "stdout",
     "output_type": "stream",
     "text": [
      "rpm = 333\n",
      "test = 77\n",
      "공장에서 차량을 찍어냈습니다: rpm =  410\n",
      "차가 박살났으니 폐차합니다!\n"
     ]
    }
   ],
   "source": [
    "# 위의 케이스까지 봤던 사항은 클래스를 만들고\n",
    "# 그 내부에 활용할 함수를 만드는 작업까지가 되었음\n",
    "# 이번에는 생성자와 소멸자에 해당하는 사항이 추가됨\n",
    "\n",
    "class Vehicles:\n",
    "    rpm = 0\n",
    "    \n",
    "    # 생성자\n",
    "    # 메모리를 생성함\n",
    "    # 보편적으로 메모리 생성시 구동함(자동)\n",
    "    \n",
    "    # 입력 인자가 self, rpm\n",
    "    # self는 객체 자기 자신을 의미하고\n",
    "    # 두 번째 인자부터가 사용자가 전달한 값을 받을 수 있음\n",
    "    def __init__(self, rpm, test):\n",
    "        self.rpm = rpm\n",
    "        print('rpm =', rpm)\n",
    "        print('test =', test)\n",
    "        \n",
    "        print(\"공장에서 차량을 찍어냈습니다: rpm = \",rpm + test)\n",
    "        \n",
    "    # 소멸자\n",
    "    # 메모리 소멸시 구동(자동)\n",
    "    def __del__(self):\n",
    "        print(\"차가 박살났으니 폐차합니다!\")\n",
    "    \n",
    "# C언어에서 변수나 메모리의 수명\n",
    "# 스코프가 끝나는 구간까지\n",
    "def test():\n",
    "    t = Vehicles(333, 77)\n",
    "    \n",
    "# 파이썬에서 C/C++ 처럼 main()을 사용한다면 아래와 같이 작성합니다.\n",
    "if __name__ == \"__main__\":\n",
    "    test()"
   ]
  },
  {
   "cell_type": "code",
   "execution_count": 88,
   "metadata": {},
   "outputs": [
    {
     "name": "stdout",
     "output_type": "stream",
     "text": [
      "공장에서 차량을 찍어냈습니다: rpm =  0\n"
     ]
    }
   ],
   "source": [
    "class Vehicles:\n",
    "    rpm = 0\n",
    "    \n",
    "    # 생성자\n",
    "    # 메모리를 생성함\n",
    "    def __init__(self, rpm):\n",
    "        self.rpm = rpm\n",
    "        print(\"공장에서 차량을 찍어냈습니다: rpm = \",rpm)\n",
    "        \n",
    "    def __del__(self):\n",
    "        print(\"차가 박살났으니 폐차합니다!\")\n",
    "    \n",
    "# C언어에서 변수나 메모리의 수명\n",
    "# 스코프가 끝나는 구간까지\n",
    "t = Vehicles(0)"
   ]
  },
  {
   "cell_type": "code",
   "execution_count": null,
   "metadata": {},
   "outputs": [],
   "source": []
  }
 ],
 "metadata": {
  "kernelspec": {
   "display_name": "Python 3",
   "language": "python",
   "name": "python3"
  },
  "language_info": {
   "codemirror_mode": {
    "name": "ipython",
    "version": 3
   },
   "file_extension": ".py",
   "mimetype": "text/x-python",
   "name": "python",
   "nbconvert_exporter": "python",
   "pygments_lexer": "ipython3",
   "version": "3.7.6"
  }
 },
 "nbformat": 4,
 "nbformat_minor": 4
}
