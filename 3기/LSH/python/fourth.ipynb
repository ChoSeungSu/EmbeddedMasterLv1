{
 "cells": [
  {
   "cell_type": "code",
   "execution_count": 1,
   "metadata": {},
   "outputs": [],
   "source": [
    "import time\n",
    "import multiprocessing"
   ]
  },
  {
   "cell_type": "code",
   "execution_count": 4,
   "metadata": {},
   "outputs": [
    {
     "name": "stdout",
     "output_type": "stream",
     "text": [
      "카운트 다운: 5\n",
      "카운트 다운: 4\n",
      "카운트 다운: 3\n",
      "카운트 다운: 2\n",
      "카운트 다운: 1\n"
     ]
    }
   ],
   "source": [
    "def count_down(x):\n",
    "    while True:\n",
    "        if x == 0:\n",
    "            break\n",
    "            \n",
    "        print(\"카운트 다운: %d\" % x)\n",
    "        x -= 1\n",
    "        time.sleep(1)\n",
    "        \n",
    "# 새로운 프로세스를 만들어서 count_down 함수를 실행시킴\n",
    "p = multiprocessing.Process(target=count_down, args=(5, ))\n",
    "p.start()"
   ]
  },
  {
   "cell_type": "code",
   "execution_count": 5,
   "metadata": {},
   "outputs": [],
   "source": [
    "# ps -ef 를 통해 구동중인 프로세스를 확인할 수 있음\n",
    "# cat /proc/cpuinfo 를 통해 CPU 개수를 확인할 수 있음\n",
    "# CPU의 개수가 12개인데 프로세스(태스크)의 개수는 100개를 넘어감\n",
    "# 이것이 가능한 이유는 무엇일까 ?\n",
    "# 시분할 방식으로 동작하기 때문\n",
    "\n",
    "# 프로세스란 ?\n",
    "# 현재 실행중인 프로그램\n",
    "\n",
    "# 우리는 C언어에서 기계어를 분석했음\n",
    "# 컴퓨터에서 프로그램 코드가 동작하려면 반드시 뭘로 돌아가야 하는가 ? 기계어\n",
    "# 기계어를 실행시킬 수 있는 녀석은 ? CPU 뿐\n",
    "# 프로세스는 CPU의 추상화다.\n",
    "# 프로세스는 CPU를 얻기 위해 끊임없이 경쟁한다.\n",
    "\n",
    "# 기계어 코드가 어디 있나요 ? 실행 파일\n",
    "# 운영체제에서 실행파일을 동작시킬 때 어디로 가는가 ? 메모리(물리 메모리)\n",
    "# 실제 우리가 기계어 분석에서 봤던 메모리는 사실 가상 메모리\n",
    "# 가상 메모리 -> 물리 메모리 변환 과정을 Pagination(페이지네이션)\n",
    "# 기계어 코드는 어디에 배치되는가 ? TEXT 영역\n",
    "# 프로그램을 실행하기 위해 먼저 TEXT를 배치함"
   ]
  },
  {
   "cell_type": "code",
   "execution_count": 9,
   "metadata": {},
   "outputs": [
    {
     "name": "stdout",
     "output_type": "stream",
     "text": [
      "최종: 17306\n",
      "최종: 18757\n",
      "최종: 18456\n",
      "최종: 20720\n",
      "최종: 18247\n",
      "최종: 23507\n",
      "최종: 21737\n",
      "최종: 18977\n",
      "최종: 15560\n",
      "최종: 19774\n"
     ]
    }
   ],
   "source": [
    "def withdraw(money):\n",
    "    for _ in range(20000):\n",
    "        money.value -= 1\n",
    "        \n",
    "def deposit(money):\n",
    "    for _ in range(20000):\n",
    "        money.value += 1\n",
    "        \n",
    "def perform_transactions():\n",
    "    money = multiprocessing.Value('i', 20000)\n",
    "    \n",
    "    proc1 = multiprocessing.Process(target=withdraw, args=(money, ))\n",
    "    proc2 = multiprocessing.Process(target=deposit, args=(money, ))\n",
    "    \n",
    "    proc1.start()\n",
    "    proc2.start()\n",
    "    \n",
    "    proc1.join()\n",
    "    proc2.join()\n",
    "    \n",
    "    print(\"최종: {0}\".format(money.value))\n",
    "    \n",
    "for _ in range(10):\n",
    "    perform_transactions()"
   ]
  },
  {
   "cell_type": "code",
   "execution_count": 10,
   "metadata": {},
   "outputs": [
    {
     "name": "stdout",
     "output_type": "stream",
     "text": [
      "최종: 20000\n",
      "최종: 20000\n",
      "최종: 20000\n",
      "최종: 20000\n",
      "최종: 20000\n",
      "최종: 20000\n",
      "최종: 20000\n",
      "최종: 20000\n",
      "최종: 20000\n",
      "최종: 20000\n"
     ]
    }
   ],
   "source": [
    "def withdraw(money, lock):\n",
    "    for _ in range(20000):\n",
    "        lock.acquire()\n",
    "        money.value -= 1\n",
    "        lock.release()\n",
    "        \n",
    "def deposit(money, lock):\n",
    "    for _ in range(20000):\n",
    "        lock.acquire()\n",
    "        money.value += 1\n",
    "        lock.release()\n",
    "        \n",
    "def perform_transactions():\n",
    "    # 프로세스간 메모리 공유가 불가하므로\n",
    "    # IPC(Inter Process Communication) 방식을 통해 정보를 공유하는 방식임\n",
    "    money = multiprocessing.Value('i', 20000)\n",
    "    lock = multiprocessing.Lock()\n",
    "    \n",
    "    proc1 = multiprocessing.Process(target=withdraw, args=(money, lock))\n",
    "    proc2 = multiprocessing.Process(target=deposit, args=(money, lock))\n",
    "    \n",
    "    proc1.start()\n",
    "    proc2.start()\n",
    "    \n",
    "    proc1.join()\n",
    "    proc2.join()\n",
    "    \n",
    "    print(\"최종: {0}\".format(money.value))\n",
    "    \n",
    "for _ in range(10):\n",
    "    perform_transactions()"
   ]
  },
  {
   "cell_type": "code",
   "execution_count": 2,
   "metadata": {},
   "outputs": [],
   "source": [
    "import threading"
   ]
  },
  {
   "cell_type": "code",
   "execution_count": 3,
   "metadata": {},
   "outputs": [
    {
     "name": "stdout",
     "output_type": "stream",
     "text": [
      "x = 18015756, iteration = 0\n",
      "x = 17167138, iteration = 1\n",
      "x = 17759298, iteration = 2\n",
      "x = 17227001, iteration = 3\n",
      "x = 17768409, iteration = 4\n",
      "x = 17108170, iteration = 5\n",
      "x = 16849072, iteration = 6\n",
      "x = 17530167, iteration = 7\n",
      "x = 17944958, iteration = 8\n",
      "x = 17634908, iteration = 9\n"
     ]
    }
   ],
   "source": [
    "x = 0\n",
    "\n",
    "def increment_glob():\n",
    "    global x\n",
    "    x += 1\n",
    "    \n",
    "def task_of_thread():\n",
    "    for _ in range(10000000):\n",
    "        increment_glob()\n",
    "    \n",
    "def thread_main():\n",
    "    global x\n",
    "    x = 0\n",
    "    \n",
    "    t1 = threading.Thread(target = task_of_thread)\n",
    "    t2 = threading.Thread(target = task_of_thread)\n",
    "    \n",
    "    t1.start()\n",
    "    t2.start()\n",
    "    \n",
    "    t1.join()\n",
    "    t2.join()\n",
    "    \n",
    "for i in range(10):\n",
    "    thread_main()\n",
    "    print(\"x = {0}, iteration = {1}\".format(x, i))"
   ]
  },
  {
   "cell_type": "code",
   "execution_count": 19,
   "metadata": {},
   "outputs": [
    {
     "name": "stderr",
     "output_type": "stream",
     "text": [
      "Exception in thread Thread-124:\n",
      "Traceback (most recent call last):\n",
      "  File \"/home/oem/anaconda3/lib/python3.7/threading.py\", line 926, in _bootstrap_inner\n",
      "    self.run()\n",
      "  File \"/home/oem/anaconda3/lib/python3.7/threading.py\", line 870, in run\n",
      "    self._target(*self._args, **self._kwargs)\n",
      "  File \"<ipython-input-18-a868051f1164>\", line 13, in task_of_thread\n",
      "    lock.release()\n",
      "RuntimeError: release unlocked lock\n",
      "\n"
     ]
    },
    {
     "name": "stdout",
     "output_type": "stream",
     "text": [
      "x = 2000001, iteration = 0\n",
      "x = 2000000, iteration = 1\n",
      "x = 2000000, iteration = 2\n",
      "x = 2000000, iteration = 3\n",
      "x = 2000000, iteration = 4\n",
      "x = 2000000, iteration = 5\n",
      "x = 2000000, iteration = 6\n",
      "x = 2000000, iteration = 7\n",
      "x = 2000000, iteration = 8\n",
      "x = 2000000, iteration = 9\n"
     ]
    }
   ],
   "source": [
    "x = 0\n",
    "\n",
    "lock = threading.Lock()\n",
    "\n",
    "def increment_glob():\n",
    "    global x\n",
    "    x += 1\n",
    "    \n",
    "def task_of_thread():\n",
    "    for _ in range(1000000):\n",
    "        lock.acquire()\n",
    "        increment_glob()\n",
    "        lock.release()\n",
    "    \n",
    "def thread_main():\n",
    "    global x\n",
    "    x = 0\n",
    "    \n",
    "    t1 = threading.Thread(target = task_of_thread)\n",
    "    t2 = threading.Thread(target = task_of_thread)\n",
    "    \n",
    "    t1.start()\n",
    "    t2.start()\n",
    "    \n",
    "    t1.join()\n",
    "    t2.join()\n",
    "    \n",
    "for i in range(10):\n",
    "    thread_main()\n",
    "    print(\"x = {0}, iteration = {1}\".format(x, i))"
   ]
  },
  {
   "cell_type": "code",
   "execution_count": 17,
   "metadata": {},
   "outputs": [
    {
     "name": "stdout",
     "output_type": "stream",
     "text": [
      "x = 2000000, iteration = 0\n",
      "x = 2000000, iteration = 1\n",
      "x = 2000000, iteration = 2\n",
      "x = 2000000, iteration = 3\n",
      "x = 2000000, iteration = 4\n",
      "x = 2000000, iteration = 5\n",
      "x = 2000000, iteration = 6\n",
      "x = 2000000, iteration = 7\n",
      "x = 2000000, iteration = 8\n",
      "x = 2000000, iteration = 9\n"
     ]
    }
   ],
   "source": [
    "x = 0\n",
    "\n",
    "lock = threading.Lock()\n",
    "\n",
    "def increment_glob():\n",
    "    global x\n",
    "    x += 1\n",
    "    \n",
    "def task_of_thread():\n",
    "    lock.acquire()\n",
    "    \n",
    "    for _ in range(1000000):\n",
    "        increment_glob()\n",
    "        \n",
    "    lock.release()\n",
    "    \n",
    "def thread_main():\n",
    "    global x\n",
    "    x = 0\n",
    "    \n",
    "    # 스레드 구성\n",
    "    t1 = threading.Thread(target = task_of_thread)\n",
    "    t2 = threading.Thread(target = task_of_thread)\n",
    "    \n",
    "    # 스레드 시작\n",
    "    t1.start()\n",
    "    t2.start()\n",
    "    \n",
    "    # 스레드 종료까지 대기\n",
    "    t1.join()\n",
    "    t2.join()\n",
    "    \n",
    "for i in range(10):\n",
    "    thread_main()\n",
    "    print(\"x = {0}, iteration = {1}\".format(x, i))"
   ]
  },
  {
   "cell_type": "code",
   "execution_count": null,
   "metadata": {},
   "outputs": [],
   "source": []
  }
 ],
 "metadata": {
  "kernelspec": {
   "display_name": "Python 3",
   "language": "python",
   "name": "python3"
  },
  "language_info": {
   "codemirror_mode": {
    "name": "ipython",
    "version": 3
   },
   "file_extension": ".py",
   "mimetype": "text/x-python",
   "name": "python",
   "nbconvert_exporter": "python",
   "pygments_lexer": "ipython3",
   "version": "3.7.6"
  }
 },
 "nbformat": 4,
 "nbformat_minor": 4
}
