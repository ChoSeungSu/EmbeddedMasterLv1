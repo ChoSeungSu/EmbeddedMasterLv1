{
 "cells": [
  {
   "cell_type": "code",
   "execution_count": 1,
   "metadata": {},
   "outputs": [
    {
     "name": "stdout",
     "output_type": "stream",
     "text": [
      "Hello Python 홑따옴표\n",
      "Hello python 쌍따옴표\n"
     ]
    }
   ],
   "source": [
    "print('Hello Python 홑따옴표');\n",
    "print(\"Hello python 쌍따옴표\");"
   ]
  },
  {
   "cell_type": "code",
   "execution_count": 3,
   "metadata": {},
   "outputs": [
    {
     "name": "stdout",
     "output_type": "stream",
     "text": [
      "1 10\n",
      "이러한 형식의 출력도 문제가 되지 않음\n"
     ]
    }
   ],
   "source": [
    "num = 1\n",
    "Num = 10\n",
    "print(num, Num)\n",
    "print('이러한 형식의 출력도 문제가 되지 않음')"
   ]
  },
  {
   "cell_type": "code",
   "execution_count": 4,
   "metadata": {},
   "outputs": [
    {
     "name": "stdout",
     "output_type": "stream",
     "text": [
      "현재 결과를 보면 num, Num에 별도의 데이터 타입을 지정하지 않는 것을 볼 수 있음\n"
     ]
    }
   ],
   "source": [
    "print('현재 결과를 보면 num, Num에 별도의 데이터 타입을 지정하지 않는 것을 볼 수 있음')"
   ]
  },
  {
   "cell_type": "code",
   "execution_count": 5,
   "metadata": {},
   "outputs": [
    {
     "name": "stdout",
     "output_type": "stream",
     "text": [
      "<class 'complex'>\n",
      "-4.0\n",
      "3.0\n",
      "(3+4j)\n"
     ]
    }
   ],
   "source": [
    "z = 3 - 4j\n",
    "\n",
    "print(type(z))\n",
    "print(z.imag)\n",
    "print(z.real)\n",
    "print(z.conjugate())"
   ]
  },
  {
   "cell_type": "code",
   "execution_count": 6,
   "metadata": {},
   "outputs": [
    {
     "name": "stdout",
     "output_type": "stream",
     "text": [
      "test python\n"
     ]
    }
   ],
   "source": [
    "testStr = 'test' + ' python'\n",
    "print(testStr)"
   ]
  },
  {
   "cell_type": "code",
   "execution_count": 7,
   "metadata": {},
   "outputs": [
    {
     "name": "stdout",
     "output_type": "stream",
     "text": [
      "pointer\n",
      "p\n",
      "n\n",
      "p\n",
      "oin\n",
      "po\n",
      "er\n",
      "pointer\n",
      "pitr\n"
     ]
    }
   ],
   "source": [
    "strIdx = \"pointer\"\n",
    "print(strIdx)\n",
    "print(strIdx[0])\n",
    "print(strIdx[3])\n",
    "\n",
    "print(strIdx[0:1])\n",
    "print(strIdx[1:4])\n",
    "print(strIdx[:2])\n",
    "print(strIdx[-2:])\n",
    "print(strIdx[:])\n",
    "print(strIdx[::2])"
   ]
  },
  {
   "cell_type": "code",
   "execution_count": 8,
   "metadata": {},
   "outputs": [
    {
     "name": "stdout",
     "output_type": "stream",
     "text": [
      "['red', 'green', 'blue']\n",
      "<class 'list'>\n"
     ]
    }
   ],
   "source": [
    "colors = ['red', 'green', 'blue']\n",
    "print(colors)\n",
    "print(type(colors))"
   ]
  },
  {
   "cell_type": "code",
   "execution_count": 9,
   "metadata": {},
   "outputs": [
    {
     "name": "stdout",
     "output_type": "stream",
     "text": [
      "['red', 'green', 'blue', 'gold']\n",
      "['red', 'black', 'green', 'blue', 'gold']\n",
      "['red', 'black', 'green', 'blue', 'gold', 'white', 'gray']\n",
      "['red', 'black', 'green', 'blue', 'gold', 'white', 'gray', 'purple', 'red']\n"
     ]
    }
   ],
   "source": [
    "colors.append('gold')\n",
    "print(colors)\n",
    "\n",
    "colors.insert(1, 'black')\n",
    "print(colors)\n",
    "\n",
    "colors.extend(['white', 'gray'])\n",
    "print(colors)\n",
    "\n",
    "colors += ['purple']\n",
    "colors += ['red']\n",
    "print(colors)"
   ]
  },
  {
   "cell_type": "code",
   "execution_count": 10,
   "metadata": {},
   "outputs": [
    {
     "name": "stdout",
     "output_type": "stream",
     "text": [
      "7\n",
      "2\n",
      "red\n",
      "purple\n",
      "gray\n",
      "['red', 'black', 'green', 'blue', 'gold', 'white']\n"
     ]
    }
   ],
   "source": [
    "print(colors.index('purple'))\n",
    "print(colors.count('red'))\n",
    "print(colors.pop())\n",
    "print(colors.pop())\n",
    "print(colors.pop())\n",
    "print(colors)"
   ]
  },
  {
   "cell_type": "code",
   "execution_count": 11,
   "metadata": {},
   "outputs": [
    {
     "name": "stdout",
     "output_type": "stream",
     "text": [
      "{'apple': 'red', 'banana': 'yellow'}\n",
      "red\n"
     ]
    }
   ],
   "source": [
    "color = {\"apple\": \"red\", \"banana\": \"yellow\"}\n",
    "print(color)\n",
    "print(color[\"apple\"])\n",
    "\n",
    "# HashMap 해쉬맵 -> 키 : 밸류 형태의 구조를 가진다."
   ]
  },
  {
   "cell_type": "code",
   "execution_count": null,
   "metadata": {},
   "outputs": [],
   "source": []
  }
 ],
 "metadata": {
  "kernelspec": {
   "display_name": "Python 3",
   "language": "python",
   "name": "python3"
  },
  "language_info": {
   "codemirror_mode": {
    "name": "ipython",
    "version": 3
   },
   "file_extension": ".py",
   "mimetype": "text/x-python",
   "name": "python",
   "nbconvert_exporter": "python",
   "pygments_lexer": "ipython3",
   "version": "3.7.6"
  }
 },
 "nbformat": 4,
 "nbformat_minor": 4
}
